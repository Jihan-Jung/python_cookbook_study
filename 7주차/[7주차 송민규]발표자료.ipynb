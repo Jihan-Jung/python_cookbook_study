{
 "cells": [
  {
   "cell_type": "markdown",
   "metadata": {},
   "source": [
    "# 발표 소단원 리스트"
   ]
  },
  {
   "cell_type": "markdown",
   "metadata": {},
   "source": [
    "9.16\n",
    "9.20\n",
    "9.24\n",
    "10.3\n",
    "10.7\n",
    "10.11\n",
    "10.15"
   ]
  },
  {
   "cell_type": "markdown",
   "metadata": {},
   "source": [
    "## 10.3 relative imports"
   ]
  },
  {
   "cell_type": "code",
   "execution_count": null,
   "metadata": {},
   "outputs": [],
   "source": [
    "# parent/A/foo.py\n",
    "# parent/A/bar.py\n",
    "# parent/B/hoi.py\n",
    "\n",
    "# in the module foo.py\n",
    "from . import bar\n",
    "from .. import B.hoi\n",
    "\n",
    "# to run foo at the interactive prompt\n",
    ".../parent/A$ python3 foo.py\n",
    ".../parent/A$ python3 -m foo\n",
    "\n",
    "# below is the situation when we need relative import\n",
    ".../parent$ python3 -m A.foo\n",
    "\n",
    "# relative import run as below does not work\n",
    ".../parent$ python3 A/foo.py\n",
    "\n",
    "\n",
    "# importing from nested packages or dist-packages definitely need relative import\n",
    "# always keep in mind where the main module is and what sys.path consists"
   ]
  },
  {
   "cell_type": "markdown",
   "metadata": {},
   "source": [
    "## 10.7 \\_\\_main__.py is the explicit main module in the package"
   ]
  },
  {
   "cell_type": "code",
   "execution_count": null,
   "metadata": {},
   "outputs": [],
   "source": [
    "# the main module in the package can be explicity named by __main__.py\n",
    "# then the __main__.py can be executed by its package name\n",
    "\n",
    "# parent/A/foo.py\n",
    "# parent/A/bar.py\n",
    "# parent/A/__main__.py\n",
    "\n",
    "# to run __main__.py above, do this\n",
    ".../parent$ python3 A.py"
   ]
  },
  {
   "cell_type": "markdown",
   "metadata": {},
   "source": [
    "## 10.11 "
   ]
  }
 ],
 "metadata": {
  "kernelspec": {
   "display_name": "Python 3",
   "language": "python",
   "name": "python3"
  },
  "language_info": {
   "codemirror_mode": {
    "name": "ipython",
    "version": 3
   },
   "file_extension": ".py",
   "mimetype": "text/x-python",
   "name": "python",
   "nbconvert_exporter": "python",
   "pygments_lexer": "ipython3",
   "version": "3.6.4"
  }
 },
 "nbformat": 4,
 "nbformat_minor": 2
}
