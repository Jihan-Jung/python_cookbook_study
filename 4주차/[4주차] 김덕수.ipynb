{
 "cells": [
  {
   "cell_type": "markdown",
   "metadata": {},
   "source": [
    "# 발표 소단원 리스트"
   ]
  },
  {
   "cell_type": "markdown",
   "metadata": {},
   "source": [
    "6-9, 6-12, 7-2, 7-5, 7-8"
   ]
  },
  {
   "cell_type": "markdown",
   "metadata": {},
   "source": [
    "# 전체 요약자료"
   ]
  },
  {
   "cell_type": "markdown",
   "metadata": {},
   "source": [
    "- 6-9 : 16진수 string을 byte string으로 decoding 하거나, byte string을 16진수 string으로 encoding하고싶을 때 binascii 모듈을 사용합니다!\n",
    "- 6-12 : 복잡한 binary-encoded된 데이터인데, nested되거나 변수 크기가 정해진 records를 포함한 데이터이고, 이녀석을 읽고 써야할 때 struct 모듈을 사용합니다\n",
    "- 7-2 : keyword를 통해 특정 argument만을 받는 함수를 만들고 싶을 때, keyword를 * 뒤에 쓰거나, unamed *를 사용합니다\n",
    "- 7-5 : 하나 또는 그 이상의 argument들을 optional하게 받도록, 그리고 받지 않는 경우에 default value를 갖도록 하는 함수를 만들고 싶을 때\n",
    "- 7-8 : call back 함수나 handler와 같이 callable한 객체를 다른 파이썬 코드에서 사용하는데, argument가 너무 많아서 exception 문제를 생각하는게 너무 빡칠 때"
   ]
  },
  {
   "cell_type": "markdown",
   "metadata": {},
   "source": [
    "### 6-9) Decoding and Encoding Hexadecimal Digits \n",
    "- 16진수 string을 byte string으로 decoding 하거나, byte string을 16진수 string으로 encoding하고싶을 때 binascii 모듈을 사용합니다!"
   ]
  },
  {
   "cell_type": "code",
   "execution_count": 1,
   "metadata": {},
   "outputs": [],
   "source": [
    "s = b'hello'"
   ]
  },
  {
   "cell_type": "code",
   "execution_count": 20,
   "metadata": {},
   "outputs": [
    {
     "name": "stdout",
     "output_type": "stream",
     "text": [
      "b'68656c6c6f'\n",
      "b'hello'\n"
     ]
    }
   ],
   "source": [
    "import binascii\n",
    "\n",
    "h = binascii.b2a_hex(s)\n",
    "print(h)\n",
    "\n",
    "print(binascii.a2b_hex(h))"
   ]
  },
  {
   "cell_type": "markdown",
   "metadata": {},
   "source": [
    "- 같은 기능이 base64 module에도 있습니다."
   ]
  },
  {
   "cell_type": "code",
   "execution_count": 32,
   "metadata": {},
   "outputs": [
    {
     "name": "stdout",
     "output_type": "stream",
     "text": [
      "b'68656C6C6F'\n",
      "b'hello'\n"
     ]
    }
   ],
   "source": [
    "import base64\n",
    "h = base64.b16encode(s)\n",
    "print(h)\n",
    "\n",
    "print(base64.b16decode(h))"
   ]
  },
  {
   "cell_type": "markdown",
   "metadata": {},
   "source": [
    "- base64에서는 16진수를 쓸 때, 알파벳을 항상 대문자로 해야합니다!!\n",
    "- 하지만 binascii에서는 소문자 대문자 둘 다 되지롱\n",
    "- base64와 binascii 둘 다 decode 할 때는 ASCII-encoded hexadecimal digits만 됩니다"
   ]
  },
  {
   "cell_type": "markdown",
   "metadata": {},
   "source": [
    "### 6-12) Reading Nested and Variable-Sized Binary Structures \n",
    "- 복잡한 binary-encoded된 데이터인데, nested되거나 변수 크기가 정해진 records를 포함한 데이터이고, 이녀석을 읽고 써야할 때 struct 모듈을 사용합니다"
   ]
  },
  {
   "cell_type": "markdown",
   "metadata": {},
   "source": [
    "- 내용이 지나치게 많고 방대한 데다가, 참고해야될 표도 조금 있어서 필요하시면 cookbook을 보는 것이 나을 듯 합니다"
   ]
  },
  {
   "cell_type": "code",
   "execution_count": null,
   "metadata": {},
   "outputs": [],
   "source": []
  },
  {
   "cell_type": "markdown",
   "metadata": {},
   "source": [
    "### 7-2)  Writing Functions That Only Accept Keyword Arguments\n",
    "- keyword를 통해 특정 argument만을 받는 함수를 만들고 싶을 때, keyword를 * 뒤에 쓰거나, unamed *를 사용합니다"
   ]
  },
  {
   "cell_type": "code",
   "execution_count": 12,
   "metadata": {},
   "outputs": [
    {
     "name": "stdout",
     "output_type": "stream",
     "text": [
      "done\n"
     ]
    },
    {
     "ename": "TypeError",
     "evalue": "recv() takes 1 positional argument but 2 were given",
     "output_type": "error",
     "traceback": [
      "\u001b[1;31m---------------------------------------------------------------------------\u001b[0m",
      "\u001b[1;31mTypeError\u001b[0m                                 Traceback (most recent call last)",
      "\u001b[1;32m<ipython-input-12-a0ebf1373ed7>\u001b[0m in \u001b[0;36m<module>\u001b[1;34m\u001b[0m\n\u001b[0;32m      5\u001b[0m \u001b[1;33m\u001b[0m\u001b[0m\n\u001b[0;32m      6\u001b[0m \u001b[0mrecv\u001b[0m\u001b[1;33m(\u001b[0m\u001b[1;36m1024\u001b[0m\u001b[1;33m,\u001b[0m \u001b[0mblock\u001b[0m\u001b[1;33m=\u001b[0m\u001b[1;32mTrue\u001b[0m\u001b[1;33m)\u001b[0m\u001b[1;33m\u001b[0m\u001b[1;33m\u001b[0m\u001b[0m\n\u001b[1;32m----> 7\u001b[1;33m \u001b[0mrecv\u001b[0m\u001b[1;33m(\u001b[0m\u001b[1;36m1024\u001b[0m\u001b[1;33m,\u001b[0m \u001b[1;32mTrue\u001b[0m\u001b[1;33m)\u001b[0m        \u001b[1;31m#  TypeError\u001b[0m\u001b[1;33m\u001b[0m\u001b[1;33m\u001b[0m\u001b[0m\n\u001b[0m",
      "\u001b[1;31mTypeError\u001b[0m: recv() takes 1 positional argument but 2 were given"
     ]
    }
   ],
   "source": [
    "def recv(maxsize, *, block):\n",
    "    'Receives a message'\n",
    "    print(\"done\")\n",
    "    pass\n",
    "\n",
    "recv(1024, block=True)\n",
    "recv(1024, True)        #  TypeError\n"
   ]
  },
  {
   "cell_type": "code",
   "execution_count": 19,
   "metadata": {},
   "outputs": [
    {
     "name": "stdout",
     "output_type": "stream",
     "text": [
      "-5\n",
      "0\n"
     ]
    }
   ],
   "source": [
    "def minimum(*values, clip=None):\n",
    "    m = min(values) \n",
    "    if clip is not None:  \n",
    "        m = clip if clip > m else m    \n",
    "    return m\n",
    "    \n",
    "print(minimum(1, 5, 2, -5, 10))          # Returns -5 \n",
    "print(minimum(1, 5, 2, -5, 10, clip=0))  # Returns 0 "
   ]
  },
  {
   "cell_type": "markdown",
   "metadata": {},
   "source": [
    "- 이런 식으로 keyword-only argument를 사용하는 것은 코드의 의도를 명확하게 드러내는 데에 도움이 많이 됩니다!\n",
    "- 가령 아래와 같이 recv() 함수를 사용한다고 생각하면, 이 함수를 써본적이 별로 없는 사용자들은 False argument가 어떤 의미를 가지고 있는지 알기 어려우므로, keyword를 지정해주면 훨씬 알기 편합니다"
   ]
  },
  {
   "cell_type": "code",
   "execution_count": null,
   "metadata": {},
   "outputs": [],
   "source": [
    "msg = recv(1024, False)         # False가 어디 쓰이는지 알기 어려움\n",
    "msg = recv(1024, block=False)   # 의미가 드러난다"
   ]
  },
  {
   "cell_type": "code",
   "execution_count": 20,
   "metadata": {},
   "outputs": [
    {
     "name": "stdout",
     "output_type": "stream",
     "text": [
      "Help on function recv in module __main__:\n",
      "\n",
      "recv(maxsize, *, block)\n",
      "    Receives a message\n",
      "\n"
     ]
    }
   ],
   "source": [
    "help(recv)"
   ]
  },
  {
   "cell_type": "markdown",
   "metadata": {},
   "source": [
    "### 7-5)  Defining Functions with Default Arguments \n",
    "- 하나 또는 그 이상의 argument들을 optional하게 받도록, 그리고 받지 않는 경우에 default value를 갖도록 하는 함수를 만들고 싶을 때"
   ]
  },
  {
   "cell_type": "markdown",
   "metadata": {},
   "source": [
    "- optional arguments를 갖는 함수를 정의하는건 쉽다!"
   ]
  },
  {
   "cell_type": "code",
   "execution_count": 22,
   "metadata": {},
   "outputs": [
    {
     "name": "stdout",
     "output_type": "stream",
     "text": [
      "1 42\n",
      "1 2\n"
     ]
    }
   ],
   "source": [
    "def spam(a, b=42):    \n",
    "    print(a, b)\n",
    "    \n",
    "spam(1)      # Ok. a=1, b=42 \n",
    "spam(1, 2)   # Ok. a=1, b=2 "
   ]
  },
  {
   "cell_type": "markdown",
   "metadata": {},
   "source": [
    "- default value를 다음과 같이 mutable container로 만들 수도 있다!"
   ]
  },
  {
   "cell_type": "code",
   "execution_count": 24,
   "metadata": {},
   "outputs": [
    {
     "name": "stdout",
     "output_type": "stream",
     "text": [
      "1 []\n"
     ]
    }
   ],
   "source": [
    "# Using a list as a default value \n",
    "def spam(a, b=None):  \n",
    "    if b is None:  \n",
    "        b = []\n",
    "    print(a, b)\n",
    "\n",
    "spam(1)"
   ]
  },
  {
   "cell_type": "markdown",
   "metadata": {},
   "source": [
    "- default value를 세팅해놓는 대신에, optional value가 어떤 특정 값을 갖는지, 아닌지, 아니면 아예 안 주어졌는지 알고싶으면 다음과 같이도 쓸 수 있다"
   ]
  },
  {
   "cell_type": "code",
   "execution_count": 40,
   "metadata": {},
   "outputs": [
    {
     "name": "stdout",
     "output_type": "stream",
     "text": [
      "No b value supplied\n"
     ]
    }
   ],
   "source": [
    "_no_value = object()\n",
    "\n",
    "def spam(a, b=_no_value):   \n",
    "    if b is _no_value:     \n",
    "        print('No b value supplied')\n",
    "        \n",
    "spam(1)      # 얘만 출력됨!\n",
    "spam(1, 2)\n",
    "spam(1, None)"
   ]
  },
  {
   "cell_type": "markdown",
   "metadata": {},
   "source": [
    "- 위 코드에서 특징적인 것은, object()를 identify test를 하는 데에 썼다는 것! 별다른 쓸모가 없는 object()를 이런 식으로 쓸 수도 있다."
   ]
  },
  {
   "cell_type": "markdown",
   "metadata": {},
   "source": [
    "- 그냥 위와 같이 default argument를 갖는 함수를 정의하는건 쉬운데, 좀더 생각해봐야할 것들이 있다.\n",
    "- 첫째로, default 값을 할당받은 argument들은 함수가 정의되는 시점을 지나면 더이상 assign의 영향을 받지 않는다. dafault value로 고정되어 버리는 것! 이를테면, 아래 예시를 보면 "
   ]
  },
  {
   "cell_type": "code",
   "execution_count": 29,
   "metadata": {},
   "outputs": [
    {
     "name": "stdout",
     "output_type": "stream",
     "text": [
      "1 42\n",
      "1 42\n"
     ]
    }
   ],
   "source": [
    "x = 42 \n",
    "def spam(a, b=x): \n",
    "    print(a, b) \n",
    "\n",
    "spam(1)\n",
    "\n",
    "x = 43\n",
    "spam(1)"
   ]
  },
  {
   "cell_type": "markdown",
   "metadata": {},
   "source": [
    "- 둘째로, default로 할당할 수 있는 value들은 반드시 immutable한 것들이어야 한다! None이나, True/False, numbers, strings 같은 것들!\n",
    "- 아래처럼 쓰면 안된다."
   ]
  },
  {
   "cell_type": "code",
   "execution_count": 36,
   "metadata": {},
   "outputs": [],
   "source": [
    "def spam(a, b=[]):     # NO!\n",
    "    '...'"
   ]
  },
  {
   "cell_type": "markdown",
   "metadata": {},
   "source": [
    "- 만약에 요따위로 함수를 작성하면 b의 default값이 함수 밖으로 뛰쳐나가서 어떻게 바뀔지 모른다. 그럼 함수의 default값이 바뀌어버리게 된다. 이건 재앙이다. 아래 예시를 보자"
   ]
  },
  {
   "cell_type": "code",
   "execution_count": 35,
   "metadata": {},
   "outputs": [
    {
     "name": "stdout",
     "output_type": "stream",
     "text": [
      "[]\n",
      "[99, 'Yow!']\n"
     ]
    },
    {
     "data": {
      "text/plain": [
       "[99, 'Yow!']"
      ]
     },
     "execution_count": 35,
     "metadata": {},
     "output_type": "execute_result"
    }
   ],
   "source": [
    "def spam(a, b=[]):\n",
    "    print(b)\n",
    "    return b\n",
    "\n",
    "x = spam(1)\n",
    "\n",
    "x.append(99)\n",
    "x.append('Yow!')\n",
    "\n",
    "spam(1)"
   ]
  },
  {
   "cell_type": "markdown",
   "metadata": {},
   "source": [
    "- 앞서 언급했던 것처럼 아래와 같이 None을 assign한 뒤에 나중에 function 안에서 mutable을 할당하는 것이 좋다."
   ]
  },
  {
   "cell_type": "code",
   "execution_count": 37,
   "metadata": {},
   "outputs": [
    {
     "name": "stdout",
     "output_type": "stream",
     "text": [
      "[]\n",
      "[]\n"
     ]
    },
    {
     "data": {
      "text/plain": [
       "[]"
      ]
     },
     "execution_count": 37,
     "metadata": {},
     "output_type": "execute_result"
    }
   ],
   "source": [
    "def spam(a, b=None):\n",
    "    if b is None:\n",
    "        b = []\n",
    "        print(b)\n",
    "    return b\n",
    "\n",
    "x = spam(1)\n",
    "\n",
    "x.append(99)\n",
    "x.append('Yow!')\n",
    "\n",
    "spam(1)"
   ]
  },
  {
   "cell_type": "markdown",
   "metadata": {},
   "source": [
    "- 한가지 더 언급하자면, 위 코드에서 핵심은 'b is None'이다! 아래처럼 쓰지 말자 절대로. 재앙이 될 수 있다."
   ]
  },
  {
   "cell_type": "code",
   "execution_count": 39,
   "metadata": {},
   "outputs": [],
   "source": [
    "def spam(a, b=None):   \n",
    "    if not b:      # NO! Use 'b is None' instead    \n",
    "        b = []\n",
    "\n",
    "spam(1)  # OK\n",
    "x = []\n",
    "spam(1, x)     # Silent error. x value overwritten by default\n",
    "spam(1, 0)     # Silent error. 0 ignored \n",
    "spam(1, '')    # Silent error. '' ignored"
   ]
  },
  {
   "cell_type": "markdown",
   "metadata": {},
   "source": [
    "### 7-8) Making an N-Argument Callable Work As a Callable with Fewer Arguments \n",
    "- call back 함수나 handler와 같이 callable한 객체를 다른 파이썬 코드에서 사용하는데, argument가 너무 많아서 exception 문제를 생각하는게 너무 빡칠 때"
   ]
  },
  {
   "cell_type": "markdown",
   "metadata": {},
   "source": [
    "- functools.partial() 함수를 사용합니다.\n",
    "- partial() 함수는 default값이 정해지지 않은 일부 argument에 값을 지정해줄 수 있습니다! 그럼으로써 신경써야할 argument의 갯수를 줄일 수 있게 됩니다\n",
    "- partial() 함수는 callable과 fix value를 인자로 받아서 value가 fix된 callable을 다시 리턴해줍니다"
   ]
  },
  {
   "cell_type": "code",
   "execution_count": 8,
   "metadata": {},
   "outputs": [],
   "source": [
    "def spam(a, b, c, d): \n",
    "    print(a, b, c, d)    "
   ]
  },
  {
   "cell_type": "code",
   "execution_count": 9,
   "metadata": {},
   "outputs": [
    {
     "name": "stdout",
     "output_type": "stream",
     "text": [
      "1 2 3 4\n"
     ]
    }
   ],
   "source": [
    "from functools import partial\n",
    "\n",
    "s1 = partial(spam, 1)    # a = 1\n",
    "s1(2, 3, 4)"
   ]
  },
  {
   "cell_type": "code",
   "execution_count": 10,
   "metadata": {},
   "outputs": [
    {
     "name": "stdout",
     "output_type": "stream",
     "text": [
      "1 2 3 42\n"
     ]
    }
   ],
   "source": [
    "s2 = partial(spam, d=42)\n",
    "s2(1, 2, 3)"
   ]
  },
  {
   "cell_type": "code",
   "execution_count": 11,
   "metadata": {},
   "outputs": [
    {
     "name": "stdout",
     "output_type": "stream",
     "text": [
      "1 2 7 42\n"
     ]
    }
   ],
   "source": [
    "s3 = partial(spam, 1, 2, d=42)    # a = 1, b = 2, d = 42\n",
    "s3(7)"
   ]
  },
  {
   "cell_type": "code",
   "execution_count": 15,
   "metadata": {},
   "outputs": [
    {
     "data": {
      "text/plain": [
       "False"
      ]
     },
     "execution_count": 15,
     "metadata": {},
     "output_type": "execute_result"
    }
   ],
   "source": [
    "spam is s1"
   ]
  },
  {
   "cell_type": "markdown",
   "metadata": {},
   "source": [
    "- partial()를 쓰면, 함께 사용할 수 없을 것 같은 코드들을 붙여서 쓸 수 있게 됩니다.\n",
    "- 이를테면 (x, y) 좌표들을 tuple로 들고있고, 임의의 어떤 점에서부터 거리가 작은 순서대로 좌표들을 sorting하고싶다고 생각해봅시다. 아래 코드를 먼저 살펴봅시다\n",
    "- sort() method를 떠올릴 수 있을텐데, sort()는 key를 기준으로 object를 정렬할 수는 있지만, 이때 key는 argument가 하나인 function들 하고만 동작할 수 있습니다. 그럴 때 다음과 같이 활용 가능합니다."
   ]
  },
  {
   "cell_type": "code",
   "execution_count": 20,
   "metadata": {},
   "outputs": [
    {
     "data": {
      "text/plain": [
       "[(3, 4), (1, 2), (5, 6), (7, 8)]"
      ]
     },
     "execution_count": 20,
     "metadata": {},
     "output_type": "execute_result"
    }
   ],
   "source": [
    "import math\n",
    "points = [ (1, 2), (3, 4), (5, 6), (7, 8) ]\n",
    "\n",
    "def distance(p1, p2):    \n",
    "    x1, y1 = p1    \n",
    "    x2, y2 = p2  \n",
    "    return math.hypot(x2 - x1, y2 - y1)\n",
    "\n",
    "pt = (4, 3)\n",
    "points.sort(key=partial(distance,pt))\n",
    "points"
   ]
  },
  {
   "cell_type": "code",
   "execution_count": 21,
   "metadata": {},
   "outputs": [],
   "source": [
    "def output_result(result, log=None):   \n",
    "    if log is not None:        \n",
    "        log.debug('Got: %r', result)\n",
    "\n",
    "# A sample function\n",
    "def add(x, y):    \n",
    "    return x + y\n"
   ]
  },
  {
   "cell_type": "code",
   "execution_count": null,
   "metadata": {},
   "outputs": [],
   "source": [
    "import logging    \n",
    "from multiprocessing import Pool\n",
    "from functools import partial\n",
    "logging.basicConfig(level=logging.DEBUG)    \n",
    "log = logging.getLogger('test')\n",
    "p = Pool() \n",
    "p.apply_async(add, (3, 4), callback=partial(output_result, log=log))  \n",
    "p.close()  \n",
    "p.join()"
   ]
  },
  {
   "cell_type": "code",
   "execution_count": null,
   "metadata": {},
   "outputs": [],
   "source": []
  }
 ],
 "metadata": {
  "kernelspec": {
   "display_name": "Python 3",
   "language": "python",
   "name": "python3"
  },
  "language_info": {
   "codemirror_mode": {
    "name": "ipython",
    "version": 3
   },
   "file_extension": ".py",
   "mimetype": "text/x-python",
   "name": "python",
   "nbconvert_exporter": "python",
   "pygments_lexer": "ipython3",
   "version": "3.7.1"
  }
 },
 "nbformat": 4,
 "nbformat_minor": 2
}
