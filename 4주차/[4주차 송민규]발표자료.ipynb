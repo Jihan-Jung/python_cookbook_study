{
 "cells": [
  {
   "cell_type": "markdown",
   "metadata": {},
   "source": [
    "# 발표 소단원 리스트"
   ]
  },
  {
   "cell_type": "markdown",
   "metadata": {},
   "source": [
    "6.10\n",
    "6.13\n",
    "7.3\n",
    "7.6\n",
    "7.9\n",
    "\n"
   ]
  },
  {
   "cell_type": "markdown",
   "metadata": {},
   "source": [
    "# 전체 요약자료"
   ]
  },
  {
   "cell_type": "markdown",
   "metadata": {},
   "source": [
    "-\n"
   ]
  },
  {
   "cell_type": "markdown",
   "metadata": {},
   "source": [
    "## 7.3 function annotation"
   ]
  },
  {
   "cell_type": "code",
   "execution_count": 2,
   "metadata": {},
   "outputs": [
    {
     "name": "stdout",
     "output_type": "stream",
     "text": [
      "Help on function add in module __main__:\n",
      "\n",
      "add(x:int, y:int) -> int\n",
      "\n",
      "{'x': <class 'int'>, 'y': <class 'int'>, 'return': <class 'int'>}\n"
     ]
    }
   ],
   "source": [
    "def add(x:int, y:int) -> int:    # 입력값과 출력값에 대한 정보를 단순히 지정한다. type check 아님!!\n",
    "    return x + y\n",
    "\n",
    "help(add)\n",
    "print(add.__annotations__)    # function.__annotation__ 에 관련 정보가 attribute로 들어있다"
   ]
  },
  {
   "cell_type": "markdown",
   "metadata": {},
   "source": [
    "## 7.9 작은 클래스를 함수로 대체하기"
   ]
  },
  {
   "cell_type": "code",
   "execution_count": 6,
   "metadata": {},
   "outputs": [
    {
     "ename": "IndentationError",
     "evalue": "unexpected indent (<ipython-input-6-220c2624fe5d>, line 14)",
     "output_type": "error",
     "traceback": [
      "\u001b[1;36m  File \u001b[1;32m\"<ipython-input-6-220c2624fe5d>\"\u001b[1;36m, line \u001b[1;32m14\u001b[0m\n\u001b[1;33m    pass\u001b[0m\n\u001b[1;37m    ^\u001b[0m\n\u001b[1;31mIndentationError\u001b[0m\u001b[1;31m:\u001b[0m unexpected indent\n"
     ]
    }
   ],
   "source": [
    "from urllib.request import urlopen\n",
    "\n",
    "# using class to initialize template as attribute\n",
    "class UrlTemplate:\n",
    "    def __init__(self, template):\n",
    "        self.template = template\n",
    "    \n",
    "    def open(self, **kwargs):\n",
    "        return urlopen(self.template.format_map(kwargs))\n",
    "    \n",
    "yahoo = UrlTemplate('http://finance.yahoo.com/d/quotes.csv?s={names}&f={fields}')\n",
    "for line in yahoo.open(names='IBM,AAPL,FB', fields='sl1c1v'):\n",
    "    # do something meaningful\n",
    "    pass\n",
    "\n",
    "\n",
    "# using closure\n",
    "def urltemplate(template):\n",
    "    def opener(**kwargs):\n",
    "        return urlopen(template.format_map(kwargs))\n",
    "    return opener\n",
    "\n",
    "yahoo = urltemplate('http://finance.yahoo.com/d/quotes.csv?s={names}&f={fields}')\n",
    "for line in yahoo(names='IBM,AAPL,FB', fields='sl1c1v'):\n",
    "    # do something meaningful\n",
    "    pass\n",
    "\n",
    "\n",
    "# using decorator\n",
    "def urltemplate(template):\n",
    "    def decorate(func):\n",
    "        def decorated(**kwargs):\n",
    "            return func(**kwargs)\n",
    "        return decorated\n",
    "    return decorate\n",
    "\n",
    "@urltemplate('http://finance.yahoo.com/d/quotes.csv?s={names}&f={fields}')\n",
    "def opener(**kwargs):\n",
    "    return urlopen(self.template.format_map(kwargs))\n",
    "\n"
   ]
  },
  {
   "cell_type": "code",
   "execution_count": null,
   "metadata": {},
   "outputs": [],
   "source": []
  }
 ],
 "metadata": {
  "kernelspec": {
   "display_name": "Python 3",
   "language": "python",
   "name": "python3"
  },
  "language_info": {
   "codemirror_mode": {
    "name": "ipython",
    "version": 3
   },
   "file_extension": ".py",
   "mimetype": "text/x-python",
   "name": "python",
   "nbconvert_exporter": "python",
   "pygments_lexer": "ipython3",
   "version": "3.6.4"
  }
 },
 "nbformat": 4,
 "nbformat_minor": 2
}
