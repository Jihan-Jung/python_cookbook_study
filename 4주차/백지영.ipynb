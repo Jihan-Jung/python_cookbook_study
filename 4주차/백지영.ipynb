{
 "cells": [
  {
   "cell_type": "markdown",
   "metadata": {},
   "source": [
    "# 발표 소단원 리스트"
   ]
  },
  {
   "cell_type": "markdown",
   "metadata": {},
   "source": [
    "6-8, 6-11, 7-1, 7-4, 7-7"
   ]
  },
  {
   "cell_type": "markdown",
   "metadata": {},
   "source": [
    "# 전체 요약자료"
   ]
  },
  {
   "cell_type": "markdown",
   "metadata": {},
   "source": [
    "- 급하면 최소한 이거라도 보고 오시라고!!\n",
    "- 전체 내용에 대한 문항별 요약도 좋고, 자기 나름대로의 요약도 좋습니다!!\n",
    "- \n"
   ]
  },
  {
   "cell_type": "code",
   "execution_count": 1,
   "metadata": {},
   "outputs": [],
   "source": [
    "from IPython.core.interactiveshell import InteractiveShell\n",
    "InteractiveShell.ast_node_interactivity = \"all\""
   ]
  },
  {
   "cell_type": "markdown",
   "metadata": {},
   "source": [
    "# 문항별 자료 "
   ]
  },
  {
   "cell_type": "markdown",
   "metadata": {},
   "source": [
    "## 5.20 시리얼 포트와 통신"
   ]
  },
  {
   "cell_type": "code",
   "execution_count": null,
   "metadata": {},
   "outputs": [],
   "source": [
    "import serial\n",
    "ser = serial.Serial('/dev/tty.usbmodem641',\n",
    "                   baudrate=9600,\n",
    "                   bytesize=8,\n",
    "                   parity='N',\n",
    "                   stopbits=1)\n",
    "\n",
    "ser.write(b'G1 X50 Y50\\r\\n') #모든 입출력은 바이너리\n",
    "resp = ser.readline()"
   ]
  },
  {
   "cell_type": "markdown",
   "metadata": {},
   "source": [
    "- 보통 로봇에서는 ros(robot operating system)으로 로봇과 통신\n",
    "\n",
    "컴퓨터에서 동작하는 ROS 와 8051, AVR, ARM Cortex-M 등의 MCU(Micro Controller Unit)간의 메시지 통신을 위해 rosserial 이라는 ROS의 패키지가 제공\n",
    "\n",
    "ROS 대부분의 패키지들은 상위레벨의 소프트웨어가 중심인데 로봇을 실제로 동작하기 위해서는 하드웨어와 연결하여 하위레벨 제어가 필요해진다. 즉, 로봇의 이동 명령을 상위레벨의 소프트웨어에서 만들었다고 하더라도 결국은 모터를 제어하는 하위레벨이 필요하다는 것이다. 이때에는 실시간 제어가 가능하도록 위에서 언급한 MCU 들을 이용하게 되는데 이때의 중간 중계역할을 rosserial이 담당한다."
   ]
  },
  {
   "cell_type": "markdown",
   "metadata": {},
   "source": [
    "## 6.8 관계형 데이터베이스 작업\n",
    "- 선택, 삽입, 행 삭제 작업"
   ]
  },
  {
   "cell_type": "code",
   "execution_count": 2,
   "metadata": {},
   "outputs": [],
   "source": [
    "stocks = [\n",
    "    ('goog', 100, 490.1),\n",
    "    ('AAPL', 50, 565.75),\n",
    "    ('fb', 150, 7.45),\n",
    "    ('hpq', 75, 33.2)\n",
    "]"
   ]
  },
  {
   "cell_type": "code",
   "execution_count": 4,
   "metadata": {},
   "outputs": [],
   "source": [
    "import sqlite3\n",
    "#데이터 베이스를 연결\n",
    "db = sqlite3.connect('database.db')  #데이터 베이스 이름, 호스트 이름, 사용자 이름 ,암호 등 필요한 정보"
   ]
  },
  {
   "cell_type": "code",
   "execution_count": 5,
   "metadata": {},
   "outputs": [
    {
     "data": {
      "text/plain": [
       "<sqlite3.Cursor at 0x7effc82d0110>"
      ]
     },
     "execution_count": 5,
     "metadata": {},
     "output_type": "execute_result"
    }
   ],
   "source": [
    "#커서 생성\n",
    "c = db.cursor()\n",
    "#c.execute('drop table if exists portfolio')\n",
    "c.execute('CREATE TABLE IF NOT EXISTS portfolio1 (symbol text, shares integer, price real)')\n",
    "db.commit()"
   ]
  },
  {
   "cell_type": "code",
   "execution_count": 6,
   "metadata": {},
   "outputs": [
    {
     "data": {
      "text/plain": [
       "<sqlite3.Cursor at 0x7effc82d0110>"
      ]
     },
     "execution_count": 6,
     "metadata": {},
     "output_type": "execute_result"
    }
   ],
   "source": [
    "c.executemany('insert into portfolio1 values (?,?,?)', stocks)\n",
    "db.commit()"
   ]
  },
  {
   "cell_type": "code",
   "execution_count": 7,
   "metadata": {},
   "outputs": [
    {
     "name": "stdout",
     "output_type": "stream",
     "text": [
      "('goog', 100, 490.1)\n",
      "('AAPL', 50, 565.75)\n",
      "('fb', 150, 7.45)\n",
      "('hpq', 75, 33.2)\n"
     ]
    }
   ],
   "source": [
    "for row in db.execute('select * from portfolio1'):\n",
    "    print(row)"
   ]
  },
  {
   "cell_type": "code",
   "execution_count": 8,
   "metadata": {},
   "outputs": [
    {
     "name": "stdout",
     "output_type": "stream",
     "text": [
      "('goog', 100, 490.1)\n",
      "('AAPL', 50, 565.75)\n"
     ]
    }
   ],
   "source": [
    "min_price = 100\n",
    "for row in db.execute('select * from portfolio1 where price >= ?', (min_price,)):\n",
    "    print(row)"
   ]
  },
  {
   "cell_type": "markdown",
   "metadata": {},
   "source": [
    "데이터 베이스 자료를 파이썬 타입에 매핑할 때 :\n",
    "    \n",
    "    날짜 자료는 datetime 모듈의 datetime 인스턴스타 타임스태프 사용 / 금율 자료와 같이 숫자를 저장할 때는 decimal 모듈의 Decimal 인스턴스를 사용\n",
    "    \n",
    "    (데이터베이스 백엔드에 따라 달라져서 관련 문서 참고)\n",
    "    "
   ]
  },
  {
   "cell_type": "markdown",
   "metadata": {},
   "source": [
    "SQL 구문 문자열 서식화 :\n",
    "    파이썬의 서식화 연산자(%)나 .format() 메소드로 만들면 안됨(sql 주입 공격으로 인해?)"
   ]
  },
  {
   "cell_type": "markdown",
   "metadata": {},
   "source": [
    "## 6.11 바이너리 배열 구조체 읽고 쓰기\n",
    "- 바이너리 배열 구조를 파이썬 튜플로 읽거나 쓰기 - struct 모듈"
   ]
  },
  {
   "cell_type": "code",
   "execution_count": 9,
   "metadata": {},
   "outputs": [],
   "source": [
    "from struct import Struct\n",
    "\n",
    "def write_records(records, format, f): #format : 포맷문자열\n",
    "    '''\n",
    "    일련의 튜플을 구조체의 바이너리 파일에 기록\n",
    "    '''\n",
    "    record_struct = Struct(format)\n",
    "    for r in records:\n",
    "        f.write(record_struct.pack(*r))"
   ]
  },
  {
   "cell_type": "code",
   "execution_count": null,
   "metadata": {},
   "outputs": [],
   "source": [
    "if __name__=='__main__':\n",
    "    records = [(1, 2.3, 4.5),\n",
    "              (6, 7.8, 9.0),\n",
    "              (12, 13.4, 56.7)]\n",
    "    with open('data.b', 'wb') as f:\n",
    "        write_records(records, '<idd', f) #\"idd\"이면 32비트 정수"
   ]
  },
  {
   "cell_type": "markdown",
   "metadata": {},
   "source": [
    "idd : 32비트 정수, 64비트 부동 소수, 32비트 부동 소수\n",
    "\n",
    "< : 바이트 순서 (little endian)\n",
    "\n",
    "'>' : big endian\n",
    "\n",
    "! : 네트워크 바이트 순서"
   ]
  },
  {
   "cell_type": "code",
   "execution_count": 10,
   "metadata": {},
   "outputs": [],
   "source": [
    "#파일을 조각조각 읽어 들임\n",
    "def read_records(format, f):\n",
    "    record_struct = Struct(format)\n",
    "    chunks = iter(lambda: f.read(record_struct.size), b'')\n",
    "    return (record_struct.unpack(chunk) for chunk in chunks)"
   ]
  },
  {
   "cell_type": "code",
   "execution_count": null,
   "metadata": {},
   "outputs": [],
   "source": [
    "if __name__ == '__main__':\n",
    "    with open('data.b', 'rb') as f:\n",
    "        for rec in read_records('<idd', f):\n",
    "            # rec 처리"
   ]
  },
  {
   "cell_type": "code",
   "execution_count": 11,
   "metadata": {},
   "outputs": [],
   "source": [
    "#파일을 한번에 읽어 들이고 추후 여러 조각으로 변환할 때\n",
    "def unpack_records(format, data):\n",
    "    record_struct = Struct(format)\n",
    "    return (record_struct.unpack_from(data, offset)\n",
    "           for offset in range(0, len(data), record_struct.size))"
   ]
  },
  {
   "cell_type": "code",
   "execution_count": null,
   "metadata": {},
   "outputs": [],
   "source": [
    "with open('data.b', 'rb') as f:\n",
    "    data=f.read()\n",
    "for rec in unpack_records('<idd', data):\n",
    "    #rec 처리"
   ]
  },
  {
   "cell_type": "markdown",
   "metadata": {},
   "source": [
    "- struct 모듈 = 바이너리 데이터 인코딩, 디코딩\n",
    "\n",
    "record_struct = Struct('<idd') 로 새로운 구조체 선언."
   ]
  },
  {
   "cell_type": "code",
   "execution_count": 12,
   "metadata": {},
   "outputs": [
    {
     "data": {
      "text/plain": [
       "20"
      ]
     },
     "execution_count": 12,
     "metadata": {},
     "output_type": "execute_result"
    }
   ],
   "source": [
    "record_struct = Struct('<idd')\n",
    "record_struct.size #구조체의 크기를 바이트로 나타내고 있음"
   ]
  },
  {
   "cell_type": "code",
   "execution_count": 13,
   "metadata": {},
   "outputs": [
    {
     "data": {
      "text/plain": [
       "b'\\x01\\x00\\x00\\x00\\x00\\x00\\x00\\x00\\x00\\x00\\x00@\\x00\\x00\\x00\\x00\\x00\\x00\\x08@'"
      ]
     },
     "execution_count": 13,
     "metadata": {},
     "output_type": "execute_result"
    }
   ],
   "source": [
    "record_struct.pack(1, 2.0, 3.0)"
   ]
  },
  {
   "cell_type": "code",
   "execution_count": 14,
   "metadata": {},
   "outputs": [
    {
     "data": {
      "text/plain": [
       "(1, 2.0, 3.0)"
      ]
     },
     "execution_count": 14,
     "metadata": {},
     "output_type": "execute_result"
    }
   ],
   "source": [
    "record_struct.unpack(_)"
   ]
  },
  {
   "cell_type": "markdown",
   "metadata": {},
   "source": [
    "## 7.1 매개변수 개수에 구애 받지 않는 함수 작성\n",
    " - '*' 인자 사용"
   ]
  },
  {
   "cell_type": "code",
   "execution_count": 15,
   "metadata": {},
   "outputs": [
    {
     "data": {
      "text/plain": [
       "1.5"
      ]
     },
     "execution_count": 15,
     "metadata": {},
     "output_type": "execute_result"
    },
    {
     "data": {
      "text/plain": [
       "2.5"
      ]
     },
     "execution_count": 15,
     "metadata": {},
     "output_type": "execute_result"
    }
   ],
   "source": [
    "def avg(first, *rest):\n",
    "    return (first + sum(rest)) / (1 + len(rest))# Sample use\n",
    "avg(1, 2)          # 1.5\n",
    "avg(1, 2, 3, 4)    # 2.5"
   ]
  },
  {
   "cell_type": "markdown",
   "metadata": {},
   "source": [
    "-키워드 매개변수 수에 제한이 없는 함수를 작성하려면 **로 시작하는 인자 사용"
   ]
  },
  {
   "cell_type": "code",
   "execution_count": 16,
   "metadata": {},
   "outputs": [
    {
     "data": {
      "text/plain": [
       "'<item size=\"large\" quantity=\"6\">Albatross</item>'"
      ]
     },
     "execution_count": 16,
     "metadata": {},
     "output_type": "execute_result"
    },
    {
     "data": {
      "text/plain": [
       "'<p>&lt;spam&gt;</p>'"
      ]
     },
     "execution_count": 16,
     "metadata": {},
     "output_type": "execute_result"
    }
   ],
   "source": [
    "import html\n",
    "def make_element(name, value, **attrs): #attrs : 절달받은 키워드 매개변수를 저장하는 딕셔너리\n",
    "    keyvals = [' %s=\"%s\"' % item for item in attrs.items()]    \n",
    "    attr_str = ''.join(keyvals)    \n",
    "    element = '<{name}{attrs}>{value}</{name}>'.format(\n",
    "        name=name,\n",
    "        attrs=attr_str,\n",
    "        value=html.escape(value))\n",
    "    return element\n",
    "\n",
    "# '<item size=\"large\" quantity=\"6\">Albatross</item>' 생성\n",
    "make_element('item', 'Albatross', size='large', quantity=6)\n",
    "\n",
    "# '<p>&lt;spam&gt;</p>' 생성\n",
    "make_element('p', '<spam>')"
   ]
  },
  {
   "cell_type": "markdown",
   "metadata": {},
   "source": [
    "- 위치 매개변수와 키워드 매개변수를 동시에 받는 함수를 작성하려면 ' * ' 와 **를 함께 사용"
   ]
  },
  {
   "cell_type": "code",
   "execution_count": 17,
   "metadata": {},
   "outputs": [],
   "source": [
    "def anyargs(*args, **kwargs):\n",
    "    print(args)      # 위치 매개변수는 튜플 args에 들어감\n",
    "    print(kwargs)    # 키워드 매개변수는 딕셔너리 kwargs에 들어감"
   ]
  },
  {
   "cell_type": "markdown",
   "metadata": {},
   "source": [
    "## 7.4 함수에서 여러 값을 반환\n",
    "- 튜플 사용"
   ]
  },
  {
   "cell_type": "code",
   "execution_count": 18,
   "metadata": {},
   "outputs": [
    {
     "data": {
      "text/plain": [
       "1"
      ]
     },
     "execution_count": 18,
     "metadata": {},
     "output_type": "execute_result"
    },
    {
     "data": {
      "text/plain": [
       "2"
      ]
     },
     "execution_count": 18,
     "metadata": {},
     "output_type": "execute_result"
    },
    {
     "data": {
      "text/plain": [
       "3"
      ]
     },
     "execution_count": 18,
     "metadata": {},
     "output_type": "execute_result"
    }
   ],
   "source": [
    "def myfunc():\n",
    "    return 1, 2, 3\n",
    "\n",
    "a, b, c = myfunc()\n",
    "a\n",
    "b\n",
    "c"
   ]
  },
  {
   "cell_type": "code",
   "execution_count": 19,
   "metadata": {},
   "outputs": [
    {
     "data": {
      "text/plain": [
       "(1, 2)"
      ]
     },
     "execution_count": 19,
     "metadata": {},
     "output_type": "execute_result"
    }
   ],
   "source": [
    "a = (1, 2)\n",
    "a"
   ]
  },
  {
   "cell_type": "code",
   "execution_count": 20,
   "metadata": {},
   "outputs": [
    {
     "data": {
      "text/plain": [
       "(1, 2)"
      ]
     },
     "execution_count": 20,
     "metadata": {},
     "output_type": "execute_result"
    }
   ],
   "source": [
    "b = 1, 2 #실제로 튜플을 생성하는 것은 쉼표 (괄화 아님)\n",
    "b"
   ]
  },
  {
   "cell_type": "code",
   "execution_count": 21,
   "metadata": {},
   "outputs": [
    {
     "data": {
      "text/plain": [
       "(1, 2, 3)"
      ]
     },
     "execution_count": 21,
     "metadata": {},
     "output_type": "execute_result"
    }
   ],
   "source": [
    "x = myfunc()\n",
    "x"
   ]
  },
  {
   "cell_type": "markdown",
   "metadata": {},
   "source": [
    "## 7.7 이름 없는 함수에서 변수 고정"
   ]
  },
  {
   "cell_type": "code",
   "execution_count": 22,
   "metadata": {},
   "outputs": [],
   "source": [
    "x = 10\n",
    "a = lambda y : x + y\n",
    "x = 20\n",
    "b = lambda y : x + y"
   ]
  },
  {
   "cell_type": "code",
   "execution_count": 23,
   "metadata": {},
   "outputs": [
    {
     "data": {
      "text/plain": [
       "30"
      ]
     },
     "execution_count": 23,
     "metadata": {},
     "output_type": "execute_result"
    },
    {
     "data": {
      "text/plain": [
       "30"
      ]
     },
     "execution_count": 23,
     "metadata": {},
     "output_type": "execute_result"
    }
   ],
   "source": [
    "a(10)\n",
    "b(10)"
   ]
  },
  {
   "cell_type": "markdown",
   "metadata": {},
   "source": [
    "- lambda에서 사용한 x 값은 실행 시간에 달라지는 변수 -> 람다 표현식의 x 값은 그 함수를 실행할 때의 값이 됨"
   ]
  },
  {
   "cell_type": "code",
   "execution_count": 24,
   "metadata": {},
   "outputs": [
    {
     "data": {
      "text/plain": [
       "25"
      ]
     },
     "execution_count": 24,
     "metadata": {},
     "output_type": "execute_result"
    }
   ],
   "source": [
    "x = 15\n",
    "a(10)"
   ]
  },
  {
   "cell_type": "code",
   "execution_count": 25,
   "metadata": {},
   "outputs": [
    {
     "data": {
      "text/plain": [
       "13"
      ]
     },
     "execution_count": 25,
     "metadata": {},
     "output_type": "execute_result"
    }
   ],
   "source": [
    "x = 3\n",
    "a(10)"
   ]
  },
  {
   "cell_type": "markdown",
   "metadata": {},
   "source": [
    "특정 값을 고정하고 싶으면 그 값을 기본 값으로 지정함"
   ]
  },
  {
   "cell_type": "code",
   "execution_count": 26,
   "metadata": {},
   "outputs": [
    {
     "data": {
      "text/plain": [
       "20"
      ]
     },
     "execution_count": 26,
     "metadata": {},
     "output_type": "execute_result"
    },
    {
     "data": {
      "text/plain": [
       "30"
      ]
     },
     "execution_count": 26,
     "metadata": {},
     "output_type": "execute_result"
    }
   ],
   "source": [
    "x = 10\n",
    "a = lambda y, x=x : x + y\n",
    "x = 20\n",
    "b = lambda y, x=x: x + y\n",
    "a(10)\n",
    "b(10)"
   ]
  },
  {
   "cell_type": "code",
   "execution_count": 27,
   "metadata": {},
   "outputs": [
    {
     "name": "stdout",
     "output_type": "stream",
     "text": [
      "4\n",
      "4\n",
      "4\n",
      "4\n",
      "4\n"
     ]
    }
   ],
   "source": [
    "funcs = [lambda i: i+n for n in range(5)]\n",
    "for f in funcs: \n",
    "    print(f(0))"
   ]
  },
  {
   "cell_type": "markdown",
   "metadata": {},
   "source": [
    "람다 함수는 가장 마지막 값 사용"
   ]
  },
  {
   "cell_type": "code",
   "execution_count": 28,
   "metadata": {},
   "outputs": [
    {
     "name": "stdout",
     "output_type": "stream",
     "text": [
      "0\n",
      "1\n",
      "2\n",
      "3\n",
      "4\n"
     ]
    }
   ],
   "source": [
    "funcs = [lambda x, n=n: x+n for n in range(5)]\n",
    "for f in funcs:\n",
    "    print(f(0))"
   ]
  },
  {
   "cell_type": "code",
   "execution_count": null,
   "metadata": {},
   "outputs": [],
   "source": []
  }
 ],
 "metadata": {
  "kernelspec": {
   "display_name": "Python 3",
   "language": "python",
   "name": "python3"
  },
  "language_info": {
   "codemirror_mode": {
    "name": "ipython",
    "version": 3
   },
   "file_extension": ".py",
   "mimetype": "text/x-python",
   "name": "python",
   "nbconvert_exporter": "python",
   "pygments_lexer": "ipython3",
   "version": "3.5.2"
  }
 },
 "nbformat": 4,
 "nbformat_minor": 2
}
