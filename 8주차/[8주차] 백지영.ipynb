{
 "cells": [
  {
   "cell_type": "markdown",
   "metadata": {},
   "source": [
    "## 10.12 임포트 시 모듈 패치\n",
    "기존 모듈 함수에 데코레이터를 적용 or 패치 (실제로 임포트되고 사용되었을 때만)\n",
    "\n",
    "-> 모듈을 불러오는 시점에 응답하고 특정 동작 수행."
   ]
  },
  {
   "cell_type": "code",
   "execution_count": null,
   "metadata": {},
   "outputs": [],
   "source": [
    "#postimport.py\n",
    "\n",
    "import importlib\n",
    "import sys\n",
    "from collections import defaultdict\n",
    "\n",
    "_post_import_hooks = defaultdict(list)\n",
    "\n",
    "class PostImportFinder:\n",
    "    def __init__(self):\n",
    "        self._skip = set()\n",
    "        \n",
    "    def find_module(self, fullname, path=None):\n",
    "        if fullname in self._skip:\n",
    "            return None\n",
    "        self._skip.add(fullname)\n",
    "        return PostImportLoader(self)\n",
    "class PostImportLoader:\n",
    "    def __init__(self, finder):\n",
    "        self._finder = finder\n",
    "        \n",
    "    def load_module(self, fullname):\n",
    "        importlib.import_module(fullname)\n",
    "        module = sys.modules[fullname]\n",
    "        for func in _post_import_hooks[fullname]:\n",
    "            func(module)\n",
    "        self._finder._skip.remove(fullname)\n",
    "        return module\n",
    "    \n",
    "def when_imported(fullname):\n",
    "    def decorate(func):\n",
    "        if fullname in sys.modules:\n",
    "            func(sys.modules[fullname])\n",
    "        else:\n",
    "            _post_import_hooks[fullname].append(func)\n",
    "        return func\n",
    "    return decorate\n",
    "\n",
    "sys.meta_path.insert(0, PostImportFinder()) # sys.meta_path 에 모듈을 찾기 위한 파인더 객체 리스트가 담겨 있음"
   ]
  },
  {
   "cell_type": "code",
   "execution_count": null,
   "metadata": {},
   "outputs": [],
   "source": [
    "from postimport import when_imported\n",
    "\n",
    "@when_imported('threading') #임포트할 때 실행할 처리 함수를 등록\n",
    "def warn_threads(mod):\n",
    "    print('Threads? ARe you crazy?')\n",
    "    \n",
    "import threading \n",
    "# result : Threads? ARe you crazy?"
   ]
  },
  {
   "cell_type": "markdown",
   "metadata": {},
   "source": [
    "@when_imported : 임포트할 때 실행할 처리 함수를 등록\n",
    "2. 데코레이터는 이미 불러온 모듈이 없는지 sys.modules 확인\n",
    "3. 있으면 핸들러 호출\n",
    "4. 아니면 핸들러를 _post_import_hooks 딕셔너리 리스트에 추가"
   ]
  },
  {
   "cell_type": "markdown",
   "metadata": {},
   "source": [
    "## 12.1 스레드 시작과 정지"
   ]
  },
  {
   "cell_type": "code",
   "execution_count": 5,
   "metadata": {},
   "outputs": [],
   "source": [
    "import time\n",
    "def countdown(n):\n",
    "    while n > 0 :\n",
    "        print('T-minus', n)\n",
    "        n -= 1\n",
    "        time.sleep(3)"
   ]
  },
  {
   "cell_type": "markdown",
   "metadata": {},
   "source": [
    "- 스레드는 시스템 레블 스레드(ex.POSIX thread, Windows thread) 로 실행됨 (호스트 운영체제에서 관리)"
   ]
  },
  {
   "cell_type": "code",
   "execution_count": 6,
   "metadata": {},
   "outputs": [
    {
     "name": "stdout",
     "output_type": "stream",
     "text": [
      "T-minus 10\n"
     ]
    }
   ],
   "source": [
    "from threading import Thread\n",
    "t = Thread(target=countdown, args=(10,)) #target은 스레드로 돌릴 함수, args는 입력 인자.\n",
    "t.start() #스레드의 실행을 시작, 내부적으로 이 메소드가 호출되면 자신의 run() 메소드를 호출"
   ]
  },
  {
   "cell_type": "code",
   "execution_count": 7,
   "metadata": {},
   "outputs": [
    {
     "name": "stdout",
     "output_type": "stream",
     "text": [
      "Still running\n",
      "T-minus 4\n",
      "T-minus 9\n",
      "T-minus 8\n",
      "T-minus 3\n",
      "T-minus 7\n",
      "T-minus 6\n",
      "T-minus 2\n",
      "T-minus 5\n",
      "T-minus 1\n",
      "T-minus 4\n",
      "T-minus 3\n",
      "T-minus 2\n",
      "T-minus 1\n"
     ]
    }
   ],
   "source": [
    "if t.is_alive():\n",
    "    print('Still running')\n",
    "else:\n",
    "    print('Completed')"
   ]
  },
  {
   "cell_type": "markdown",
   "metadata": {},
   "source": [
    "- 데몬 스레드 설정(daemon=True) -> 백그라운드에서 실행되는 쓰레드로 메인 쓰레드가 종료되면 즉시 종료됨.\n",
    "\n",
    "q백그라운드에서 영원히 실행하는 스레드는 데몬으로 만들 수 있ㅇ\n"
   ]
  },
  {
   "cell_type": "code",
   "execution_count": 8,
   "metadata": {},
   "outputs": [
    {
     "name": "stdout",
     "output_type": "stream",
     "text": [
      "T-minus 10\n",
      "T-minus 9\n",
      "T-minus 8\n",
      "T-minus 7\n",
      "T-minus 6\n",
      "T-minus 5\n",
      "T-minus 4\n",
      "T-minus 3\n",
      "T-minus 2\n",
      "T-minus 1\n"
     ]
    }
   ],
   "source": [
    "t1 = Thread(target=countdown, args=(10,), daemon=True)\n",
    "t1.start()"
   ]
  },
  {
   "cell_type": "markdown",
   "metadata": {},
   "source": [
    "- 스레드를 종료하고 싶을 때"
   ]
  },
  {
   "cell_type": "code",
   "execution_count": 9,
   "metadata": {},
   "outputs": [
    {
     "name": "stdout",
     "output_type": "stream",
     "text": [
      "T-minus 5\n"
     ]
    }
   ],
   "source": [
    "class CountdownTask:\n",
    "    def __init__(self):\n",
    "        self._running = True\n",
    "        \n",
    "    def terminate(self):\n",
    "        self._running = False\n",
    "        \n",
    "    \n",
    "    def run(self, n):\n",
    "        while self._running and n>0 :\n",
    "            print('T-minus', n)\n",
    "            n -= 1\n",
    "            time.sleep(1)\n",
    "c = CountdownTask()\n",
    "t = Thread(target=c.run, args=(5,))\n",
    "t.start()"
   ]
  },
  {
   "cell_type": "code",
   "execution_count": 10,
   "metadata": {},
   "outputs": [],
   "source": [
    "c.terminate() #종료 지시"
   ]
  },
  {
   "cell_type": "markdown",
   "metadata": {},
   "source": [
    "- 전역 인터프리터 락으로 인해 파이썬은 인터프리터에서 동시에 하나의 스레드만 실행할 수 있음.\n",
    "\n",
    "파이썬 스레드는 여러 cpu에 병렬적으로 동작하는 복잡한 작업에는 사용하지 않는 것이 좋음. -> 입출력 처리 / 실행 멈추는 작업을 수행하는 코드에서 실행하자"
   ]
  },
  {
   "cell_type": "markdown",
   "metadata": {},
   "source": []
  },
  {
   "cell_type": "markdown",
   "metadata": {},
   "source": [
    "- thread 클래스를 상속 받아서 정의할 때\n",
    "\n",
    "-> z코드와 threading 라이브러리 사이에 불필요한 의존성 생겨서 별로"
   ]
  },
  {
   "cell_type": "code",
   "execution_count": 11,
   "metadata": {},
   "outputs": [],
   "source": [
    "class CountdownThread(Thread):\n",
    "    def __init__(self, n):\n",
    "        super().__init__()\n",
    "        self.n = n\n",
    "    # ★★ Thread를 구동하기 위해서는 함수명을 run으로 해야함\n",
    "    def run(self):\n",
    "        while self.n>0:\n",
    "            print('T-minus', self.n)\n",
    "            self.n -= 1\n",
    "            time.sleep(2)"
   ]
  },
  {
   "cell_type": "code",
   "execution_count": 12,
   "metadata": {},
   "outputs": [
    {
     "name": "stdout",
     "output_type": "stream",
     "text": [
      "T-minus 5\n",
      "T-minus 4\n",
      "T-minus 3\n",
      "T-minus 2\n",
      "T-minus 1\n"
     ]
    }
   ],
   "source": [
    "c = CountdownThread(5)\n",
    "c.start()"
   ]
  },
  {
   "cell_type": "markdown",
   "metadata": {},
   "source": [
    "## 12.5 락킹으로 데드락 피하기"
   ]
  },
  {
   "cell_type": "markdown",
   "metadata": {},
   "source": [
    "다중 스레드 프로그램에서 스레드가 하나 이상의 락을 취득해야 하고 데드락을 피해야 할 때"
   ]
  },
  {
   "cell_type": "markdown",
   "metadata": {},
   "source": [
    "데드락 : 스레드가 동시에 여러 가지 락을 취득하려 할 때 발생\n",
    "\n",
    "    ex) 한 스레드가 첫 번째 락 취득했지만 두번째 락 취득을 막는다면 이 스레드로 인해 다른 스레드 진행 문제 생김"
   ]
  },
  {
   "cell_type": "markdown",
   "metadata": {},
   "source": [
    "-> 모뜬 띾예 유일한 숫자를 부여하고 오름차순으로 락을 취득하도록 강제."
   ]
  },
  {
   "cell_type": "code",
   "execution_count": 2,
   "metadata": {},
   "outputs": [],
   "source": [
    "import threading\n",
    "from contextlib import contextmanager\n",
    "\n",
    "_local = threading.local() #스레드가 다른 스레드와 공유하지 않고 자신의 스코프 내에서만 사용할 변수를 여기에 정의할 수 있음\n",
    "\n",
    "@contextmanager\n",
    "def acquire(*locks):\n",
    "    # 객체 식별자로 락 정렬 ***핵심***\n",
    "    locks = sorted(locks, key=lambda x:id(x))\n",
    "    \n",
    "    #이미 취득한 락의 순서가 깨지지 않도록 주의.\n",
    "    acquired=getattr(_local, 'acquired', [])\n",
    "    if acquired and max(id(lock) for lock in acquired) >= id(locks[0]):\n",
    "        raise RuntimeError('Lock order violation')\n",
    "        \n",
    "    acquired.extend(locks)\n",
    "    _local.acquired = acquired\n",
    "    \n",
    "    try:\n",
    "        for lock in locks:\n",
    "            lock.acquire() #미리 취득한 락 확인하고 기존 락이 새롭게 취득하려는 객체 id보다 작은 값을 갖도록 강제.\n",
    "        yield\n",
    "    \n",
    "    #취득한 반대 순서로 락 해제\n",
    "    finally:\n",
    "        for lock in reversed(locks):\n",
    "            lock.release()\n",
    "        del acquired[-len(locks):]"
   ]
  },
  {
   "cell_type": "code",
   "execution_count": 3,
   "metadata": {},
   "outputs": [
    {
     "data": {
      "text/plain": [
       "<_thread._local at 0x7f4e504477d8>"
      ]
     },
     "execution_count": 3,
     "metadata": {},
     "output_type": "execute_result"
    }
   ],
   "source": [
    "_local"
   ]
  },
  {
   "cell_type": "code",
   "execution_count": 9,
   "metadata": {},
   "outputs": [
    {
     "name": "stdout",
     "output_type": "stream",
     "text": [
      "Thread-1\n",
      "Thread-1\n",
      "Thread-1\n",
      "Thread-1\n",
      "Thread-1\n",
      "Thread-1\n",
      "Thread-1\n",
      "Thread-1\n",
      "Thread-1\n",
      "Thread-1\n",
      "Thread-1\n",
      "Thread-1\n",
      "Thread-1\n",
      "Thread-1\n",
      "Thread-1\n",
      "Thread-1\n",
      "Thread-1\n",
      "Thread-1\n",
      "Thread-1\n",
      "Thread-1\n",
      "Thread-1\n",
      "Thread-1\n",
      "Thread-1\n",
      "Thread-1\n",
      "Thread-1\n",
      "Thread-1\n",
      "Thread-1\n",
      "Thread-1\n",
      "Thread-1\n",
      "Thread-1\n",
      "Thread-1\n",
      "Thread-1\n",
      "Thread-1\n",
      "Thread-1\n",
      "Thread-1\n",
      "Thread-1\n",
      "Thread-1\n",
      "Thread-1\n",
      "Thread-1\n",
      "Thread-1\n",
      "Thread-1\n",
      "Thread-1\n",
      "Thread-1\n",
      "Thread-1\n",
      "Thread-1\n",
      "Thread-1\n",
      "Thread-1\n",
      "Thread-1\n",
      "Thread-1\n",
      "Thread-1\n",
      "Thread-1\n",
      "Thread-1\n",
      "Thread-1\n",
      "Thread-1\n",
      "Thread-1\n",
      "Thread-1\n",
      "Thread-1\n",
      "Thread-1\n",
      "Thread-1\n",
      "Thread-1\n",
      "Thread-1\n",
      "Thread-1\n",
      "Thread-1\n",
      "Thread-1\n",
      "Thread-1\n",
      "Thread-1\n",
      "Thread-1\n",
      "Thread-1\n",
      "Thread-1\n",
      "Thread-1\n",
      "Thread-1\n",
      "Thread-1\n",
      "Thread-2\n",
      "Thread-1\n",
      "Thread-2\n",
      "Thread-1\n",
      "Thread-1\n",
      "Thread-2\n",
      "Thread-1\n",
      "Thread-2\n",
      "Thread-1\n",
      "Thread-2\n",
      "Thread-1\n",
      "Thread-2\n",
      "Thread-1\n",
      "Thread-2\n",
      "Thread-1\n",
      "Thread-2\n",
      "Thread-1\n",
      "Thread-2\n",
      "Thread-1\n",
      "Thread-2\n",
      "Thread-1\n",
      "Thread-2\n",
      "Thread-1\n",
      "Thread-2\n",
      "Thread-1\n",
      "Thread-2\n",
      "Thread-1\n",
      "Thread-2\n",
      "Thread-1\n",
      "Thread-2\n",
      "Thread-1\n",
      "Thread-2\n",
      "Thread-1\n",
      "Thread-2\n",
      "Thread-1\n",
      "Thread-2\n",
      "Thread-1\n",
      "Thread-2\n",
      "Thread-1\n",
      "Thread-2\n",
      "Thread-1\n",
      "Thread-2\n",
      "Thread-1\n",
      "Thread-2\n",
      "Thread-1\n",
      "Thread-2\n",
      "Thread-1\n",
      "Thread-2\n",
      "Thread-1\n",
      "Thread-2\n",
      "Thread-1\n",
      "Thread-2\n",
      "Thread-1\n",
      "Thread-2\n",
      "Thread-1\n",
      "Thread-2\n",
      "Thread-2\n",
      "Thread-2\n",
      "Thread-2\n",
      "Thread-2\n",
      "Thread-2\n",
      "Thread-2\n",
      "Thread-2\n",
      "Thread-2\n",
      "Thread-2\n",
      "Thread-2\n",
      "Thread-2\n",
      "Thread-2\n",
      "Thread-2\n",
      "Thread-2\n",
      "Thread-2\n",
      "Thread-2\n",
      "Thread-2\n",
      "Thread-2\n",
      "Thread-2\n",
      "Thread-2\n",
      "Thread-2\n",
      "Thread-2\n",
      "Thread-2\n",
      "Thread-2\n",
      "Thread-2\n",
      "Thread-2\n",
      "Thread-2\n",
      "Thread-2\n",
      "Thread-2\n",
      "Thread-2\n",
      "Thread-2\n",
      "Thread-2\n",
      "Thread-2\n",
      "Thread-2\n",
      "Thread-2\n",
      "Thread-2\n",
      "Thread-2\n",
      "Thread-2\n",
      "Thread-2\n",
      "Thread-2\n",
      "Thread-2\n",
      "Thread-2\n",
      "Thread-2\n",
      "Thread-2\n",
      "Thread-2\n",
      "Thread-2\n",
      "Thread-2\n",
      "Thread-2\n",
      "Thread-2\n",
      "Thread-2\n",
      "Thread-2\n",
      "Thread-2\n",
      "Thread-2\n",
      "Thread-2\n",
      "Thread-2\n",
      "Thread-2\n",
      "Thread-2\n",
      "Thread-2\n",
      "Thread-2\n",
      "Thread-2\n",
      "Thread-2\n",
      "Thread-2\n",
      "Thread-2\n",
      "Thread-2\n",
      "Thread-2\n",
      "Thread-2\n",
      "Thread-2\n",
      "Thread-2\n",
      "Thread-2\n",
      "Thread-2\n",
      "Thread-2\n",
      "Thread-2\n"
     ]
    }
   ],
   "source": [
    "x_lock = threading.Lock() # 락 객체를 얻음\n",
    "y_lock = threading.Lock()\n",
    "\n",
    "def thread_1():\n",
    "    n = 100\n",
    "    while n > 0:\n",
    "        with acquire(x_lock, y_lock):\n",
    "            print('Thread-1')\n",
    "            n -= 1\n",
    "            \n",
    "def thread_2():\n",
    "    m = 100\n",
    "    while m > 0:\n",
    "        with acquire(y_lock ,x_lock):\n",
    "            print('Thread-2')\n",
    "            m -= 1\n",
    "            \n",
    "t1 = threading.Thread(target=thread_1)\n",
    "t1.daemon = True\n",
    "t1.start()\n",
    "\n",
    "t2 = threading.Thread(target=thread_2)\n",
    "t2.daemon = True\n",
    "t2.start()"
   ]
  },
  {
   "cell_type": "markdown",
   "metadata": {},
   "source": [
    "각 함수에서 락 취득 순서가 서로 다르게 진행되지만 데드락 없이 잘 동작."
   ]
  },
  {
   "cell_type": "code",
   "execution_count": 10,
   "metadata": {},
   "outputs": [
    {
     "data": {
      "text/plain": [
       "139974340123424"
      ]
     },
     "execution_count": 10,
     "metadata": {},
     "output_type": "execute_result"
    }
   ],
   "source": [
    "id(x_lock)"
   ]
  },
  {
   "cell_type": "code",
   "execution_count": 11,
   "metadata": {},
   "outputs": [
    {
     "data": {
      "text/plain": [
       "139974340124104"
      ]
     },
     "execution_count": 11,
     "metadata": {},
     "output_type": "execute_result"
    }
   ],
   "source": [
    "id(y_lock)"
   ]
  },
  {
   "cell_type": "code",
   "execution_count": 12,
   "metadata": {},
   "outputs": [
    {
     "name": "stdout",
     "output_type": "stream",
     "text": [
      "Thread-2\n",
      "Thread-2\n",
      "Thread-2\n",
      "Thread-2\n",
      "Thread-2\n",
      "Thread-2\n",
      "Thread-2\n",
      "Thread-2\n",
      "Thread-2\n",
      "Thread-2\n",
      "Thread-2\n",
      "Thread-2\n",
      "Thread-2\n",
      "Thread-2\n",
      "Thread-2\n",
      "Thread-2\n",
      "Thread-2\n",
      "Thread-2\n",
      "Thread-2\n",
      "Thread-2\n",
      "Thread-2\n",
      "Thread-2\n",
      "Thread-2\n",
      "Thread-2\n",
      "Thread-2\n",
      "Thread-2\n",
      "Thread-2\n",
      "Thread-2\n",
      "Thread-2\n",
      "Thread-2\n",
      "Thread-2\n",
      "Thread-2\n",
      "Thread-2\n",
      "Thread-2\n",
      "Thread-2\n",
      "Thread-2\n",
      "Thread-2\n",
      "Thread-2\n",
      "Thread-2\n",
      "Thread-2\n",
      "Thread-2\n",
      "Thread-2\n",
      "Thread-2\n",
      "Thread-2\n",
      "Thread-2\n",
      "Thread-2\n",
      "Thread-2\n",
      "Thread-2\n",
      "Thread-2\n",
      "Thread-2\n",
      "Thread-2\n",
      "Thread-2\n",
      "Thread-2\n",
      "Thread-2\n",
      "Thread-2\n",
      "Thread-2\n",
      "Thread-2\n",
      "Thread-2\n",
      "Thread-2\n",
      "Thread-2\n",
      "Thread-2\n",
      "Thread-2\n",
      "Thread-2\n",
      "Thread-2\n",
      "Thread-2\n",
      "Thread-2\n",
      "Thread-2\n",
      "Thread-2\n",
      "Thread-2\n",
      "Thread-2\n",
      "Thread-2\n",
      "Thread-2\n",
      "Thread-2\n",
      "Thread-2\n",
      "Thread-2\n",
      "Thread-2\n",
      "Thread-2\n",
      "Thread-2\n",
      "Thread-2\n",
      "Thread-2\n",
      "Thread-2\n",
      "Thread-2\n",
      "Thread-2\n",
      "Thread-2\n",
      "Thread-2\n",
      "Thread-2\n",
      "Thread-2\n",
      "Thread-2\n",
      "Thread-2\n",
      "Thread-2\n",
      "Thread-2\n",
      "Thread-2\n",
      "Thread-2\n",
      "Thread-2\n",
      "Thread-2\n",
      "Thread-2\n",
      "Thread-2\n",
      "Thread-2\n",
      "Thread-2\n",
      "Thread-2\n"
     ]
    },
    {
     "name": "stderr",
     "output_type": "stream",
     "text": [
      "Exception in thread Thread-12:\n",
      "Traceback (most recent call last):\n",
      "  File \"/usr/lib/python3.5/threading.py\", line 914, in _bootstrap_inner\n",
      "    self.run()\n",
      "  File \"/usr/lib/python3.5/threading.py\", line 862, in run\n",
      "    self._target(*self._args, **self._kwargs)\n",
      "  File \"<ipython-input-12-f1c8168d1b50>\", line 10, in thread_1\n",
      "    n -= 1\n",
      "  File \"/usr/lib/python3.5/contextlib.py\", line 77, in __exit__\n",
      "    self.gen.throw(type, value, traceback)\n",
      "  File \"<ipython-input-2-0ff11d442f23>\", line 22, in acquire\n",
      "    yield\n",
      "  File \"<ipython-input-12-f1c8168d1b50>\", line 8, in thread_1\n",
      "    with acquire(y_lock):\n",
      "  File \"/usr/lib/python3.5/contextlib.py\", line 59, in __enter__\n",
      "    return next(self.gen)\n",
      "  File \"<ipython-input-2-0ff11d442f23>\", line 14, in acquire\n",
      "    raise RuntimeError('Lock order violation')\n",
      "RuntimeError: Lock order violation\n",
      "\n"
     ]
    }
   ],
   "source": [
    "x_lock = threading.Lock() # 락 객체를 얻음\n",
    "y_lock = threading.Lock()\n",
    "\n",
    "def thread_1():\n",
    "    n = 100\n",
    "    while n > 0:\n",
    "        with acquire(x_lock):\n",
    "            with acquire(y_lock):\n",
    "                print('Thread-1')\n",
    "                n -= 1\n",
    "            \n",
    "def thread_2():\n",
    "    m = 100\n",
    "    while m > 0:\n",
    "        with acquire(y_lock):\n",
    "            with acquire(x_lock):\n",
    "                print('Thread-2')\n",
    "                m -= 1\n",
    "            \n",
    "t1 = threading.Thread(target=thread_1)\n",
    "t1.daemon = True\n",
    "t1.start()\n",
    "\n",
    "t2 = threading.Thread(target=thread_2)\n",
    "t2.daemon = True\n",
    "t2.start()"
   ]
  },
  {
   "cell_type": "markdown",
   "metadata": {},
   "source": [
    "## 12.9 gil 다루기"
   ]
  },
  {
   "cell_type": "markdown",
   "metadata": {},
   "source": [
    "전역 인터프리터 락(Global Interpreter Lock, GIL)\n",
    "\n",
    "인터프리터는 동시에 파이썬 스레드를 하나만 실행할 수 있도록 허용하는 GIL에 의해 보호 받음.\n",
    "\n",
    "GIL은 cpu를 많이 사용하는 프로그램에만 영향이 있음."
   ]
  },
  {
   "cell_type": "markdown",
   "metadata": {},
   "source": [
    "1. 전체적으로 파이썬만 사용 - multiprocessing 모듈로 프로세스 풀을 만들고 co-processor처럼 사용"
   ]
  },
  {
   "cell_type": "code",
   "execution_count": 17,
   "metadata": {},
   "outputs": [],
   "source": [
    "#CPU 계산을 많이 수행하는 함수\n",
    "def some_work(args):\n",
    "    ...\n",
    "    return result\n",
    "\n",
    "# 위 함수를 호출하는 스레드\n",
    "def some_thread():\n",
    "    while True:\n",
    "        r = some_work(args)\n",
    "        "
   ]
  },
  {
   "cell_type": "markdown",
   "metadata": {},
   "source": [
    "1. 스레드가 cpu를 많이 사용하는 작업하면 이 작업을 풀에게 넘김\n",
    "2. 풀은 이 작업을 다른 프로세스에서 실행중인 별도의 파이썬 인터프리터에게 전가.\n",
    "3. 스레드가 결과를 기다리는 동안 GIL을 해제."
   ]
  },
  {
   "cell_type": "code",
   "execution_count": 18,
   "metadata": {},
   "outputs": [],
   "source": [
    "# 프로세스 풀\n",
    "pool = None\n",
    "\n",
    "#CPU 계산을 많이 수행하는 함수\n",
    "def some_work(args):\n",
    "    ...\n",
    "    return result\n",
    "\n",
    "# 위 함수를 호출하는 스레드\n",
    "def some_thread():\n",
    "    while True:\n",
    "        r = some_work(args)\n",
    "        \n",
    "# 풀 초기화\n",
    "if __name__ == '__main__':\n",
    "    import multiprocessing\n",
    "    pool = multiprocessing.Pool()"
   ]
  },
  {
   "cell_type": "markdown",
   "metadata": {},
   "source": [
    "2) c 확장 프로그래밍에 집중. 계산 많은 작업을 c로 이동시키고 c 코드가 작업하는 동안 GIL을 해제. 15.7, 15.10 에서 더 자세한 내용"
   ]
  },
  {
   "cell_type": "code",
   "execution_count": 19,
   "metadata": {},
   "outputs": [
    {
     "ename": "SyntaxError",
     "evalue": "invalid syntax (<ipython-input-19-1178fe1d71f4>, line 6)",
     "output_type": "error",
     "traceback": [
      "\u001b[0;36m  File \u001b[0;32m\"<ipython-input-19-1178fe1d71f4>\"\u001b[0;36m, line \u001b[0;32m6\u001b[0m\n\u001b[0;31m    PyObject *pyfunc(PyObject *self, PyObject *args){\u001b[0m\n\u001b[0m                                                    ^\u001b[0m\n\u001b[0;31mSyntaxError\u001b[0m\u001b[0;31m:\u001b[0m invalid syntax\n"
     ]
    }
   ],
   "source": [
    "#c 코드에 다음과 같이 특별 매크로 삽입\n",
    "\n",
    "# include \"Python.h\"\n",
    "...\n",
    "\n",
    "PyObject *pyfunc(PyObject *self, PyObject *args){\n",
    "    ...\n",
    "    Py_BEGIN_ALLOW_THREADS\n",
    "    //Threaded C code\n",
    "    ...\n",
    "    Py_END_ALLOW_THREADS\n",
    "}"
   ]
  },
  {
   "cell_type": "code",
   "execution_count": null,
   "metadata": {},
   "outputs": [],
   "source": []
  }
 ],
 "metadata": {
  "kernelspec": {
   "display_name": "Python 3",
   "language": "python",
   "name": "python3"
  },
  "language_info": {
   "codemirror_mode": {
    "name": "ipython",
    "version": 3
   },
   "file_extension": ".py",
   "mimetype": "text/x-python",
   "name": "python",
   "nbconvert_exporter": "python",
   "pygments_lexer": "ipython3",
   "version": "3.5.2"
  }
 },
 "nbformat": 4,
 "nbformat_minor": 2
}
