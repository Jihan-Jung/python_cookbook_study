{
 "cells": [
  {
   "cell_type": "code",
   "execution_count": null,
   "metadata": {},
   "outputs": [],
   "source": []
  },
  {
   "cell_type": "markdown",
   "metadata": {},
   "source": [
    "# 발표 소단원 리스트"
   ]
  },
  {
   "cell_type": "markdown",
   "metadata": {},
   "source": [
    "12-2,12-6,12-10,12-14"
   ]
  },
  {
   "cell_type": "markdown",
   "metadata": {},
   "source": [
    "# 문항별 자료 \n",
    "- (12-2) thread가 작동 중인지 알아보기\n",
    "\n",
    "- (12-6) Thread specific(local)한 데이터 저장 방법\n",
    "\n",
    "- (12-10) Actor task 정의하기 : concurrency\n",
    "\n",
    "- (12-14) Daemon Process 만들기"
   ]
  },
  {
   "cell_type": "code",
   "execution_count": null,
   "metadata": {},
   "outputs": [],
   "source": []
  },
  {
   "cell_type": "markdown",
   "metadata": {},
   "source": [
    "### (12-2) Determinig if a thread has started\n",
    "- (sol) threading 라이브러리에 Event 객체 사용"
   ]
  },
  {
   "cell_type": "code",
   "execution_count": 16,
   "metadata": {},
   "outputs": [
    {
     "name": "stdout",
     "output_type": "stream",
     "text": [
      "0main thread works\n",
      "\n",
      "1\n",
      "2\n",
      "main thread after 3 sec\n",
      "3\n",
      "4\n",
      "5\n",
      "6\n",
      "7\n",
      "8\n",
      "9\n",
      "T-minusCountdown will start \n",
      "10\n",
      "T-minus 9\n",
      "T-minus 8\n",
      "T-minus 7\n",
      "T-minus 6\n",
      "T-minus 5\n",
      "T-minus 4\n",
      "T-minus 3\n",
      "T-minus 2\n",
      "T-minus 1\n",
      "Thread finishes working\n"
     ]
    }
   ],
   "source": [
    "## thread control\n",
    "from threading import Thread,Event\n",
    "import time\n",
    "\n",
    "def countdown(n,evt):\n",
    "    for i in range(n):\n",
    "        print(i)\n",
    "        time.sleep(1)\n",
    "    \n",
    "    evt.set() \n",
    "    \n",
    "    while n > 0:\n",
    "        print(\"T-minus\",n)\n",
    "        n-=1\n",
    "        time.sleep(1)\n",
    "        \n",
    "started_evt = Event()\n",
    "t = Thread(target=countdown,args=(10,started_evt))\n",
    "t.start()\n",
    "\n",
    "print(\"main thread works\")\n",
    "time.sleep(3)\n",
    "print(\"main thread after 3 sec\")\n",
    "\n",
    "started_evt.wait() # let thread stops working until meet set\n",
    "print(\"Countdown will start\")\n",
    "\n",
    "t.join()\n",
    "print(\"Thread finishes working\")"
   ]
  },
  {
   "cell_type": "code",
   "execution_count": null,
   "metadata": {},
   "outputs": [],
   "source": [
    "## event object suits for one-time event\n",
    "## for multiple times -> using Condition object"
   ]
  },
  {
   "cell_type": "code",
   "execution_count": 22,
   "metadata": {},
   "outputs": [
    {
     "data": {
      "text/plain": [
       "1"
      ]
     },
     "execution_count": 22,
     "metadata": {},
     "output_type": "execute_result"
    }
   ],
   "source": []
  },
  {
   "cell_type": "code",
   "execution_count": 3,
   "metadata": {},
   "outputs": [
    {
     "name": "stdout",
     "output_type": "stream",
     "text": [
      "T-minusCounting 0\n",
      " 10\n",
      "CountingT-minus 9\n",
      " 1\n",
      "T-minusCounting 2\n",
      " 8\n",
      "CountingT-minus 7\n",
      " 3\n",
      "T-minusCounting 4 6\n",
      "\n",
      "T-minus 5\n",
      "T-minus 4\n",
      "T-minus 3\n",
      "T-minus 2\n",
      "T-minus 1\n"
     ]
    }
   ],
   "source": [
    "import threading\n",
    "import time\n",
    "\n",
    "class PeriodicTimer:\n",
    "    def __init__(self,interval):\n",
    "        self._interval = interval\n",
    "        self._flag = 0\n",
    "        self._cv = threading.Condition()\n",
    "        \n",
    "    def start(self):\n",
    "        t = threading.Thread(target = self.run)\n",
    "        t.daemon = True\n",
    "        t.start()\n",
    "        \n",
    "    def run(self):\n",
    "        ## 계속 도는 중 -> interval 마다 thread wake up 시킴\n",
    "        '''\n",
    "        run the timer and notify waiting threads after each interval\n",
    "        '''\n",
    "        while True:\n",
    "            time.sleep(self._interval)\n",
    "            with self._cv:\n",
    "                self._flag ^= 1 # 0^1 = 1\n",
    "                self._cv.notify_all()\n",
    "                \n",
    "    def wait_for_tick(self):\n",
    "        '''\n",
    "        wait for the next tick of the timer\n",
    "        '''\n",
    "        with self._cv:\n",
    "            last_flag = self._flag\n",
    "            while last_flag == self._flag:\n",
    "                self._cv.wait() ## notify_all 되기 전까지 wait하는 상태!!\n",
    "                \n",
    "ptimer = PeriodicTimer(5)\n",
    "ptimer.start() # main thread\n",
    "\n",
    "## Two threads that synchronize on the timer\n",
    "\n",
    "def countdown(nticks):\n",
    "    while nticks > 0:\n",
    "        ptimer.wait_for_tick()\n",
    "        print('T-minus',nticks)\n",
    "        nticks -= 1\n",
    "        \n",
    "def countup(last):\n",
    "    n = 0\n",
    "    while n < last:\n",
    "        ptimer.wait_for_tick()\n",
    "        print('Counting',n)\n",
    "        n += 1\n",
    "        \n",
    "threading.Thread(target = countdown,args=(10,)).start()\n",
    "threading.Thread(target = countup,args=(5,)).start()"
   ]
  },
  {
   "cell_type": "code",
   "execution_count": null,
   "metadata": {},
   "outputs": [],
   "source": []
  },
  {
   "cell_type": "code",
   "execution_count": 27,
   "metadata": {},
   "outputs": [],
   "source": [
    "import threading\n",
    "def worker(n,sema):\n",
    "    # wait to be signaled\n",
    "    sema.acquire()\n",
    "    print('Get item',n)\n",
    "    \n",
    "sema = threading.Semaphore(0)\n",
    "nworkers = 10\n",
    "for n in range(nworkers):\n",
    "    t = threading.Thread(target = worker,args=(n,sema))\n",
    "    t.start()"
   ]
  },
  {
   "cell_type": "code",
   "execution_count": 28,
   "metadata": {},
   "outputs": [
    {
     "name": "stdout",
     "output_type": "stream",
     "text": [
      "Get item 0\n"
     ]
    }
   ],
   "source": [
    "sema.release() # sema를 release해야 작동을 함!!"
   ]
  },
  {
   "cell_type": "code",
   "execution_count": null,
   "metadata": {},
   "outputs": [],
   "source": []
  },
  {
   "cell_type": "code",
   "execution_count": null,
   "metadata": {},
   "outputs": [],
   "source": []
  },
  {
   "cell_type": "code",
   "execution_count": null,
   "metadata": {},
   "outputs": [],
   "source": []
  },
  {
   "cell_type": "code",
   "execution_count": null,
   "metadata": {},
   "outputs": [],
   "source": []
  },
  {
   "cell_type": "markdown",
   "metadata": {},
   "source": [
    "### (12-6) Storing Thread-Specific State\n",
    "- (sol) threading.local() 사용"
   ]
  },
  {
   "cell_type": "code",
   "execution_count": 1,
   "metadata": {},
   "outputs": [],
   "source": [
    "from socket import socket,AF_INET,SOCK_STREAM\n",
    "import threading\n",
    "\n",
    "class LazyConnection:\n",
    "    def __init__(self,address,family = AF_INET, type_ = SOCK_STREAM):\n",
    "        self.address = address\n",
    "        self.family = family\n",
    "        self.type = type_\n",
    "        self.local = threading.local()\n",
    "        \n",
    "    def __enter__(self):\n",
    "        if hasattr(self.local,'sock'):\n",
    "            raise RuntimeError('Already Connected')\n",
    "        self.local.sock = socket(self.family,self.type)\n",
    "        self.local.sock.connect(self.address)\n",
    "        return self.local.sock\n",
    "    \n",
    "    def __exit__(self,exc_ty,exc_val,tb):\n",
    "        self.local.sock.close()\n",
    "        del self.local.sock"
   ]
  },
  {
   "cell_type": "code",
   "execution_count": 3,
   "metadata": {},
   "outputs": [
    {
     "name": "stdout",
     "output_type": "stream",
     "text": [
      "Got 392 bytes \n",
      "\n",
      "Got 392 bytes \n",
      "\n"
     ]
    }
   ],
   "source": [
    "from functools import partial\n",
    "def test(conn):\n",
    "    with conn as s:\n",
    "        s.send(b'GET /index.html HTTP/1.0\\r\\n')\n",
    "        s.send(b'Host: www.python.org\\r\\n')\n",
    "        s.send(b'\\r\\n')\n",
    "        resp = b''.join(iter(partial(s.recv,8192),b''))\n",
    "        \n",
    "    print('Got {} bytes \\n'.format(len(resp)))\n",
    "    \n",
    "conn = LazyConnection(('www.python.org',80))\n",
    "t1 = threading.Thread(target=test,args=(conn,))\n",
    "t2 = threading.Thread(target=test,args=(conn,))\n",
    "t1.start()\n",
    "t2.start()\n",
    "t1.join()\n",
    "t2.join()"
   ]
  },
  {
   "cell_type": "markdown",
   "metadata": {},
   "source": [
    "### (12-10) Defining an Actor Task\n",
    "- (sol) \"actor model\" "
   ]
  },
  {
   "cell_type": "code",
   "execution_count": 3,
   "metadata": {},
   "outputs": [],
   "source": [
    "## thread control\n",
    "from threading import Thread,Event\n",
    "import time"
   ]
  },
  {
   "cell_type": "code",
   "execution_count": 2,
   "metadata": {},
   "outputs": [],
   "source": [
    "class Actor_prev:\n",
    "    def run(self):\n",
    "        print(\"hello\")\n",
    "    \n",
    "\n",
    "class Actor:\n",
    "    def __init__(self):\n",
    "        pass\n",
    "        \n",
    "    def _bootstrap(self,_other):\n",
    "        try:\n",
    "            #print(\"hello\") ## \n",
    "            #self.run(_other)\n",
    "            _other.run()\n",
    "        except ActorExit:\n",
    "            print(\"error occurs\")\n",
    "            pass\n",
    "        finally:\n",
    "            self._terminated.set()\n",
    "            \n",
    "    \n",
    "    def start(self,_other):\n",
    "        self._terminated = Event()\n",
    "        t = Thread(target = self._bootstrap,args=(_other,))\n",
    "        #print(_other)\n",
    "        t.daemon = True\n",
    "        t.start()\n",
    "        \n",
    "    def join(self):\n",
    "        self._terminated.wait()\n",
    "        \n",
    "    def run(self,_other):\n",
    "        for i in range(5):\n",
    "            print(i)\n"
   ]
  },
  {
   "cell_type": "code",
   "execution_count": 4,
   "metadata": {},
   "outputs": [
    {
     "name": "stdout",
     "output_type": "stream",
     "text": [
      "hello\n"
     ]
    }
   ],
   "source": [
    "a0 = Actor_prev()\n",
    "a0.run()"
   ]
  },
  {
   "cell_type": "code",
   "execution_count": 5,
   "metadata": {},
   "outputs": [
    {
     "name": "stdout",
     "output_type": "stream",
     "text": [
      "hello\n"
     ]
    }
   ],
   "source": [
    "a0.run()"
   ]
  },
  {
   "cell_type": "code",
   "execution_count": 7,
   "metadata": {},
   "outputs": [
    {
     "name": "stdout",
     "output_type": "stream",
     "text": [
      "hello\n"
     ]
    }
   ],
   "source": [
    "a1 = Actor()\n",
    "a1.start(a0)\n",
    "a1.join()"
   ]
  },
  {
   "cell_type": "code",
   "execution_count": null,
   "metadata": {},
   "outputs": [],
   "source": []
  },
  {
   "cell_type": "markdown",
   "metadata": {},
   "source": [
    "### (12.14) Launching a Daemon Process on Unix\n",
    "- daemon 작업 설계하기\n",
    "    - START와 STOP이 편해야"
   ]
  },
  {
   "cell_type": "code",
   "execution_count": null,
   "metadata": {},
   "outputs": [],
   "source": []
  },
  {
   "cell_type": "code",
   "execution_count": null,
   "metadata": {},
   "outputs": [],
   "source": []
  },
  {
   "cell_type": "code",
   "execution_count": null,
   "metadata": {},
   "outputs": [],
   "source": []
  },
  {
   "cell_type": "code",
   "execution_count": null,
   "metadata": {},
   "outputs": [],
   "source": []
  },
  {
   "cell_type": "code",
   "execution_count": null,
   "metadata": {},
   "outputs": [],
   "source": []
  },
  {
   "cell_type": "code",
   "execution_count": null,
   "metadata": {},
   "outputs": [],
   "source": []
  },
  {
   "cell_type": "code",
   "execution_count": null,
   "metadata": {},
   "outputs": [],
   "source": []
  },
  {
   "cell_type": "code",
   "execution_count": null,
   "metadata": {},
   "outputs": [],
   "source": []
  },
  {
   "cell_type": "code",
   "execution_count": null,
   "metadata": {},
   "outputs": [],
   "source": []
  }
 ],
 "metadata": {
  "kernelspec": {
   "display_name": "Python 3",
   "language": "python",
   "name": "python3"
  },
  "language_info": {
   "codemirror_mode": {
    "name": "ipython",
    "version": 3
   },
   "file_extension": ".py",
   "mimetype": "text/x-python",
   "name": "python",
   "nbconvert_exporter": "python",
   "pygments_lexer": "ipython3",
   "version": "3.7.3"
  }
 },
 "nbformat": 4,
 "nbformat_minor": 2
}
