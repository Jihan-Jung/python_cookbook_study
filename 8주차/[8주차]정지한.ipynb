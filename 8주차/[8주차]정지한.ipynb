{
 "cells": [
  {
   "cell_type": "code",
   "execution_count": null,
   "metadata": {},
   "outputs": [],
   "source": []
  },
  {
   "cell_type": "markdown",
   "metadata": {},
   "source": [
    "# 발표 소단원 리스트"
   ]
  },
  {
   "cell_type": "markdown",
   "metadata": {},
   "source": [
    "12-2,12-6,12-10,"
   ]
  },
  {
   "cell_type": "markdown",
   "metadata": {},
   "source": [
    "# 전체 요약자료"
   ]
  },
  {
   "cell_type": "markdown",
   "metadata": {},
   "source": [
    "-\n"
   ]
  },
  {
   "cell_type": "code",
   "execution_count": null,
   "metadata": {},
   "outputs": [],
   "source": []
  },
  {
   "cell_type": "markdown",
   "metadata": {},
   "source": [
    "# 문항별 자료 \n",
    "- (12-2) thread가 작동 중인지 알아보기\n",
    "\n",
    "- (12-6) Thread specific(local)한 데이터 저장 방법\n",
    "\n",
    "- (12-10) Actor task 정의하기 : concurrency\n"
   ]
  },
  {
   "cell_type": "code",
   "execution_count": null,
   "metadata": {},
   "outputs": [],
   "source": []
  },
  {
   "cell_type": "markdown",
   "metadata": {},
   "source": [
    "### (12-2) Determinig if a thread has started\n",
    "- (sol) threading 라이브러리에 Event 객체 사용"
   ]
  },
  {
   "cell_type": "code",
   "execution_count": 1,
   "metadata": {},
   "outputs": [
    {
     "name": "stdout",
     "output_type": "stream",
     "text": [
      "Launching countdown\n",
      "Countdown Starting\n",
      "T-minuscountdown is running\n",
      " 10\n",
      "T-minus 9\n",
      "T-minus 8\n",
      "T-minus 7\n",
      "T-minus 6\n",
      "T-minus 5\n",
      "T-minus 4\n",
      "T-minus 3\n",
      "T-minus 2\n",
      "T-minus 1\n"
     ]
    }
   ],
   "source": [
    "## wait for something to happen!!\n",
    "\n",
    "from threading import Thread,Event\n",
    "import time\n",
    "\n",
    "# code to execute in an independent thread\n",
    "def countdown(n,started_evt):\n",
    "    print('Countdown Starting')\n",
    "    started_evt.set()\n",
    "    while n > 0:\n",
    "        print('T-minus',n)\n",
    "        n -= 1\n",
    "        time.sleep(5)\n",
    "        \n",
    "started_evt = Event()\n",
    "\n",
    "print('Launching countdown')\n",
    "t = Thread(target = countdown,args=(10,started_evt))\n",
    "t.start()\n",
    "\n",
    "started_evt.wait()\n",
    "print('countdown is running')"
   ]
  },
  {
   "cell_type": "code",
   "execution_count": null,
   "metadata": {},
   "outputs": [],
   "source": [
    "## event object suits for one-time event\n",
    "## for multiple times -> using Condition object"
   ]
  },
  {
   "cell_type": "code",
   "execution_count": 3,
   "metadata": {},
   "outputs": [
    {
     "name": "stdout",
     "output_type": "stream",
     "text": [
      "T-minusCounting 0\n",
      " 10\n",
      "CountingT-minus 9\n",
      " 1\n",
      "T-minusCounting 2\n",
      " 8\n",
      "CountingT-minus 7\n",
      " 3\n",
      "T-minusCounting 4 6\n",
      "\n",
      "T-minus 5\n",
      "T-minus 4\n",
      "T-minus 3\n",
      "T-minus 2\n",
      "T-minus 1\n"
     ]
    }
   ],
   "source": [
    "import threading\n",
    "import time\n",
    "\n",
    "class PeriodicTimer:\n",
    "    def __init__(self,interval):\n",
    "        self._interval = interval\n",
    "        self._flag = 0\n",
    "        self._cv = threading.Condition()\n",
    "        \n",
    "    def start(self):\n",
    "        t = threading.Thread(target = self.run)\n",
    "        t.daemon = True\n",
    "        t.start()\n",
    "        \n",
    "    def run(self):\n",
    "        '''\n",
    "        run the timer and notify waiting threads after each interval\n",
    "        '''\n",
    "        while True:\n",
    "            time.sleep(self._interval)\n",
    "            with self._cv:\n",
    "                self._flag ^= 1\n",
    "                self._cv.notify_all()\n",
    "                \n",
    "    def wait_for_tick(self):\n",
    "        '''\n",
    "        wait for the next tick of the timer\n",
    "        '''\n",
    "        with self._cv:\n",
    "            last_flag = self._flag\n",
    "            while last_flag == self._flag:\n",
    "                self._cv.wait()\n",
    "                \n",
    "ptimer = PeriodicTimer(5)\n",
    "ptimer.start()\n",
    "\n",
    "## Two threads that synchronize on the timer\n",
    "\n",
    "def countdown(nticks):\n",
    "    while nticks > 0:\n",
    "        ptimer.wait_for_tick()\n",
    "        print('T-minus',nticks)\n",
    "        nticks -= 1\n",
    "        \n",
    "def countup(last):\n",
    "    n = 0\n",
    "    while n < last:\n",
    "        ptimer.wait_for_tick()\n",
    "        print('Counting',n)\n",
    "        n += 1\n",
    "        \n",
    "threading.Thread(target = countdown,args=(10,)).start()\n",
    "threading.Thread(target = countup,args=(5,)).start()"
   ]
  },
  {
   "cell_type": "code",
   "execution_count": null,
   "metadata": {},
   "outputs": [],
   "source": []
  },
  {
   "cell_type": "markdown",
   "metadata": {},
   "source": [
    "### (12-6) Storing Thread-Specific State\n",
    "- (sol) threading.local() 사용"
   ]
  },
  {
   "cell_type": "code",
   "execution_count": 1,
   "metadata": {},
   "outputs": [],
   "source": [
    "from socket import socket,AF_INET,SOCK_STREAM\n",
    "import threading\n",
    "\n",
    "class LazyConnection:\n",
    "    def __init__(self,address,family = AF_INET, type_ = SOCK_STREAM):\n",
    "        self.address = address\n",
    "        self.family = family\n",
    "        self.type = type_\n",
    "        self.local = threading.local()\n",
    "        \n",
    "    def __enter__(self):\n",
    "        if hasattr(self.local,'sock'):\n",
    "            raise RuntimeError('Already Connected')\n",
    "        self.local.sock = socket(self.family,self.type)\n",
    "        self.local.sock.connect(self.address)\n",
    "        return self.local.sock\n",
    "    \n",
    "    def __exit__(self,exc_ty,exc_val,tb):\n",
    "        self.local.sock.close()\n",
    "        del self.local.sock"
   ]
  },
  {
   "cell_type": "code",
   "execution_count": 3,
   "metadata": {},
   "outputs": [
    {
     "name": "stdout",
     "output_type": "stream",
     "text": [
      "Got 392 bytes \n",
      "\n",
      "Got 392 bytes \n",
      "\n"
     ]
    }
   ],
   "source": [
    "from functools import partial\n",
    "def test(conn):\n",
    "    with conn as s:\n",
    "        s.send(b'GET /index.html HTTP/1.0\\r\\n')\n",
    "        s.send(b'Host: www.python.org\\r\\n')\n",
    "        s.send(b'\\r\\n')\n",
    "        resp = b''.join(iter(partial(s.recv,8192),b''))\n",
    "        \n",
    "    print('Got {} bytes \\n'.format(len(resp)))\n",
    "    \n",
    "conn = LazyConnection(('www.python.org',80))\n",
    "t1 = threading.Thread(target=test,args=(conn,))\n",
    "t2 = threading.Thread(target=test,args=(conn,))\n",
    "t1.start()\n",
    "t2.start()\n",
    "t1.join()\n",
    "t2.join()"
   ]
  },
  {
   "cell_type": "markdown",
   "metadata": {},
   "source": [
    "### (12-10) Defining an Actor Task\n",
    "- (sol) \"actor model\" "
   ]
  },
  {
   "cell_type": "code",
   "execution_count": 4,
   "metadata": {},
   "outputs": [],
   "source": [
    "from queue import Queue\n",
    "from threading import Thread,Event\n",
    "\n",
    "class ActorExit(Exception):\n",
    "    pass\n",
    "\n",
    "class Actor:\n",
    "    def __init__(self):\n",
    "        self._mailbox = Queue()\n",
    "        \n",
    "    def send(self,msg):\n",
    "        self._mailbox.put(msg)\n",
    "        \n",
    "    def recv(self):\n",
    "        msg = self._mailbox.get()\n",
    "        if msg is ActorExit:\n",
    "            raise ActorExit()\n",
    "        return msg\n",
    "    \n",
    "    def close(self):\n",
    "        self.send(ActorExit)\n",
    "        \n",
    "    \n",
    "    def start(self):\n",
    "        self._terminated = Event()\n",
    "        t = Thread(target = self._bootstrap)\n",
    "        t.daemon = True\n",
    "        t.start()\n",
    "        \n",
    "    def _bootstrap(self):\n",
    "        try:\n",
    "            self.run()\n",
    "        except ActorExit:\n",
    "            pass\n",
    "        finally:\n",
    "            self._terminated.set()\n",
    "            \n",
    "    def join(self):\n",
    "        self._terminated.wait()\n",
    "        \n",
    "    def run(self):\n",
    "        while True:\n",
    "            msg = self.recv()\n",
    "            \n",
    "class PrintActor(Actor):\n",
    "    def run(self):\n",
    "        while True:\n",
    "            msg = self.recv()\n",
    "            print('Got:',msg)"
   ]
  },
  {
   "cell_type": "code",
   "execution_count": 2,
   "metadata": {},
   "outputs": [],
   "source": [
    "p = PrintActor()\n",
    "p.start()"
   ]
  },
  {
   "cell_type": "code",
   "execution_count": 3,
   "metadata": {},
   "outputs": [
    {
     "name": "stdout",
     "output_type": "stream",
     "text": [
      "Got: Hello\n",
      "Got: World\n"
     ]
    }
   ],
   "source": [
    "p.send('Hello')\n",
    "p.send('World')"
   ]
  },
  {
   "cell_type": "code",
   "execution_count": 4,
   "metadata": {},
   "outputs": [],
   "source": [
    "p.close()"
   ]
  },
  {
   "cell_type": "code",
   "execution_count": 5,
   "metadata": {},
   "outputs": [],
   "source": [
    "p.join()"
   ]
  },
  {
   "cell_type": "code",
   "execution_count": null,
   "metadata": {},
   "outputs": [],
   "source": []
  },
  {
   "cell_type": "code",
   "execution_count": 1,
   "metadata": {},
   "outputs": [],
   "source": [
    "### gneerator 사용 예제\n",
    "def print_actor():\n",
    "    while True:\n",
    "        try:\n",
    "            msg = yield\n",
    "            print('Got:',msg)\n",
    "        except GeneratorExit:\n",
    "            print('Actor terminating')"
   ]
  },
  {
   "cell_type": "code",
   "execution_count": 2,
   "metadata": {},
   "outputs": [
    {
     "name": "stdout",
     "output_type": "stream",
     "text": [
      "Got: Hello\n",
      "Got: World\n",
      "Actor terminating\n"
     ]
    },
    {
     "ename": "RuntimeError",
     "evalue": "generator ignored GeneratorExit",
     "output_type": "error",
     "traceback": [
      "\u001b[1;31m---------------------------------------------------------------------------\u001b[0m",
      "\u001b[1;31mRuntimeError\u001b[0m                              Traceback (most recent call last)",
      "\u001b[1;32m<ipython-input-2-06c9931c1a00>\u001b[0m in \u001b[0;36m<module>\u001b[1;34m\u001b[0m\n\u001b[0;32m      3\u001b[0m \u001b[0mp\u001b[0m\u001b[1;33m.\u001b[0m\u001b[0msend\u001b[0m\u001b[1;33m(\u001b[0m\u001b[1;34m\"Hello\"\u001b[0m\u001b[1;33m)\u001b[0m\u001b[1;33m\u001b[0m\u001b[1;33m\u001b[0m\u001b[0m\n\u001b[0;32m      4\u001b[0m \u001b[0mp\u001b[0m\u001b[1;33m.\u001b[0m\u001b[0msend\u001b[0m\u001b[1;33m(\u001b[0m\u001b[1;34m\"World\"\u001b[0m\u001b[1;33m)\u001b[0m\u001b[1;33m\u001b[0m\u001b[1;33m\u001b[0m\u001b[0m\n\u001b[1;32m----> 5\u001b[1;33m \u001b[0mp\u001b[0m\u001b[1;33m.\u001b[0m\u001b[0mclose\u001b[0m\u001b[1;33m(\u001b[0m\u001b[1;33m)\u001b[0m\u001b[1;33m\u001b[0m\u001b[1;33m\u001b[0m\u001b[0m\n\u001b[0m",
      "\u001b[1;31mRuntimeError\u001b[0m: generator ignored GeneratorExit"
     ]
    }
   ],
   "source": [
    "p = print_actor()\n",
    "next(p) # advance to the yield (ready to receive)\n",
    "p.send(\"Hello\")\n",
    "p.send(\"World\")\n",
    "p.close()"
   ]
  },
  {
   "cell_type": "code",
   "execution_count": null,
   "metadata": {},
   "outputs": [],
   "source": []
  },
  {
   "cell_type": "code",
   "execution_count": null,
   "metadata": {},
   "outputs": [],
   "source": []
  },
  {
   "cell_type": "code",
   "execution_count": 5,
   "metadata": {},
   "outputs": [
    {
     "name": "stdout",
     "output_type": "stream",
     "text": [
      "Running A 1\n",
      "Running B 2 3\n"
     ]
    }
   ],
   "source": [
    "## pass tagged message\n",
    "class TaggedActor(Actor):\n",
    "    def run(self):\n",
    "        while True:\n",
    "            tag,*payload = self.recv()\n",
    "            getattr(self,'do_'+tag)(*payload)\n",
    "            \n",
    "            \n",
    "    def do_A(self,x):\n",
    "        print(\"Running A\",x)\n",
    "        \n",
    "    def do_B(self,x,y):\n",
    "        print('Running B',x,y)\n",
    "        \n",
    "a = TaggedActor()\n",
    "a.start()\n",
    "a.send(('A',1))\n",
    "a.send(('B',2,3))"
   ]
  },
  {
   "cell_type": "code",
   "execution_count": 6,
   "metadata": {},
   "outputs": [],
   "source": [
    "a.close()"
   ]
  },
  {
   "cell_type": "code",
   "execution_count": 7,
   "metadata": {},
   "outputs": [],
   "source": [
    "a.join()"
   ]
  },
  {
   "cell_type": "code",
   "execution_count": null,
   "metadata": {},
   "outputs": [],
   "source": []
  },
  {
   "cell_type": "code",
   "execution_count": null,
   "metadata": {},
   "outputs": [],
   "source": []
  },
  {
   "cell_type": "code",
   "execution_count": 8,
   "metadata": {},
   "outputs": [
    {
     "name": "stdout",
     "output_type": "stream",
     "text": [
      "8\n"
     ]
    }
   ],
   "source": [
    "### arbitrary functions to be executed! \n",
    "## and results to be communicated back using a special Result object\n",
    "from threading import Event\n",
    "class Result:\n",
    "    def __init__(self):\n",
    "        self._evt = Event()\n",
    "        self._result = None\n",
    "        \n",
    "    def set_result(self,value):\n",
    "        self._result = value\n",
    "        self._evt.set()\n",
    "        \n",
    "    def result(self):\n",
    "        self._evt.wait()\n",
    "        return self._result\n",
    "    \n",
    "class Worker(Actor):\n",
    "    def submit(self,func,*args,**kwargs):\n",
    "        r = Result()\n",
    "        self.send((func,args,kwargs,r))\n",
    "        return r\n",
    "    \n",
    "    def run(self):\n",
    "        while True:\n",
    "            func,args,kwargs, r = self.recv()\n",
    "            r.set_result(func(*args,**kwargs))\n",
    "            \n",
    "worker = Worker()\n",
    "worker.start()\n",
    "r = worker.submit(pow,2,3)\n",
    "print(r.result())"
   ]
  },
  {
   "cell_type": "code",
   "execution_count": null,
   "metadata": {},
   "outputs": [],
   "source": []
  },
  {
   "cell_type": "code",
   "execution_count": null,
   "metadata": {},
   "outputs": [],
   "source": []
  },
  {
   "cell_type": "code",
   "execution_count": null,
   "metadata": {},
   "outputs": [],
   "source": []
  },
  {
   "cell_type": "code",
   "execution_count": null,
   "metadata": {},
   "outputs": [],
   "source": []
  },
  {
   "cell_type": "code",
   "execution_count": null,
   "metadata": {},
   "outputs": [],
   "source": []
  },
  {
   "cell_type": "code",
   "execution_count": null,
   "metadata": {},
   "outputs": [],
   "source": []
  },
  {
   "cell_type": "code",
   "execution_count": null,
   "metadata": {},
   "outputs": [],
   "source": []
  },
  {
   "cell_type": "code",
   "execution_count": null,
   "metadata": {},
   "outputs": [],
   "source": []
  },
  {
   "cell_type": "code",
   "execution_count": null,
   "metadata": {},
   "outputs": [],
   "source": []
  },
  {
   "cell_type": "code",
   "execution_count": null,
   "metadata": {},
   "outputs": [],
   "source": []
  },
  {
   "cell_type": "code",
   "execution_count": null,
   "metadata": {},
   "outputs": [],
   "source": []
  },
  {
   "cell_type": "code",
   "execution_count": null,
   "metadata": {},
   "outputs": [],
   "source": []
  },
  {
   "cell_type": "code",
   "execution_count": null,
   "metadata": {},
   "outputs": [],
   "source": []
  },
  {
   "cell_type": "code",
   "execution_count": null,
   "metadata": {},
   "outputs": [],
   "source": []
  },
  {
   "cell_type": "code",
   "execution_count": null,
   "metadata": {},
   "outputs": [],
   "source": []
  },
  {
   "cell_type": "code",
   "execution_count": null,
   "metadata": {},
   "outputs": [],
   "source": []
  }
 ],
 "metadata": {
  "kernelspec": {
   "display_name": "Python 3",
   "language": "python",
   "name": "python3"
  },
  "language_info": {
   "codemirror_mode": {
    "name": "ipython",
    "version": 3
   },
   "file_extension": ".py",
   "mimetype": "text/x-python",
   "name": "python",
   "nbconvert_exporter": "python",
   "pygments_lexer": "ipython3",
   "version": "3.7.3"
  }
 },
 "nbformat": 4,
 "nbformat_minor": 2
}
