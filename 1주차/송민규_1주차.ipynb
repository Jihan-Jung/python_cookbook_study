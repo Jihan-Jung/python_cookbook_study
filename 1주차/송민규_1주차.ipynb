{
 "cells": [
  {
   "cell_type": "markdown",
   "metadata": {},
   "source": [
    "# 발표 소단원 리스트"
   ]
  },
  {
   "cell_type": "markdown",
   "metadata": {},
   "source": [
    "(1, 4)\n",
    "(1, 8)\n",
    "(1, 12)\n",
    "(1, 16)\n",
    "(1, 20)\n",
    "(2, 4)\n",
    "(2, 8)\n",
    "(2, 12)\n",
    "(2, 16)\n",
    "(2, 20)"
   ]
  },
  {
   "cell_type": "markdown",
   "metadata": {},
   "source": [
    "# 전체 요약자료"
   ]
  },
  {
   "cell_type": "markdown",
   "metadata": {},
   "source": [
    "* (1, 4) 시퀀스 안에서 최대 혹은 최소 N개 아이템을 찾고 싶다\n",
    "* (1, 8) 딕셔너리의 key 말고 value에 대해서 최대, 최소값 계산, 정렬하고 싶다\n",
    "* (1, 12) 시퀀스에 가장 많은 아이템을 찾고 싶다\n",
    "* (1, 16) 특정 조건에 맞는 시퀀스 원소만으로 새로운 시퀀스를 만들고 싶다\n",
    "* (1, 20) 비슷한 key를 가진 dict를 유기적으로 관리하고 싶다\n",
    "* (2, 4) 스트링에서 부분 스트링을 찾고 싶다\n",
    "* (2, 8) 개행문자를 포함한 부분 스트링을 찾고 싶다\n",
    "* (2, 12) 유니코드 문자들을 아스키코드 문자들로 클리닝하고싶다\n",
    "* (2, 16) 터미널에서 긴 스트링을 적당한 간격으로 개행시키고싶다\n",
    "* (2, 20) byte string에 스트링 연산을 적용하고싶다"
   ]
  },
  {
   "cell_type": "markdown",
   "metadata": {},
   "source": [
    "## 1.4 N아이템의 최대 혹은 최소 찾기\n",
    "\n",
    "* 컨테이너 안에서 최대 혹은 최소 N 아이템을 search  \n",
    "* 요약 - heapq.nlargest(int, some_list)와 heapq.nsmallest(int, some_list)를 사용\n",
    "* 심화 - heapq.nlargest(int, some_container, key=func_that_gets_contatiner_as_param)"
   ]
  },
  {
   "cell_type": "code",
   "execution_count": 1,
   "metadata": {},
   "outputs": [
    {
     "name": "stdout",
     "output_type": "stream",
     "text": [
      "위 리스트에서 중복을 포함하여 가장 큰 5개의 숫자 리스트는 [78, 45, 9, 6, 5] 이고, 가장 작은 5개의 숫자 리스트는 [1, 1, 2, 3, 3] 입니다\n"
     ]
    }
   ],
   "source": [
    "import heapq\n",
    "\n",
    "unsorted_list = [3,6,5,1,45,78,2,1,5,3,9]\n",
    "\n",
    "print(\n",
    "    '위 리스트에서 중복을 포함하여 가장 큰 5개의 숫자 리스트는 {} 이고, \\\n",
    "가장 작은 5개의 숫자 리스트는 {} 입니다'.format(heapq.nlargest(5, unsorted_list), heapq.nsmallest(5, unsorted_list))\n",
    ")"
   ]
  },
  {
   "cell_type": "markdown",
   "metadata": {},
   "source": [
    "#### 보충 설명"
   ]
  },
  {
   "cell_type": "markdown",
   "metadata": {},
   "source": [
    "* 다음과 같이 키워드 컨테이너에 대해 활용도 가능합니다\n",
    "* key=function 파라미터를 이용한 일종의 고위함수 매퍼입니다\n",
    "* heapq.nlargest(int, container, key=function)"
   ]
  },
  {
   "cell_type": "code",
   "execution_count": 2,
   "metadata": {},
   "outputs": [
    {
     "name": "stdout",
     "output_type": "stream",
     "text": [
      "[{'endDate': 20191130,\n",
      "  'hyperLink': 'http://www.sac.or.kr/SacHome/perform/detail?searchSeq=37419',\n",
      "  'placeName': '예술의전당 콘서트홀',\n",
      "  'priceInfo': '',\n",
      "  'programName': '사랑과 희망의 하모니',\n",
      "  'startDate': 20191130},\n",
      " {'endDate': 20191129,\n",
      "  'hyperLink': 'http://www.sac.or.kr/SacHome/perform/detail?searchSeq=37401',\n",
      "  'placeName': '예술의전당 콘서트홀',\n",
      "  'priceInfo': '',\n",
      "  'programName': '안네 소피 무터 베토벤 250주년 페스티벌 리사이틀',\n",
      "  'startDate': 20191129},\n",
      " {'endDate': 20191128,\n",
      "  'hyperLink': 'http://www.sac.or.kr/SacHome/perform/detail?searchSeq=37355',\n",
      "  'placeName': '예술의전당 콘서트홀',\n",
      "  'priceInfo': 'R석 9만원 / S석 7만원 / A석 5만원 / B석 3만원 / C석 1만원',\n",
      "  'programName': 'KBS교향악단 제748회 정기연주회',\n",
      "  'startDate': 20191128}]\n"
     ]
    }
   ],
   "source": [
    "from pprint import pprint\n",
    "\n",
    "container = [{\"startDate\": 20191101, \"endDate\": 20191101, \"programName\": \"2019 \\ube48 \\ud544\\ud558\\ubaa8\\ub2c9 \\uc624\\ucf00\\uc2a4\\ud2b8\\ub77c \\ub0b4\\ud55c\\uacf5\\uc5f0\", \"placeName\": \"\\uc608\\uc220\\uc758\\uc804\\ub2f9 \\ucf58\\uc11c\\ud2b8\\ud640\", \"priceInfo\": \"\", \"hyperLink\": \"http://www.sac.or.kr/SacHome/perform/detail?searchSeq=35789\"}, {\"startDate\": 20191103, \"endDate\": 20191103, \"programName\": \"2019 \\uc608\\uc220\\uc758\\uc804\\ub2f9 \\ub300\\ud559\\uc624\\ucf00\\uc2a4\\ud2b8\\ub77c\\ucd95\\uc81c\", \"placeName\": \"\\uc608\\uc220\\uc758\\uc804\\ub2f9 \\ucf58\\uc11c\\ud2b8\\ud640\", \"priceInfo\": \"\", \"hyperLink\": \"http://www.sac.or.kr/SacHome/perform/detail?searchSeq=35391\"}, {\"startDate\": 20191105, \"endDate\": 20191105, \"programName\": \"2019 \\uc608\\uc220\\uc758\\uc804\\ub2f9 \\ub300\\ud559\\uc624\\ucf00\\uc2a4\\ud2b8\\ub77c\\ucd95\\uc81c\", \"placeName\": \"\\uc608\\uc220\\uc758\\uc804\\ub2f9 \\ucf58\\uc11c\\ud2b8\\ud640\", \"priceInfo\": \"\", \"hyperLink\": \"http://www.sac.or.kr/SacHome/perform/detail?searchSeq=35393\"}, {\"startDate\": 20191106, \"endDate\": 20191106, \"programName\": \"2019 \\uc608\\uc220\\uc758\\uc804\\ub2f9 \\ub300\\ud559\\uc624\\ucf00\\uc2a4\\ud2b8\\ub77c\\ucd95\\uc81c\", \"placeName\": \"\\uc608\\uc220\\uc758\\uc804\\ub2f9 \\ucf58\\uc11c\\ud2b8\\ud640\", \"priceInfo\": \"\", \"hyperLink\": \"http://www.sac.or.kr/SacHome/perform/detail?searchSeq=35395\"}, {\"startDate\": 20191107, \"endDate\": 20191107, \"programName\": \"2019 \\uc608\\uc220\\uc758\\uc804\\ub2f9 \\ub300\\ud559\\uc624\\ucf00\\uc2a4\\ud2b8\\ub77c\\ucd95\\uc81c\", \"placeName\": \"\\uc608\\uc220\\uc758\\uc804\\ub2f9 \\ucf58\\uc11c\\ud2b8\\ud640\", \"priceInfo\": \"\", \"hyperLink\": \"http://www.sac.or.kr/SacHome/perform/detail?searchSeq=35397\"}, {\"startDate\": 20191108, \"endDate\": 20191108, \"programName\": \"2019 \\uc608\\uc220\\uc758\\uc804\\ub2f9 \\ub300\\ud559\\uc624\\ucf00\\uc2a4\\ud2b8\\ub77c\\ucd95\\uc81c\", \"placeName\": \"\\uc608\\uc220\\uc758\\uc804\\ub2f9 \\ucf58\\uc11c\\ud2b8\\ud640\", \"priceInfo\": \"\", \"hyperLink\": \"http://www.sac.or.kr/SacHome/perform/detail?searchSeq=35399\"}, {\"startDate\": 20191109, \"endDate\": 20191109, \"programName\": \"\\ud544\\ub77c\\ub378\\ud53c\\uc544 \\uc624\\ucf00\\uc2a4\\ud2b8\\ub77c\", \"placeName\": \"\\uc608\\uc220\\uc758\\uc804\\ub2f9 \\ucf58\\uc11c\\ud2b8\\ud640\", \"priceInfo\": \"\", \"hyperLink\": \"http://www.sac.or.kr/SacHome/perform/detail?searchSeq=35791\"}, {\"startDate\": 20191110, \"endDate\": 20191110, \"programName\": \"\\ud544\\ub77c\\ub378\\ud53c\\uc544 \\uc624\\ucf00\\uc2a4\\ud2b8\\ub77c\", \"placeName\": \"\\uc608\\uc220\\uc758\\uc804\\ub2f9 \\ucf58\\uc11c\\ud2b8\\ud640\", \"priceInfo\": \"\", \"hyperLink\": \"http://www.sac.or.kr/SacHome/perform/detail?searchSeq=35785\"}, {\"startDate\": 20191112, \"endDate\": 20191112, \"programName\": \"\\uc548\\ub4dc\\ub77c\\uc2a4 \\uc26c\\ud504 & \\uce74\\ud3a0\\ub77c \\uc548\\ub4dc\\ub808\\uc544 \\ubc14\\ub974\\uce74 \\uc624\\ucf00\\uc2a4\\ud2b8\\ub77c\", \"placeName\": \"\\uc608\\uc220\\uc758\\uc804\\ub2f9 \\ucf58\\uc11c\\ud2b8\\ud640\", \"priceInfo\": \"\", \"hyperLink\": \"http://www.sac.or.kr/SacHome/perform/detail?searchSeq=37329\"}, {\"startDate\": 20191113, \"endDate\": 20191113, \"programName\": \"\\uc7a5\\ud55c\\ub098 & \\ud2b8\\ub860\\ud558\\uc784 \\uc2ec\\ud3ec\\ub2c8 \\uc624\\ucf00\\uc2a4\\ud2b8\\ub77c (13\\uc77c)\", \"placeName\": \"\\uc608\\uc220\\uc758\\uc804\\ub2f9 \\ucf58\\uc11c\\ud2b8\\ud640\", \"priceInfo\": \"\", \"hyperLink\": \"http://www.sac.or.kr/SacHome/perform/detail?searchSeq=35751\"}, {\"startDate\": 20191114, \"endDate\": 20191114, \"programName\": \"\\ud55c\\ud654\\uc0dd\\uba85\\uacfc \\ud568\\uaed8\\ud558\\ub294 \\uc608\\uc220\\uc758\\uc804\\ub2f9 11\\uc2dc\\ucf58\\uc11c\\ud2b8(11\\uc6d4)\", \"placeName\": \"\\uc608\\uc220\\uc758\\uc804\\ub2f9 \\ucf58\\uc11c\\ud2b8\\ud640\", \"priceInfo\": \"\\uc77c\\ubc18\\uc11d 2\\ub9cc5\\ucc9c\\uc6d0 / 3\\uce35\\uc11d 1\\ub9cc5\\ucc9c\\uc6d0\", \"hyperLink\": \"http://www.sac.or.kr/SacHome/perform/detail?searchSeq=35361\"}, {\"startDate\": 20191115, \"endDate\": 20191115, \"programName\": \"\\uc81c11\\ud68c ARKO\\ud55c\\uad6d\\ucc3d\\uc791\\uc74c\\uc545\\uc81c(\\uad6d\\uc545\\ubd80\\ubb38)\", \"placeName\": \"\\uc608\\uc220\\uc758\\uc804\\ub2f9 \\ucf58\\uc11c\\ud2b8\\ud640\", \"priceInfo\": \"\", \"hyperLink\": \"http://www.sac.or.kr/SacHome/perform/detail?searchSeq=35775\"}, {\"startDate\": 20191116, \"endDate\": 20191116, \"programName\": \"\\uc2e0\\uc138\\uacc4\\uc640 \\ud568\\uaed8\\ud558\\ub294 2019 \\uc608\\uc220\\uc758\\uc804\\ub2f9 \\ud1a0\\uc694\\ucf58\\uc11c\\ud2b8-11\\uc6d4\", \"placeName\": \"\\uc608\\uc220\\uc758\\uc804\\ub2f9 \\ucf58\\uc11c\\ud2b8\\ud640\", \"priceInfo\": \"S\\uc11d 2\\ub9cc5\\ucc9c\\uc6d0 / A\\uc11d 2\\ub9cc\\uc6d0\", \"hyperLink\": \"http://www.sac.or.kr/SacHome/perform/detail?searchSeq=35383\"}, {\"startDate\": 20191117, \"endDate\": 20191117, \"programName\": \"\\ub77c\\ud30c\\uc6b0 \\ube14\\ub808\\ud558\\uce20 \\ud53c\\uc544\\ub178 \\ub9ac\\uc0ac\\uc774\\ud2c0\", \"placeName\": \"\\uc608\\uc220\\uc758\\uc804\\ub2f9 \\ucf58\\uc11c\\ud2b8\\ud640\", \"priceInfo\": \"\", \"hyperLink\": \"http://www.sac.or.kr/SacHome/perform/detail?searchSeq=37327\"}, {\"startDate\": 20191119, \"endDate\": 20191119, \"programName\": \"\\uc5d0\\uc2a4\\ud1a0\\ub2c8\\uc548 \\ud544\\ud558\\ubaa8\\ub2c9 \\ucc54\\ubc84 \\ucf70\\uc774\\uc5b4 \\ub0b4\\ud55c\\uacf5\\uc5f0\", \"placeName\": \"\\uc608\\uc220\\uc758\\uc804\\ub2f9 \\ucf58\\uc11c\\ud2b8\\ud640\", \"priceInfo\": \"\", \"hyperLink\": \"http://www.sac.or.kr/SacHome/perform/detail?searchSeq=37325\"}, {\"startDate\": 20191120, \"endDate\": 20191120, \"programName\": \"KCO Lakatosi \\ucd08\\uccad \\ud2b9\\ubcc4\\uc815\\uae30\\uc5f0\\uc8fc\\ud68c\", \"placeName\": \"\\uc608\\uc220\\uc758\\uc804\\ub2f9 \\ucf58\\uc11c\\ud2b8\\ud640\", \"priceInfo\": \"\", \"hyperLink\": \"http://www.sac.or.kr/SacHome/perform/detail?searchSeq=37381\"}, {\"startDate\": 20191121, \"endDate\": 20191121, \"programName\": \"\\uac15\\ub0a8\\uad50\\ud5a5\\uc545\\ub2e8 \\uc81c 82\\ud68c \\uc815\\uae30\\uc5f0\\uc8fc\\ud68c\", \"placeName\": \"\\uc608\\uc220\\uc758\\uc804\\ub2f9 \\ucf58\\uc11c\\ud2b8\\ud640\", \"priceInfo\": \"\", \"hyperLink\": \"http://www.sac.or.kr/SacHome/perform/detail?searchSeq=37345\"}, {\"startDate\": 20191122, \"endDate\": 20191122, \"programName\": \"KBS\\uad50\\ud5a5\\uc545\\ub2e8 \\uc81c748\\ud68c \\uc815\\uae30\\uc5f0\\uc8fc\\ud68c(2019\\ub144 11\\uc6d4)\", \"placeName\": \"\\uc608\\uc220\\uc758\\uc804\\ub2f9 \\ucf58\\uc11c\\ud2b8\\ud640\", \"priceInfo\": \"\", \"hyperLink\": \"http://www.sac.or.kr/SacHome/perform/detail?searchSeq=35815\"}, {\"startDate\": 20191123, \"endDate\": 20191123, \"programName\": \"\\ub2e4\\ub2c8\\uc5d8 \\ud558\\ub9ac\\ud1a0\\ub178\\ud504 \\ud53c\\uc544\\ub178 \\ub9ac\\uc0ac\\uc774\\ud2c0\", \"placeName\": \"\\uc608\\uc220\\uc758\\uc804\\ub2f9 \\ucf58\\uc11c\\ud2b8\\ud640\", \"priceInfo\": \"\", \"hyperLink\": \"http://www.sac.or.kr/SacHome/perform/detail?searchSeq=37409\"}, {\"startDate\": 20191126, \"endDate\": 20191126, \"programName\": \"\\uad6d\\ub9bd\\ud569\\ucc3d\\ub2e8 \\uc81c180\\ud68c \\uc815\\uae30\\uc5f0\\uc8fc\\ud68c<\\ud578\\ub378\\uc758 \\uba54\\uc2dc\\uc544>\", \"placeName\": \"\\uc608\\uc220\\uc758\\uc804\\ub2f9 \\ucf58\\uc11c\\ud2b8\\ud640\", \"priceInfo\": \"\", \"hyperLink\": \"http://www.sac.or.kr/SacHome/perform/detail?searchSeq=38527\"}, {\"startDate\": 20191127, \"endDate\": 20191127, \"programName\": \"\\ud6c4\\uc548 \\ub514\\uc5d0\\uace0 \\ud50c\\ub85c\\ub808\\uc988 \\ucf58\\uc11c\\ud2b8\", \"placeName\": \"\\uc608\\uc220\\uc758\\uc804\\ub2f9 \\ucf58\\uc11c\\ud2b8\\ud640\", \"priceInfo\": \"\", \"hyperLink\": \"http://www.sac.or.kr/SacHome/perform/detail?searchSeq=39268\"}, {\"startDate\": 20191128, \"endDate\": 20191128, \"programName\": \"KBS\\uad50\\ud5a5\\uc545\\ub2e8 \\uc81c748\\ud68c \\uc815\\uae30\\uc5f0\\uc8fc\\ud68c\", \"placeName\": \"\\uc608\\uc220\\uc758\\uc804\\ub2f9 \\ucf58\\uc11c\\ud2b8\\ud640\", \"priceInfo\": \"R\\uc11d 9\\ub9cc\\uc6d0 / S\\uc11d 7\\ub9cc\\uc6d0 / A\\uc11d 5\\ub9cc\\uc6d0 / B\\uc11d 3\\ub9cc\\uc6d0 / C\\uc11d 1\\ub9cc\\uc6d0\", \"hyperLink\": \"http://www.sac.or.kr/SacHome/perform/detail?searchSeq=37355\"}, {\"startDate\": 20191129, \"endDate\": 20191129, \"programName\": \"\\uc548\\ub124 \\uc18c\\ud53c \\ubb34\\ud130 \\ubca0\\ud1a0\\ubca4 250\\uc8fc\\ub144 \\ud398\\uc2a4\\ud2f0\\ubc8c \\ub9ac\\uc0ac\\uc774\\ud2c0\", \"placeName\": \"\\uc608\\uc220\\uc758\\uc804\\ub2f9 \\ucf58\\uc11c\\ud2b8\\ud640\", \"priceInfo\": \"\", \"hyperLink\": \"http://www.sac.or.kr/SacHome/perform/detail?searchSeq=37401\"}, {\"startDate\": 20191130, \"endDate\": 20191130, \"programName\": \"\\uc0ac\\ub791\\uacfc \\ud76c\\ub9dd\\uc758 \\ud558\\ubaa8\\ub2c8\", \"placeName\": \"\\uc608\\uc220\\uc758\\uc804\\ub2f9 \\ucf58\\uc11c\\ud2b8\\ud640\", \"priceInfo\": \"\", \"hyperLink\": \"http://www.sac.or.kr/SacHome/perform/detail?searchSeq=37419\"}]\n",
    "# json 형태로 세종문화회관 공연리스트를 크롤한 결과입니다\n",
    "\n",
    "pprint(\n",
    "    heapq.nlargest(3, container, key=lambda x: x['startDate'] )\n",
    ")"
   ]
  },
  {
   "cell_type": "markdown",
   "metadata": {},
   "source": [
    "#### 몰라도 되는 부분"
   ]
  },
  {
   "cell_type": "markdown",
   "metadata": {},
   "source": [
    "* heapq.nlargest()와 heapq.nsmallest()는 힙 자료구조를 사용합니다. \n",
    "* heapq.heapify(list)를 이용해 시간복잡도 O(N)으로 주어진 컨테이너를 힙 리스트로 바꿀 수 있습니다.\n",
    " * 위의 O(N)을 보고 읭 머지 O(NlogN)아니냐 하는 분도 계실 수 있겠지만 정밀하게 계산해보면 그렇지 않다고 합니다.\n",
    " * 수학적 증명링크를 첨부합니다만 [보지 마세요](https://www.geeksforgeeks.org/time-complexity-of-building-a-heap/)\n",
    "* heapq.heappop(heap)을 k번 이용해 시간복잡도 O(klogN)으로 k번째 큰(작은) 원소를 검색할 수 있습니다.\n",
    "* 따라서 위의 k가 클 때에는 O(NlogN)이 되므로 sorted() 정렬을 사용한다고 합니다만 그냥 눈에 바르고 넘기세요 노중요"
   ]
  },
  {
   "cell_type": "markdown",
   "metadata": {},
   "source": [
    "## 1.8 딕셔너리 계산\n",
    "* 딕셔너리의 key 말고 value에 대해서 최대, 최소값 계산, 정렬을 수행하고 싶다\n",
    "* 요약 - zip()을 애용한다"
   ]
  },
  {
   "cell_type": "code",
   "execution_count": 3,
   "metadata": {},
   "outputs": [
    {
     "name": "stdout",
     "output_type": "stream",
     "text": [
      "(235.137, 'asd') (13465, 'bdfiv') [(235.137, 'asd'), (8943, 'fas'), (12098.4397, 'sdfw'), (13465, 'bdfiv')]\n"
     ]
    }
   ],
   "source": [
    "prices = {\n",
    "    'asd':235.137,\n",
    "    'sdfw':12098.4397,\n",
    "    'fas':8943,\n",
    "    'bdfiv':13465\n",
    "}\n",
    "\n",
    "min_price = min(zip(prices.values(), prices.keys()))\n",
    "max_price = max(zip(prices.values(), prices.keys()))\n",
    "sorted_price = sorted(zip(prices.values(), prices.keys()))\n",
    "\n",
    "print(min_price, max_price, sorted_price)"
   ]
  },
  {
   "cell_type": "markdown",
   "metadata": {},
   "source": [
    "#### 보충 설명\n",
    "* zip()을 사용하지 않으면 아래와 같은 지저분한 코드 대참사가 일어난다\n",
    "* 대참사는 잊어버리고 zip()으로 키-값을 뒤집어줘야 깨끗해진다는 것만 외워두고 넘어가자"
   ]
  },
  {
   "cell_type": "code",
   "execution_count": 4,
   "metadata": {},
   "outputs": [
    {
     "name": "stdout",
     "output_type": "stream",
     "text": [
      "(235.137, 'asd')\n"
     ]
    }
   ],
   "source": [
    "# 위의 블록과 같은 값을 출력하려면 이러한 짓을 해야 한다\n",
    "k = min(prices, key=lambda x: prices[x])\n",
    "v = prices[k]\n",
    "print((v, k))"
   ]
  },
  {
   "cell_type": "markdown",
   "metadata": {},
   "source": [
    "#### 몰라도 되는 부분\n",
    "* zip()은 일종의 제너레이터이다.\n",
    "* zip()의 반환값이 리스트 같은 컨테이너가 아님에 주의하자.\n",
    " * 물론 list(zip())으로 편하게 사용할 수도 있겠다.\n",
    "* 아마 다음과 같은 구조를 통해 아이터레이터가 이용될 것 같다. 대충 눈에 발라두고 잊어버리자.\n"
   ]
  },
  {
   "cell_type": "code",
   "execution_count": 5,
   "metadata": {},
   "outputs": [
    {
     "name": "stdout",
     "output_type": "stream",
     "text": [
      "(235.137, 'asd') (12098.4397, 'sdfw') (8943, 'fas')\n"
     ]
    }
   ],
   "source": [
    "def zip_in_brain(*containers):\n",
    "    c1, c2, *_ = containers\n",
    "    yield iter(c1), iter(c2)    # 실제 이렇다는게 아니고 뇌피셜 느낌이 그렇다\n",
    "    \n",
    "foo = zip(prices.values(), prices.keys())\n",
    "print(\n",
    "    next(foo), next(foo), next(foo)    # 이렇게 아이터레이션이 된다\n",
    ")"
   ]
  },
  {
   "cell_type": "markdown",
   "metadata": {},
   "source": [
    "#### 더 몰라도 되는 부분\n",
    "* 제너레이터와 아이터레이터 개념은 추후에 책에 다시 나올 듯 하다. 간단하게 요약해보면 다음과 같다.\n",
    " * 제너레이터 객체는 함수 안의 loop 에서 yield 구문을 쓰는 경우와 comprehension을 사용한 경우로 만들 수 있다. \n",
    " * 제너레이터는 특수한 형태의 아이터레이터(iterator)이다. \n",
    "  * 따라서 next(generator)로 아이터레이트 할 수 있다.\n",
    "  * 객체를 그대로 저장해놓는 일반적인 아이터러블과는 달리 아이터레이터 그 자체이기 때문에 iter()할 필요가 없다\n",
    "  * 전체 아이터레이팅 범위와 무관하게 메모리 상 크기가 일정하다. 무빙 윈도우처럼 생각하면 적절할 듯.\n",
    "  * 그에 따라 스트리밍 등 무한한 아이터레이팅도 가능하다"
   ]
  },
  {
   "cell_type": "code",
   "execution_count": 6,
   "metadata": {},
   "outputs": [
    {
     "name": "stdout",
     "output_type": "stream",
     "text": [
      "100 48\n",
      "0 1 2\n",
      "3\n",
      "4\n",
      "5\n",
      "6\n",
      "7\n",
      "8\n",
      "9\n"
     ]
    }
   ],
   "source": [
    "import sys\n",
    "\n",
    "container = [x for x in range(10)]   # 단순 리스트\n",
    "generator = (x for x in range(10))   # 제너레이터 comprehension, 즉 next()를 통해 아이터레이터를 반환한다\n",
    "\n",
    "print(\n",
    "sys.getsizeof(container),\n",
    "sys.getsizeof(generator)\n",
    ")\n",
    "\n",
    "print(\n",
    "next(generator), next(generator), next(generator)\n",
    ")\n",
    "\n",
    "for i in generator:    # 본래 for 문은 대상 sequence를 next(iter(seq)) 해주지만, generator의 경우에도 융통성있게 쓸 수 있다\n",
    "    print(i)"
   ]
  },
  {
   "cell_type": "markdown",
   "metadata": {},
   "source": [
    "## 1.12 시퀀스에 가장 많은 아이템 찾기\n",
    "* 요약 - collections.Counter 객체를 애용하자\n",
    "* Counter는 아이템이 나타난 개수를 가리키는 딕셔너리이다\n",
    "* Counter로 합집합과 차집합 연산을 수행할 수 있다"
   ]
  },
  {
   "cell_type": "code",
   "execution_count": 7,
   "metadata": {},
   "outputs": [
    {
     "name": "stdout",
     "output_type": "stream",
     "text": [
      "a:  Counter({'eyes': 9, 'the': 5, 'look': 4, 'my': 4, 'into': 3, 'not': 2, 'around': 2, \"don't\": 1, \"you're\": 1, 'under': 1, 'why': 1, 'are': 1, 'you': 1, 'looking': 1, 'in': 1}) \n",
      "\n",
      "b:  Counter({'why': 1, 'are': 1, 'you': 1, 'not': 1, 'looking': 1, 'in': 1, 'my': 1, 'eyes': 1}) \n",
      "\n",
      "a+b:  Counter({'eyes': 9, 'the': 5, 'look': 4, 'my': 4, 'into': 3, 'not': 2, 'around': 2, \"don't\": 1, \"you're\": 1, 'under': 1, 'why': 1, 'are': 1, 'you': 1, 'looking': 1, 'in': 1}) \n",
      "\n",
      "a-b:  Counter({'eyes': 7, 'the': 5, 'look': 4, 'into': 3, 'my': 2, 'around': 2, \"don't\": 1, \"you're\": 1, 'under': 1}) \n",
      "\n",
      "Counter(words).update(morewords):  None\n"
     ]
    }
   ],
   "source": [
    "words = ['look', 'into', 'my', 'eyes', 'look', 'into', 'my', 'eyes',   'the', 'eyes', 'the', 'eyes', 'the', 'eyes', 'not', 'around', 'the',   'eyes', \"don't\", 'look', 'around', 'the', 'eyes', 'look', 'into',   'my', 'eyes', \"you're\", 'under']\n",
    "morewords = ['why','are','you','not','looking','in','my','eyes']\n",
    "\n",
    "from collections import Counter\n",
    "\n",
    "a = Counter(words)\n",
    "b = Counter(morewords)\n",
    "\n",
    "print('a: ', a, '\\n\\nb: ', b, '\\n\\na+b: ', a+b, '\\n\\na-b: ', a-b, '\\n\\nCounter(words).update(morewords): ', a.update(morewords))"
   ]
  },
  {
   "cell_type": "markdown",
   "metadata": {},
   "source": [
    "#### 보충설명\n",
    "* Counter.most_common(num) 메소드로 가장 많은 num개의 원소를 찾아낼 수 있다"
   ]
  },
  {
   "cell_type": "code",
   "execution_count": 8,
   "metadata": {},
   "outputs": [
    {
     "name": "stdout",
     "output_type": "stream",
     "text": [
      "[('eyes', 9), ('the', 5), ('look', 4)]\n"
     ]
    }
   ],
   "source": [
    "print(\n",
    "a.most_common(3)\n",
    ")"
   ]
  },
  {
   "cell_type": "markdown",
   "metadata": {},
   "source": [
    "## 1.16 시퀀스 필터링\n",
    "* 특정 조건에 맞는 시퀀스 원소만으로 새로운 시퀀스를 만들고 싶다\n",
    "* 요약 - filter()를 애용하자\n",
    " * filter(func, seq) 는 func를 True로 만드는 seq의 원소만을 골라준다\n",
    "* list comprehension을 이용한 방법은 생략"
   ]
  },
  {
   "cell_type": "code",
   "execution_count": 9,
   "metadata": {},
   "outputs": [
    {
     "name": "stdout",
     "output_type": "stream",
     "text": [
      "['1', '2', '-3', '4', '5']\n"
     ]
    }
   ],
   "source": [
    "seq = ['1', '2', '-3', '-', '4', 'N/A', '5']\n",
    "\n",
    "def func(param):    # int형만 뽑아 True로 반환하는 함수이다\n",
    "    try:\n",
    "        int(param)\n",
    "        return True\n",
    "    except ValueError:\n",
    "        return False\n",
    "    \n",
    "filtered = filter(func, seq)    # 이거 제너레이터다. 컨테이너 아님!\n",
    "print(\n",
    "list(filtered)\n",
    ")"
   ]
  },
  {
   "cell_type": "markdown",
   "metadata": {},
   "source": [
    "#### 보충설명\n",
    "* 함수 대신에 bool 시퀀스를 이용하는 itertools.compess()도 이용해볼 수 있다"
   ]
  },
  {
   "cell_type": "code",
   "execution_count": 10,
   "metadata": {},
   "outputs": [
    {
     "name": "stdout",
     "output_type": "stream",
     "text": [
      "['1', '2', '-3', '4', '5']\n"
     ]
    }
   ],
   "source": [
    "bool_seq = [True, True, True, False, True, False, True]\n",
    "\n",
    "from itertools import compress\n",
    "\n",
    "\n",
    "compressed = compress(seq, bool_seq)    # 이것 역시 제너레이터다!\n",
    "print(\n",
    "list(compressed)\n",
    ")"
   ]
  },
  {
   "cell_type": "markdown",
   "metadata": {},
   "source": [
    "## 1.20 여러 매핑을 하나로 합치기\n",
    "* 요약 - collections.ChainMap(dict, dict)를 애용하자\n",
    "* 비슷한 key를 가진 dict들을 유기적으로 관리할 수 있다"
   ]
  },
  {
   "cell_type": "code",
   "execution_count": 11,
   "metadata": {},
   "outputs": [
    {
     "name": "stdout",
     "output_type": "stream",
     "text": [
      "ChainMap({'host': '123.123.123.123', 'port': 9000}, {'host': 'localhost', 'port': 8080, 'user': 'MK', 'pwd': 1234}) \n",
      "\n",
      "cm으로 key 연산을 하면 가장 나중에 업데이트 된 값이 나옵니다:  123.123.123.123 9000 MK 1234 \n",
      "\n",
      "같은 key 중 하나를 삭제하면 초기 default_dic이 나옵니다:  localhost 9000 MK 1234 \n",
      "\n",
      "default_dic의 값은 삭제할 수 없습니다:  localhost 9000 MK 1234 \n",
      "\n",
      "이렇게 새 노드를 추가할 수 있습니다:  999.999.999.999 9000 MK 1234 \n",
      "\n",
      "이렇게 마지막으로 추가한 노드를 삭제할 수 있습니다:  localhost 9000 MK 1234 \n",
      "\n",
      "재료가 되었던 dict를 mutate시켜도 그대로 반영됩니다:  localhost 9000 MK 136128376187\n"
     ]
    }
   ],
   "source": [
    "default_dic = {'host':'localhost', 'port':8080, 'user':'MK', 'pwd':1234}\n",
    "new_dic = {'host':'123.123.123.123', 'port':9000}\n",
    "new_dic2= {'host':'111.111.111.111', 'user':'DS'}\n",
    "\n",
    "from collections import ChainMap as CM\n",
    "\n",
    "cm = CM(new_dic, default_dic)\n",
    "print(cm, '\\n')\n",
    "\n",
    "print('cm으로 key 연산을 하면 가장 나중에 업데이트 된 값이 나옵니다: ', cm['host'], cm['port'], cm['user'], cm['pwd'], '\\n')\n",
    "\n",
    "del cm['host']\n",
    "print('같은 key 중 하나를 삭제하면 초기 default_dic이 나옵니다: ', cm['host'], cm['port'], cm['user'], cm['pwd'], '\\n')\n",
    "\n",
    "\n",
    "try:\n",
    "    del cm['host']\n",
    "except:\n",
    "    print('default_dic의 값은 삭제할 수 없습니다: ', cm['host'], cm['port'], cm['user'], cm['pwd'], '\\n')\n",
    "\n",
    "cm = cm.new_child()\n",
    "cm['host'] = '999.999.999.999'\n",
    "print('이렇게 새 노드를 추가할 수 있습니다: ', cm['host'], cm['port'], cm['user'], cm['pwd'], '\\n')\n",
    "\n",
    "cm = cm.parents\n",
    "print('이렇게 마지막으로 추가한 노드를 삭제할 수 있습니다: ', cm['host'], cm['port'], cm['user'], cm['pwd'], '\\n')\n",
    "\n",
    "default_dic['pwd'] = '136128376187'\n",
    "print('재료가 되었던 dict를 mutate시켜도 그대로 반영됩니다: ', cm['host'], cm['port'], cm['user'], cm['pwd'])"
   ]
  },
  {
   "cell_type": "markdown",
   "metadata": {},
   "source": [
    "## 2.4 스트링에서 부분 스트링 찾기\n",
    "* 요약 - str.find(), str.endswith(), str.startswith(),\n",
    "* 정규표현식 모듈 re를 사용한다(다음 함수 정도만 외워도 될 듯)\n",
    " * re.compile(정규표현식).findall(검색_대상_스트링)"
   ]
  },
  {
   "cell_type": "code",
   "execution_count": 12,
   "metadata": {},
   "outputs": [
    {
     "name": "stdout",
     "output_type": "stream",
     "text": [
      "10\n",
      "True\n",
      "True\n"
     ]
    }
   ],
   "source": [
    "text = 'my people hello hello, hello hello, my name is real slow'\n",
    "print(text.find('hello')) # 처음 등장하는 string위치를 반환(당연히 0부터 시작)\n",
    "print(text.startswith('my'))\n",
    "print(text.endswith('slow'))\n"
   ]
  },
  {
   "cell_type": "code",
   "execution_count": 13,
   "metadata": {},
   "outputs": [
    {
     "name": "stdout",
     "output_type": "stream",
     "text": [
      "부분스트링이 존재하면:  <_sre.SRE_Match object; span=(0, 10), match='11/27/2012'> \n",
      "match 객체에서 부분스트링을 뽑아내보면:  11/27/2012 \n",
      "존재하지 않으면:  None\n",
      "match()는 string 처음부터 등장하는 부분스트링을 찾을 수 있습니다:  None \n",
      "findall()로는 중간에 등장하는 부분스트링도 찾을 수 있습니다 ['11/27/2012', '3/13/2013']\n"
     ]
    }
   ],
   "source": [
    "text1 = '11/27/2012'\n",
    "text2 = 'Nov 27, 2012'\n",
    "\n",
    "import re\n",
    "pattern = re.compile(r'\\d+/\\d+/\\d+')    # 정규표현식은 그때그때 찾아 쓰면 될 듯 합니다. 프론트엔드 개발자분들은 저보다 잘 아실듯\n",
    "print(\n",
    "    '부분스트링이 존재하면: ', pattern.match(text1), '\\n'\n",
    "    'match 객체에서 부분스트링을 뽑아내보면: ', pattern.match(text1).group(), '\\n'\n",
    "    '존재하지 않으면: ', pattern.match(text2)\n",
    ")\n",
    "\n",
    "text3 = 'Today is 11/27/2012. PyCon starts 3/13/2013.'    \n",
    "print(\n",
    "    'match()는 string 처음부터 등장하는 부분스트링을 찾을 수 있습니다: ', pattern.match(text3), '\\n'\n",
    "    'findall()로는 중간에 등장하는 부분스트링도 찾을 수 있습니다', pattern.findall(text3) # 아마 이 패턴이 가장 자주 쓰일 듯 합니다\n",
    ")"
   ]
  },
  {
   "cell_type": "markdown",
   "metadata": {},
   "source": [
    "## 2.8 개행문자를 사이에 두고 정규표현식 적용하기\n",
    "* 요약 - re.DOTALL 플래그를 사용한다\n",
    "* 2.7 단원에서 소개한 (.\\*?) 의 ?는 (.\\*)를 non-greedy하게 해주는 역할이었다\n",
    "* (?:.|\\n)\\*? 를 사용하는 방법도 있다"
   ]
  },
  {
   "cell_type": "code",
   "execution_count": 14,
   "metadata": {},
   "outputs": [
    {
     "name": "stdout",
     "output_type": "stream",
     "text": [
      "[]\n",
      "[' this is a\\n        multiline comment ']\n",
      "[' this is a\\n        multiline comment ']\n"
     ]
    }
   ],
   "source": [
    "text1 = '/* this is a comment */'\n",
    "text2 = '''\n",
    "        /* this is a\n",
    "        multiline comment */\n",
    "        '''\n",
    "import re\n",
    "\n",
    "# 이제 여기서 /*와 */ 사이에 있는 부분스트링을 뽑아내려고 한다 치자\n",
    "comment1 = re.compile(r'/\\*(.*?)\\*/').findall(text2)\n",
    "comment2 = re.compile(r'/\\*(.*?)\\*/', re.DOTALL).findall(text2)\n",
    "comment3 = re.compile(r'/\\*((?:.|\\n)*?)\\*/').findall(text2)\n",
    "print(comment1)\n",
    "print(comment2)\n",
    "print(comment3)"
   ]
  },
  {
   "cell_type": "markdown",
   "metadata": {},
   "source": [
    "## 2.12 텍스트 클리닝\n",
    "* 요약: unicodefata.normalize()를 이해한다\n",
    "* 참고: [unicodedata.normalize()에 대한 레퍼런스](https://docs.python.org/2/library/unicodedata.html#unicodedata.normalize), \n",
    "[unicodedata.combining()에 대한 레퍼런스](https://docs.python.org/2/library/unicodedata.html#unicodedata.combining)\n",
    "* 자세히 이야기하기 시작하면 문자인코딩과 유니코드에 대해 굉장히 장황해지게 되므로 정말로 필요한 부분만 설명하도록 하겠습니다\n",
    "* 효율적인 학습을 위해 이해에 필요한 수준만의 공부를 전제로 한 설명이기에 오류가 있을 수 있음을 미리 양해 부탁드립니다\n",
    "\n",
    " 1. 많이들 아시는 아스키코드는 0~127까지의 정수로 알파벳과 몇몇 특수문자들을 인코딩합니다\n",
    " 2. 여기서 한 발 더 나아가, 유니코드는 0~65535까지의 정수로 문자를 인코딩합니다. 아스키코드와는 달리 단순 정수의 나열이 아닌, 정수의 조합으로 다른 문자를 만들어내는 시스템입니다. 계속 읽어보시면 이게 무슨 말씀인지 어느 정도 이해가 될 듯 합니다.\n",
    " 3. 유니코드의 0~127번까지는 아스키코드와 완전히 일치하는 문자들이 배정되어있습니다.\n",
    " 4. 아래 예제에 주어질 스페인어와 같은 경우, composition된 문자로 문자본체(h)와 hat같은(^)문자로 합쳐져 만들어질 수 있습니다. ㅕunicode.normalize()는 이런 ĥ를 h와 ^로 나누는 작업을 해줍니다.\n",
    " 5. 2에서 설명했듯이 ĥ의 유니코드 정수는 U+00C7인데 h와 ^는 각각 U+0043와 U+0327이 됩니다. 이렇게 유니코드는 같은 문자를 여러 가지 조합(시퀀스)으로 다르게 표현할 수 있습니다.\n",
    " 6. unicode.combining()은 5의 ^와 같은 꾸미는 문자(combining character)들을 유니코드 정수로 반환합니다. 정식 문자는 0으로 반환합니다."
   ]
  },
  {
   "cell_type": "code",
   "execution_count": 15,
   "metadata": {},
   "outputs": [
    {
     "name": "stdout",
     "output_type": "stream",
     "text": [
      "pýtĥöñ -> pýtĥöñ -> python\n",
      "python\n"
     ]
    }
   ],
   "source": [
    "origin = 'pýtĥöñ' # 어떤 깜찍이가 이런 문자로 게임 아이디를 만들었다 칩시다. 여러분은 이제 이걸 정규 문자로 바꾸려 합니다.\n",
    "\n",
    "import unicodedata, sys\n",
    "compositions = dict.fromkeys(c for c in range(sys.maxunicode) if unicodedata.combining(chr(c)))\n",
    "# 참고로 dict.fromkeys(k,v) 에서 v의 기본값은 None 입니다.\n",
    "# sys.maxunicode는 단순히 65535로 알아두시면 이해에 무리가 없습니다.\n",
    "# chr()는 아스키코드를 문자로 변환하는 기능이라 알고있었는데, 여기 쓰이는 걸 보니 유니코드도 가능한 것 같네요.\n",
    "\n",
    "precleaned = unicodedata.normalize('NFD', origin)\n",
    "# 5에서 설명했듯이 pýtĥöñ의 composition 문자를 나눴습니다. NFD는 나누는 프로토콜 같은 건데 신경 쓰지 않으셔도 될 듯 합니다.\n",
    "\n",
    "cleaned = precleaned.translate(compositions)\n",
    "# composition은 정식 문자를 제외한 나머지 꾸미는 문자를 모두 0으로 매핑하는 dict입니다.\n",
    "\n",
    "print(origin, '->', precleaned,'->', cleaned)\n",
    "\n",
    "#편하게 다음과 같이 가는 방법도 있습니다.\n",
    "cleaned = precleaned.encode('ascii', 'ignore').decode('ascii')\n",
    "print(cleaned)"
   ]
  },
  {
   "cell_type": "markdown",
   "metadata": {},
   "source": [
    "## 2.16 긴 스트링을 적당한 간격으로 개행 출력하고 싶다\n",
    "* 요약 - textwrap.fill()을 이용한다"
   ]
  },
  {
   "cell_type": "code",
   "execution_count": 16,
   "metadata": {},
   "outputs": [
    {
     "name": "stdout",
     "output_type": "stream",
     "text": [
      "Look into my eyes, look into my eyes, the eyes, the eyes, the eyes,\n",
      "not around the eyes, don't look around the eyes, look into my eyes,\n",
      "you're under.\n",
      "Look into my eyes, look into my eyes, the eyes,\n",
      "the eyes, the eyes, not around the eyes, don't\n",
      "look around the eyes, look into my eyes, you're\n",
      "under.\n",
      "    Look into my eyes, look into my eyes, the\n",
      "eyes, the eyes, the eyes, not around the eyes,\n",
      "don't look around the eyes, look into my eyes,\n",
      "you're under.\n"
     ]
    }
   ],
   "source": [
    "s = \"Look into my eyes, look into my eyes, the eyes, the eyes, the eyes, not around the eyes, don't look around the eyes, look into my eyes, you're under.\"\n",
    "\n",
    "from textwrap import fill\n",
    "\n",
    "print(fill(s, 70))\n",
    "print(fill(s, 50))\n",
    "print(fill(s, 50, initial_indent='    '))"
   ]
  },
  {
   "cell_type": "markdown",
   "metadata": {},
   "source": [
    "## 2.20 byte string에 스트링 연산 적용하기\n",
    "* 요약 - byte string은 그냥 쓰지 마라!\n",
    "* 스트링 연산의 대부분은 바이트스트링에도 그대로 적용된다\n",
    "* 하지만 프로그램의 효율성을 높이는 효과는 미미한 반면 가독성을 심각하게 떨어뜨리므로 자제하자"
   ]
  },
  {
   "cell_type": "code",
   "execution_count": null,
   "metadata": {},
   "outputs": [],
   "source": []
  },
  {
   "cell_type": "code",
   "execution_count": null,
   "metadata": {},
   "outputs": [],
   "source": []
  }
 ],
 "metadata": {
  "kernelspec": {
   "display_name": "Python 3",
   "language": "python",
   "name": "python3"
  },
  "language_info": {
   "codemirror_mode": {
    "name": "ipython",
    "version": 3
   },
   "file_extension": ".py",
   "mimetype": "text/x-python",
   "name": "python",
   "nbconvert_exporter": "python",
   "pygments_lexer": "ipython3",
   "version": "3.6.4"
  }
 },
 "nbformat": 4,
 "nbformat_minor": 2
}
