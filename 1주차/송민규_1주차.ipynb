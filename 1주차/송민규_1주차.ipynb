{
 "cells": [
  {
   "cell_type": "markdown",
   "metadata": {},
   "source": [
    "# 발표 소단원 리스트"
   ]
  },
  {
   "cell_type": "markdown",
   "metadata": {},
   "source": [
    "(1, 4)\n",
    "(1, 8)\n",
    "(1, 12)\n",
    "(1, 16)\n",
    "(1, 20)\n",
    "(2, 4)\n",
    "(2, 8)\n",
    "(2, 12)\n",
    "(2, 16)"
   ]
  },
  {
   "cell_type": "markdown",
   "metadata": {},
   "source": [
    "# 전체 요약자료"
   ]
  },
  {
   "cell_type": "markdown",
   "metadata": {},
   "source": [
    "- 급하면 최소한 이거라도 보고 오시라고!!\n",
    "- 전체 내용에 대한 문항별 요약도 좋고, 자기 나름대로의 요약도 좋습니다!!\n",
    "- \n"
   ]
  },
  {
   "cell_type": "markdown",
   "metadata": {},
   "source": [
    "# 문항별 자료 \n",
    "- 좀 더 자세한 내용 요약\n",
    "- 작성한 코드 "
   ]
  },
  {
   "cell_type": "markdown",
   "metadata": {},
   "source": [
    "## 1.4 N아이템의 최대 혹은 최소 찾기\n",
    "\n",
    "* 컨테이너 안에서 최대 혹은 최소 N 아이템을 search  \n",
    "* 요약 - heapq.nlargest(int, some_list)와 heapq.nsmallest(int, some_list)를 사용\n",
    "* 심화 - heapq.nlargest(int, some_container, key=func_that_gets_contatiner_as_param)"
   ]
  },
  {
   "cell_type": "code",
   "execution_count": 19,
   "metadata": {},
   "outputs": [
    {
     "name": "stdout",
     "output_type": "stream",
     "text": [
      "위 리스트에서 중복을 포함하여 가장 큰 5개의 숫자 리스트는 [78, 45, 9, 6, 5] 이고, 가장 작은 5개의 숫자 리스트는 [1, 1, 2, 3, 3] 입니다\n"
     ]
    }
   ],
   "source": [
    "import heapq\n",
    "\n",
    "unsorted_list = [3,6,5,1,45,78,2,1,5,3,9]\n",
    "\n",
    "print(\n",
    "    '위 리스트에서 중복을 포함하여 가장 큰 5개의 숫자 리스트는 {} 이고, \\\n",
    "가장 작은 5개의 숫자 리스트는 {} 입니다'.format(heapq.nlargest(5, unsorted_list), heapq.nsmallest(5, unsorted_list))\n",
    ")"
   ]
  },
  {
   "cell_type": "markdown",
   "metadata": {},
   "source": [
    "#### 보충 설명"
   ]
  },
  {
   "cell_type": "markdown",
   "metadata": {},
   "source": [
    "* 다음과 같이 키워드 컨테이너에 대해 활용도 가능합니다\n",
    "* key=function 파라미터를 이용한 일종의 고위함수 매퍼입니다\n",
    "* heapq.nlargest(int, container, key=function)"
   ]
  },
  {
   "cell_type": "code",
   "execution_count": 20,
   "metadata": {},
   "outputs": [
    {
     "name": "stdout",
     "output_type": "stream",
     "text": [
      "[{'startDate': 20191130, 'endDate': 20191130, 'programName': '사랑과 희망의 하모니', 'placeName': '예술의전당 콘서트홀', 'priceInfo': '', 'hyperLink': 'http://www.sac.or.kr/SacHome/perform/detail?searchSeq=37419'}, {'startDate': 20191129, 'endDate': 20191129, 'programName': '안네 소피 무터 베토벤 250주년 페스티벌 리사이틀', 'placeName': '예술의전당 콘서트홀', 'priceInfo': '', 'hyperLink': 'http://www.sac.or.kr/SacHome/perform/detail?searchSeq=37401'}, {'startDate': 20191128, 'endDate': 20191128, 'programName': 'KBS교향악단 제748회 정기연주회', 'placeName': '예술의전당 콘서트홀', 'priceInfo': 'R석 9만원 / S석 7만원 / A석 5만원 / B석 3만원 / C석 1만원', 'hyperLink': 'http://www.sac.or.kr/SacHome/perform/detail?searchSeq=37355'}]\n"
     ]
    }
   ],
   "source": [
    "container = [{\"startDate\": 20191101, \"endDate\": 20191101, \"programName\": \"2019 \\ube48 \\ud544\\ud558\\ubaa8\\ub2c9 \\uc624\\ucf00\\uc2a4\\ud2b8\\ub77c \\ub0b4\\ud55c\\uacf5\\uc5f0\", \"placeName\": \"\\uc608\\uc220\\uc758\\uc804\\ub2f9 \\ucf58\\uc11c\\ud2b8\\ud640\", \"priceInfo\": \"\", \"hyperLink\": \"http://www.sac.or.kr/SacHome/perform/detail?searchSeq=35789\"}, {\"startDate\": 20191103, \"endDate\": 20191103, \"programName\": \"2019 \\uc608\\uc220\\uc758\\uc804\\ub2f9 \\ub300\\ud559\\uc624\\ucf00\\uc2a4\\ud2b8\\ub77c\\ucd95\\uc81c\", \"placeName\": \"\\uc608\\uc220\\uc758\\uc804\\ub2f9 \\ucf58\\uc11c\\ud2b8\\ud640\", \"priceInfo\": \"\", \"hyperLink\": \"http://www.sac.or.kr/SacHome/perform/detail?searchSeq=35391\"}, {\"startDate\": 20191105, \"endDate\": 20191105, \"programName\": \"2019 \\uc608\\uc220\\uc758\\uc804\\ub2f9 \\ub300\\ud559\\uc624\\ucf00\\uc2a4\\ud2b8\\ub77c\\ucd95\\uc81c\", \"placeName\": \"\\uc608\\uc220\\uc758\\uc804\\ub2f9 \\ucf58\\uc11c\\ud2b8\\ud640\", \"priceInfo\": \"\", \"hyperLink\": \"http://www.sac.or.kr/SacHome/perform/detail?searchSeq=35393\"}, {\"startDate\": 20191106, \"endDate\": 20191106, \"programName\": \"2019 \\uc608\\uc220\\uc758\\uc804\\ub2f9 \\ub300\\ud559\\uc624\\ucf00\\uc2a4\\ud2b8\\ub77c\\ucd95\\uc81c\", \"placeName\": \"\\uc608\\uc220\\uc758\\uc804\\ub2f9 \\ucf58\\uc11c\\ud2b8\\ud640\", \"priceInfo\": \"\", \"hyperLink\": \"http://www.sac.or.kr/SacHome/perform/detail?searchSeq=35395\"}, {\"startDate\": 20191107, \"endDate\": 20191107, \"programName\": \"2019 \\uc608\\uc220\\uc758\\uc804\\ub2f9 \\ub300\\ud559\\uc624\\ucf00\\uc2a4\\ud2b8\\ub77c\\ucd95\\uc81c\", \"placeName\": \"\\uc608\\uc220\\uc758\\uc804\\ub2f9 \\ucf58\\uc11c\\ud2b8\\ud640\", \"priceInfo\": \"\", \"hyperLink\": \"http://www.sac.or.kr/SacHome/perform/detail?searchSeq=35397\"}, {\"startDate\": 20191108, \"endDate\": 20191108, \"programName\": \"2019 \\uc608\\uc220\\uc758\\uc804\\ub2f9 \\ub300\\ud559\\uc624\\ucf00\\uc2a4\\ud2b8\\ub77c\\ucd95\\uc81c\", \"placeName\": \"\\uc608\\uc220\\uc758\\uc804\\ub2f9 \\ucf58\\uc11c\\ud2b8\\ud640\", \"priceInfo\": \"\", \"hyperLink\": \"http://www.sac.or.kr/SacHome/perform/detail?searchSeq=35399\"}, {\"startDate\": 20191109, \"endDate\": 20191109, \"programName\": \"\\ud544\\ub77c\\ub378\\ud53c\\uc544 \\uc624\\ucf00\\uc2a4\\ud2b8\\ub77c\", \"placeName\": \"\\uc608\\uc220\\uc758\\uc804\\ub2f9 \\ucf58\\uc11c\\ud2b8\\ud640\", \"priceInfo\": \"\", \"hyperLink\": \"http://www.sac.or.kr/SacHome/perform/detail?searchSeq=35791\"}, {\"startDate\": 20191110, \"endDate\": 20191110, \"programName\": \"\\ud544\\ub77c\\ub378\\ud53c\\uc544 \\uc624\\ucf00\\uc2a4\\ud2b8\\ub77c\", \"placeName\": \"\\uc608\\uc220\\uc758\\uc804\\ub2f9 \\ucf58\\uc11c\\ud2b8\\ud640\", \"priceInfo\": \"\", \"hyperLink\": \"http://www.sac.or.kr/SacHome/perform/detail?searchSeq=35785\"}, {\"startDate\": 20191112, \"endDate\": 20191112, \"programName\": \"\\uc548\\ub4dc\\ub77c\\uc2a4 \\uc26c\\ud504 & \\uce74\\ud3a0\\ub77c \\uc548\\ub4dc\\ub808\\uc544 \\ubc14\\ub974\\uce74 \\uc624\\ucf00\\uc2a4\\ud2b8\\ub77c\", \"placeName\": \"\\uc608\\uc220\\uc758\\uc804\\ub2f9 \\ucf58\\uc11c\\ud2b8\\ud640\", \"priceInfo\": \"\", \"hyperLink\": \"http://www.sac.or.kr/SacHome/perform/detail?searchSeq=37329\"}, {\"startDate\": 20191113, \"endDate\": 20191113, \"programName\": \"\\uc7a5\\ud55c\\ub098 & \\ud2b8\\ub860\\ud558\\uc784 \\uc2ec\\ud3ec\\ub2c8 \\uc624\\ucf00\\uc2a4\\ud2b8\\ub77c (13\\uc77c)\", \"placeName\": \"\\uc608\\uc220\\uc758\\uc804\\ub2f9 \\ucf58\\uc11c\\ud2b8\\ud640\", \"priceInfo\": \"\", \"hyperLink\": \"http://www.sac.or.kr/SacHome/perform/detail?searchSeq=35751\"}, {\"startDate\": 20191114, \"endDate\": 20191114, \"programName\": \"\\ud55c\\ud654\\uc0dd\\uba85\\uacfc \\ud568\\uaed8\\ud558\\ub294 \\uc608\\uc220\\uc758\\uc804\\ub2f9 11\\uc2dc\\ucf58\\uc11c\\ud2b8(11\\uc6d4)\", \"placeName\": \"\\uc608\\uc220\\uc758\\uc804\\ub2f9 \\ucf58\\uc11c\\ud2b8\\ud640\", \"priceInfo\": \"\\uc77c\\ubc18\\uc11d 2\\ub9cc5\\ucc9c\\uc6d0 / 3\\uce35\\uc11d 1\\ub9cc5\\ucc9c\\uc6d0\", \"hyperLink\": \"http://www.sac.or.kr/SacHome/perform/detail?searchSeq=35361\"}, {\"startDate\": 20191115, \"endDate\": 20191115, \"programName\": \"\\uc81c11\\ud68c ARKO\\ud55c\\uad6d\\ucc3d\\uc791\\uc74c\\uc545\\uc81c(\\uad6d\\uc545\\ubd80\\ubb38)\", \"placeName\": \"\\uc608\\uc220\\uc758\\uc804\\ub2f9 \\ucf58\\uc11c\\ud2b8\\ud640\", \"priceInfo\": \"\", \"hyperLink\": \"http://www.sac.or.kr/SacHome/perform/detail?searchSeq=35775\"}, {\"startDate\": 20191116, \"endDate\": 20191116, \"programName\": \"\\uc2e0\\uc138\\uacc4\\uc640 \\ud568\\uaed8\\ud558\\ub294 2019 \\uc608\\uc220\\uc758\\uc804\\ub2f9 \\ud1a0\\uc694\\ucf58\\uc11c\\ud2b8-11\\uc6d4\", \"placeName\": \"\\uc608\\uc220\\uc758\\uc804\\ub2f9 \\ucf58\\uc11c\\ud2b8\\ud640\", \"priceInfo\": \"S\\uc11d 2\\ub9cc5\\ucc9c\\uc6d0 / A\\uc11d 2\\ub9cc\\uc6d0\", \"hyperLink\": \"http://www.sac.or.kr/SacHome/perform/detail?searchSeq=35383\"}, {\"startDate\": 20191117, \"endDate\": 20191117, \"programName\": \"\\ub77c\\ud30c\\uc6b0 \\ube14\\ub808\\ud558\\uce20 \\ud53c\\uc544\\ub178 \\ub9ac\\uc0ac\\uc774\\ud2c0\", \"placeName\": \"\\uc608\\uc220\\uc758\\uc804\\ub2f9 \\ucf58\\uc11c\\ud2b8\\ud640\", \"priceInfo\": \"\", \"hyperLink\": \"http://www.sac.or.kr/SacHome/perform/detail?searchSeq=37327\"}, {\"startDate\": 20191119, \"endDate\": 20191119, \"programName\": \"\\uc5d0\\uc2a4\\ud1a0\\ub2c8\\uc548 \\ud544\\ud558\\ubaa8\\ub2c9 \\ucc54\\ubc84 \\ucf70\\uc774\\uc5b4 \\ub0b4\\ud55c\\uacf5\\uc5f0\", \"placeName\": \"\\uc608\\uc220\\uc758\\uc804\\ub2f9 \\ucf58\\uc11c\\ud2b8\\ud640\", \"priceInfo\": \"\", \"hyperLink\": \"http://www.sac.or.kr/SacHome/perform/detail?searchSeq=37325\"}, {\"startDate\": 20191120, \"endDate\": 20191120, \"programName\": \"KCO Lakatosi \\ucd08\\uccad \\ud2b9\\ubcc4\\uc815\\uae30\\uc5f0\\uc8fc\\ud68c\", \"placeName\": \"\\uc608\\uc220\\uc758\\uc804\\ub2f9 \\ucf58\\uc11c\\ud2b8\\ud640\", \"priceInfo\": \"\", \"hyperLink\": \"http://www.sac.or.kr/SacHome/perform/detail?searchSeq=37381\"}, {\"startDate\": 20191121, \"endDate\": 20191121, \"programName\": \"\\uac15\\ub0a8\\uad50\\ud5a5\\uc545\\ub2e8 \\uc81c 82\\ud68c \\uc815\\uae30\\uc5f0\\uc8fc\\ud68c\", \"placeName\": \"\\uc608\\uc220\\uc758\\uc804\\ub2f9 \\ucf58\\uc11c\\ud2b8\\ud640\", \"priceInfo\": \"\", \"hyperLink\": \"http://www.sac.or.kr/SacHome/perform/detail?searchSeq=37345\"}, {\"startDate\": 20191122, \"endDate\": 20191122, \"programName\": \"KBS\\uad50\\ud5a5\\uc545\\ub2e8 \\uc81c748\\ud68c \\uc815\\uae30\\uc5f0\\uc8fc\\ud68c(2019\\ub144 11\\uc6d4)\", \"placeName\": \"\\uc608\\uc220\\uc758\\uc804\\ub2f9 \\ucf58\\uc11c\\ud2b8\\ud640\", \"priceInfo\": \"\", \"hyperLink\": \"http://www.sac.or.kr/SacHome/perform/detail?searchSeq=35815\"}, {\"startDate\": 20191123, \"endDate\": 20191123, \"programName\": \"\\ub2e4\\ub2c8\\uc5d8 \\ud558\\ub9ac\\ud1a0\\ub178\\ud504 \\ud53c\\uc544\\ub178 \\ub9ac\\uc0ac\\uc774\\ud2c0\", \"placeName\": \"\\uc608\\uc220\\uc758\\uc804\\ub2f9 \\ucf58\\uc11c\\ud2b8\\ud640\", \"priceInfo\": \"\", \"hyperLink\": \"http://www.sac.or.kr/SacHome/perform/detail?searchSeq=37409\"}, {\"startDate\": 20191126, \"endDate\": 20191126, \"programName\": \"\\uad6d\\ub9bd\\ud569\\ucc3d\\ub2e8 \\uc81c180\\ud68c \\uc815\\uae30\\uc5f0\\uc8fc\\ud68c<\\ud578\\ub378\\uc758 \\uba54\\uc2dc\\uc544>\", \"placeName\": \"\\uc608\\uc220\\uc758\\uc804\\ub2f9 \\ucf58\\uc11c\\ud2b8\\ud640\", \"priceInfo\": \"\", \"hyperLink\": \"http://www.sac.or.kr/SacHome/perform/detail?searchSeq=38527\"}, {\"startDate\": 20191127, \"endDate\": 20191127, \"programName\": \"\\ud6c4\\uc548 \\ub514\\uc5d0\\uace0 \\ud50c\\ub85c\\ub808\\uc988 \\ucf58\\uc11c\\ud2b8\", \"placeName\": \"\\uc608\\uc220\\uc758\\uc804\\ub2f9 \\ucf58\\uc11c\\ud2b8\\ud640\", \"priceInfo\": \"\", \"hyperLink\": \"http://www.sac.or.kr/SacHome/perform/detail?searchSeq=39268\"}, {\"startDate\": 20191128, \"endDate\": 20191128, \"programName\": \"KBS\\uad50\\ud5a5\\uc545\\ub2e8 \\uc81c748\\ud68c \\uc815\\uae30\\uc5f0\\uc8fc\\ud68c\", \"placeName\": \"\\uc608\\uc220\\uc758\\uc804\\ub2f9 \\ucf58\\uc11c\\ud2b8\\ud640\", \"priceInfo\": \"R\\uc11d 9\\ub9cc\\uc6d0 / S\\uc11d 7\\ub9cc\\uc6d0 / A\\uc11d 5\\ub9cc\\uc6d0 / B\\uc11d 3\\ub9cc\\uc6d0 / C\\uc11d 1\\ub9cc\\uc6d0\", \"hyperLink\": \"http://www.sac.or.kr/SacHome/perform/detail?searchSeq=37355\"}, {\"startDate\": 20191129, \"endDate\": 20191129, \"programName\": \"\\uc548\\ub124 \\uc18c\\ud53c \\ubb34\\ud130 \\ubca0\\ud1a0\\ubca4 250\\uc8fc\\ub144 \\ud398\\uc2a4\\ud2f0\\ubc8c \\ub9ac\\uc0ac\\uc774\\ud2c0\", \"placeName\": \"\\uc608\\uc220\\uc758\\uc804\\ub2f9 \\ucf58\\uc11c\\ud2b8\\ud640\", \"priceInfo\": \"\", \"hyperLink\": \"http://www.sac.or.kr/SacHome/perform/detail?searchSeq=37401\"}, {\"startDate\": 20191130, \"endDate\": 20191130, \"programName\": \"\\uc0ac\\ub791\\uacfc \\ud76c\\ub9dd\\uc758 \\ud558\\ubaa8\\ub2c8\", \"placeName\": \"\\uc608\\uc220\\uc758\\uc804\\ub2f9 \\ucf58\\uc11c\\ud2b8\\ud640\", \"priceInfo\": \"\", \"hyperLink\": \"http://www.sac.or.kr/SacHome/perform/detail?searchSeq=37419\"}]\n",
    "# json 형태로 세종문화회관 공연리스트를 크롤한 결과입니다\n",
    "\n",
    "print(\n",
    "    heapq.nlargest(3, container, key=lambda x: x['startDate'] )\n",
    ")"
   ]
  },
  {
   "cell_type": "markdown",
   "metadata": {},
   "source": [
    "#### 몰라도 되는 부분"
   ]
  },
  {
   "cell_type": "markdown",
   "metadata": {},
   "source": [
    "* heapq.nlargest()와 heapq.nsmallest()는 힙 자료구조를 사용합니다. \n",
    "* heapq.heapify(list)를 이용해 시간복잡도 O(N)으로 주어진 컨테이너를 힙 리스트로 바꿀 수 있습니다.\n",
    " * 위의 O(N)을 보고 읭 머지 O(NlogN)아니냐 하는 분도 계실 수 있겠지만 정밀하게 계산해보면 그렇지 않다고 합니다.\n",
    " * 수학적 증명링크를 첨부합니다만 [보지 마세요](https://www.geeksforgeeks.org/time-complexity-of-building-a-heap/)\n",
    "* heapq.heappop(heap)을 k번 이용해 시간복잡도 O(klogN)으로 k번째 큰(작은) 원소를 검색할 수 있습니다.\n",
    "* 따라서 위의 k가 클 때에는 O(NlogN)이 되므로 sorted() 정렬을 사용한다고 합니다만 그냥 눈에 바르고 넘기세요 노중요"
   ]
  },
  {
   "cell_type": "markdown",
   "metadata": {},
   "source": [
    "## 1.8 딕셔너리 계산\n",
    "* 딕셔너리의 key 말고 value에 대해서 최대, 최소값 계산, 정렬을 수행하고 싶다\n",
    "* 요약 - zip()을 애용한다"
   ]
  },
  {
   "cell_type": "code",
   "execution_count": 1,
   "metadata": {},
   "outputs": [
    {
     "name": "stdout",
     "output_type": "stream",
     "text": [
      "(235.137, 'asd') (13465, 'bdfiv') [(235.137, 'asd'), (8943, 'fas'), (12098.4397, 'sdfw'), (13465, 'bdfiv')]\n"
     ]
    }
   ],
   "source": [
    "prices = {\n",
    "    'asd':235.137,\n",
    "    'sdfw':12098.4397,\n",
    "    'fas':8943,\n",
    "    'bdfiv':13465\n",
    "}\n",
    "\n",
    "min_price = min(zip(prices.values(), prices.keys()))\n",
    "max_price = max(zip(prices.values(), prices.keys()))\n",
    "sorted_price = sorted(zip(prices.values(), prices.keys()))\n",
    "\n",
    "print(min_price, max_price, sorted_price)"
   ]
  },
  {
   "cell_type": "markdown",
   "metadata": {},
   "source": [
    "#### 보충 설명\n",
    "* zip()을 사용하지 않으면 아래와 같은 지저분한 코드 대참사가 일어난다\n",
    "* 대참사는 잊어버리고 zip()으로 키-값을 뒤집어줘야 깨끗해진다는 것만 외워두고 넘어가자"
   ]
  },
  {
   "cell_type": "code",
   "execution_count": 3,
   "metadata": {},
   "outputs": [
    {
     "name": "stdout",
     "output_type": "stream",
     "text": [
      "(235.137, 'asd')\n"
     ]
    }
   ],
   "source": [
    "# 위의 블록과 같은 값을 출력하려면 이러한 짓을 해야 한다\n",
    "k = min(prices, key=lambda x: prices[x])\n",
    "v = prices[k]\n",
    "print((v, k))"
   ]
  },
  {
   "cell_type": "markdown",
   "metadata": {},
   "source": [
    "#### 몰라도 되는 부분\n",
    "* zip()은 일종의 제너레이터이다.\n",
    "* zip()의 반환값이 리스트 같은 컨테이너가 아님에 주의하자.\n",
    " * 물론 list(zip())으로 편하게 사용할 수도 있겠다.\n",
    "* 아마 다음과 같은 구조를 통해 아이터레이터가 이용될 것 같다. 대충 눈에 발라두고 잊어버리자.\n"
   ]
  },
  {
   "cell_type": "code",
   "execution_count": 5,
   "metadata": {},
   "outputs": [],
   "source": [
    "def zip_in_brain(*containers):\n",
    "    c1, c2, *_ = containers\n",
    "    yield next(iter(c1)), next(iter(c2))"
   ]
  },
  {
   "cell_type": "markdown",
   "metadata": {},
   "source": [
    "#### 더 몰라도 되는 부분\n",
    "* 제너레이터와 아이터레이터 개념은 추후에 책에 다시 나올 듯 하다. 간단하게 요약해보면 다음과 같다.\n",
    " * yield 키워드를 return 대신 사용하는 모든 콜러블을 제너레이터라고 한다\n",
    " * 제너레이터는 특수한 형태의 아이터러블(iterable)이다.\n",
    " * 일반적인 아이터러블과는 달리, 제너레이터는 next()를 시행하기 전까지 그 아이터레이터를 먼저 저장해놓지 않는다\n",
    "  * 따라서, 전체 아이터레이팅 범위와 무관하게 메모리 상 크기가 일정하다. 무빙 윈도우처럼 생각하면 적절할 듯.\n",
    "  * 그에 따라 스트리밍 등 무한한 아이터레이팅도 가능하다"
   ]
  },
  {
   "cell_type": "code",
   "execution_count": 11,
   "metadata": {},
   "outputs": [
    {
     "name": "stdout",
     "output_type": "stream",
     "text": [
      "100 48\n",
      "0 1 2\n"
     ]
    }
   ],
   "source": [
    "import sys\n",
    "\n",
    "container = [x for x in range(10)]   # 단순 리스트\n",
    "generator = (x for x in range(10))   # 제너레이터 comprehension, 즉 next()를 통해 아이터레이터를 반환한다\n",
    "\n",
    "print(\n",
    "sys.getsizeof(container),\n",
    "sys.getsizeof(generator)\n",
    ")\n",
    "\n",
    "print(\n",
    "next(generator), next(generator), next(generator)\n",
    ")"
   ]
  },
  {
   "cell_type": "code",
   "execution_count": null,
   "metadata": {},
   "outputs": [],
   "source": []
  }
 ],
 "metadata": {
  "kernelspec": {
   "display_name": "Python 3",
   "language": "python",
   "name": "python3"
  },
  "language_info": {
   "codemirror_mode": {
    "name": "ipython",
    "version": 3
   },
   "file_extension": ".py",
   "mimetype": "text/x-python",
   "name": "python",
   "nbconvert_exporter": "python",
   "pygments_lexer": "ipython3",
   "version": "3.6.4"
  }
 },
 "nbformat": 4,
 "nbformat_minor": 2
}
