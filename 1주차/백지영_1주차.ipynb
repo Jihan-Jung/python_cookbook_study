{
 "cells": [
  {
   "cell_type": "markdown",
   "metadata": {},
   "source": [
    "# 발표 소단원 리스트"
   ]
  },
  {
   "cell_type": "markdown",
   "metadata": {},
   "source": [
    "1-1,1-5,1-9,1-13,1-17,2-1,2-5,2-9,2-13"
   ]
  },
  {
   "cell_type": "markdown",
   "metadata": {},
   "source": [
    "# 전체 요약자료"
   ]
  },
  {
   "cell_type": "markdown",
   "metadata": {},
   "source": [
    "- 급하면 최소한 이거라도 보고 오시라고!!\n",
    "- 전체 내용에 대한 문항별 요약도 좋고, 자기 나름대로의 요약도 좋습니다!!\n",
    "- \n"
   ]
  },
  {
   "cell_type": "markdown",
   "metadata": {},
   "source": [
    "# 문항별 자료 "
   ]
  },
  {
   "cell_type": "markdown",
   "metadata": {},
   "source": [
    "## 1.1 시퀀스를 개별 변수로 나누기\n",
    "- N개의 요소를 가진 튜플이나 시퀀스르 변수 N개로 나누기\n",
    "- 요소 개수가 일치해야함 + 모둔 순환 가능한 객채에 적용 가능 (ex. string, file, iterator, generator)"
   ]
  },
  {
   "cell_type": "code",
   "execution_count": 48,
   "metadata": {},
   "outputs": [
    {
     "name": "stdout",
     "output_type": "stream",
     "text": [
      "(2019, 3, 17)\n",
      "n\n"
     ]
    }
   ],
   "source": [
    "data = ['test', 3, (2019, 3, 17), 89.2]\n",
    "name, num1, date, score = data\n",
    "print(date)\n",
    "\n",
    "s = \"Python\"\n",
    "a, b, c, d, e, f = s\n",
    "print(f)"
   ]
  },
  {
   "cell_type": "code",
   "execution_count": 49,
   "metadata": {},
   "outputs": [
    {
     "name": "stdout",
     "output_type": "stream",
     "text": [
      "3\n"
     ]
    }
   ],
   "source": [
    "## 특정 값 무시하는 방법\n",
    "data = data = ['test', 3, (2019, 3, 17), 89.2]\n",
    "_, num1, _, _ = data\n",
    "print(num1)"
   ]
  },
  {
   "cell_type": "markdown",
   "metadata": {},
   "source": [
    "## 1.5 우선 순위 큐 구현\n",
    "- heapq 모듈 사용법\n",
    "- 우선 순위에 따라 아이템을 정렬하는 큐 구현 & 우선 순위가 가장 낮은 아이템을 먼저 팝하기\n",
    "- 우선 순위가 같은 경우 큐에 삽입된 순서와 동일하게 반환됨"
   ]
  },
  {
   "cell_type": "code",
   "execution_count": 19,
   "metadata": {},
   "outputs": [],
   "source": [
    "import heapq\n",
    "class PriorityQueue :\n",
    "    def __init__(self):\n",
    "        self._queue = []\n",
    "        self._index = 0\n",
    "    def push(self, item, priority):\n",
    "        heapq.heappush(self._queue, (-priority, self._index, item))\n",
    "        self._index += 1\n",
    "    def pop(self):\n",
    "        return heapq.heappop(self._queue)[-1]"
   ]
  },
  {
   "cell_type": "code",
   "execution_count": 20,
   "metadata": {},
   "outputs": [],
   "source": [
    "class Item:\n",
    "    def __init__(self, name):\n",
    "        self.name = name\n",
    "    def __repr__(self):\n",
    "        return 'Item({!r})'.format(self.name)"
   ]
  },
  {
   "cell_type": "code",
   "execution_count": 39,
   "metadata": {},
   "outputs": [
    {
     "data": {
      "text/plain": [
       "Item('wine')"
      ]
     },
     "execution_count": 39,
     "metadata": {},
     "output_type": "execute_result"
    }
   ],
   "source": [
    "q = PriorityQueue()\n",
    "#PriorityQueue의 index 변수는 priority가 같은 아이템을 처리하기 위해 사용\n",
    "q.push(Item('coffe'), 1)\n",
    "q.push(Item('wine'), 3)\n",
    "q.push(Item('beer'), 1)\n",
    "q.push(Item('water'), 2)\n",
    "q.pop()"
   ]
  },
  {
   "cell_type": "markdown",
   "metadata": {},
   "source": [
    "##### 보충 설명"
   ]
  },
  {
   "cell_type": "code",
   "execution_count": 40,
   "metadata": {},
   "outputs": [
    {
     "data": {
      "text/plain": [
       "True"
      ]
     },
     "execution_count": 40,
     "metadata": {},
     "output_type": "execute_result"
    }
   ],
   "source": [
    "# index 값 : 우선 순위가 동일한 아이템의 순서를 정할 때\n",
    "a = (1, 0, Item('coffee'))\n",
    "b = (3, 1, Item('wine'))\n",
    "c = (1, 2, Item('beer'))\n",
    "a < c"
   ]
  },
  {
   "cell_type": "code",
   "execution_count": 54,
   "metadata": {},
   "outputs": [
    {
     "ename": "TypeError",
     "evalue": "unorderable types: Item() < Item()",
     "output_type": "error",
     "traceback": [
      "\u001b[0;31m---------------------------------------------------------------------------\u001b[0m",
      "\u001b[0;31mTypeError\u001b[0m                                 Traceback (most recent call last)",
      "\u001b[0;32m<ipython-input-54-89cc8308e7f0>\u001b[0m in \u001b[0;36m<module>\u001b[0;34m\u001b[0m\n\u001b[1;32m      1\u001b[0m \u001b[0ma\u001b[0m \u001b[0;34m=\u001b[0m \u001b[0;34m(\u001b[0m\u001b[0;36m1\u001b[0m\u001b[0;34m,\u001b[0m \u001b[0mItem\u001b[0m\u001b[0;34m(\u001b[0m\u001b[0;34m'coffee'\u001b[0m\u001b[0;34m)\u001b[0m\u001b[0;34m)\u001b[0m\u001b[0;34m\u001b[0m\u001b[0m\n\u001b[1;32m      2\u001b[0m \u001b[0mc\u001b[0m \u001b[0;34m=\u001b[0m \u001b[0;34m(\u001b[0m\u001b[0;36m1\u001b[0m\u001b[0;34m,\u001b[0m \u001b[0mItem\u001b[0m\u001b[0;34m(\u001b[0m\u001b[0;34m'beer'\u001b[0m\u001b[0;34m)\u001b[0m\u001b[0;34m)\u001b[0m\u001b[0;34m\u001b[0m\u001b[0m\n\u001b[0;32m----> 3\u001b[0;31m \u001b[0ma\u001b[0m \u001b[0;34m<\u001b[0m \u001b[0mc\u001b[0m\u001b[0;34m\u001b[0m\u001b[0m\n\u001b[0m",
      "\u001b[0;31mTypeError\u001b[0m: unorderable types: Item() < Item()"
     ]
    }
   ],
   "source": [
    "a = (1, Item('coffee'))\n",
    "c = (1, Item('beer'))\n",
    "a < c"
   ]
  },
  {
   "cell_type": "markdown",
   "metadata": {},
   "source": [
    "## 1. 9 두 딕셔너리의 유사점 찾기\n",
    " - 두 딕셔너리의 동일한 키 or 값을 찾고 싶을 때\n",
    " - 딕셔너리의 키 뷰에는 합집합/교집합/여집합 등의 집합 연산 기능 있음\n",
    " - values() 메소드에는 집합 연산 불가 (key는 같아도 value가 같을 수 있기 때문에)"
   ]
  },
  {
   "cell_type": "code",
   "execution_count": 24,
   "metadata": {},
   "outputs": [
    {
     "data": {
      "text/plain": [
       "{'x', 'z'}"
      ]
     },
     "execution_count": 24,
     "metadata": {},
     "output_type": "execute_result"
    }
   ],
   "source": [
    "a = { 'x' : 3,\n",
    "      'y' : 6, \n",
    "      'z' : 2 }\n",
    "\n",
    "b = { 'a' : 10,\n",
    "      'x' : 20,\n",
    "      'z' : 50 }\n",
    "\n",
    "#동일한 키 찾기\n",
    "a.keys() & b.keys()\n"
   ]
  },
  {
   "cell_type": "code",
   "execution_count": 29,
   "metadata": {},
   "outputs": [
    {
     "data": {
      "text/plain": [
       "{'y'}"
      ]
     },
     "execution_count": 29,
     "metadata": {},
     "output_type": "execute_result"
    }
   ],
   "source": [
    "#a에만 있는 키\n",
    "a.keys() - b.keys()"
   ]
  },
  {
   "cell_type": "markdown",
   "metadata": {},
   "source": [
    "##### 보충 설명"
   ]
  },
  {
   "cell_type": "code",
   "execution_count": null,
   "metadata": {},
   "outputs": [],
   "source": [
    "#특정 키 제외하기\n",
    "a = {key:a[key] for key in a.keys() - {'제외하고 싶은 키'}}"
   ]
  },
  {
   "cell_type": "markdown",
   "metadata": {},
   "source": [
    "## 1.13 일반 키로 딕셔너리 리스트 정렬\n",
    "- operator 모듈의 itemgetter() 함수\n",
    "- 딕셔너리 리스트를 딕셔너리 값으로 정렬하고 싶을 때\n",
    "- itemgetter() 함수는 레코드에서 원하는 값을 추출하는 데 사용하는 인덱스를 인자를 받음 (딕셔너리 키 이름 / 숫자 리스트 요소 등)"
   ]
  },
  {
   "cell_type": "code",
   "execution_count": 30,
   "metadata": {},
   "outputs": [
    {
     "name": "stdout",
     "output_type": "stream",
     "text": [
      "[{'name': 'David', 'age': 20}, {'name': 'John', 'age': 25}, {'name': 'Brian', 'age': 32}]\n"
     ]
    }
   ],
   "source": [
    "from operator import itemgetter\n",
    "list = [\n",
    "    {'name' : 'Brian', 'age' : 32},\n",
    "    {'name' : 'David', 'age' : 20},\n",
    "    {'name' : 'John', 'age' : 25}\n",
    "]\n",
    "from operator import itemgetter\n",
    "list_by_name = sorted(list, key=itemgetter('name'))\n",
    "list_by_age = sorted(list, key = itemgetter('age'))\n",
    "print(list_by_age)\n",
    "#key에 여러 개 전달 가능"
   ]
  },
  {
   "cell_type": "markdown",
   "metadata": {},
   "source": [
    "#### 보충 설명"
   ]
  },
  {
   "cell_type": "code",
   "execution_count": 31,
   "metadata": {},
   "outputs": [
    {
     "name": "stdout",
     "output_type": "stream",
     "text": [
      "[{'name': 'Brian', 'age': 32}, {'name': 'David', 'age': 20}, {'name': 'John', 'age': 25}]\n"
     ]
    }
   ],
   "source": [
    "#itemgetter()의 기능과 같은 lambda 표현식 but 실행 속도가 더 느림\n",
    "list_by_name = sorted(list, key=lambda r: r['name'])\n",
    "print(list_by_name)"
   ]
  },
  {
   "cell_type": "code",
   "execution_count": 32,
   "metadata": {},
   "outputs": [
    {
     "data": {
      "text/plain": [
       "{'age': 32, 'name': 'Brian'}"
      ]
     },
     "execution_count": 32,
     "metadata": {},
     "output_type": "execute_result"
    }
   ],
   "source": [
    "# min()과 max() 함수에도 사용 가능\n",
    "min(list, key=itemgetter('name'))"
   ]
  },
  {
   "cell_type": "markdown",
   "metadata": {},
   "source": [
    "## 1.17 딕셔너리의 부분 추출\n",
    "- 딕셔너리 컴프리헨션(dictionary comprehension) 사용 : key, value 모두 선언해줘야 함\n",
    "- 딕셔너리의 특정 부분으로 다른 딕셔너리 만들기"
   ]
  },
  {
   "cell_type": "code",
   "execution_count": 33,
   "metadata": {},
   "outputs": [
    {
     "name": "stdout",
     "output_type": "stream",
     "text": [
      "{'E': 100, 'A': 80.1, 'B': 92.4}\n"
     ]
    }
   ],
   "source": [
    "score = {\n",
    "    'A' : 80.1,\n",
    "    'B' : 92.4,\n",
    "    'C' : 65.9,\n",
    "    'D' : 22.7,\n",
    "    'E' : 100,\n",
    "    'F' : 55.5\n",
    "}\n",
    "\n",
    "high_score = {key:value for key, value in score.items() if value > 70}\n",
    "print(high_score)"
   ]
  },
  {
   "cell_type": "markdown",
   "metadata": {},
   "source": [
    "#### 보충 설명"
   ]
  },
  {
   "cell_type": "code",
   "execution_count": 34,
   "metadata": {},
   "outputs": [],
   "source": [
    "low_score = dict((key, value) for key, value in score.items() if value < 70)\n",
    "#가능하지만 실행 속도가 더 느림"
   ]
  },
  {
   "cell_type": "markdown",
   "metadata": {},
   "source": [
    "## 2.1 여러 구분자로 문자열 나누기\n",
    "- 구분자가 일관적이지 않은 문자열 나누기\n",
    "- re 모듈\n",
    " \n",
    "[] : 문자 클래스,[abc]의 경우 'a','b','c' 중 한 문자와 매칭됨. 또한 [^a] 와 같이 '^'가 '[]'안에서 쓰이는 경우에는 'a'를 제외한 모든 문자를 나타냄\n",
    " \n",
    "' * ': 문자가 0회 이상 반복됨을 의미\n",
    "\n",
    " \\\\ : \\(역슬래쉬) 문자 자체를 의미\n",
    " \n",
    " \\d : 모든 숫자를 의미. [0-9]와 동일 \n",
    " \n",
    " \\D : 숫자를 제외한 모든 문자를 의미. [^0-9]와 동일\n",
    " \n",
    " \\s : 공백을 의미. [\\t\\n\\r\\f\\v]와 동일\n",
    " \n",
    " \\S : 공백이 아닌 문자를 의미. [^\\t\\n\\r\\f\\v]\n",
    " \n",
    " \\w : 숫자 또는 문자를 의미.\n",
    " \n",
    " \\W : 숫자 또는 문자가 아닌것을 의미\n",
    " \n",
    " \\b : 단어의 시작과 끝의 빈 공백 \n",
    " \n",
    " \\B : 단어의 시작과 끝이 아닌 빈 공백 \n",
    " \n",
    " \\[숫자] :  지정된 숫자만큼 일치한느 문자열을 의미 \n",
    " \n",
    " \\A : 문자열의 시작 \n",
    " \n",
    " \\Z : 문자열의 끝 \n",
    " \n",
    " [:alpha:] : 알파벳만 검색\n",
    " \n",
    " [:alnum:] : 알파벳, 숫자만 검색 \n",
    " \n",
    " [:digit:]: 숫자만 검색 \n",
    " \n",
    " [:upper:] : 대문자만 검색 \n",
    " \n",
    " () : 그룹핑, 추출할 패턴을 지정"
   ]
  },
  {
   "cell_type": "code",
   "execution_count": 35,
   "metadata": {},
   "outputs": [
    {
     "data": {
      "text/plain": [
       "['abd', 'edfs', 'edff', 'ipwdd', 'digoe', 'hi']"
      ]
     },
     "execution_count": 35,
     "metadata": {},
     "output_type": "execute_result"
    }
   ],
   "source": [
    "import re\n",
    "line = 'abd edfs; edff, ipwdd,digoe,    hi'\n",
    "re.split(r'[;,\\s]\\s*', line)"
   ]
  },
  {
   "cell_type": "code",
   "execution_count": 36,
   "metadata": {},
   "outputs": [
    {
     "name": "stdout",
     "output_type": "stream",
     "text": [
      "['abd', ' ', 'edfs', ';', 'edff', ',', 'ipwdd', ',', 'digoe', ',', 'hi']\n"
     ]
    }
   ],
   "source": [
    "# 패턴에 ( ) 사용하면 해당 분리 문자도 모두 포함시킴\n",
    "fields = re.split(r'(;|,|\\s)\\s*', line)\n",
    "print(fields)"
   ]
  },
  {
   "cell_type": "markdown",
   "metadata": {},
   "source": [
    "## 2.5 텍스트 검색과 치환\n",
    "- str.replace() , re.sub() 함수"
   ]
  },
  {
   "cell_type": "code",
   "execution_count": 55,
   "metadata": {},
   "outputs": [
    {
     "data": {
      "text/plain": [
       "'yes, but no, but yes, but no, but yes'"
      ]
     },
     "execution_count": 55,
     "metadata": {},
     "output_type": "execute_result"
    }
   ],
   "source": [
    "#간단한 패턴 : str.replace()\n",
    "txt = 'yeah, but no, but yeah, but no, but yeah'\n",
    "txt.replace('yeah', 'yes')"
   ]
  },
  {
   "cell_type": "code",
   "execution_count": 1,
   "metadata": {},
   "outputs": [
    {
     "data": {
      "text/plain": [
       "'Today is 17-03-2019.'"
      ]
     },
     "execution_count": 1,
     "metadata": {},
     "output_type": "execute_result"
    }
   ],
   "source": [
    "#더 복잡한 패턴 : re.sub(1st, 2nd) / 1st -> 2nd\n",
    "txt = 'Today is 2019/03/17.'\n",
    "import re\n",
    "re.sub(r'(\\d+)/(\\d+)/(\\d+)', r'\\3-\\2-\\1', txt)"
   ]
  },
  {
   "cell_type": "code",
   "execution_count": 2,
   "metadata": {},
   "outputs": [
    {
     "data": {
      "text/plain": [
       "'Today is 17-03-2019.'"
      ]
     },
     "execution_count": 2,
     "metadata": {},
     "output_type": "execute_result"
    }
   ],
   "source": [
    "#치환을 계속 해야되면 성능 향상을 위한 컴파일링 또는 콜백 함수 명시\n",
    "# compile 메서드는 \"패턴 객체\"를 반환한다.\n",
    "import re\n",
    "p = re.compile(r'(\\d+)/(\\d+)/(\\d+)')  #한 줄 더 써야 하지만 패턴 객체(p)를 만들고 나서 여러번 재사용이 가능 -> 시간 단축\n",
    "p.sub(r'\\3-\\2-\\1', txt)"
   ]
  },
  {
   "cell_type": "markdown",
   "metadata": {},
   "source": [
    "#### 몇 번 치환됐는지 알고싶을 때\n",
    "re.subn()"
   ]
  },
  {
   "cell_type": "markdown",
   "metadata": {},
   "source": [
    "## 2. 9 유니코드 텍스트 노멀화\n",
    "- 모든 문자열에 동일한 표현식을 갖도록"
   ]
  },
  {
   "cell_type": "code",
   "execution_count": 7,
   "metadata": {},
   "outputs": [
    {
     "data": {
      "text/plain": [
       "'Spicy Jalapeño'"
      ]
     },
     "execution_count": 7,
     "metadata": {},
     "output_type": "execute_result"
    }
   ],
   "source": [
    "import unicodedata\n",
    "s1 = 'Spicy Jalape\\u00f1o'\n",
    "s2 = 'Spicy Jalapen\\u0303o'\n",
    "s1"
   ]
  },
  {
   "cell_type": "code",
   "execution_count": 5,
   "metadata": {},
   "outputs": [
    {
     "data": {
      "text/plain": [
       "True"
      ]
     },
     "execution_count": 5,
     "metadata": {},
     "output_type": "execute_result"
    }
   ],
   "source": [
    "# 'NFC' : 문자를 정확히 구성하도록 지정, NFD : 문자를 여러 개 합쳐서 사용\n",
    "t1 = unicodedata.normalize('NFC', s1)\n",
    "t2 = unicodedata.normalize('NFC', s2)\n",
    "t1 == t2"
   ]
  },
  {
   "cell_type": "code",
   "execution_count": 9,
   "metadata": {},
   "outputs": [
    {
     "data": {
      "text/plain": [
       "'Spicy Jalapeno'"
      ]
     },
     "execution_count": 9,
     "metadata": {},
     "output_type": "execute_result"
    }
   ],
   "source": [
    "# 발음 구별 부호를 제거하고 싶을 때\n",
    "t1 = unicodedata.normalize('NFD', s1)\n",
    "''.join(c for c in t1 if not unicodedata.combining(c)) #combining() 함수는 문자가 결합 문자인지 확인"
   ]
  },
  {
   "cell_type": "markdown",
   "metadata": {},
   "source": [
    "## 2.13 텍스트 정렬"
   ]
  },
  {
   "cell_type": "code",
   "execution_count": 11,
   "metadata": {},
   "outputs": [
    {
     "data": {
      "text/plain": [
       "'****Hello World*****'"
      ]
     },
     "execution_count": 11,
     "metadata": {},
     "output_type": "execute_result"
    }
   ],
   "source": [
    "# ljust(), rjust(), center()\n",
    "txt = 'Hello World'\n",
    "txt.ljust(20)\n",
    "txt.rjust(20) \n",
    "txt.center(20, '*') #채워 넣기 문자 사용 가능"
   ]
  },
  {
   "cell_type": "code",
   "execution_count": 16,
   "metadata": {},
   "outputs": [
    {
     "data": {
      "text/plain": [
       "'Hello World========='"
      ]
     },
     "execution_count": 16,
     "metadata": {},
     "output_type": "execute_result"
    }
   ],
   "source": [
    "format(txt, '>20')\n",
    "format(txt, '=<20') #마찬가지로 채워넣기 문자 사용 가능\n",
    "#format(txt, '^20')"
   ]
  },
  {
   "cell_type": "code",
   "execution_count": 17,
   "metadata": {},
   "outputs": [
    {
     "data": {
      "text/plain": [
       "'     Hello     World'"
      ]
     },
     "execution_count": 17,
     "metadata": {},
     "output_type": "execute_result"
    }
   ],
   "source": [
    "'{:>10s}{:>10s}'.format('Hello', 'World')"
   ]
  },
  {
   "cell_type": "code",
   "execution_count": null,
   "metadata": {},
   "outputs": [],
   "source": []
  }
 ],
 "metadata": {
  "kernelspec": {
   "display_name": "Python 3",
   "language": "python",
   "name": "python3"
  },
  "language_info": {
   "codemirror_mode": {
    "name": "ipython",
    "version": 3
   },
   "file_extension": ".py",
   "mimetype": "text/x-python",
   "name": "python",
   "nbconvert_exporter": "python",
   "pygments_lexer": "ipython3",
   "version": "3.5.2"
  }
 },
 "nbformat": 4,
 "nbformat_minor": 2
}
