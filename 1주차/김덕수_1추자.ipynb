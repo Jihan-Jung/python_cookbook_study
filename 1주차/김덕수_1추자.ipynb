{
 "cells": [
  {
   "cell_type": "markdown",
   "metadata": {},
   "source": [
    "# 발표 소단원 리스트"
   ]
  },
  {
   "cell_type": "markdown",
   "metadata": {},
   "source": [
    "1-3, 1-7, 1-11, 1-15, 1-19, 2-3, 2-7, 2-11, 2-15"
   ]
  },
  {
   "cell_type": "markdown",
   "metadata": {},
   "source": [
    "# 전체 요약자료"
   ]
  },
  {
   "cell_type": "markdown",
   "metadata": {},
   "source": [
    "- (1 - 3)  : Limited history를 들고있고 싶으면 collections.deque를 사용합니다.\n",
    "- (1 - 7)  : Dictionary에서 item들의 순서를 유지하고 싶을때 collections.Orderdict를 사용합니다.\n",
    "- (1 - 11) : Slice를 객체로 사용할 수 있습니다.\n",
    "- (1 - 15) : Dictionary나 instance의 sequence를 가지고 있고, 그 데이터를 특정 field의 value 기준으로 묶어서 iterate 하고싶을 떄 itertools.groupby()를 사용합니다.\n",
    "- (1 - 19) : reduction fuction(e.g., sum(), min(), max())을 쓰고싶은데 먼저 data를 transform 해야 하는 경우, generator expression을 이용해 한방에 해결할 수 있습니다.\n",
    "- (2 - 3)  : Unix shell에서 쓰던 wildcard pattern으로 text matching 하고 싶을 때 fnmatch와 fnmatchcase를 사용합니다.\n",
    "- (2 - 7)  : regular expression을 사용할 때, logest possible match가 아니라 shortest possible match 찾고싶은 경우 해결 방법\n",
    "- (2 - 11) : string 앞, 뒤, 또는 중간에 위치한 원치 않는 문자들(이를테면 공백)을 쳐내고 싶을 때 stip() method를 사용합니다.\n",
    "- (2 - 15) : string을 만들고 싶은데, string 안에 변수 이름 써서 해당 변수의 값을 string 안에 받아오고 싶을 때 format()을 사용합니다."
   ]
  },
  {
   "cell_type": "markdown",
   "metadata": {},
   "source": [
    "### 1-3) Keeping the Last N Items\n",
    "- Limited history를 들고있고 싶으면 collections.deque를 사용합니다"
   ]
  },
  {
   "cell_type": "code",
   "execution_count": 30,
   "metadata": {},
   "outputs": [],
   "source": [
    "from collections import deque"
   ]
  },
  {
   "cell_type": "code",
   "execution_count": 31,
   "metadata": {},
   "outputs": [],
   "source": [
    "q = deque(maxlen=3)"
   ]
  },
  {
   "cell_type": "code",
   "execution_count": 32,
   "metadata": {},
   "outputs": [],
   "source": [
    "q.append('data')\n",
    "q.append(1)\n",
    "q.append('data2')"
   ]
  },
  {
   "cell_type": "code",
   "execution_count": 33,
   "metadata": {},
   "outputs": [
    {
     "data": {
      "text/plain": [
       "deque(['data', 1, 'data2'])"
      ]
     },
     "execution_count": 33,
     "metadata": {},
     "output_type": "execute_result"
    }
   ],
   "source": [
    "q"
   ]
  },
  {
   "cell_type": "code",
   "execution_count": 34,
   "metadata": {},
   "outputs": [],
   "source": [
    "q.append(\"new data\")"
   ]
  },
  {
   "cell_type": "code",
   "execution_count": 35,
   "metadata": {},
   "outputs": [
    {
     "data": {
      "text/plain": [
       "deque([1, 'data2', 'new data'])"
      ]
     },
     "execution_count": 35,
     "metadata": {},
     "output_type": "execute_result"
    }
   ],
   "source": [
    "q"
   ]
  },
  {
   "cell_type": "markdown",
   "metadata": {},
   "source": [
    "- deque는 maxlen 인자를 입력받아 최대 maxlen개 까지의 데이터를 큐에 저장할 수 있습니다.\n",
    "- 새로운 데이터가 들어올 경우 제일 오래된 데이터를 버립니다."
   ]
  },
  {
   "cell_type": "code",
   "execution_count": 36,
   "metadata": {},
   "outputs": [
    {
     "data": {
      "text/plain": [
       "'new data'"
      ]
     },
     "execution_count": 36,
     "metadata": {},
     "output_type": "execute_result"
    }
   ],
   "source": [
    "q.pop()"
   ]
  },
  {
   "cell_type": "code",
   "execution_count": 37,
   "metadata": {},
   "outputs": [
    {
     "data": {
      "text/plain": [
       "deque([1, 'data2'])"
      ]
     },
     "execution_count": 37,
     "metadata": {},
     "output_type": "execute_result"
    }
   ],
   "source": [
    "q"
   ]
  },
  {
   "cell_type": "code",
   "execution_count": 38,
   "metadata": {},
   "outputs": [
    {
     "data": {
      "text/plain": [
       "1"
      ]
     },
     "execution_count": 38,
     "metadata": {},
     "output_type": "execute_result"
    }
   ],
   "source": [
    "q.popleft()"
   ]
  },
  {
   "cell_type": "code",
   "execution_count": 39,
   "metadata": {},
   "outputs": [
    {
     "data": {
      "text/plain": [
       "deque(['data2'])"
      ]
     },
     "execution_count": 39,
     "metadata": {},
     "output_type": "execute_result"
    }
   ],
   "source": [
    "q"
   ]
  },
  {
   "cell_type": "markdown",
   "metadata": {},
   "source": [
    "- deque에 maxlen인자를 넘겨주지 않으면 크기가 unbounded 됩니다. 즉, 일반적인 que처럼 쓸 수 있습니다.\n",
    "- list는 front에 insert하거나 front에서 pop하면 O(N)이지만, deque는 O(1)에 할 수 있습니다."
   ]
  },
  {
   "cell_type": "code",
   "execution_count": 40,
   "metadata": {},
   "outputs": [
    {
     "data": {
      "text/plain": [
       "'\\nstring1 python\\nstring2\\nstring3\\nstrint4python\\nstring5 string5\\npython python\\nqwerasdf\\npythonstring6\\npsyttrhiong7\\nstring8 python\\nstring9 python\\nstring10\\nstring11\\nstring12\\nstring13\\n\\n'"
      ]
     },
     "execution_count": 40,
     "metadata": {},
     "output_type": "execute_result"
    }
   ],
   "source": [
    "# input.txt\n",
    "'''\n",
    "string1 python\n",
    "string2\n",
    "string3\n",
    "strint4python\n",
    "string5 string5\n",
    "python python\n",
    "qwerasdf\n",
    "pythonstring6\n",
    "psyttrhiong7\n",
    "string8 python\n",
    "string9 python\n",
    "string10\n",
    "string11\n",
    "string12\n",
    "string13\n",
    "\n",
    "'''"
   ]
  },
  {
   "cell_type": "code",
   "execution_count": 41,
   "metadata": {},
   "outputs": [
    {
     "name": "stdout",
     "output_type": "stream",
     "text": [
      "string1 python\n",
      "--------------------\n",
      "string1 python\n",
      "strint4python\n",
      "--------------------\n",
      "string1 python\n",
      "strint4python\n",
      "python python\n",
      "--------------------\n",
      "strint4python\n",
      "python python\n",
      "pythonstring6\n",
      "--------------------\n",
      "python python\n",
      "pythonstring6\n",
      "string8 python\n",
      "--------------------\n",
      "pythonstring6\n",
      "string8 python\n",
      "string9 python\n",
      "--------------------\n"
     ]
    }
   ],
   "source": [
    "from collections import deque\n",
    "\n",
    "def search(lines, pattern, history=5):\n",
    "    previous_lines = deque(maxlen=history)\n",
    "    for line in lines:\n",
    "        if pattern in line:\n",
    "            yield line, previous_lines\n",
    "            previous_lines.append(line)# Example use on a file\n",
    "            \n",
    "if __name__ == '__main__':\n",
    "    with open('input.txt') as f:\n",
    "        for line, prevlines in search(f, 'python', 2):\n",
    "            for pline in prevlines:\n",
    "                print(pline, end='')\n",
    "            print(line, end='')\n",
    "            print('-'*20)"
   ]
  },
  {
   "cell_type": "markdown",
   "metadata": {},
   "source": [
    "- search하는 코드와 search result를 이용하는 코드를 분리하기 위해 yield를 포함하는 generator fuction을 사용합니다."
   ]
  },
  {
   "cell_type": "markdown",
   "metadata": {},
   "source": [
    "### 1-7) Keeping Dictionaries in Order\n",
    "- Dictionary에서 item들의 순서를 유지하고 싶을때 collections.Orderdict를 사용합니다."
   ]
  },
  {
   "cell_type": "code",
   "execution_count": 42,
   "metadata": {},
   "outputs": [
    {
     "name": "stdout",
     "output_type": "stream",
     "text": [
      "foo\n",
      "bar\n",
      "spam\n",
      "grok\n",
      "{'foo': 1, 'bar': 2, 'spam': 3, 'grok': 4}\n"
     ]
    }
   ],
   "source": [
    "d = {}\n",
    "\n",
    "d['foo'] = 1\n",
    "d['bar'] = 2\n",
    "d['spam'] = 3\n",
    "d['grok'] = 4\n",
    "\n",
    "for item in d:\n",
    "    print(item)\n",
    "print(d)"
   ]
  },
  {
   "cell_type": "code",
   "execution_count": 43,
   "metadata": {},
   "outputs": [
    {
     "name": "stdout",
     "output_type": "stream",
     "text": [
      "foo 1\n",
      "bar 2\n",
      "spam 3\n",
      "grok 4\n",
      "OrderedDict([('foo', 1), ('bar', 2), ('spam', 3), ('grok', 4)])\n"
     ]
    }
   ],
   "source": [
    "from collections import OrderedDict\n",
    "\n",
    "d = OrderedDict()\n",
    "d['foo'] = 1\n",
    "d['bar'] = 2\n",
    "d['spam'] = 3\n",
    "d['grok'] = 4\n",
    "\n",
    "for key in d:\n",
    "    print(key, d[key])\n",
    "print(d)"
   ]
  },
  {
   "cell_type": "markdown",
   "metadata": {},
   "source": [
    "- OrderedDict는 doubly linked list로 순서를 기억합니다.\n",
    "- linked list를 가지고 있기 때문에 일반적인 dictionary보다 2배 이상 size가 커집니다.\n",
    "- 특정 키에 다른 값을 다시 할당하여도 순서는 바뀌지 않습니다."
   ]
  },
  {
   "cell_type": "markdown",
   "metadata": {},
   "source": [
    "### 1-11) Naming a Slice\n",
    "- Slice 할 때 hard coding하지 않고 이름 붙이기!\n",
    "- Code의 의도와 동작을 보다 명확하게 기술할 수 있습니다."
   ]
  },
  {
   "cell_type": "code",
   "execution_count": 16,
   "metadata": {},
   "outputs": [],
   "source": [
    "######    0123456789012345678901234567890123456789012345678901234567890' \n",
    "record = '....................100          .......513.25     ..........'\n",
    "cost = int(record[20:32]) * float(record[40:48])"
   ]
  },
  {
   "cell_type": "markdown",
   "metadata": {},
   "source": [
    "위 코드에서 slice indice들을 아래와 같이 객체로 만들어 이름붙일 수 있습니다"
   ]
  },
  {
   "cell_type": "code",
   "execution_count": 25,
   "metadata": {},
   "outputs": [],
   "source": [
    "SHARES = slice(20,32) \n",
    "PRICE  = slice(40,48)\n",
    "cost = int(record[SHARES]) * float(record[PRICE])"
   ]
  },
  {
   "cell_type": "code",
   "execution_count": 28,
   "metadata": {},
   "outputs": [
    {
     "name": "stdout",
     "output_type": "stream",
     "text": [
      "[1, 2, 3, 4, 5]\n",
      "[0, 6]\n"
     ]
    }
   ],
   "source": [
    "items = [0, 1, 2, 3, 4, 5, 6]\n",
    "body = slice(1,6)\n",
    "print(items[body])\n",
    "del items[body]\n",
    "print(items)"
   ]
  },
  {
   "cell_type": "markdown",
   "metadata": {},
   "source": [
    "slice instance s를 만들면 s.start, s.stop, s.step attribute를 사용할 수 있습니다"
   ]
  },
  {
   "cell_type": "code",
   "execution_count": 19,
   "metadata": {},
   "outputs": [],
   "source": [
    "ex_slice = slice(10, 50, 2)"
   ]
  },
  {
   "cell_type": "code",
   "execution_count": 20,
   "metadata": {},
   "outputs": [
    {
     "data": {
      "text/plain": [
       "10"
      ]
     },
     "execution_count": 20,
     "metadata": {},
     "output_type": "execute_result"
    }
   ],
   "source": [
    "ex_slice.start"
   ]
  },
  {
   "cell_type": "code",
   "execution_count": 23,
   "metadata": {},
   "outputs": [
    {
     "data": {
      "text/plain": [
       "50"
      ]
     },
     "execution_count": 23,
     "metadata": {},
     "output_type": "execute_result"
    }
   ],
   "source": [
    "ex_slice.stop"
   ]
  },
  {
   "cell_type": "code",
   "execution_count": 22,
   "metadata": {},
   "outputs": [
    {
     "data": {
      "text/plain": [
       "2"
      ]
     },
     "execution_count": 22,
     "metadata": {},
     "output_type": "execute_result"
    }
   ],
   "source": [
    "ex_slice.step"
   ]
  },
  {
   "cell_type": "markdown",
   "metadata": {},
   "source": [
    "IndexError를 피하기 위해 slice instance s의 indeices(size) method를 사용할 수 있습니다.\n",
    "이 함수는 (start, stop, step) tuple을 생성해주는데, 이 때 start, stop, step은 모두 size를 bound로 하여\n",
    "자동으로 값이 fitting 됩니다."
   ]
  },
  {
   "cell_type": "code",
   "execution_count": 47,
   "metadata": {},
   "outputs": [
    {
     "data": {
      "text/plain": [
       "(2, 10, 1)"
      ]
     },
     "execution_count": 47,
     "metadata": {},
     "output_type": "execute_result"
    }
   ],
   "source": [
    "s = \"HelloWorld\"\n",
    "a = slice(2, 500)\n",
    "a.indices(len(s))"
   ]
  },
  {
   "cell_type": "markdown",
   "metadata": {},
   "source": [
    "### 1-15) Grouping Records Together Based on a Field\n",
    "- Dictionary나 instance의 sequence를 가지고 있고, 그 데이터를 특정 field의 value 기준으로 묶어서 iterate 하고싶을 떄 itertools.groupby()를 사용합니다."
   ]
  },
  {
   "cell_type": "code",
   "execution_count": null,
   "metadata": {},
   "outputs": [],
   "source": []
  },
  {
   "cell_type": "code",
   "execution_count": 10,
   "metadata": {},
   "outputs": [
    {
     "name": "stdout",
     "output_type": "stream",
     "text": [
      "07/01/2012\n",
      "<itertools._grouper object at 0x00DBC4F0>\n",
      "     {'address': '5412 N CLARK', 'date': '07/01/2012'}\n",
      "     {'address': '4801 N BROADWAY', 'date': '07/01/2012'}\n",
      "07/02/2012\n",
      "<itertools._grouper object at 0x00DBC850>\n",
      "     {'address': '5800 E 58TH', 'date': '07/02/2012'}\n",
      "     {'address': '5645 N RAVENSWOOD', 'date': '07/02/2012'}\n",
      "     {'address': '1060 W ADDISON', 'date': '07/02/2012'}\n",
      "07/03/2012\n",
      "<itertools._grouper object at 0x00DBCD50>\n",
      "     {'address': '2122 N CLARK', 'date': '07/03/2012'}\n",
      "07/04/2012\n",
      "<itertools._grouper object at 0x00DBCFB0>\n",
      "     {'address': '5148 N CLARK', 'date': '07/04/2012'}\n",
      "     {'address': '1039 W GRANVILLE', 'date': '07/04/2012'}\n"
     ]
    }
   ],
   "source": [
    "from operator import itemgetter \n",
    "from itertools import groupby\n",
    "\n",
    "rows = [\n",
    "    {'address': '5412 N CLARK', 'date': '07/01/2012'},\n",
    "    {'address': '5148 N CLARK', 'date': '07/04/2012'},\n",
    "    {'address': '5800 E 58TH', 'date': '07/02/2012'},\n",
    "    {'address': '2122 N CLARK', 'date': '07/03/2012'},\n",
    "    {'address': '5645 N RAVENSWOOD', 'date': '07/02/2012'},\n",
    "    {'address': '1060 W ADDISON', 'date': '07/02/2012'},\n",
    "    {'address': '4801 N BROADWAY', 'date': '07/01/2012'},\n",
    "    {'address': '1039 W GRANVILLE', 'date': '07/04/2012'},\n",
    "]\n",
    "\n",
    "# Sort by the desired field first\n",
    "rows.sort(key=itemgetter('date'))\n",
    "# rows.sort(key=lambda x : x['date'])\n",
    "\n",
    "# Iterate in groups \n",
    "for date, items in groupby(rows, key=itemgetter('date')):\n",
    "    print(date)\n",
    "    print(items)\n",
    "    for i in items:\n",
    "        print('    ', i)"
   ]
  },
  {
   "cell_type": "markdown",
   "metadata": {},
   "source": [
    "- groupby로 묶기 전에 먼저 sorting 해주어야 합니다. groupby가 연속된 값만 체크하기 때문!\n",
    "- groupby는 묶어서 'iterate'하고 싶을 때 사용합니다. 그냥 묶기만 하고싶으면 아래와 같이 defaultdict를 사용합니다"
   ]
  },
  {
   "cell_type": "code",
   "execution_count": 11,
   "metadata": {},
   "outputs": [
    {
     "name": "stdout",
     "output_type": "stream",
     "text": [
      "{'address': '5412 N CLARK', 'date': '07/01/2012'}\n",
      "{'address': '4801 N BROADWAY', 'date': '07/01/2012'}\n"
     ]
    }
   ],
   "source": [
    "from collections import defaultdict \n",
    "\n",
    "rows_by_date = defaultdict(list) \n",
    "for row in rows:\n",
    "    rows_by_date[row['date']].append(row)\n",
    "    \n",
    "for item in rows_by_date['07/01/2012']:\n",
    "    print(item)"
   ]
  },
  {
   "cell_type": "markdown",
   "metadata": {},
   "source": [
    "groupby()는 메모리를 쓰지 않는 대신 sorting 하는 시간이 추가로 필요하고, defaultdict는 메모리를 쓰는 대신 더 빠르다"
   ]
  },
  {
   "cell_type": "markdown",
   "metadata": {},
   "source": [
    "### 1-19) Transforming and Reducing Data at the Same Time\n",
    "- reduction fuction(e.g., sum(), min(), max())을 쓰고싶은데 먼저 data를 transform 해야 하는 경우, 한방에 해결하기!\n",
    "- generator-expression argument를 사용합니다"
   ]
  },
  {
   "cell_type": "code",
   "execution_count": 15,
   "metadata": {},
   "outputs": [],
   "source": [
    "nums = [1, 2, 3, 4, 5] \n",
    "s = sum(x * x for x in nums)"
   ]
  },
  {
   "cell_type": "code",
   "execution_count": 33,
   "metadata": {},
   "outputs": [
    {
     "name": "stdout",
     "output_type": "stream",
     "text": [
      "There be ipython\n"
     ]
    }
   ],
   "source": [
    "import os\n",
    "\n",
    "files = os.listdir('C:\\\\Users\\\\dusol\\\\PythonCookBook\\\\python_cookbook_study')\n",
    "if (any(filename.endswith('.ipynb') for filename in files)):\n",
    "    print(\"There be ipython\")\n",
    "else:\n",
    "    print(\"Sorry, no ipython\")"
   ]
  },
  {
   "cell_type": "code",
   "execution_count": 38,
   "metadata": {},
   "outputs": [
    {
     "name": "stdout",
     "output_type": "stream",
     "text": [
      "ACME,50,123.45\n"
     ]
    }
   ],
   "source": [
    "s = ('ACME', 50, 123.45)\n",
    "print(','.join(str(x) for x in s))"
   ]
  },
  {
   "cell_type": "code",
   "execution_count": 43,
   "metadata": {},
   "outputs": [
    {
     "data": {
      "text/plain": [
       "20"
      ]
     },
     "execution_count": 43,
     "metadata": {},
     "output_type": "execute_result"
    }
   ],
   "source": [
    "portfolio = [   \n",
    "    {'name':'GOOG', 'shares': 50},\n",
    "    {'name':'YHOO', 'shares': 75},\n",
    "    {'name':'AOL', 'shares': 20},\n",
    "    {'name':'SCOX', 'shares': 65}\n",
    "]\n",
    "min_share = min(record['shares'] for record in portfolio)\n",
    "min_share"
   ]
  },
  {
   "cell_type": "markdown",
   "metadata": {},
   "source": [
    "Generator expression의 효율성과 아름다움"
   ]
  },
  {
   "cell_type": "code",
   "execution_count": 10,
   "metadata": {},
   "outputs": [],
   "source": [
    "nums = [1, 2, 3, 4, 5] \n",
    "\n",
    "s = sum((x * x for x in nums))    # Pass generator-expr as argument \n",
    "s = sum(x * x for x in nums)      # More elegant syntax, pass generator\n",
    "s = sum([x * x for x in nums])    # this creates extra list"
   ]
  },
  {
   "cell_type": "markdown",
   "metadata": {},
   "source": [
    "Generator? generator function? generator expression?"
   ]
  },
  {
   "cell_type": "markdown",
   "metadata": {},
   "source": [
    "- min()이나 max()같은 특정 함수들은 key argument를 이용하면 상황에 맞게 다른 object를 리턴받도록 할 수 있습니다."
   ]
  },
  {
   "cell_type": "code",
   "execution_count": 12,
   "metadata": {},
   "outputs": [
    {
     "name": "stdout",
     "output_type": "stream",
     "text": [
      "20\n",
      "{'name': 'AOL', 'shares': 20}\n"
     ]
    }
   ],
   "source": [
    "portfolio = [   \n",
    "    {'name':'GOOG', 'shares': 50},\n",
    "    {'name':'YHOO', 'shares': 75},\n",
    "    {'name':'AOL', 'shares': 20},\n",
    "    {'name':'SCOX', 'shares': 65}\n",
    "]\n",
    "\n",
    "# Original: Returns 20 \n",
    "min_shares = min(s['shares'] for s in portfolio)\n",
    "print(min_shares)\n",
    "\n",
    "# Alternative: Returns {'name': 'AOL', 'shares': 20}\n",
    "min_shares = min(portfolio, key=lambda s: s['shares'])\n",
    "print(min_shares)"
   ]
  },
  {
   "cell_type": "markdown",
   "metadata": {},
   "source": [
    "### 2-3) Matching String Using Shell Wildcard Patterns\n",
    "- Unix shell에서 쓰던 wildcard pattern으로 text matching 하고 싶을 때!\n",
    "- fnmatch()와 fnmatchcase()를 사용합니다"
   ]
  },
  {
   "cell_type": "code",
   "execution_count": 9,
   "metadata": {},
   "outputs": [
    {
     "data": {
      "text/plain": [
       "True"
      ]
     },
     "execution_count": 9,
     "metadata": {},
     "output_type": "execute_result"
    }
   ],
   "source": [
    "from fnmatch import fnmatch, fnmatchcase\n",
    "\n",
    "fnmatch('foo.txt', '*.txt')"
   ]
  },
  {
   "cell_type": "code",
   "execution_count": 14,
   "metadata": {},
   "outputs": [
    {
     "data": {
      "text/plain": [
       "True"
      ]
     },
     "execution_count": 14,
     "metadata": {},
     "output_type": "execute_result"
    }
   ],
   "source": [
    "fnmatch('foo.txt', '?oo.txt')"
   ]
  },
  {
   "cell_type": "code",
   "execution_count": 15,
   "metadata": {},
   "outputs": [
    {
     "data": {
      "text/plain": [
       "True"
      ]
     },
     "execution_count": 15,
     "metadata": {},
     "output_type": "execute_result"
    }
   ],
   "source": [
    "fnmatch('Dat45.csv', 'Dat[0-9]*')"
   ]
  },
  {
   "cell_type": "code",
   "execution_count": 16,
   "metadata": {},
   "outputs": [
    {
     "data": {
      "text/plain": [
       "['Dat1.csv', 'Dat2.csv']"
      ]
     },
     "execution_count": 16,
     "metadata": {},
     "output_type": "execute_result"
    }
   ],
   "source": [
    "names = ['Dat1.csv', 'Dat2.csv', 'config.ini', 'foo.py']\n",
    "[name for name in names if fnmatch(name, 'Dat[0-9]*.csv')]"
   ]
  },
  {
   "cell_type": "markdown",
   "metadata": {},
   "source": [
    "- regular expression에서 '?'는 정확히 한 개 문자 매칭만을, '*'은 (0 or more character)에 대한 매칭을 의미합니다"
   ]
  },
  {
   "cell_type": "code",
   "execution_count": 18,
   "metadata": {},
   "outputs": [
    {
     "data": {
      "text/plain": [
       "True"
      ]
     },
     "execution_count": 18,
     "metadata": {},
     "output_type": "execute_result"
    }
   ],
   "source": [
    "fnmatch('foo.txt', '*.TXT')"
   ]
  },
  {
   "cell_type": "code",
   "execution_count": 19,
   "metadata": {},
   "outputs": [
    {
     "data": {
      "text/plain": [
       "False"
      ]
     },
     "execution_count": 19,
     "metadata": {},
     "output_type": "execute_result"
    }
   ],
   "source": [
    "fnmatchcase('foo.txt', '*.TXT')"
   ]
  },
  {
   "cell_type": "markdown",
   "metadata": {},
   "source": [
    "- fnmatch는 filesystem 아래단에서 동작하는 pattern matching rule과 같은 rule을 사용하기 때문에, 실행하는 OS마다 달라질 수 있습니다.\n",
    "- 따라서 OS마다 동작이 달라지게 하고싶지 않으면 lower- and upper case conventions에 맞게 동작하도록 fnmatchcase를 사용합니다. "
   ]
  },
  {
   "cell_type": "markdown",
   "metadata": {},
   "source": [
    "Filename matching 뿐만 아니라 data processing에서도 요긴하게 써먹을수 있습니다"
   ]
  },
  {
   "cell_type": "code",
   "execution_count": 28,
   "metadata": {},
   "outputs": [
    {
     "name": "stdout",
     "output_type": "stream",
     "text": [
      "['5412 N CLARK ST', '1060 W ADDISON ST', '2122 N CLARK ST']\n",
      "['1060 W ADDISON ST', '1039 W GRANVILLE AVE']\n"
     ]
    }
   ],
   "source": [
    "from fnmatch import fnmatchcase\n",
    "\n",
    "addresses = [    \n",
    "    '5412 N CLARK ST',\n",
    "    '1060 W ADDISON ST',\n",
    "    '1039 W GRANVILLE AVE',\n",
    "    '2122 N CLARK ST',\n",
    "    '4802 N BROADWAY',\n",
    "] \n",
    "\n",
    "print([addr for addr in addresses if fnmatchcase(addr, '* ST')])\n",
    "print([addr for addr in addresses if fnmatchcase(addr, '10[0-9]* W *')])"
   ]
  },
  {
   "cell_type": "markdown",
   "metadata": {},
   "source": [
    "- fnmatch를 이용한 matching은 단순한 string methods와 완전 regular expression을 쓰는 것의 중간어디쯤 있습니다.\n",
    "-  data processing operation에 사용하면 좋은 solution이 될 수 있습니다.\n",
    "- 파일 이름을 매칭시키는 코드를 작성하고 싶으면 glob module(5.13)을 쓰는 것이 더 적합합니다."
   ]
  },
  {
   "cell_type": "markdown",
   "metadata": {},
   "source": [
    "### 2-7) Specifying a Regular Expression for the Shortest Match\n",
    "- regular expression을 사용할 때, logest possible match가 아니라 shortest possible match 찾고싶은 경우!\n",
    "\n",
    "- 보통 시작과 끝을 구분하는 구분 기호 쌍을 매치할 때 자주 일어나는 문제입니다. 아래 구체적인 예시를 참고하세요"
   ]
  },
  {
   "cell_type": "code",
   "execution_count": 94,
   "metadata": {},
   "outputs": [
    {
     "name": "stdout",
     "output_type": "stream",
     "text": [
      "['no.']\n",
      "['no.\" Phone says \"yes.']\n"
     ]
    }
   ],
   "source": [
    "import re\n",
    "\n",
    "str_pat = re.compile(r'\\\"(.*)\\\"')\n",
    "text1 = 'Computer says \"no.\"'\n",
    "print(str_pat.findall(text1))\n",
    "\n",
    "text2 = 'Computer says \"no.\" Phone says \"yes.\"'\n",
    "print(str_pat.findall(text2))"
   ]
  },
  {
   "cell_type": "markdown",
   "metadata": {},
   "source": [
    "- re.compile : 인자로 넘겨받은 정규표현식을 컴파일하고, 컴파일 된 패턴객체를 리턴합니다.\n",
    "(참고 : https://wikidocs.net/4308)\n",
    "- ' * ' : 0 or more\n",
    "- ' . ' : any single character"
   ]
  },
  {
   "cell_type": "markdown",
   "metadata": {},
   "source": [
    "위의 상황에서 text2를 컴파일 하는 경우 큰따옴표 사이에 있는 'no'와 'yes'만을 뽑아내고 싶은 것! 하지만 regular expression 안의 * operator가 넘모 greedy 하기 때문에 longest possible match를 찾아버리고 맙니다. 그래서 그럴 때에는 다음과 같이 * operator 뒤에 '?'를 붙여서 씁니다. 그러면 ?가 *의 greedy함을 제어해주는 역할을 함!"
   ]
  },
  {
   "cell_type": "code",
   "execution_count": 95,
   "metadata": {},
   "outputs": [
    {
     "data": {
      "text/plain": [
       "['no.', 'yes.']"
      ]
     },
     "execution_count": 95,
     "metadata": {},
     "output_type": "execute_result"
    }
   ],
   "source": [
    "str_pat = re.compile(r'\\\"(.*?)\\\"')\n",
    "str_pat.findall(text2) "
   ]
  },
  {
   "cell_type": "markdown",
   "metadata": {},
   "source": [
    "### 2-11) Stripping Unwanted Characters from strings\n",
    "- string 앞, 뒤, 또는 중간에 위치한 원치 않는 문자들(이를테면 공백)을 쳐내고 싶을 때 stip() method를 사용합니다"
   ]
  },
  {
   "cell_type": "code",
   "execution_count": 1,
   "metadata": {},
   "outputs": [
    {
     "name": "stdout",
     "output_type": "stream",
     "text": [
      "hello world\n",
      "hello world  \n",
      "\n",
      "   hello world\n"
     ]
    }
   ],
   "source": [
    "# Whitespace stripping \n",
    "s = '   hello world  \\n'\n",
    "print(s.strip())\n",
    "print(s.lstrip())\n",
    "print(s.rstrip())"
   ]
  },
  {
   "cell_type": "markdown",
   "metadata": {},
   "source": [
    "- lstrip 또는 rstrip으로 왼쪽 오른쪽 골라서 쳐낼 수 있습니다.\n",
    "- 인자에 아무것도 안들어가면 whitespace가 default, 들어가면 들어간 문자 기준으로!"
   ]
  },
  {
   "cell_type": "code",
   "execution_count": 2,
   "metadata": {},
   "outputs": [
    {
     "name": "stdout",
     "output_type": "stream",
     "text": [
      "hello=====\n",
      "hello\n"
     ]
    }
   ],
   "source": [
    "t = '-----hello=====' \n",
    "print(t.lstrip('-'))\n",
    "print(t.strip('-='))"
   ]
  },
  {
   "cell_type": "markdown",
   "metadata": {},
   "source": [
    "- 다양한 strip 함수들은 data를 읽기 좋게 만들고, 또 나중에 processing 하기 전에 cleaning up 하기 위해서 쓰입니다.\n",
    "- strip은 문자열 중간에 있는 무언가를 쳐내지는 못하는데, 이 때는 replace나 regular expression의 substitution을 사용해야 합니다."
   ]
  },
  {
   "cell_type": "code",
   "execution_count": 3,
   "metadata": {},
   "outputs": [
    {
     "name": "stdout",
     "output_type": "stream",
     "text": [
      "helloworld\n",
      "\n",
      " hello world \n"
     ]
    }
   ],
   "source": [
    "import re\n",
    "\n",
    "s = '  hello       world   \\n'\n",
    "print(s.replace(' ', ''))\n",
    "print(re.sub('\\s+', ' ', s))"
   ]
  },
  {
   "cell_type": "markdown",
   "metadata": {},
   "source": [
    "- 파일 읽기와 같이 반복적으로 무언가를 불러오는 작업을 할 때 strip operation을 combine할 수 있습니다.\n",
    "- 이 때 generator expression을 사용하면 유용할수도!"
   ]
  },
  {
   "cell_type": "code",
   "execution_count": 6,
   "metadata": {},
   "outputs": [
    {
     "data": {
      "text/plain": [
       "'\\n\\nwith open(filename) as f:\\n    lines = (line.strip() for line in f)\\n    for line in lines:\\n        ...\\n\\n'"
      ]
     },
     "execution_count": 6,
     "metadata": {},
     "output_type": "execute_result"
    }
   ],
   "source": [
    "# 아래 코드는 예시 코드일 뿐, 동작하지는 않습니다\n",
    "'''\n",
    "\n",
    "with open(filename) as f:\n",
    "    lines = (line.strip() for line in f)\n",
    "    for line in lines:\n",
    "        ...\n",
    "\n",
    "'''"
   ]
  },
  {
   "cell_type": "markdown",
   "metadata": {},
   "source": [
    "위와 같은 경우 lines 임시로 list같은 자료구조를 만들어 다 넣어놓을 필요 없이, line by line으로 불러올 수 있게 됩니다."
   ]
  },
  {
   "cell_type": "markdown",
   "metadata": {},
   "source": [
    "### 2-15) Interpolating Variables in Strings\n",
    "- string을 만들고 싶은데, string 안에 변수 이름 써서 해당 변수의 값을 string 안에 받아오고 싶을 때!\n",
    "- 파이썬에서 직접 지원하는 기능은 아니지만, fromat() method를 사용해서 구현할수는 있습니다 "
   ]
  },
  {
   "cell_type": "code",
   "execution_count": 8,
   "metadata": {},
   "outputs": [
    {
     "data": {
      "text/plain": [
       "'Guido has 37 messages.'"
      ]
     },
     "execution_count": 8,
     "metadata": {},
     "output_type": "execute_result"
    }
   ],
   "source": [
    "s = '{name} has {n} messages.'\n",
    "s.format(name='Guido', n=37) "
   ]
  },
  {
   "cell_type": "markdown",
   "metadata": {},
   "source": [
    "- 위에서 format이 input으로 받는 변수들 이름은 stiring 내부의 변수 이름과 동일합니다. \n",
    "- 함수 call 바깥에 선언되어있는 변수의 이름이 string 안의 변수 이름과 같으면 다음과 같이 format_map() 과 vars()를 사용해도 됩니다."
   ]
  },
  {
   "cell_type": "code",
   "execution_count": 24,
   "metadata": {},
   "outputs": [
    {
     "data": {
      "text/plain": [
       "'Guido has 37 messages.'"
      ]
     },
     "execution_count": 24,
     "metadata": {},
     "output_type": "execute_result"
    }
   ],
   "source": [
    "name = 'Guido' \n",
    "n = 37\n",
    "s.format_map(vars())"
   ]
  },
  {
   "cell_type": "markdown",
   "metadata": {},
   "source": [
    "- vars()는 instance를 인수로 받을수도 있습니다!"
   ]
  },
  {
   "cell_type": "code",
   "execution_count": 25,
   "metadata": {},
   "outputs": [
    {
     "data": {
      "text/plain": [
       "'Guido has 37 messages.'"
      ]
     },
     "execution_count": 25,
     "metadata": {},
     "output_type": "execute_result"
    }
   ],
   "source": [
    " class Info:\n",
    "    def __init__(self, name, n):\n",
    "        self.name = name \n",
    "        self.n = n\n",
    "\n",
    "a = Info('Guido',37)\n",
    "s.format_map(vars(a))"
   ]
  },
  {
   "cell_type": "markdown",
   "metadata": {},
   "source": [
    "- string 안에는 어떤 변수가 있는데 format()과 format_map()에서 받아올 때 하나라도 누락되면 에러 뜹니다."
   ]
  },
  {
   "cell_type": "code",
   "execution_count": 26,
   "metadata": {},
   "outputs": [
    {
     "ename": "KeyError",
     "evalue": "'n'",
     "output_type": "error",
     "traceback": [
      "\u001b[1;31m---------------------------------------------------------------------------\u001b[0m",
      "\u001b[1;31mKeyError\u001b[0m                                  Traceback (most recent call last)",
      "\u001b[1;32m<ipython-input-26-78f2bd676fa0>\u001b[0m in \u001b[0;36m<module>\u001b[1;34m\u001b[0m\n\u001b[1;32m----> 1\u001b[1;33m \u001b[0ms\u001b[0m\u001b[1;33m.\u001b[0m\u001b[0mformat\u001b[0m\u001b[1;33m(\u001b[0m\u001b[0mname\u001b[0m\u001b[1;33m=\u001b[0m\u001b[1;34m'Guido'\u001b[0m\u001b[1;33m)\u001b[0m\u001b[1;33m\u001b[0m\u001b[1;33m\u001b[0m\u001b[0m\n\u001b[0m",
      "\u001b[1;31mKeyError\u001b[0m: 'n'"
     ]
    }
   ],
   "source": [
    "s.format(name='Guido')"
   ]
  },
  {
   "cell_type": "markdown",
   "metadata": {},
   "source": [
    "- 위와 같은 에러를 피하는 한가지 방법은, 매직메소드를 사용하는 것입니다. __missing__()을 정의해주면 됩니다."
   ]
  },
  {
   "cell_type": "code",
   "execution_count": 32,
   "metadata": {},
   "outputs": [
    {
     "data": {
      "text/plain": [
       "'Guido has {n} messages.'"
      ]
     },
     "execution_count": 32,
     "metadata": {},
     "output_type": "execute_result"
    }
   ],
   "source": [
    "class safesub(dict):    \n",
    "    def __missing__(self, key):       \n",
    "        return '{' + key + '}'\n",
    "    \n",
    "s = '{name} has {n} messages.'\n",
    "name = 'Guido' \n",
    "n = 37    \n",
    "\n",
    "del n     # Make sure n is undefined\n",
    "s.format_map(safesub(vars()))"
   ]
  },
  {
   "cell_type": "markdown",
   "metadata": {},
   "source": [
    "- 위와 같은 substitution 작업들을 반복해야하는 경우에, \"frame hack\"라고 불리는 utility function을 사용하면 프로세스를 숨길수 있습니다!"
   ]
  },
  {
   "cell_type": "code",
   "execution_count": 34,
   "metadata": {},
   "outputs": [
    {
     "name": "stdout",
     "output_type": "stream",
     "text": [
      "Hello Guido\n",
      "You have 37 messages.\n",
      "Your favorite color is {color}\n"
     ]
    }
   ],
   "source": [
    "import sys\n",
    "\n",
    "def sub(text):\n",
    "    return text.format_map(safesub(sys._getframe(1).f_locals)) \n",
    "\n",
    "name = 'Guido' \n",
    "n = 37 \n",
    "print(sub('Hello {name}')) \n",
    "print(sub('You have {n} messages.'))\n",
    "print(sub('Your favorite color is {color}'))\n"
   ]
  },
  {
   "cell_type": "markdown",
   "metadata": {},
   "source": [
    "- 파이썬이 true value interpolation을 제대로 지원해주지 않아서 아래와 같은 fromating이 생기기도 했는데, format()과 format_map()이 좀더 모던한 솔루션입니다."
   ]
  },
  {
   "cell_type": "code",
   "execution_count": 50,
   "metadata": {},
   "outputs": [
    {
     "ename": "ValueError",
     "evalue": "unsupported format character 'm' (0x6d) at index 17",
     "output_type": "error",
     "traceback": [
      "\u001b[1;31m---------------------------------------------------------------------------\u001b[0m",
      "\u001b[1;31mValueError\u001b[0m                                Traceback (most recent call last)",
      "\u001b[1;32m<ipython-input-50-28c8789158e3>\u001b[0m in \u001b[0;36m<module>\u001b[1;34m\u001b[0m\n\u001b[0;32m      2\u001b[0m \u001b[0mname\u001b[0m \u001b[1;33m=\u001b[0m \u001b[1;34m'Guido'\u001b[0m\u001b[1;33m\u001b[0m\u001b[1;33m\u001b[0m\u001b[0m\n\u001b[0;32m      3\u001b[0m \u001b[0mn\u001b[0m \u001b[1;33m=\u001b[0m \u001b[1;36m37\u001b[0m\u001b[1;33m\u001b[0m\u001b[1;33m\u001b[0m\u001b[0m\n\u001b[1;32m----> 4\u001b[1;33m \u001b[1;34m'%(name) has %(n) messages.'\u001b[0m \u001b[1;33m%\u001b[0m \u001b[0mvars\u001b[0m\u001b[1;33m(\u001b[0m\u001b[1;33m)\u001b[0m\u001b[1;33m\u001b[0m\u001b[1;33m\u001b[0m\u001b[0m\n\u001b[0m",
      "\u001b[1;31mValueError\u001b[0m: unsupported format character 'm' (0x6d) at index 17"
     ]
    }
   ],
   "source": [
    "# 심지어 얘는 에러 원인을 찾기도 힘들었음..\n",
    "name = 'Guido' \n",
    "n = 37\n",
    "'%(name) has %(n) messages.' % vars()"
   ]
  },
  {
   "cell_type": "code",
   "execution_count": 44,
   "metadata": {},
   "outputs": [
    {
     "data": {
      "text/plain": [
       "'Guido has 37 messages.'"
      ]
     },
     "execution_count": 44,
     "metadata": {},
     "output_type": "execute_result"
    }
   ],
   "source": [
    "import string\n",
    "\n",
    "s = string.Template('$name has $n messages.') \n",
    "s.substitute(vars()) "
   ]
  }
 ],
 "metadata": {
  "kernelspec": {
   "display_name": "Python 3",
   "language": "python",
   "name": "python3"
  },
  "language_info": {
   "codemirror_mode": {
    "name": "ipython",
    "version": 3
   },
   "file_extension": ".py",
   "mimetype": "text/x-python",
   "name": "python",
   "nbconvert_exporter": "python",
   "pygments_lexer": "ipython3",
   "version": "3.7.2"
  }
 },
 "nbformat": 4,
 "nbformat_minor": 2
}
