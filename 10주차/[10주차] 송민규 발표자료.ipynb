{
 "cells": [
  {
   "cell_type": "markdown",
   "metadata": {},
   "source": [
    "## 14.4 Testing convention"
   ]
  },
  {
   "cell_type": "code",
   "execution_count": null,
   "metadata": {},
   "outputs": [],
   "source": [
    "import unittest\n",
    "\n",
    "class TestSomeFunc(unittest.TestCase):\n",
    "    # setUp() and tearDown() is always done before and after test,\n",
    "    # just like enter() and exit() in with statement\n",
    "    def setUp(self):\n",
    "        self.FOO = 'FOO'\n",
    "        self.foo = 'foo'\n",
    "\n",
    "    # test_* is compulsory convention to feed TestCase\n",
    "    # to see this function as unittesting target\n",
    "    def test_isupper(self): \n",
    "        self.assertEqual(self.foo.upper(), self.FOO)\n",
    "        self.assertTrue(self.FOO.isupper())\n",
    "        self.assertFalse(self.foo.isupper())\n",
    "    \n",
    "    def tearDown(self):\n",
    "        del self.FOO\n",
    "        del self.foo\n",
    "\n",
    "if __name__ == '__main__':\n",
    "    unittest.main()"
   ]
  },
  {
   "cell_type": "markdown",
   "metadata": {},
   "source": [
    "## 14.12"
   ]
  },
  {
   "cell_type": "code",
   "execution_count": null,
   "metadata": {},
   "outputs": [],
   "source": [
    "# sample.py\n",
    "def func(n):\n",
    "    return n + 10\n",
    "func('Hello')\n",
    "\n",
    "'''\n",
    "python -i sampple.py\n",
    ">>> import pdb\n",
    ">>> pdb.pm()\n",
    "(Pdb) w\n",
    "c:\\users\\plantarflex\\blackboard\\notes\\testing\\debugging.py(3)<module>()\n",
    "-> func('Hello')\n",
    "> c:\\users\\plantarflex\\blackboard\\notes\\testing\\debugging.py(2)func()\n",
    "-> return n + 10\n",
    "(Pdb) print(n)\n",
    "Hello\n",
    "'''"
   ]
  }
 ],
 "metadata": {
  "kernelspec": {
   "display_name": "Python 3",
   "language": "python",
   "name": "python3"
  },
  "language_info": {
   "codemirror_mode": {
    "name": "ipython",
    "version": 3
   },
   "file_extension": ".py",
   "mimetype": "text/x-python",
   "name": "python",
   "nbconvert_exporter": "python",
   "pygments_lexer": "ipython3",
   "version": "3.6.4"
  }
 },
 "nbformat": 4,
 "nbformat_minor": 2
}
