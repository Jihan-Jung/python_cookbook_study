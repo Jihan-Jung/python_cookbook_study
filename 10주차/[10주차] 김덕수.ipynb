{
 "cells": [
  {
   "cell_type": "markdown",
   "metadata": {},
   "source": [
    "# 발표 소단원 리스트"
   ]
  },
  {
   "cell_type": "markdown",
   "metadata": {},
   "source": [
    "14-3, 14-7, 14-11"
   ]
  },
  {
   "cell_type": "markdown",
   "metadata": {},
   "source": [
    "# 전체 요약자료"
   ]
  },
  {
   "cell_type": "markdown",
   "metadata": {},
   "source": [
    "- 14-3:\n",
    "- 14-7:\n",
    "- 14-11:\n"
   ]
  },
  {
   "cell_type": "markdown",
   "metadata": {},
   "source": [
    "### 14-3) Testing for Exceptional Conditions in Unit Tests \n",
    "- exception이 던져지는지 unit test하고싶을 때, assertRaise() 메서드를 사용합니다.\n"
   ]
  },
  {
   "cell_type": "markdown",
   "metadata": {},
   "source": [
    "- assertEqual은 corner case에 대한 처리가 필요하기 때문에 예외 테스트를 하기가 어렵습니다. 따라서 assertRasie()를 써야합니다!\n",
    "- assertRasise()에는 한계가 있는데, 만들어진 exception object의 value에 대해서는 테스트가 어렵다는 것. \n",
    "- 그럴 때는 setRaisesRegex()을 사용합니다. 그러면 exception을 테스트하는 동시에 exception의 string representation도 다룰 수 있게 됨!\n",
    "- assertRaise()와 assertRaiseRegex()는 context manager로도 사용될 수 있습니다."
   ]
  },
  {
   "cell_type": "code",
   "execution_count": null,
   "metadata": {},
   "outputs": [],
   "source": []
  },
  {
   "cell_type": "code",
   "execution_count": null,
   "metadata": {},
   "outputs": [],
   "source": []
  },
  {
   "cell_type": "markdown",
   "metadata": {},
   "source": [
    "### 14-7)  Catching All Exceptions \n",
    "- 모든 exception을 catch하는 코드를 짜고싶다면, 아래와 같이 Exception handler를 작성한다."
   ]
  },
  {
   "cell_type": "code",
   "execution_count": null,
   "metadata": {},
   "outputs": [],
   "source": [
    "try: \n",
    "    '...''\n",
    "except Exception as e: \n",
    "    '...'\n",
    "    log('Reason:', e)       # Important! "
   ]
  },
  {
   "cell_type": "markdown",
   "metadata": {},
   "source": [
    "- SystemExit, KeyboardInterrupt, and GeneratorExit 도 catch 하고싶다면 BaseException을 사용하라."
   ]
  },
  {
   "cell_type": "markdown",
   "metadata": {},
   "source": [
    "### 14-11)  Issuing Warning Messages\n",
    "- 프로그램에서 warning message를 띄워주고 싶을 때, warning.warn() 함수를 사용합니다."
   ]
  },
  {
   "cell_type": "code",
   "execution_count": null,
   "metadata": {},
   "outputs": [],
   "source": [
    "import warnings\n",
    "\n",
    "def func(x, y, logfile=None, debug=false):\n",
    "    if logfile is not None :"
   ]
  }
 ],
 "metadata": {
  "kernelspec": {
   "display_name": "Python 3",
   "language": "python",
   "name": "python3"
  },
  "language_info": {
   "codemirror_mode": {
    "name": "ipython",
    "version": 3
   },
   "file_extension": ".py",
   "mimetype": "text/x-python",
   "name": "python",
   "nbconvert_exporter": "python",
   "pygments_lexer": "ipython3",
   "version": "3.7.1"
  }
 },
 "nbformat": 4,
 "nbformat_minor": 2
}
