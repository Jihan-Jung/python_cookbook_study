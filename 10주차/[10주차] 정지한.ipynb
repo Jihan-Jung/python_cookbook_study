{
 "cells": [
  {
   "cell_type": "markdown",
   "metadata": {},
   "source": [
    "# 발표 소단원 리스트"
   ]
  },
  {
   "cell_type": "markdown",
   "metadata": {},
   "source": [
    "14-2,14-6,14-10,14-14"
   ]
  },
  {
   "cell_type": "markdown",
   "metadata": {},
   "source": [
    "# 문항별 자료 \n",
    "\n",
    "- (14-2) : Patching Objects in Unit Tests\n",
    "\n",
    "- (14-6) : Handling Multiple Exceptions\n",
    "\n",
    "- (14-10) : Reraising the Last Exception\n",
    "\n",
    "- (14-14) : Making Your Programse run faster (without C-extension, JIT complier)"
   ]
  },
  {
   "cell_type": "code",
   "execution_count": null,
   "metadata": {},
   "outputs": [],
   "source": []
  },
  {
   "cell_type": "markdown",
   "metadata": {},
   "source": [
    "### (14-2) Patching Objects in Unit Tests\n",
    "- "
   ]
  },
  {
   "cell_type": "code",
   "execution_count": 31,
   "metadata": {},
   "outputs": [],
   "source": [
    "from unittest.mock import patch\n",
    "import os\n",
    "\n",
    "def rm(file_name):\n",
    "    os.remove(file_name)\n",
    "\n",
    "## 실제로 사라지지 않음 -> 동작 하는지만 살펴봄!!\n",
    "with patch('__main__.rm') as mock_func:\n",
    "    rm('test.txt')\n",
    "    mock_func.assert_called_with('test.txt')"
   ]
  },
  {
   "cell_type": "code",
   "execution_count": 33,
   "metadata": {},
   "outputs": [],
   "source": [
    "## 추가적으로 decorator 사용하는 방식\n",
    "@patch('__main__.rm')\n",
    "def test1(file_name,mock_func):\n",
    "    rm(file_name)\n",
    "    mock_func.assert_called_with(file_name)\n",
    "    \n",
    "test1('test.txt')"
   ]
  },
  {
   "cell_type": "code",
   "execution_count": null,
   "metadata": {},
   "outputs": [],
   "source": []
  },
  {
   "cell_type": "code",
   "execution_count": 19,
   "metadata": {},
   "outputs": [
    {
     "name": "stdout",
     "output_type": "stream",
     "text": [
      "35\n"
     ]
    }
   ],
   "source": [
    "from unittest.mock import patch\n",
    "\n",
    "x = 50\n",
    "\n",
    "with patch('__main__.x',35):\n",
    "    print(x)"
   ]
  },
  {
   "cell_type": "code",
   "execution_count": 20,
   "metadata": {},
   "outputs": [
    {
     "data": {
      "text/plain": [
       "50"
      ]
     },
     "execution_count": 20,
     "metadata": {},
     "output_type": "execute_result"
    }
   ],
   "source": [
    "x"
   ]
  },
  {
   "cell_type": "code",
   "execution_count": 24,
   "metadata": {},
   "outputs": [],
   "source": [
    "def calc_result(num):\n",
    "    print(num**2)"
   ]
  },
  {
   "cell_type": "code",
   "execution_count": 25,
   "metadata": {},
   "outputs": [
    {
     "name": "stdout",
     "output_type": "stream",
     "text": [
      "35\n",
      "1225\n"
     ]
    }
   ],
   "source": [
    "from unittest.mock import patch\n",
    "\n",
    "x = 50\n",
    "\n",
    "with patch('__main__.x',35):\n",
    "    ## 이 환경 속에서 함수의 특정 인자 값을 원하는 것으로 바꿔가면서 테스트 가능!!\n",
    "    print(x)\n",
    "    calc_result(x)"
   ]
  },
  {
   "cell_type": "code",
   "execution_count": null,
   "metadata": {},
   "outputs": [],
   "source": []
  },
  {
   "cell_type": "code",
   "execution_count": null,
   "metadata": {},
   "outputs": [],
   "source": []
  },
  {
   "cell_type": "markdown",
   "metadata": {},
   "source": [
    "### 14-6) Handling Multiple Exceptions\n",
    "- 여러개 에러 처리 방법\n",
    "    1. 동시에 에러 받기\n",
    "    2. except 여러개 쓰기 : 위에꺼부터 순차적으로 실행 (위에서 에러 발생하면 아래 실행 안 됨)\n",
    "    3. 여러개 에러의 상위 클래스로 받기\n",
    " "
   ]
  },
  {
   "cell_type": "code",
   "execution_count": 59,
   "metadata": {},
   "outputs": [
    {
     "name": "stdout",
     "output_type": "stream",
     "text": [
      "total error\n",
      "Only Timeout error\n",
      "no file\n",
      "no file\n"
     ]
    }
   ],
   "source": [
    "## 1. 동시에 받기\n",
    "from urllib.error import *\n",
    "from socket import timeout\n",
    "\n",
    "try:\n",
    "    raise ValueError\n",
    "except (ValueError,URLError,timeout):\n",
    "    print('total error')\n",
    "    \n",
    "    \n",
    "## 2. except 여러개 쓰기 : 에러마다 처리 다르게 해주고 싶을 때\n",
    "try:\n",
    "    raise timeout\n",
    "except(URLError,ValueError):\n",
    "    print('two error')\n",
    "except(timeout):\n",
    "    print('Only Timeout error')\n",
    "\n",
    "## 3. 여러개 상위 클래스로 받기\n",
    "try:\n",
    "    f = open('no_such_file.txt')\n",
    "except (FileNotFoundError,PermissionError):\n",
    "    print('no file')\n",
    "    \n",
    "## 대신해서\n",
    "try:\n",
    "    f = open('no_such_file.txt')\n",
    "except OSError:\n",
    "    print('no file')"
   ]
  },
  {
   "cell_type": "code",
   "execution_count": 63,
   "metadata": {},
   "outputs": [
    {
     "name": "stdout",
     "output_type": "stream",
     "text": [
      "2\n"
     ]
    }
   ],
   "source": [
    "## 에러에 이름 달아서 세부사항 꺼내기\n",
    "try:\n",
    "    f = open('no_such_file.txt')\n",
    "except OSError as e:\n",
    "    print(e.errno)"
   ]
  },
  {
   "cell_type": "code",
   "execution_count": 66,
   "metadata": {},
   "outputs": [
    {
     "name": "stdout",
     "output_type": "stream",
     "text": [
      "filenotfounderror\n"
     ]
    }
   ],
   "source": [
    "try:\n",
    "    f = open('no_such_file.txt')\n",
    "except FileNotFoundError:\n",
    "    print('filenotfounderror')\n",
    "except OSError:\n",
    "    print('OSError')"
   ]
  },
  {
   "cell_type": "code",
   "execution_count": 67,
   "metadata": {},
   "outputs": [
    {
     "name": "stdout",
     "output_type": "stream",
     "text": [
      "OSError\n"
     ]
    }
   ],
   "source": [
    "try:\n",
    "    f = open('no_such_file.txt')\n",
    "except OSError:\n",
    "    print('OSError')\n",
    "except FileNotFoundError:\n",
    "    print('filenotfounderror')"
   ]
  },
  {
   "cell_type": "code",
   "execution_count": 68,
   "metadata": {},
   "outputs": [
    {
     "data": {
      "text/plain": [
       "(FileNotFoundError, OSError, Exception, BaseException, object)"
      ]
     },
     "execution_count": 68,
     "metadata": {},
     "output_type": "execute_result"
    }
   ],
   "source": [
    "FileNotFoundError.__mro__## 상위 클래스 BaseException까지 써볼 수 있음"
   ]
  },
  {
   "cell_type": "code",
   "execution_count": null,
   "metadata": {},
   "outputs": [],
   "source": []
  },
  {
   "cell_type": "markdown",
   "metadata": {},
   "source": [
    "### 14-10) Reraising the Last Exception\n",
    "- except 처리하고 raise 한 번 더 불러주기.."
   ]
  },
  {
   "cell_type": "code",
   "execution_count": 69,
   "metadata": {},
   "outputs": [
    {
     "name": "stdout",
     "output_type": "stream",
     "text": [
      "saved in log file\n"
     ]
    },
    {
     "ename": "ValueError",
     "evalue": "invalid literal for int() with base 10: 'N/A'",
     "output_type": "error",
     "traceback": [
      "\u001b[0;31m\u001b[0m",
      "\u001b[0;31mValueError\u001b[0mTraceback (most recent call last)",
      "\u001b[0;32m<ipython-input-69-c3e7792df7e6>\u001b[0m in \u001b[0;36m<module>\u001b[0;34m\u001b[0m\n\u001b[1;32m      1\u001b[0m \u001b[0;32mtry\u001b[0m\u001b[0;34m:\u001b[0m\u001b[0;34m\u001b[0m\u001b[0;34m\u001b[0m\u001b[0m\n\u001b[0;32m----> 2\u001b[0;31m     \u001b[0mint\u001b[0m\u001b[0;34m(\u001b[0m\u001b[0;34m'N/A'\u001b[0m\u001b[0;34m)\u001b[0m\u001b[0;34m\u001b[0m\u001b[0;34m\u001b[0m\u001b[0m\n\u001b[0m\u001b[1;32m      3\u001b[0m \u001b[0;32mexcept\u001b[0m \u001b[0mValueError\u001b[0m\u001b[0;34m:\u001b[0m\u001b[0;34m\u001b[0m\u001b[0;34m\u001b[0m\u001b[0m\n\u001b[1;32m      4\u001b[0m     \u001b[0;31m## logging\u001b[0m\u001b[0;34m\u001b[0m\u001b[0;34m\u001b[0m\u001b[0;34m\u001b[0m\u001b[0m\n\u001b[1;32m      5\u001b[0m     \u001b[0mprint\u001b[0m\u001b[0;34m(\u001b[0m\u001b[0;34m'saved in log file'\u001b[0m\u001b[0;34m)\u001b[0m\u001b[0;34m\u001b[0m\u001b[0;34m\u001b[0m\u001b[0m\n",
      "\u001b[0;31mValueError\u001b[0m: invalid literal for int() with base 10: 'N/A'"
     ]
    }
   ],
   "source": [
    "try:\n",
    "    int('N/A')\n",
    "except ValueError:\n",
    "    ## logging\n",
    "    print('saved in log file')\n",
    "    raise"
   ]
  },
  {
   "cell_type": "markdown",
   "metadata": {},
   "source": [
    "### (14-14) Making Your Programse run faster (without C-extension, JIT complier)\n",
    "    \n",
    "- for loop나 중요한 부분에 신경쓰기 (minor한 부분은 무시해도 좋음) \n",
    "    - 1. local 변수를 쓰는게 더 빠름 : 함수도 마찬가지\n",
    "    - 2. 로컬화\n",
    "    - 3. decorator 피하기\n",
    "    - 4. built in data type 이용하기 (list,set,dict,tuples,string)"
   ]
  },
  {
   "cell_type": "code",
   "execution_count": 88,
   "metadata": {},
   "outputs": [
    {
     "name": "stdout",
     "output_type": "stream",
     "text": [
      "['0', '1', '2', '3', '4', '5', '6', '7', '8', '9']\n"
     ]
    },
    {
     "data": {
      "text/plain": [
       "0.005220174789428711"
      ]
     },
     "execution_count": 88,
     "metadata": {},
     "output_type": "execute_result"
    }
   ],
   "source": [
    "## 1. 로컬 변수 쓰기\n",
    "import time\n",
    "start = time.time()\n",
    "with open('test.txt') as f:\n",
    "    a= f.readlines()\n",
    "    print([s[0] for s in a])\n",
    "time.time() - start"
   ]
  },
  {
   "cell_type": "code",
   "execution_count": 82,
   "metadata": {},
   "outputs": [],
   "source": [
    "def main(filename):\n",
    "    with open(filename) as f:\n",
    "        a= f.readlines()\n",
    "        print([s[0] for s in a])"
   ]
  },
  {
   "cell_type": "code",
   "execution_count": 89,
   "metadata": {},
   "outputs": [
    {
     "name": "stdout",
     "output_type": "stream",
     "text": [
      "['0', '1', '2', '3', '4', '5', '6', '7', '8', '9']\n"
     ]
    },
    {
     "data": {
      "text/plain": [
       "0.0051920413970947266"
      ]
     },
     "execution_count": 89,
     "metadata": {},
     "output_type": "execute_result"
    }
   ],
   "source": [
    "import time\n",
    "start = time.time()\n",
    "\n",
    "main('test.txt')\n",
    "time.time() - start"
   ]
  },
  {
   "cell_type": "code",
   "execution_count": null,
   "metadata": {},
   "outputs": [],
   "source": []
  },
  {
   "cell_type": "code",
   "execution_count": 91,
   "metadata": {},
   "outputs": [],
   "source": [
    "## 2. 로컬화\n",
    "import math\n",
    "sqrt = math.sqrt\n",
    "result=[]\n",
    "result_append = result.append"
   ]
  },
  {
   "cell_type": "code",
   "execution_count": null,
   "metadata": {},
   "outputs": [],
   "source": []
  },
  {
   "cell_type": "code",
   "execution_count": 94,
   "metadata": {},
   "outputs": [],
   "source": [
    "## 3. 데코레이터 피하기\n",
    "class A:\n",
    "    def __init__(self,x,y):\n",
    "        self.x = x\n",
    "        self.y = y\n",
    "        \n",
    "    @property\n",
    "    def y(self):\n",
    "        return self._y\n",
    "    \n",
    "    @y.setter\n",
    "    def y(self,value):\n",
    "        self._y = value"
   ]
  },
  {
   "cell_type": "code",
   "execution_count": 95,
   "metadata": {},
   "outputs": [
    {
     "data": {
      "text/plain": [
       "0.03317560000141384"
      ]
     },
     "execution_count": 95,
     "metadata": {},
     "output_type": "execute_result"
    }
   ],
   "source": [
    "from timeit import timeit\n",
    "a = A(1,2)\n",
    "timeit('a.x','from __main__ import a')"
   ]
  },
  {
   "cell_type": "code",
   "execution_count": 96,
   "metadata": {},
   "outputs": [
    {
     "data": {
      "text/plain": [
       "0.12396319999970729"
      ]
     },
     "execution_count": 96,
     "metadata": {},
     "output_type": "execute_result"
    }
   ],
   "source": [
    "timeit('a.y','from __main__ import a')"
   ]
  },
  {
   "cell_type": "code",
   "execution_count": null,
   "metadata": {},
   "outputs": [],
   "source": []
  },
  {
   "cell_type": "code",
   "execution_count": null,
   "metadata": {},
   "outputs": [],
   "source": [
    "## 4. built in data type 이용하기 (list,set,dict,tuples,string)\n"
   ]
  },
  {
   "cell_type": "code",
   "execution_count": null,
   "metadata": {},
   "outputs": [],
   "source": []
  },
  {
   "cell_type": "code",
   "execution_count": null,
   "metadata": {},
   "outputs": [],
   "source": []
  },
  {
   "cell_type": "code",
   "execution_count": null,
   "metadata": {},
   "outputs": [],
   "source": []
  }
 ],
 "metadata": {
  "kernelspec": {
   "display_name": "Python 3",
   "language": "python",
   "name": "python3"
  },
  "language_info": {
   "codemirror_mode": {
    "name": "ipython",
    "version": 3
   },
   "file_extension": ".py",
   "mimetype": "text/x-python",
   "name": "python",
   "nbconvert_exporter": "python",
   "pygments_lexer": "ipython3",
   "version": "3.7.3"
  }
 },
 "nbformat": 4,
 "nbformat_minor": 2
}
