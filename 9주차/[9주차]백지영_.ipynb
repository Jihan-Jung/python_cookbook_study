{
 "cells": [
  {
   "cell_type": "markdown",
   "metadata": {},
   "source": [
    "## 13.1"
   ]
  },
  {
   "cell_type": "code",
   "execution_count": 21,
   "metadata": {},
   "outputs": [
    {
     "name": "stdout",
     "output_type": "stream",
     "text": [
      "cmake_minimum_required(VERSION 2.8.3)\n",
      "project(pick_and_place)\n",
      "set(CMAKE_CXX_FLAGS \"-std=c++11 ${CMAKE_CXX_FLAGS}\")\n",
      "## Compile as C++11, supported in ROS Kinetic and newer\n",
      "#add_compile_options(-std=c++11)\n",
      "\n",
      "\n",
      "LIST( APPEND CMAKE_MODULE_PATH \"${PROJECT_SOURCE_DIR}/cmake\" )\n",
      "MESSAGE( STATUS \"CMAKE_MODULE_PATH: \" ${CMAKE_MODULE_PATH} )\n",
      "\n",
      "#find_package(PkgConfig QUIET)\n",
      "find_package(Eigen3 REQUIRED)\n",
      "find_package(RBDL REQUIRED)\n",
      "\n",
      "find_package(catkin REQUIRED COMPONENTS\n",
      "  moveit_ros_planning_interface\n",
      "  moveit_visual_tools\n",
      "  roscpp\n",
      "  rospy\n",
      "  std_msgs\n",
      ")\n",
      "catkin_package(\n",
      "#  INCLUDE_DIRS include\n",
      "#  LIBRARIES compute_cdist\n",
      "#  CATKIN_DEPENDS roscpp visualization_msgs robot_model_helper compute_cdist\n",
      "#  DEPENDS assimp Eigen mlpack\n",
      ")\n",
      "\n",
      "set (VREP_ROOT\n",
      "    $ENV{HOME}/vrep_35/\n",
      "    CACHE \"VRep root dir\" STRING)\n",
      "\n",
      "include_directories(\n",
      "  include\n",
      "  ${catkin_INCLUDE_DIRS}\n",
      "  ${VREP_ROOT}/programming/include \n",
      "  ${VREP_ROOT}/programming/remoteApi\n",
      "  ${EIGEN3_INCLUDE_DIR}\n",
      "  ${RBDL_INCLDUE_DIR}\n",
      "  ${VREP_PATH}/remoteApi \n",
      "  ${VREP_PATH}/include \n",
      ")\n",
      "\n",
      "add_definitions (-DNON_MATLAB_PARSING)\n",
      "add_definitions (-DMAX_EXT_API_CONNECTIONS=255)\n",
      "\n",
      "set (SOURCES\n",
      "  src/pick_and_place.cpp\n",
      "  src/vrep_bridge.cpp\n",
      "  ${VREP_ROOT}/programming/remoteApi/extApi.c\n",
      "  ${VREP_ROOT}/programming/remoteApi/extApiPlatform.c\n",
      "  ${VREP_ROOT}/programming/common/shared_memory.c\n",
      ")\n",
      "\n",
      "add_executable(pickandplace ${SOURCES})\n",
      "\n",
      "target_link_libraries(pickandplace ${catkin_LIBRARIES} rt)\n"
     ]
    }
   ],
   "source": [
    "import fileinput\n",
    "\n",
    "with fileinput.input('/home/jiyeong/catkin_ws/src/pick_and_place/CMakeLists.txt') as f_input:\n",
    "    for line in f_input:\n",
    "        print(line, end='')"
   ]
  },
  {
   "cell_type": "markdown",
   "metadata": {},
   "source": [
    "## 13.5 터미널 크기 구하기`ㅡ"
   ]
  },
  {
   "cell_type": "code",
   "execution_count": 6,
   "metadata": {},
   "outputs": [
    {
     "data": {
      "text/plain": [
       "os.terminal_size(columns=80, lines=24)"
      ]
     },
     "execution_count": 6,
     "metadata": {},
     "output_type": "execute_result"
    }
   ],
   "source": [
    "import os\n",
    "sz = os.get_terminal_size()\n",
    "sz"
   ]
  },
  {
   "cell_type": "code",
   "execution_count": 7,
   "metadata": {},
   "outputs": [
    {
     "data": {
      "text/plain": [
       "80"
      ]
     },
     "execution_count": 7,
     "metadata": {},
     "output_type": "execute_result"
    }
   ],
   "source": [
    "sz.columns"
   ]
  },
  {
   "cell_type": "code",
   "execution_count": 8,
   "metadata": {},
   "outputs": [
    {
     "data": {
      "text/plain": [
       "24"
      ]
     },
     "execution_count": 8,
     "metadata": {},
     "output_type": "execute_result"
    }
   ],
   "source": [
    "sz.lines"
   ]
  },
  {
   "cell_type": "markdown",
   "metadata": {},
   "source": [
    "## 13.9 이름으로 파일 찾기"
   ]
  },
  {
   "cell_type": "code",
   "execution_count": 11,
   "metadata": {},
   "outputs": [],
   "source": [
    "import os\n",
    "import sys\n",
    "def findfile(start, name):\n",
    "    for relpath, dirs, files in os.walk(start):\n",
    "        if name in files:\n",
    "            full_path = os.path.join(start, relpath, name)\n",
    "            ## abspath : 상대경로->절대경로\n",
    "            ## normpath : 경로 노말화\n",
    "            print(os.path.normpath(os.path.abspath(full_path))) \n",
    "if __name__ == '__main__':\n",
    "    findfile(sys.argv[1], sys.argv[2])"
   ]
  },
  {
   "cell_type": "code",
   "execution_count": null,
   "metadata": {},
   "outputs": [],
   "source": []
  },
  {
   "cell_type": "markdown",
   "metadata": {},
   "source": [
    "## 13.13 스톱워치 타이머"
   ]
  },
  {
   "cell_type": "code",
   "execution_count": 16,
   "metadata": {},
   "outputs": [],
   "source": [
    "import time\n",
    "\n",
    "class Timer:\n",
    "    def __init__(self, func=time.perf_counter):\n",
    "        self.elapsed = 0.0\n",
    "        self._func = func\n",
    "        self._start = None\n",
    "        \n",
    "    def start(self):\n",
    "        if self._start is not None:\n",
    "            raise RuntimeError('Already started')\n",
    "        self._start = self._func()\n",
    "        \n",
    "    def stop(self):\n",
    "        if self._start is None:\n",
    "            raise RuntimeError('Not started')\n",
    "        end = self._func()\n",
    "        self.elapsed += end-self._start\n",
    "        self._start = None\n",
    "        \n",
    "    def reset(self):\n",
    "        self.elapsed = 0.0\n",
    "        \n",
    "    @property\n",
    "    def running(self):\n",
    "        return self._start is not None\n",
    "    \n",
    "    def __enter__(self):\n",
    "        self.start()\n",
    "        return self\n",
    "    \n",
    "    def __exit__(self, *args):\n",
    "        self.stop()"
   ]
  },
  {
   "cell_type": "code",
   "execution_count": 17,
   "metadata": {},
   "outputs": [],
   "source": [
    "def countdown(n):\n",
    "    while n > 0 :\n",
    "        n -= 1"
   ]
  },
  {
   "cell_type": "code",
   "execution_count": 23,
   "metadata": {},
   "outputs": [
    {
     "name": "stdout",
     "output_type": "stream",
     "text": [
      "0.02618435700014743\n"
     ]
    }
   ],
   "source": [
    "t = Timer()\n",
    "t.start()\n",
    "countdown(100000)\n",
    "t.stop()\n",
    "print(t.elapsed)"
   ]
  },
  {
   "cell_type": "code",
   "execution_count": 22,
   "metadata": {},
   "outputs": [
    {
     "name": "stdout",
     "output_type": "stream",
     "text": [
      "0.009301990999574627\n",
      "0.007399007000003621\n"
     ]
    }
   ],
   "source": [
    "with t:\n",
    "    countdown(100000)\n",
    "print(t.elapsed)\n",
    "    \n",
    "with Timer() as t2:\n",
    "    countdown(100000)\n",
    "print(t2.elapsed)"
   ]
  },
  {
   "cell_type": "code",
   "execution_count": null,
   "metadata": {},
   "outputs": [],
   "source": []
  }
 ],
 "metadata": {
  "kernelspec": {
   "display_name": "Python 3",
   "language": "python",
   "name": "python3"
  },
  "language_info": {
   "codemirror_mode": {
    "name": "ipython",
    "version": 3
   },
   "file_extension": ".py",
   "mimetype": "text/x-python",
   "name": "python",
   "nbconvert_exporter": "python",
   "pygments_lexer": "ipython3",
   "version": "3.5.2"
  }
 },
 "nbformat": 4,
 "nbformat_minor": 2
}
