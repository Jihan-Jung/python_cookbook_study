{
 "cells": [
  {
   "cell_type": "markdown",
   "metadata": {},
   "source": [
    "# 발표 소단원 리스트"
   ]
  },
  {
   "cell_type": "markdown",
   "metadata": {},
   "source": [
    "13-3, 13-7, 13-11, 13-15"
   ]
  },
  {
   "cell_type": "markdown",
   "metadata": {},
   "source": [
    "# 전체 요약자료"
   ]
  },
  {
   "cell_type": "markdown",
   "metadata": {},
   "source": [
    "- 13-3 : \n",
    "- 13-7 : \n",
    "- 13-11 :\n",
    "- 13-15 :\n"
   ]
  },
  {
   "cell_type": "markdown",
   "metadata": {},
   "source": [
    "### 13-3)  Parsing Command-Line Options \n",
    "- python 스크립트 실행과 함께 입력받은 command를 parsing할 수 있음!"
   ]
  },
  {
   "cell_type": "markdown",
   "metadata": {},
   "source": [
    "### 13-7) Copying or Moving Files and Directories \n",
    "- file이나 directory를 copy하거나 move 하고 싶을 때, shutil 사용하시면 됩니다."
   ]
  },
  {
   "cell_type": "markdown",
   "metadata": {},
   "source": [
    "- 조심해야할 것은, copy2 같은 함수들은 os에 따라 file matadata를 제대로 보존할 수 없을수도 있다는 점!"
   ]
  },
  {
   "cell_type": "markdown",
   "metadata": {},
   "source": [
    "### 13-11)  Adding Logging to Simple Scripts \n",
    "- 간단한 scripts에 로그 남기고 싶을 때, logging 모듈을 사용합니다!\n",
    "- 참고 링크 : https://hamait.tistory.com/880"
   ]
  },
  {
   "cell_type": "markdown",
   "metadata": {},
   "source": [
    "- BasicConfig 메서드로 logging system configuration 가능합니다.\n",
    "- BasicConfig는 한번만 호출 가능합니다. 만약에 이후에 설정을 바꾸고싶으면 module에 직접 접근해야함.\n",
    "- 로그 레벨에 따라 (critical(), error(), warning(), info(), debug()) 다섯개의 logging call이 있습니다."
   ]
  },
  {
   "cell_type": "markdown",
   "metadata": {},
   "source": [
    "### 13-15) Launching a Web Browser \n",
    "- script를 통해 웹 브라우저를 열고 싶을 때"
   ]
  },
  {
   "cell_type": "code",
   "execution_count": 3,
   "metadata": {},
   "outputs": [
    {
     "data": {
      "text/plain": [
       "True"
      ]
     },
     "execution_count": 3,
     "metadata": {},
     "output_type": "execute_result"
    }
   ],
   "source": [
    "import webbrowser \n",
    "webbrowser.open('http://www.python.org') "
   ]
  }
 ],
 "metadata": {
  "kernelspec": {
   "display_name": "Python 3",
   "language": "python",
   "name": "python3"
  },
  "language_info": {
   "codemirror_mode": {
    "name": "ipython",
    "version": 3
   },
   "file_extension": ".py",
   "mimetype": "text/x-python",
   "name": "python",
   "nbconvert_exporter": "python",
   "pygments_lexer": "ipython3",
   "version": "3.7.1"
  }
 },
 "nbformat": 4,
 "nbformat_minor": 2
}
