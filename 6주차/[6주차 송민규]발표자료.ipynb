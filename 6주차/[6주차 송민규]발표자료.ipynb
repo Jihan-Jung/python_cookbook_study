{
 "cells": [
  {
   "cell_type": "markdown",
   "metadata": {},
   "source": [
    "# 발표 소단원 리스트"
   ]
  },
  {
   "cell_type": "markdown",
   "metadata": {},
   "source": [
    "9.4\n",
    "9.8\n",
    "9.12"
   ]
  },
  {
   "cell_type": "markdown",
   "metadata": {},
   "source": [
    "## 8.3 decorator with parameter"
   ]
  },
  {
   "cell_type": "code",
   "execution_count": 2,
   "metadata": {},
   "outputs": [
    {
     "name": "stdout",
     "output_type": "stream",
     "text": [
      "before decorator\n",
      "after decorator\n",
      "3\n"
     ]
    }
   ],
   "source": [
    "# simple decorator\n",
    "\n",
    "def decorator(func):\n",
    "    def decorated(*args, **kwargs):\n",
    "        print('before decorator')\n",
    "        ret = func(*args, **kwargs)\n",
    "        print('after decorator')\n",
    "        return ret\n",
    "    return decorated\n",
    "\n",
    "@decorator\n",
    "def adder(x,y):\n",
    "    return x+y\n",
    "\n",
    "print(adder(1,2))"
   ]
  },
  {
   "cell_type": "code",
   "execution_count": 3,
   "metadata": {},
   "outputs": [
    {
     "name": "stdout",
     "output_type": "stream",
     "text": [
      "10 20\n",
      "before decorator\n",
      "after decorator\n",
      "3\n"
     ]
    }
   ],
   "source": [
    "# decorator with parameter\n",
    "\n",
    "def decorator_factory(par1, par2):\n",
    "    def decorator(func):\n",
    "        print(par1, par2)\n",
    "        def decorated(*args, **kwargs):\n",
    "            print('before decorator')\n",
    "            ret = func(*args, **kwargs)\n",
    "            print('after decorator')\n",
    "            return ret\n",
    "        return decorated\n",
    "    return decorator\n",
    "\n",
    "\n",
    "@decorator_factory(10,20)\n",
    "def adder2(x,y):\n",
    "    return x+y\n",
    "\n",
    "print(adder2(1,2))\n",
    "\n",
    "\n"
   ]
  },
  {
   "cell_type": "code",
   "execution_count": 15,
   "metadata": {},
   "outputs": [
    {
     "name": "stdout",
     "output_type": "stream",
     "text": [
      "3\n"
     ]
    }
   ],
   "source": [
    "# example to memorize\n",
    "import logging\n",
    "import sys\n",
    "\n",
    "def logged(level, name=None, message=None):\n",
    "    def decorate(func):\n",
    "        logname = name if name else func.__module__\n",
    "        logmsg = message if message else func.__name__\n",
    "        logger = logging.getLogger(logname)\n",
    "        def decorated(*args, **kwargs):\n",
    "            logger.setLevel(level)\n",
    "            streamHandler = logging.StreamHandler(sys.stdout)\n",
    "            formatter = logging.Formatter(\"%(asctime)s - %(name)s - %(levelname)s - %(message)s\")\n",
    "            streamHandler.setFormatter(formatter)\n",
    "            logger.addHandler(streamHandler)\n",
    "            return func(*args, **kwargs)\n",
    "        return decorated\n",
    "    return decorate\n",
    "\n",
    "@logged(logging.DEBUG)\n",
    "def adder3(x,y):\n",
    "    return x+y\n",
    "\n",
    "\n",
    "print(adder3(1,2))\n",
    "logging.debug(\"adder3\")"
   ]
  },
  {
   "cell_type": "markdown",
   "metadata": {},
   "source": [
    "## 9.8 decorator declared in class"
   ]
  },
  {
   "cell_type": "code",
   "execution_count": 18,
   "metadata": {},
   "outputs": [
    {
     "name": "stdout",
     "output_type": "stream",
     "text": [
      "deco1\n",
      "3\n",
      "deco2\n",
      "7\n"
     ]
    }
   ],
   "source": [
    "# this is easy concept\n",
    "\n",
    "class Class:\n",
    "    def deco1(self, func):\n",
    "        def decorated(*args, **kwargs):\n",
    "            print('deco1')\n",
    "            return func(*args, **kwargs)\n",
    "        return decorated\n",
    "\n",
    "    @classmethod\n",
    "    def deco2(cls, func):\n",
    "        def decorated(*args, **kwargs):\n",
    "            print('deco2')\n",
    "            return func(*args, **kwargs)\n",
    "        return decorated\n",
    "    \n",
    "c = Class()\n",
    "\n",
    "@c.deco1\n",
    "def adder4(x,y):\n",
    "    return x+y\n",
    "\n",
    "@Class.deco2\n",
    "def adder5(x,y):\n",
    "    return x+y\n",
    "\n",
    "print(adder4(1,2))\n",
    "print(adder5(3,4))"
   ]
  },
  {
   "cell_type": "code",
   "execution_count": 20,
   "metadata": {},
   "outputs": [
    {
     "ename": "TypeError",
     "evalue": "",
     "output_type": "error",
     "traceback": [
      "\u001b[1;31m---------------------------------------------------------------------------\u001b[0m",
      "\u001b[1;31mTypeError\u001b[0m                                 Traceback (most recent call last)",
      "\u001b[1;32m<ipython-input-20-939a8d5b4f2f>\u001b[0m in \u001b[0;36m<module>\u001b[1;34m()\u001b[0m\n\u001b[0;32m     21\u001b[0m \u001b[0mc\u001b[0m \u001b[1;33m=\u001b[0m \u001b[0mClass\u001b[0m\u001b[1;33m(\u001b[0m\u001b[1;33m)\u001b[0m\u001b[1;33m\u001b[0m\u001b[0m\n\u001b[0;32m     22\u001b[0m \u001b[0mc\u001b[0m\u001b[1;33m.\u001b[0m\u001b[0mattr\u001b[0m \u001b[1;33m=\u001b[0m \u001b[1;34m'hello'\u001b[0m\u001b[1;33m\u001b[0m\u001b[0m\n\u001b[1;32m---> 23\u001b[1;33m \u001b[0mc\u001b[0m\u001b[1;33m.\u001b[0m\u001b[0mattr\u001b[0m \u001b[1;33m=\u001b[0m \u001b[1;36m1\u001b[0m\u001b[1;33m\u001b[0m\u001b[0m\n\u001b[0m",
      "\u001b[1;32m<ipython-input-20-939a8d5b4f2f>\u001b[0m in \u001b[0;36mattr\u001b[1;34m(self, val)\u001b[0m\n\u001b[0;32m     16\u001b[0m     \u001b[1;32mdef\u001b[0m \u001b[0mattr\u001b[0m\u001b[1;33m(\u001b[0m\u001b[0mself\u001b[0m\u001b[1;33m,\u001b[0m \u001b[0mval\u001b[0m\u001b[1;33m)\u001b[0m\u001b[1;33m:\u001b[0m\u001b[1;33m\u001b[0m\u001b[0m\n\u001b[0;32m     17\u001b[0m         \u001b[1;32mif\u001b[0m \u001b[0mtype\u001b[0m\u001b[1;33m(\u001b[0m\u001b[0mval\u001b[0m\u001b[1;33m)\u001b[0m \u001b[1;32mis\u001b[0m \u001b[1;32mnot\u001b[0m \u001b[0mstr\u001b[0m\u001b[1;33m:\u001b[0m\u001b[1;33m\u001b[0m\u001b[0m\n\u001b[1;32m---> 18\u001b[1;33m             \u001b[1;32mraise\u001b[0m \u001b[0mTypeError\u001b[0m\u001b[1;33m\u001b[0m\u001b[0m\n\u001b[0m\u001b[0;32m     19\u001b[0m         \u001b[0mself\u001b[0m\u001b[1;33m.\u001b[0m\u001b[0m_attr\u001b[0m \u001b[1;33m=\u001b[0m \u001b[0mval\u001b[0m\u001b[1;33m\u001b[0m\u001b[0m\n\u001b[0;32m     20\u001b[0m \u001b[1;33m\u001b[0m\u001b[0m\n",
      "\u001b[1;31mTypeError\u001b[0m: "
     ]
    }
   ],
   "source": [
    "# @property is implemented this way\n",
    "\n",
    "class Class:\n",
    "    # below is common annotation to declare property attribute\n",
    "    #@property \n",
    "    #def attr(self):\n",
    "    #    return self._attr\n",
    "    \n",
    "    attr = property()  # attr is actually an inst of 'property' class    \n",
    "    \n",
    "    @attr.getter    # getter is actually an inst method of 'property' class \n",
    "    def attr(self):\n",
    "        return self._attr\n",
    "    \n",
    "    @attr.setter    # setter is actually an inst method of 'property' class \n",
    "    def attr(self, val):\n",
    "        if type(val) is not str:\n",
    "            raise TypeError\n",
    "        self._attr = val\n",
    "        \n",
    "c = Class()\n",
    "c.attr = 'hello'\n",
    "c.attr = 1"
   ]
  },
  {
   "cell_type": "markdown",
   "metadata": {},
   "source": [
    "## 9.12 class decorator"
   ]
  },
  {
   "cell_type": "code",
   "execution_count": 29,
   "metadata": {},
   "outputs": [
    {
     "name": "stdout",
     "output_type": "stream",
     "text": [
      "decorated!\n",
      "decorated!\n"
     ]
    }
   ],
   "source": [
    "def decorator(cls):\n",
    "    # patching additional feature to __getattribute__\n",
    "    \n",
    "    tmp = cls.__getattribute__\n",
    "    def decorated_getattribute(self, name):\n",
    "        print('decorated!')\n",
    "        return tmp(self, name)   \n",
    "    \n",
    "    cls.__getattribute__ = decorated_getattribute\n",
    "    return cls   # always return input cls at class decorator\n",
    "\n",
    "\n",
    "@decorator\n",
    "class Class:\n",
    "    def __init__(self, par):\n",
    "        self.par = par\n",
    "    \n",
    "    def meth(self):\n",
    "        pass\n",
    "\n",
    "c = Class(9999)\n",
    "c.par\n",
    "c.meth()"
   ]
  },
  {
   "cell_type": "code",
   "execution_count": null,
   "metadata": {},
   "outputs": [],
   "source": []
  }
 ],
 "metadata": {
  "kernelspec": {
   "display_name": "Python 3",
   "language": "python",
   "name": "python3"
  },
  "language_info": {
   "codemirror_mode": {
    "name": "ipython",
    "version": 3
   },
   "file_extension": ".py",
   "mimetype": "text/x-python",
   "name": "python",
   "nbconvert_exporter": "python",
   "pygments_lexer": "ipython3",
   "version": "3.6.4"
  }
 },
 "nbformat": 4,
 "nbformat_minor": 2
}
