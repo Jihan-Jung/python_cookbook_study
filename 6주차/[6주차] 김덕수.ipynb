{
 "cells": [
  {
   "cell_type": "markdown",
   "metadata": {},
   "source": [
    "# 발표 소단원 리스트"
   ]
  },
  {
   "cell_type": "markdown",
   "metadata": {},
   "source": [
    "9-3, 9-7, 9-11"
   ]
  },
  {
   "cell_type": "markdown",
   "metadata": {},
   "source": [
    "# 전체 요약자료"
   ]
  },
  {
   "cell_type": "markdown",
   "metadata": {},
   "source": [
    "- 9-3 : 데코레이터가 적용된 함수가 있는데, 그 함수를 undo 하고 원래 함수를 쓰고 싶을 때\n",
    "- 9-7 : 함수의 인자를 type checking 하고싶을 때\n",
    "- 9-11 : wrapped function에 별도의 argument를 추가하고 싶은데, 원래의 calling convention을 방해하고 싶지는 않을 때"
   ]
  },
  {
   "cell_type": "markdown",
   "metadata": {},
   "source": [
    "### 9-3) Unwrapping a Decorator\n",
    "- 데코레이터가 적용된 함수가 있는데, 그 함수를 undo 하고 원래 함수를 쓰고 싶을 때"
   ]
  },
  {
   "cell_type": "markdown",
   "metadata": {},
   "source": [
    "- __ wrapped __ 를 사용하면 원래 함수에 접근 가능합니다"
   ]
  },
  {
   "cell_type": "code",
   "execution_count": 45,
   "metadata": {},
   "outputs": [
    {
     "name": "stdout",
     "output_type": "stream",
     "text": [
      "wraping\n",
      "3\n",
      "======\n"
     ]
    },
    {
     "data": {
      "text/plain": [
       "3"
      ]
     },
     "execution_count": 45,
     "metadata": {},
     "output_type": "execute_result"
    }
   ],
   "source": [
    "from functools import wraps\n",
    "\n",
    "def deco(func):\n",
    "    @wraps(func)\n",
    "    def wrapper(*args, **kargs):\n",
    "        print(\"wraping\")\n",
    "        print(func(*args, **kargs))\n",
    "        print(\"======\")\n",
    "        return func(*args, **kargs)\n",
    "    return wrapper\n",
    "\n",
    "@deco\n",
    "def add(arg1, arg2):\n",
    "    return arg1 + arg2\n",
    "\n",
    "add(1, 2)"
   ]
  },
  {
   "cell_type": "code",
   "execution_count": 50,
   "metadata": {},
   "outputs": [
    {
     "data": {
      "text/plain": [
       "3"
      ]
     },
     "execution_count": 50,
     "metadata": {},
     "output_type": "execute_result"
    }
   ],
   "source": [
    "orig_add = add.__wrapped__\n",
    "orig_add(1, 2)"
   ]
  },
  {
   "cell_type": "markdown",
   "metadata": {},
   "source": [
    "- functools에서 반드시 wraps imports 해와서 @wraps annotation 붙여줘야 합니다. 안그러면 @deco annotation 붙인 함수 (위 코드에서는 add)에 __ wrapped__ attribute가 안생깁니다\n",
    "- 그래서 @wraps가 안붙은 built-in 메서드인 @staticmethod 와 @classmethod같은 것들은 저렇게 못씁니다. 대신 얘내는 __ func __ 에 원래 함수를 저장하도록 합니다"
   ]
  },
  {
   "cell_type": "markdown",
   "metadata": {},
   "source": [
    "### 9-7) Enforcing Type Checking on a Function Using a Decorator \n",
    "- 함수의 인자를 type checking 하고싶을 때"
   ]
  },
  {
   "cell_type": "code",
   "execution_count": null,
   "metadata": {},
   "outputs": [],
   "source": [
    "@typeassert(int, int)\n",
    "def add(x, y): \n",
    "    return x + y"
   ]
  },
  {
   "cell_type": "markdown",
   "metadata": {},
   "source": [
    "- 위의 방식처럼 decorator를 써서 type체크를 해보고 싶다는 아이디어! 그러면 이제 typeasssert를 구현해봅시다."
   ]
  },
  {
   "cell_type": "code",
   "execution_count": 112,
   "metadata": {},
   "outputs": [],
   "source": [
    "from inspect import signature \n",
    "from functools import wraps\n",
    "\n",
    "def typeassert(*ty_args, **ty_kwargs):\n",
    "    def decorate(func):  \n",
    "        # If in optimized mode, disable type checking    \n",
    "        if not __debug__:   \n",
    "            return func\n",
    "\n",
    "        # Map function argument names to supplied types    \n",
    "        sig = signature(func)  \n",
    "        bound_types = sig.bind_partial(*ty_args, **ty_kwargs).arguments\n",
    "        \n",
    "        @wraps(func)\n",
    "        def wrapper(*args, **kwargs):  \n",
    "            bound_values = sig.bind(*args, **kwargs)\n",
    "            # Enforce type assertions across supplied arguments    \n",
    "            for name, value in bound_values.arguments.items():       \n",
    "                if name in bound_types:   \n",
    "                    if not isinstance(value, bound_types[name]):    # isinstacne : value가 bound_type인지 알아봅니다\n",
    "                        raise TypeError(                      \n",
    "                            'Argument {} must be {}'.format(name, bound_types[name])    \n",
    "                        )           \n",
    "            return func(*args, **kwargs)    \n",
    "        return wrapper    \n",
    "    return decorate "
   ]
  },
  {
   "cell_type": "code",
   "execution_count": 113,
   "metadata": {},
   "outputs": [
    {
     "name": "stdout",
     "output_type": "stream",
     "text": [
      "1 2 3\n",
      "1 hello 3\n"
     ]
    },
    {
     "ename": "TypeError",
     "evalue": "Argument z must be <class 'int'>",
     "output_type": "error",
     "traceback": [
      "\u001b[1;31m---------------------------------------------------------------------------\u001b[0m",
      "\u001b[1;31mTypeError\u001b[0m                                 Traceback (most recent call last)",
      "\u001b[1;32m<ipython-input-113-e870a32e5f5d>\u001b[0m in \u001b[0;36m<module>\u001b[1;34m\u001b[0m\n\u001b[0;32m      5\u001b[0m \u001b[0mspam\u001b[0m\u001b[1;33m(\u001b[0m\u001b[1;36m1\u001b[0m\u001b[1;33m,\u001b[0m\u001b[1;36m2\u001b[0m\u001b[1;33m,\u001b[0m\u001b[1;36m3\u001b[0m\u001b[1;33m)\u001b[0m\u001b[1;33m\u001b[0m\u001b[1;33m\u001b[0m\u001b[0m\n\u001b[0;32m      6\u001b[0m \u001b[0mspam\u001b[0m\u001b[1;33m(\u001b[0m\u001b[1;36m1\u001b[0m\u001b[1;33m,\u001b[0m\u001b[1;34m\"hello\"\u001b[0m\u001b[1;33m,\u001b[0m\u001b[1;36m3\u001b[0m\u001b[1;33m)\u001b[0m\u001b[1;33m\u001b[0m\u001b[1;33m\u001b[0m\u001b[0m\n\u001b[1;32m----> 7\u001b[1;33m \u001b[0mspam\u001b[0m\u001b[1;33m(\u001b[0m\u001b[1;36m1\u001b[0m\u001b[1;33m,\u001b[0m\u001b[1;36m2\u001b[0m\u001b[1;33m,\u001b[0m\u001b[1;34m\"hello\"\u001b[0m\u001b[1;33m)\u001b[0m\u001b[1;33m\u001b[0m\u001b[1;33m\u001b[0m\u001b[0m\n\u001b[0m",
      "\u001b[1;32m<ipython-input-112-d1d7cebd3ce7>\u001b[0m in \u001b[0;36mwrapper\u001b[1;34m(*args, **kwargs)\u001b[0m\n\u001b[0;32m     20\u001b[0m                     \u001b[1;32mif\u001b[0m \u001b[1;32mnot\u001b[0m \u001b[0misinstance\u001b[0m\u001b[1;33m(\u001b[0m\u001b[0mvalue\u001b[0m\u001b[1;33m,\u001b[0m \u001b[0mbound_types\u001b[0m\u001b[1;33m[\u001b[0m\u001b[0mname\u001b[0m\u001b[1;33m]\u001b[0m\u001b[1;33m)\u001b[0m\u001b[1;33m:\u001b[0m    \u001b[1;31m# isinstacne : value가 bound_type인지 알아봅니다\u001b[0m\u001b[1;33m\u001b[0m\u001b[1;33m\u001b[0m\u001b[0m\n\u001b[0;32m     21\u001b[0m                         raise TypeError(                      \n\u001b[1;32m---> 22\u001b[1;33m                             \u001b[1;34m'Argument {} must be {}'\u001b[0m\u001b[1;33m.\u001b[0m\u001b[0mformat\u001b[0m\u001b[1;33m(\u001b[0m\u001b[0mname\u001b[0m\u001b[1;33m,\u001b[0m \u001b[0mbound_types\u001b[0m\u001b[1;33m[\u001b[0m\u001b[0mname\u001b[0m\u001b[1;33m]\u001b[0m\u001b[1;33m)\u001b[0m\u001b[1;33m\u001b[0m\u001b[1;33m\u001b[0m\u001b[0m\n\u001b[0m\u001b[0;32m     23\u001b[0m                         )           \n\u001b[0;32m     24\u001b[0m             \u001b[1;32mreturn\u001b[0m \u001b[0mfunc\u001b[0m\u001b[1;33m(\u001b[0m\u001b[1;33m*\u001b[0m\u001b[0margs\u001b[0m\u001b[1;33m,\u001b[0m \u001b[1;33m**\u001b[0m\u001b[0mkwargs\u001b[0m\u001b[1;33m)\u001b[0m\u001b[1;33m\u001b[0m\u001b[1;33m\u001b[0m\u001b[0m\n",
      "\u001b[1;31mTypeError\u001b[0m: Argument z must be <class 'int'>"
     ]
    }
   ],
   "source": [
    "@typeassert(int, z=int)\n",
    "def spam(x, y, z=42): \n",
    "    print(x, y, z)\n",
    "    \n",
    "spam(1,2,3)\n",
    "spam(1,\"hello\",3)\n",
    "spam(1,2,\"hello\")"
   ]
  },
  {
   "cell_type": "code",
   "execution_count": 114,
   "metadata": {},
   "outputs": [
    {
     "data": {
      "text/plain": [
       "<Signature (x, y, z=42)>"
      ]
     },
     "execution_count": 114,
     "metadata": {},
     "output_type": "execute_result"
    }
   ],
   "source": [
    "sig = signature(spam)\n",
    "sig"
   ]
  },
  {
   "cell_type": "code",
   "execution_count": 115,
   "metadata": {},
   "outputs": [
    {
     "name": "stdout",
     "output_type": "stream",
     "text": [
      "<BoundArguments (x=1, y=2)>\n",
      "OrderedDict([('x', 1), ('y', 2)])\n"
     ]
    }
   ],
   "source": [
    "a = 1\n",
    "b = 2\n",
    "\n",
    "# Works the same way as Signature.bind(), but allows the omission of some required arguments \n",
    "# (mimics functools.partial() behavior.)\n",
    "print(sig.bind_partial(a, b))\n",
    "print(sig.bind_partial(a, b).arguments)"
   ]
  },
  {
   "cell_type": "code",
   "execution_count": 117,
   "metadata": {},
   "outputs": [
    {
     "name": "stdout",
     "output_type": "stream",
     "text": [
      "<BoundArguments (x=1, y=2)>\n",
      "odict_items([('x', 1), ('y', 2)])\n"
     ]
    }
   ],
   "source": [
    "bind_types = sig.bind(a,b)\n",
    "print(sig.bind(a, b))\n",
    "print(sig.bind(a, b).arguments.items())"
   ]
  },
  {
   "cell_type": "code",
   "execution_count": 119,
   "metadata": {},
   "outputs": [
    {
     "data": {
      "text/plain": [
       "True"
      ]
     },
     "execution_count": 119,
     "metadata": {},
     "output_type": "execute_result"
    }
   ],
   "source": [
    "isinstance(1, int)"
   ]
  },
  {
   "cell_type": "code",
   "execution_count": null,
   "metadata": {},
   "outputs": [],
   "source": []
  },
  {
   "cell_type": "code",
   "execution_count": null,
   "metadata": {},
   "outputs": [],
   "source": []
  },
  {
   "cell_type": "markdown",
   "metadata": {},
   "source": [
    "### 9-11) Writing Decorators That Add Arguments to Wrapped Functions\n",
    "- wrapped function에 별도의 argument를 추가하고 싶은데, 원래의 calling convention을 방해하고 싶지는 않을 때\n",
    "- keyword-only argument의 형태로 주입할 수 있습니다"
   ]
  },
  {
   "cell_type": "code",
   "execution_count": 60,
   "metadata": {},
   "outputs": [],
   "source": [
    "from functools import wraps\n",
    "\n",
    "def optional_debug(func):\n",
    "    @wraps(func) \n",
    "    def wrapper(*args, debug=False, **kwargs): \n",
    "        if debug:   \n",
    "            print('Calling', func.__name__)  \n",
    "        return func(*args, **kwargs) \n",
    "    return wrapper\n",
    "\n",
    "@optional_debug \n",
    "def spam(a,b,c): \n",
    "    print(a,b,c)"
   ]
  },
  {
   "cell_type": "code",
   "execution_count": 61,
   "metadata": {},
   "outputs": [
    {
     "name": "stdout",
     "output_type": "stream",
     "text": [
      "1 2 3\n",
      "==========\n",
      "Calling spam\n",
      "1 2 3\n"
     ]
    }
   ],
   "source": [
    "spam(1, 2, 3)\n",
    "print(\"==========\")\n",
    "spam(1, 2, 3, debug=True)"
   ]
  },
  {
   "cell_type": "markdown",
   "metadata": {},
   "source": [
    "- 데코레이터의 흔한 사용법은 아니지만, 중복된 code 패턴을 피하는데 도움이 될 수 있습니다."
   ]
  },
  {
   "cell_type": "code",
   "execution_count": 62,
   "metadata": {},
   "outputs": [],
   "source": [
    "#원래 코드가 이렇다면\n",
    "def a(x, debug=False):  \n",
    "    if debug:    \n",
    "        print('Calling a') \n",
    "        '...'\n",
    "        \n",
    "def b(x, y, z, debug=False):\n",
    "    if debug:   \n",
    "        print('Calling b')   \n",
    "        '...'\n",
    "\n",
    "def c(x, y, debug=False): \n",
    "    if debug:    \n",
    "        print('Calling c') \n",
    "        '...'\n",
    "        \n",
    "# 이렇게 refactoring 할수도\n",
    "@optional_debug\n",
    "def a(x):    \n",
    "    '...'\n",
    "@optional_debug \n",
    "def b(x, y, z):    \n",
    "    '...'\n",
    "\n",
    "@optional_debug\n",
    "def c(x, y):    \n",
    "    '...' "
   ]
  },
  {
   "cell_type": "markdown",
   "metadata": {},
   "source": [
    "- 위처럼 keyword-only arguemnt를 주입하는 방식은 만약에 wrapped function에 같은 이름의 keyword가 있다면 충돌날 수 있음. 그래서 다음과 같이 예외처리를 해줘야 할수도 있습니다."
   ]
  },
  {
   "cell_type": "code",
   "execution_count": 63,
   "metadata": {},
   "outputs": [],
   "source": [
    "def optional_debug(func):\n",
    "    if 'debug' in inspect.getargspec(func).args:      \n",
    "        raise TypeError('debug argument already defined')\n",
    "    \n",
    "    @wraps(func) \n",
    "    def wrapper(*args, debug=False, **kwargs): \n",
    "        if debug:   \n",
    "            print('Calling', func.__name__)  \n",
    "        return func(*args, **kwargs) \n",
    "    return wrapper"
   ]
  },
  {
   "cell_type": "markdown",
   "metadata": {},
   "source": [
    "- function signature까지 맞춰주면 금상 첨화!"
   ]
  },
  {
   "cell_type": "code",
   "execution_count": 64,
   "metadata": {},
   "outputs": [
    {
     "name": "stdout",
     "output_type": "stream",
     "text": [
      "(x, y)\n"
     ]
    },
    {
     "name": "stderr",
     "output_type": "stream",
     "text": [
      "C:\\Users\\dusol\\Anaconda3\\lib\\site-packages\\ipykernel_launcher.py:2: DeprecationWarning: inspect.getargspec() is deprecated, use inspect.signature() or inspect.getfullargspec()\n",
      "  \n"
     ]
    }
   ],
   "source": [
    "import inspect\n",
    "\n",
    "@optional_debug\n",
    "def add(x, y):\n",
    "    return x + y\n",
    "\n",
    "print(inspect.signature(add))"
   ]
  },
  {
   "cell_type": "code",
   "execution_count": 69,
   "metadata": {},
   "outputs": [],
   "source": [
    "from functools import wraps \n",
    "import inspect\n",
    "\n",
    "def optional_debug(func):  \n",
    "    if 'debug' in inspect.getargspec(func).args:  \n",
    "        raise TypeError('debug argument already defined')\n",
    "        \n",
    "    @wraps(func) \n",
    "    def wrapper(*args, debug=False, **kwargs): \n",
    "        if debug:   \n",
    "            print('Calling', func.__name__)   \n",
    "        return func(*args, **kwargs)\n",
    "        \n",
    "    sig = inspect.signature(func)  \n",
    "    parms = list(sig.parameters.values())\n",
    "    parms.append(inspect.Parameter('debug',  \n",
    "                                   inspect.Parameter.KEYWORD_ONLY,\n",
    "                                   default=False))    \n",
    "    wrapper.__signature__ = sig.replace(parameters=parms) \n",
    "    return wrapper "
   ]
  },
  {
   "cell_type": "code",
   "execution_count": 70,
   "metadata": {},
   "outputs": [
    {
     "name": "stderr",
     "output_type": "stream",
     "text": [
      "C:\\Users\\dusol\\Anaconda3\\lib\\site-packages\\ipykernel_launcher.py:5: DeprecationWarning: inspect.getargspec() is deprecated, use inspect.signature() or inspect.getfullargspec()\n",
      "  \"\"\"\n"
     ]
    }
   ],
   "source": [
    "@optional_debug\n",
    "def add(x, y):\n",
    "    return x + y"
   ]
  },
  {
   "cell_type": "code",
   "execution_count": 71,
   "metadata": {},
   "outputs": [
    {
     "name": "stdout",
     "output_type": "stream",
     "text": [
      "(x, y, *, debug=False)\n"
     ]
    }
   ],
   "source": [
    "print(inspect.signature(add))"
   ]
  },
  {
   "cell_type": "code",
   "execution_count": null,
   "metadata": {},
   "outputs": [],
   "source": []
  }
 ],
 "metadata": {
  "kernelspec": {
   "display_name": "Python 3",
   "language": "python",
   "name": "python3"
  },
  "language_info": {
   "codemirror_mode": {
    "name": "ipython",
    "version": 3
   },
   "file_extension": ".py",
   "mimetype": "text/x-python",
   "name": "python",
   "nbconvert_exporter": "python",
   "pygments_lexer": "ipython3",
   "version": "3.7.1"
  }
 },
 "nbformat": 4,
 "nbformat_minor": 2
}
