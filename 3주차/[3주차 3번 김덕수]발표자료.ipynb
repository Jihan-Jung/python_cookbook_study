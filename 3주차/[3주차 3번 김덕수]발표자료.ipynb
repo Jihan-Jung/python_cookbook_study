{
 "cells": [
  {
   "cell_type": "markdown",
   "metadata": {},
   "source": [
    "# 발표 소단원 리스트"
   ]
  },
  {
   "cell_type": "markdown",
   "metadata": {},
   "source": [
    "4-15, 5-3, 5-7, 5-11, 5-15, 5-19, 6-2, 6-6"
   ]
  },
  {
   "cell_type": "markdown",
   "metadata": {},
   "source": [
    "# 전체 요약자료"
   ]
  },
  {
   "cell_type": "markdown",
   "metadata": {},
   "source": [
    "- (4-15): sorted squence를 여러개 들고 있는데, 요녀석들을 모두 merge해서 sort한 커다란 녀석을 iterate 하고싶을 때 heapq.merge()를 사용합니다\n",
    "- (5-3): print() 함수에서 seperator character나 line ending 바꾸고싶을 때 \n",
    "- (5-7): gzip이나 bz2 형태의 압축 파일들을 read하거나 write하고 싶을 때 gzip과 bz2 module을 사용합니다.\n",
    "- (5-11): base filename이나 directory name, absolute path등을 조작할 때 os.path module을 사용합니다.\n",
    "- (5-15): program이 어떤 directory의 리스트를 받아서 filename들을 출력할 때, UnicodeEncodeError excption이 뜨면서 \"surrogates not allowed.\" 라는 문구가 뜰 때\n",
    "- (5-19): 잠깐 임시 파일이나 directory를 만들었다가 쓰고나서 지워버리고 싶을 때 tempfile.TemporaryFile을 사용합니다\n",
    "- (6-2): JSON으로 read하거나 write하고싶을 때 json module을 사용합니다\n",
    "- (6-6): XML doc를 읽고, 쓰고싶을 때 xml.etree.ElementTree module 을 사용합니다"
   ]
  },
  {
   "cell_type": "markdown",
   "metadata": {},
   "source": [
    "### 4-15)  Iterating in Sorted Order Over Merged Sorted \n",
    "- sorted squence를 여러개 들고 있는데, 요녀석들을 모두 merge해서 sort한 커다란 녀석을 iterate 하고싶을 때!\n",
    "- heapq.merge()를 사용합니다"
   ]
  },
  {
   "cell_type": "code",
   "execution_count": 9,
   "metadata": {},
   "outputs": [
    {
     "name": "stdout",
     "output_type": "stream",
     "text": [
      "1\n",
      "2\n",
      "4\n",
      "5\n",
      "6\n",
      "7\n",
      "10\n",
      "11\n"
     ]
    }
   ],
   "source": [
    "import heapq\n",
    "a = [1, 4, 7, 10]\n",
    "b = [2, 5, 6, 11]\n",
    "for c in heapq.merge(a, b):\n",
    "    print(c) "
   ]
  },
  {
   "cell_type": "markdown",
   "metadata": {},
   "source": [
    "- input으로 받는 sequence들을 한번에 다 read하는 것이 아니라 효율적으로 동작합니다! 그때그때 sequence들의 맨 앞 녀석들만 비교해서 interate하는 방식으로 동작함"
   ]
  },
  {
   "cell_type": "code",
   "execution_count": 7,
   "metadata": {},
   "outputs": [
    {
     "ename": "IndentationError",
     "evalue": "unindent does not match any outer indentation level (<tokenize>, line 7)",
     "output_type": "error",
     "traceback": [
      "\u001b[1;36m  File \u001b[1;32m\"<tokenize>\"\u001b[1;36m, line \u001b[1;32m7\u001b[0m\n\u001b[1;33m    for line in heapq.merge(file1, file2):\u001b[0m\n\u001b[1;37m    ^\u001b[0m\n\u001b[1;31mIndentationError\u001b[0m\u001b[1;31m:\u001b[0m unindent does not match any outer indentation level\n"
     ]
    }
   ],
   "source": [
    "# 예시 코드라 동작하지는 않습니다.\n",
    "import heapq\n",
    "with open('sorted_file_1', 'rt') as file1, \\\n",
    "     open('sorted_file_2') 'rt' as file2, \\     \n",
    "     open('merged_file', 'wt') as outf:\n",
    "    \n",
    "    for line in heapq.merge(file1, file2):\n",
    "        outf.write(line)"
   ]
  },
  {
   "cell_type": "markdown",
   "metadata": {},
   "source": [
    "- heapq.merge()를 사용하려면input이 이미 모두 sort된 sequence여야합니다.\n",
    "- input이 ordering 조건을 만족하는지 체크 안해주니 미리 잘 sorting해놔야합니다."
   ]
  },
  {
   "cell_type": "markdown",
   "metadata": {},
   "source": [
    "### 5 - 3) Printing with a Different Separator or Line Ending  \n",
    "- print() 함수에서 seperator character나 line ending 바꾸고싶을 때 "
   ]
  },
  {
   "cell_type": "code",
   "execution_count": 20,
   "metadata": {},
   "outputs": [
    {
     "name": "stdout",
     "output_type": "stream",
     "text": [
      "ACME 50 91.5\n",
      "ACME,50,91.5\n",
      "ACME,50,91.5!!\n"
     ]
    }
   ],
   "source": [
    "print('ACME', 50, 91.5) \n",
    "print('ACME', 50, 91.5, sep=',')\n",
    "print('ACME', 50, 91.5, sep=',', end='!!\\n') "
   ]
  },
  {
   "cell_type": "markdown",
   "metadata": {},
   "source": [
    "비슷한 결과를 얻기 위해 아래처럼 str.join() 함수를 쓸수도 있다."
   ]
  },
  {
   "cell_type": "code",
   "execution_count": 13,
   "metadata": {},
   "outputs": [
    {
     "name": "stdout",
     "output_type": "stream",
     "text": [
      "ACME,50,91.5\n"
     ]
    }
   ],
   "source": [
    "print(','.join(('ACME','50','91.5')))"
   ]
  },
  {
   "cell_type": "markdown",
   "metadata": {},
   "source": [
    "- 하지만 위처럼 join을 쓰면 string 이외의 데이터들은 seperate 할 수 없다."
   ]
  },
  {
   "cell_type": "code",
   "execution_count": 21,
   "metadata": {},
   "outputs": [
    {
     "ename": "TypeError",
     "evalue": "sequence item 1: expected str instance, int found",
     "output_type": "error",
     "traceback": [
      "\u001b[1;31m---------------------------------------------------------------------------\u001b[0m",
      "\u001b[1;31mTypeError\u001b[0m                                 Traceback (most recent call last)",
      "\u001b[1;32m<ipython-input-21-72ffd8911901>\u001b[0m in \u001b[0;36m<module>\u001b[1;34m\u001b[0m\n\u001b[0;32m      1\u001b[0m \u001b[0mrow\u001b[0m \u001b[1;33m=\u001b[0m \u001b[1;33m(\u001b[0m\u001b[1;34m'ACME'\u001b[0m\u001b[1;33m,\u001b[0m \u001b[1;36m50\u001b[0m\u001b[1;33m,\u001b[0m \u001b[1;36m91.5\u001b[0m\u001b[1;33m)\u001b[0m\u001b[1;33m\u001b[0m\u001b[1;33m\u001b[0m\u001b[0m\n\u001b[1;32m----> 2\u001b[1;33m \u001b[0mprint\u001b[0m\u001b[1;33m(\u001b[0m\u001b[1;34m','\u001b[0m\u001b[1;33m.\u001b[0m\u001b[0mjoin\u001b[0m\u001b[1;33m(\u001b[0m\u001b[0mrow\u001b[0m\u001b[1;33m)\u001b[0m\u001b[1;33m)\u001b[0m\u001b[1;33m\u001b[0m\u001b[1;33m\u001b[0m\u001b[0m\n\u001b[0m",
      "\u001b[1;31mTypeError\u001b[0m: sequence item 1: expected str instance, int found"
     ]
    }
   ],
   "source": [
    "row = ('ACME', 50, 91.5)\n",
    "print(','.join(row))"
   ]
  },
  {
   "cell_type": "markdown",
   "metadata": {},
   "source": [
    "- pritn()에서는 가능하지롱!"
   ]
  },
  {
   "cell_type": "code",
   "execution_count": 22,
   "metadata": {},
   "outputs": [
    {
     "name": "stdout",
     "output_type": "stream",
     "text": [
      "ACME,50,91.5\n"
     ]
    }
   ],
   "source": [
    "print(*row, sep=',')"
   ]
  },
  {
   "cell_type": "markdown",
   "metadata": {},
   "source": [
    "### 5 - 7)  Reading and Writing Compressed Datafiles\n",
    "- gzip이나 bz2 형태의 압축 파일들을 read하거나 write하고 싶을 때 gzip과 bz2 module을 사용합니다."
   ]
  },
  {
   "cell_type": "markdown",
   "metadata": {},
   "source": [
    "- open()함수가 구현되어있으니 쓰면 됩니다"
   ]
  },
  {
   "cell_type": "code",
   "execution_count": null,
   "metadata": {},
   "outputs": [],
   "source": [
    "#아래 코드는 예시 코드입니다\n",
    "\n",
    "# gzip compression\n",
    "import gzip \n",
    "with gzip.open('somefile.gz', 'rt') as f:\n",
    "    text = f.read()\n",
    "# bz2 compression \n",
    "import bz2 \n",
    "with bz2.open('somefile.bz2', 'rt') as f:\n",
    "    text = f.read()"
   ]
  },
  {
   "cell_type": "markdown",
   "metadata": {},
   "source": [
    "- open할때 mode를 정하지 않으면 binary 모드가 default라 text파일 받아올 거라고 예상하고 하면 깨질 수 있습니다\n",
    "- built in 되어있는 open() 함수처럼  encoding, errors, newline 같은 parameter 받을 수 있습니다"
   ]
  },
  {
   "cell_type": "markdown",
   "metadata": {},
   "source": [
    "### 5 - 11) Manipulating Pathnames \n",
    "- base filename이나 directory name, absolute path등을 조작할 때 os.path module을 사용합니다."
   ]
  },
  {
   "cell_type": "code",
   "execution_count": 1,
   "metadata": {},
   "outputs": [
    {
     "name": "stdout",
     "output_type": "stream",
     "text": [
      "data.csv\n",
      "/Users/beazley/Data\n",
      "tmp\\data\\data.csv\n",
      "C:\\Users\\dusol/Data/data.csv\n",
      "('~/Data/data', '.csv')\n"
     ]
    }
   ],
   "source": [
    "import os\n",
    "path = '/Users/beazley/Data/data.csv'\n",
    "\n",
    "# Get the last component of the path\n",
    "print(os.path.basename(path))\n",
    "\n",
    "# Get the directory name \n",
    "print(os.path.dirname(path))\n",
    "\n",
    "# Join path components together\n",
    "print(os.path.join('tmp', 'data', os.path.basename(path)))\n",
    "\n",
    "# Expand the user's home directory \n",
    "path = '~/Data/data.csv' \n",
    "print(os.path.expanduser(path))\n",
    "\n",
    "# Split the file extension\n",
    "print(os.path.splitext(path))"
   ]
  },
  {
   "cell_type": "markdown",
   "metadata": {},
   "source": [
    "- String operation 써서 하려고 하지 마시고, os.path 사용하시라!\n",
    "- os에 따라 구분 기호가 다를 수 있다. 이를테면 window에서는 Data\\data.csv지만 Linux에서는 Data/data.csv라던지. 이런 문제를 다 해결해준다\n",
    "- 더 많은 기능이 있으니 document 참고하시라!"
   ]
  },
  {
   "cell_type": "markdown",
   "metadata": {},
   "source": [
    "### 5 - 15) Printing Bad Filenames \n",
    "- program이 어떤 directory의 리스트를 받아서 filename들을 출력할 때, UnicodeEncodeError excption이 뜨면서 \"surrogates not allowed.\" 라는 문구가 뜰 때\n",
    "- 다양한 방법으로 bad filename을 처리하는 함수를 만들 수 있다.\n",
    " "
   ]
  },
  {
   "cell_type": "markdown",
   "metadata": {},
   "source": [
    "surrogate pair 설명 참고 : https://www.sysnet.pe.kr/2/0/1710"
   ]
  },
  {
   "cell_type": "code",
   "execution_count": 2,
   "metadata": {},
   "outputs": [
    {
     "data": {
      "text/plain": [
       "'\\nfor name in files:\\n    try:\\n        print(name)\\n    except UnicodeEncodeError:\\n        print(bad_filename_case2(name))\\n'"
      ]
     },
     "execution_count": 2,
     "metadata": {},
     "output_type": "execute_result"
    }
   ],
   "source": [
    "def bad_filename_case1(filename):    \n",
    "    return repr(filename)[1:-1]\n",
    "\n",
    "def bad_filename_case2(filename):\n",
    "    temp = filename.encode(sys.getfilesystemencoding(), errors='surrogateescape')    \n",
    "    return temp.decode('latin-1')\n",
    "\n",
    "files = ['spam.py', 'b\\udce4d.txt', 'foo.txt']\n",
    "\n",
    "\n",
    "# 아래 코드는 실행시키지 마세요 무시무시한 버그코드입니다\n",
    "'''\n",
    "for name in files:\n",
    "    try:\n",
    "        print(name)\n",
    "    except UnicodeEncodeError:\n",
    "        print(bad_filename_case2(name))\n",
    "'''    "
   ]
  },
  {
   "cell_type": "markdown",
   "metadata": {},
   "source": [
    "### 5 - 19) Making Temporary Files and Directories \n",
    "- 잠깐 임시 파일이나 directory를 만들었다가 쓰고나서 지워버리고 싶을 때 tempfile.TemporaryFile을 사용합니다"
   ]
  },
  {
   "cell_type": "code",
   "execution_count": 5,
   "metadata": {},
   "outputs": [
    {
     "name": "stdout",
     "output_type": "stream",
     "text": [
      "Hello World\n",
      "Testing\n",
      "\n"
     ]
    }
   ],
   "source": [
    "from tempfile import TemporaryFile\n",
    "\n",
    "with TemporaryFile('w+t') as f:\n",
    "    # Read/write to the file\n",
    "    f.write('Hello World\\n')\n",
    "    f.write('Testing\\n')\n",
    "    # Seek back to beginning and read the data\n",
    "    f.seek(0)     \n",
    "    data = f.read()\n",
    "    print(data)\n",
    "\n",
    "# Temporary file is destroyed"
   ]
  },
  {
   "cell_type": "markdown",
   "metadata": {},
   "source": [
    "- 위 코드를 아래와 같은 방식으로도 쓸수있습니다."
   ]
  },
  {
   "cell_type": "code",
   "execution_count": 6,
   "metadata": {},
   "outputs": [],
   "source": [
    "f = TemporaryFile('w+t') \n",
    "# Use the temporary file \n",
    "#... \n",
    "f.close() \n",
    "# File is destroyed "
   ]
  },
  {
   "cell_type": "markdown",
   "metadata": {},
   "source": [
    "- TemporaryFile()은 open() 함수와 같은 arguments를 받습니다."
   ]
  },
  {
   "cell_type": "markdown",
   "metadata": {},
   "source": [
    "- 대부분의 Unix system에서 TemporaryFile()에 의해 생긴 file은 이름도 없고 directory entry도 없습니다. 이러한 제약을 해결하고싶으면, NamedTemporaryFile()을 대신 사용하세요."
   ]
  },
  {
   "cell_type": "code",
   "execution_count": 7,
   "metadata": {},
   "outputs": [
    {
     "name": "stdout",
     "output_type": "stream",
     "text": [
      "filename is: C:\\Users\\dusol\\AppData\\Local\\Temp\\tmpejqszldo\n"
     ]
    }
   ],
   "source": [
    "from tempfile import NamedTemporaryFile\n",
    "\n",
    "with NamedTemporaryFile('w+t') as f:    \n",
    "    print('filename is:', f.name)    \n",
    "    #...\n",
    "# File automatically destroyed "
   ]
  },
  {
   "cell_type": "markdown",
   "metadata": {},
   "source": [
    "- TemporaryFile()을 사용하면 파일이 사용한 직후에 바로 자동으로 지워지는데, 안 지워지게 하려면 delete=False 인자를 넘겨주면 됩니다"
   ]
  },
  {
   "cell_type": "code",
   "execution_count": null,
   "metadata": {},
   "outputs": [],
   "source": [
    "with NamedTemporaryFile('w+t', delete=False) as f:\n",
    "    print('filename is:', f.name)\n",
    "    # ..."
   ]
  },
  {
   "cell_type": "markdown",
   "metadata": {},
   "source": [
    "- TemporaryDirectory() 를 이용하면 임시 폴더를 만들 수 있습니다"
   ]
  },
  {
   "cell_type": "code",
   "execution_count": 8,
   "metadata": {},
   "outputs": [
    {
     "name": "stdout",
     "output_type": "stream",
     "text": [
      "dirname is: C:\\Users\\dusol\\AppData\\Local\\Temp\\tmp_b4v2pzm\n"
     ]
    }
   ],
   "source": [
    "from tempfile import TemporaryDirectory \n",
    "with TemporaryDirectory() as dirname:     \n",
    "    print('dirname is:', dirname)     \n",
    "    # Use the directory     \n",
    "    #... \n",
    "# Directory and all contents destroyed "
   ]
  },
  {
   "cell_type": "markdown",
   "metadata": {},
   "source": [
    "- 좀 더 low한 레벨에서 mkstemp() 라는 함수를 사용해서 임시 파일이나 디렉토리를 만들 수도 있습니다. 그런데 이렇게 하면 귀찮은 작업들을 일일이 다 해줘야합니다. 자세한 내용은 Cookbook discussion 참고"
   ]
  },
  {
   "cell_type": "markdown",
   "metadata": {},
   "source": [
    "### 6 - 2) Reading and Writing JSON Data \n",
    "- JSON으로 read하거나 write하고싶을 때 json module을 사용합니다"
   ]
  },
  {
   "cell_type": "markdown",
   "metadata": {},
   "source": [
    "- python data를 JSON string으로 바꿀 떄"
   ]
  },
  {
   "cell_type": "code",
   "execution_count": 12,
   "metadata": {},
   "outputs": [
    {
     "data": {
      "text/plain": [
       "'{\"name\": \"ACME\", \"shares\": 100, \"price\": 542.23}'"
      ]
     },
     "execution_count": 12,
     "metadata": {},
     "output_type": "execute_result"
    }
   ],
   "source": [
    "import json\n",
    "\n",
    "data = {\n",
    "    'name' : 'ACME',\n",
    "    'shares' : 100,  \n",
    "    'price' : 542.23 \n",
    "}\n",
    "json_str = json.dumps(data)\n",
    "json_str"
   ]
  },
  {
   "cell_type": "markdown",
   "metadata": {},
   "source": [
    "- JSON-eocoded된 string 데이터를 Python data로 바꿀 떄"
   ]
  },
  {
   "cell_type": "code",
   "execution_count": 13,
   "metadata": {},
   "outputs": [
    {
     "data": {
      "text/plain": [
       "{'name': 'ACME', 'shares': 100, 'price': 542.23}"
      ]
     },
     "execution_count": 13,
     "metadata": {},
     "output_type": "execute_result"
    }
   ],
   "source": [
    "data = json.loads(json_str)\n",
    "data"
   ]
  },
  {
   "cell_type": "markdown",
   "metadata": {},
   "source": [
    "- JSON data string이 아니라 JSON file을 다루고싶으면 다음과 같이 사용합니다"
   ]
  },
  {
   "cell_type": "code",
   "execution_count": 18,
   "metadata": {},
   "outputs": [],
   "source": [
    "#아래 코드는 사용 예시 코드입니다 \n",
    "\n",
    "# Writing JSON data \n",
    "with open('data.json', 'w') as f:     \n",
    "    json.dump(data, f)\n",
    "\n",
    "# Reading data back \n",
    "with open('data.json', 'r') as f:\n",
    "    data = json.load(f) \n"
   ]
  },
  {
   "cell_type": "markdown",
   "metadata": {},
   "source": [
    "- pprint module을 이용하면 deep level로 nested된 json data도 예쁘게 출력할 수 있습니다."
   ]
  },
  {
   "cell_type": "code",
   "execution_count": 19,
   "metadata": {},
   "outputs": [
    {
     "data": {
      "text/plain": [
       "'\\nurl = \"http://블라블라\"\\nu = urlopen(url)\\nresp = json.loads(u.read().decode(\\'utf-8\\')) \\npprint(resp)\\n'"
      ]
     },
     "execution_count": 19,
     "metadata": {},
     "output_type": "execute_result"
    }
   ],
   "source": [
    "# 사용 예시 코드입니다\n",
    "\n",
    "from urllib.request import urlopen\n",
    "from pprint import pprint\n",
    "import json\n",
    "\n",
    "'''\n",
    "url = \"http://블라블라\"\n",
    "u = urlopen(url)\n",
    "resp = json.loads(u.read().decode('utf-8')) \n",
    "pprint(resp)\n",
    "'''"
   ]
  },
  {
   "cell_type": "markdown",
   "metadata": {},
   "source": [
    "- json.loads()의 object_pairs_hook 나 object_hook를 사용하면 json data를 python의 다른 자료구조에 넣어서 로드할 수 있습니다"
   ]
  },
  {
   "cell_type": "code",
   "execution_count": 20,
   "metadata": {},
   "outputs": [
    {
     "data": {
      "text/plain": [
       "OrderedDict([('name', 'ACME'), ('shares', 50), ('price', 490.1)])"
      ]
     },
     "execution_count": 20,
     "metadata": {},
     "output_type": "execute_result"
    }
   ],
   "source": [
    "from collections import OrderedDict\n",
    "\n",
    "s = '{\"name\": \"ACME\", \"shares\": 50, \"price\": 490.1}'\n",
    "\n",
    "data = json.loads(s, object_pairs_hook=OrderedDict) \n",
    "data"
   ]
  },
  {
   "cell_type": "markdown",
   "metadata": {},
   "source": [
    "- 보통 instance들은 json data로 serialize 되지 않습니다.\n",
    "- 그렇게 하고싶으면, 다음과 같이 함수를 써서 serialize 된 dictionary로 리턴해주어야 합니다"
   ]
  },
  {
   "cell_type": "code",
   "execution_count": 21,
   "metadata": {},
   "outputs": [],
   "source": [
    "def serialize_instance(obj):    \n",
    "    d = { '__classname__' : type(obj).__name__ } \n",
    "    d.update(vars(obj))    \n",
    "    return d "
   ]
  },
  {
   "cell_type": "markdown",
   "metadata": {},
   "source": [
    "- 그리고 그렇게 json data로 만든 object는 다음과 같이 함수를 만들어서 다시 instance로 복원해낼 수 있습니다."
   ]
  },
  {
   "cell_type": "code",
   "execution_count": null,
   "metadata": {},
   "outputs": [],
   "source": [
    "# 사용 예시 코드입니다\n",
    "\n",
    "# Dictionary mapping names to known classes \n",
    "classes = {    'Point' : Point }\n",
    "\n",
    "def unserialize_object(d):   \n",
    "    clsname = d.pop('__classname__', None)   \n",
    "    if clsname:       \n",
    "        cls = classes[clsname]   \n",
    "        obj = cls.__new__(cls)   # Make instance without calling __init__  \n",
    "        for key, value in d.items():           \n",
    "            setattr(obj, key, value)         \n",
    "            return obj   \n",
    "        else:      \n",
    "            return d"
   ]
  },
  {
   "cell_type": "markdown",
   "metadata": {},
   "source": [
    "### 6 - 6) Parsing, Modifying, and Rewriting XML  \n",
    "- XML doc를 읽고, 쓰고싶을 때 xml.etree.ElementTree module 을 사용합니다"
   ]
  },
  {
   "cell_type": "markdown",
   "metadata": {},
   "source": [
    "<?xml version='1.0' encoding='us-ascii'?>\n",
    "<stop>    \n",
    "    <id>14791</id>\n",
    "        <nm>Clark &amp; Balmoral</nm>\n",
    "    <sri>\n",
    "        <rt>22</rt>   \n",
    "        <d>North Bound</d>\n",
    "        <dd>North Bound</dd>\n",
    "    </sri>\n",
    "    <cr>22</cr> \n",
    "    <pre>\n",
    "        <pt>5 MIN</pt>\n",
    "        <fd>Howard</fd>    \n",
    "        <v>1378</v>     \n",
    "        <rn>22</rn> \n",
    "    </pre>  \n",
    "    <pre>  \n",
    "        <pt>15 MIN</pt> \n",
    "        <fd>Howard</fd>   \n",
    "        <v>1867</v>    \n",
    "        <rn>22</rn> \n",
    "    </pre>\n",
    "</stop> "
   ]
  },
  {
   "cell_type": "markdown",
   "metadata": {},
   "source": [
    "- 위와 같은 xml 파일이 있을 때, 다음과 같이 ElementTree를 사용합니다."
   ]
  },
  {
   "cell_type": "code",
   "execution_count": null,
   "metadata": {},
   "outputs": [],
   "source": [
    "# 사용 예시 코드입니다.\n",
    "\n",
    "from xml.etree.ElementTree import parse, Element\n",
    ">>> doc = parse('pred.xml') \n",
    ">>> root = doc.getroot() \n",
    ">>> root \n",
    "<Element 'stop' at 0x100770cb0>\n",
    "\n",
    ">>> # Remove a few elements \n",
    ">>> root.remove(root.find('sri')) \n",
    ">>> root.remove(root.find('cr'))\n",
    "\n",
    ">>> # Insert a new element after <nm>...</nm> \n",
    ">>> root.getchildren().index(root.find('nm'))\n",
    "1\n",
    "\n",
    ">>> e = Element('spam') \n",
    ">>> e.text = 'This is a test'\n",
    ">>> root.insert(2, e)\n",
    ">>> # Write back to a file\n",
    ">>> doc.write('newpred.xml', xml_declaration=True) "
   ]
  },
  {
   "cell_type": "markdown",
   "metadata": {},
   "source": [
    "- 위 코드를 수생하면 그 결과 다음과 같이 xml파일이 바뀝니다."
   ]
  },
  {
   "cell_type": "markdown",
   "metadata": {},
   "source": [
    "<?xml version='1.0' encoding='us-ascii'?>\n",
    "<stop>   \n",
    "    <id>14791</id> \n",
    "    <nm>Clark &amp; Balmoral</nm>   \n",
    "    <spam>This is a test</spam>\n",
    "    <pre>   \n",
    "        <pt>5 MIN</pt>   \n",
    "        <fd>Howard</fd>   \n",
    "        <v>1378</v> \n",
    "        <rn>22</rn> \n",
    "    </pre>   \n",
    "    <pre>  \n",
    "        <pt>15 MIN</pt>  \n",
    "        <fd>Howard</fd>\n",
    "        <v>1867</v>     \n",
    "        <rn>22</rn>  \n",
    "    </pre>\n",
    "</stop>"
   ]
  },
  {
   "cell_type": "markdown",
   "metadata": {},
   "source": [
    "- list를 사용하는 것처럼, parent element를 잡아서 remove(), insert(), append()등을 사용합니다.\n",
    "- list와 마찬가지로 indexing이나 slicing도 가능합니다"
   ]
  }
 ],
 "metadata": {
  "kernelspec": {
   "display_name": "Python 3",
   "language": "python",
   "name": "python3"
  },
  "language_info": {
   "codemirror_mode": {
    "name": "ipython",
    "version": 3
   },
   "file_extension": ".py",
   "mimetype": "text/x-python",
   "name": "python",
   "nbconvert_exporter": "python",
   "pygments_lexer": "ipython3",
   "version": "3.7.1"
  }
 },
 "nbformat": 4,
 "nbformat_minor": 2
}
