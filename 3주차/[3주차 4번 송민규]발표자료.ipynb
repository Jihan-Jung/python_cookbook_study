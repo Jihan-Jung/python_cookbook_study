{
 "cells": [
  {
   "cell_type": "markdown",
   "metadata": {},
   "source": [
    "# 발표 소단원 리스트"
   ]
  },
  {
   "cell_type": "markdown",
   "metadata": {},
   "source": [
    "(4, 16)\n",
    "(5, 4)\n",
    "(5, 8)\n",
    "(5, 12)\n",
    "(5, 16)\n",
    "(5, 20)\n",
    "(6, 3)\n",
    "(6, 7)"
   ]
  },
  {
   "cell_type": "markdown",
   "metadata": {},
   "source": [
    "# 전체 요약자료"
   ]
  },
  {
   "cell_type": "markdown",
   "metadata": {},
   "source": [
    "굵은 글씨는 왕중요\n",
    "* (2, 20) 패스\n",
    "* (3, 4) 기수법 변경하기 - bin(), oct(), hex()\n",
    "* (3, 8) 분수 사용하기 - fractions.Fraction\n",
    "* (3, 12) 쉽게 시간 연산하기 - datetime, timedelta, relativedelta\n",
    "* **(3, 16) utc로 시간 동기화시키기** - datetome.now(pytz.utc), astimezone(timezone)\n",
    "* **(4, 4) 제너레이터 짧게 만들기** - yield from\n",
    "* (4, 8) 파일의 앞부분 떼어내기 - dropwhile(func, iterable)\n",
    "* (4, 12) 두 iterable concatenation - chain()\n"
   ]
  },
  {
   "cell_type": "markdown",
   "metadata": {},
   "source": [
    "## 4.16, 5.8(unimportant)"
   ]
  },
  {
   "cell_type": "code",
   "execution_count": 1,
   "metadata": {
    "scrolled": true
   },
   "outputs": [
    {
     "name": "stdout",
     "output_type": "stream",
     "text": [
      "1\n",
      "2\n",
      "3\n",
      "4\n",
      "5\n",
      "6\n",
      "7\n",
      "8\n",
      "9\n"
     ]
    }
   ],
   "source": [
    "# iter(callable, sentinel)\n",
    "# callable is called repeatedly, until its return value meets sentinel\n",
    "\n",
    "# book example\n",
    "def reader(s):\n",
    "    for chunk in iter(lambda: s.recv(CHUNKSIZE), b''):\n",
    "        process_data(data)\n",
    "\n",
    "\n",
    "# book example\n",
    "# partial() returns a callable that reads RECORD_SIZE bytes from file\n",
    "from functools import partial\n",
    "def reader(s):\n",
    "    RECORD_SIZE = 10\n",
    "    with open(filepath, 'rb') as f:\n",
    "        for chunk in iter(partial(f.read, RECORD_SIZE), b''):\n",
    "            process_data(data)\n",
    "        \n",
    "# else...\n",
    "def reader(s):\n",
    "    while True:\n",
    "        data = s.recv(CHUNKSIZE)\n",
    "        if data == b'':\n",
    "            break\n",
    "        process_data(data)\n",
    "\n",
    "\n",
    "# custom example\n",
    "def count1(start, end):\n",
    "    for result in iter(lambda: start, end):\n",
    "        print(result)\n",
    "        start += 1\n",
    "\n",
    "        \n",
    "# would this be possibe?\n",
    "# calling generator returns generator, NOT streamed value!!\n",
    "def func():\n",
    "    yield from range(10)\n",
    "      \n",
    "def count2(end):\n",
    "    for result in iter(func, end):\n",
    "        print(result)\n",
    "        \n",
    " \n",
    "count1(1, 10) \n",
    "#count2(10)"
   ]
  },
  {
   "cell_type": "markdown",
   "metadata": {},
   "source": [
    "## 5.4\n"
   ]
  },
  {
   "cell_type": "code",
   "execution_count": 2,
   "metadata": {},
   "outputs": [],
   "source": [
    "# decode, when reading binary to text\n",
    "def read_bin(filepath):\n",
    "    with open(filepath, 'rb') as f:\n",
    "        data = f.read(16)\n",
    "        text = data.decode('utf-8')\n",
    "    return text\n",
    "\n",
    "# encode, when writing text to binary\n",
    "def write_bin(text, filepath):\n",
    "    with open(filepath, 'wb') as f:\n",
    "        data = text.encode('utf-8')\n",
    "        f.write(data)"
   ]
  },
  {
   "cell_type": "markdown",
   "metadata": {},
   "source": [
    "## 5.12 "
   ]
  },
  {
   "cell_type": "code",
   "execution_count": 3,
   "metadata": {},
   "outputs": [],
   "source": [
    "import os\n",
    "\n",
    "def is_exist(filepath):\n",
    "    return os.path.exists(filepath)\n",
    "\n",
    "def is_file(filepath):\n",
    "    return os.path.is_file(filepath)\n",
    "\n",
    "def is_directory(filepath):\n",
    "    return os.path.is_dir(filepath)\n",
    "\n"
   ]
  },
  {
   "cell_type": "markdown",
   "metadata": {},
   "source": [
    "## 5.16"
   ]
  },
  {
   "cell_type": "code",
   "execution_count": 7,
   "metadata": {},
   "outputs": [
    {
     "name": "stdout",
     "output_type": "stream",
     "text": [
      "(<_io.TextIOWrapper name='test.txt' mode='w' encoding='cp949'>,\n",
      " <_io.BufferedWriter name='test.txt'>,\n",
      " <_io.FileIO name='test.txt' mode='wb' closefd=True>)\n",
      "<_io.TextIOWrapper name='test.txt' mode='w' encoding='cp949'>\n"
     ]
    }
   ],
   "source": [
    "from pprint import pprint\n",
    "import io\n",
    "PATH = 'test.txt'\n",
    "\n",
    "with open(PATH, 'w') as f:\n",
    "    pprint((\n",
    "          f,   # <_io.TextIOWrapper name='test.txt' mode='w' encoding='cp949'>\n",
    "          f.buffer,    # <_io.BufferedWriter name='test.txt'>\n",
    "          f.buffer.raw    # <_io.FileIO name='test.txt' mode='wb' closefd=True>\n",
    "    ))\n",
    "    #f = f.detach()\n",
    "    print(f)\n",
    "    f = io.TextIOWrapper(f, encoding='latin-1')\n",
    "    f.write('Jalape\\u00f1o')\n"
   ]
  },
  {
   "cell_type": "markdown",
   "metadata": {},
   "source": [
    "## 5.20 "
   ]
  },
  {
   "cell_type": "code",
   "execution_count": null,
   "metadata": {},
   "outputs": [],
   "source": [
    "pass"
   ]
  },
  {
   "cell_type": "markdown",
   "metadata": {},
   "source": [
    "## 6.3"
   ]
  },
  {
   "cell_type": "code",
   "execution_count": null,
   "metadata": {},
   "outputs": [],
   "source": [
    "'''\n",
    "<?xml version=\"1.0\"?>\n",
    "<rss version=\"2.0\" xmlns:dc=\"http://purl.org/dc/elements/1.1/\">\n",
    "<channel>\n",
    "<title>Planet Python</title>\n",
    "<link>http://planet.python.org/</link>\n",
    "<language>en</language>\n",
    "<description>Planet Python - http://planet.python.org/</description>\n",
    "<item>\n",
    "<title>Steve Holden: Python for Data Analysis</title>\n",
    "<guid>http://holdenweb.blogspot.com/...-data-analysis.html</guid>\n",
    "<link>http://holdenweb.blogspot.com/...-data-analysis.html</link>\n",
    "<description>...</description>\n",
    "<pubDate>Mon, 19 Nov 2012 02:13:51 +0000</pubDate>\n",
    "</item>\n",
    "<item>\n",
    "<title>Vasudev Ram: The Python Data model (for v2 and v3)</title>\n",
    "<guid>http://jugad2.blogspot.com/...-data-model.html</guid>\n",
    "<link>http://jugad2.blogspot.com/...-data-model.html</link>\n",
    "<description>...</description>\n",
    "<pubDate>Sun, 18 Nov 2012 22:06:47 +0000</pubDate>\n",
    "</item>\n",
    "<item>\n",
    "<title>Python Diary: Been playing around with Object Databases</title>\n",
    "<guid>http://www.pythondiary.com/...-object-databases.html</guid>\n",
    "<link>http://www.pythondiary.com/...-object-databases.html</link>\n",
    "<description>...</description>\n",
    "<pubDate>Sun, 18 Nov 2012 20:40:29 +0000</pubDate>\n",
    "</item>\n",
    "...\n",
    "</channel>\n",
    "</rss>\n",
    "'''"
   ]
  },
  {
   "cell_type": "code",
   "execution_count": null,
   "metadata": {},
   "outputs": [],
   "source": [
    "from xml.etree.ElementTree import parse\n",
    "from urllib.request import urlopen\n",
    "\n",
    "u = urlopen('http://planet.python.org/rss20.xml')\n",
    "doc = parse(u)\n",
    "\n",
    "for item in doc.iterfind('channel/item'):\n",
    "    title = item.findtext('title')\n",
    "    link = item.findtext('link')\n",
    "    pubDate = item.findtext('pubDate')\n",
    "    \n",
    "    print(title)\n",
    "    print(pubDate)\n",
    "    print(link)\n",
    "    print()"
   ]
  },
  {
   "cell_type": "markdown",
   "metadata": {},
   "source": [
    "## 6.7"
   ]
  },
  {
   "cell_type": "code",
   "execution_count": null,
   "metadata": {},
   "outputs": [],
   "source": [
    " '''\n",
    "<?xml version=\"1.0\" encoding=\"utf-8\"?>\n",
    "<top>\n",
    "<author>David Beazley</author>\n",
    "<content>\n",
    "<html xmlns=\"http://www.w3.org/1999/xhtml\">\n",
    "<head>\n",
    "<title>Hello World</title>\n",
    "</head>\n",
    "<body>\n",
    "<h1>Hello World!</h1>\n",
    "</body>\n",
    "</html>\n",
    "</content>\n",
    "</top>\n",
    "'''"
   ]
  },
  {
   "cell_type": "code",
   "execution_count": null,
   "metadata": {},
   "outputs": [],
   "source": [
    "# possible solution\n",
    "doc.findtext('content/{http://www.w3.org/1999/xhtml}html/'\n",
    "             '{http://www.w3.org/1999/xhtml}head/{http://www.w3.org/1999/xhtml}title')\n",
    "\n",
    "class XMLNamespaces:\n",
    "    def __init__(self, **kwargs):\n",
    "        self.namespaces = {}\n",
    "        for name, url in kwargs.items():\n",
    "            self.register(name, url)\n",
    "            \n",
    "    def register(self, name, uri):\n",
    "        self.namespaces[name] = '{' + uri + '}'\n",
    "    \n",
    "    def __call__(self, path):\n",
    "        return path.format_map(self.namespace)\n",
    "\n",
    "ns = XMLNamespaces(html='http://www.w3.org/1999/xhtml')\n",
    "doc.find(ns('content/{html}html'))"
   ]
  },
  {
   "cell_type": "code",
   "execution_count": 8,
   "metadata": {},
   "outputs": [
    {
     "name": "stdout",
     "output_type": "stream",
     "text": [
      "False\n"
     ]
    }
   ],
   "source": [
    "a = [1,2,3]\n",
    "b = [1,2,3]\n",
    "\n",
    "print(a is b)"
   ]
  },
  {
   "cell_type": "code",
   "execution_count": 11,
   "metadata": {},
   "outputs": [
    {
     "name": "stdout",
     "output_type": "stream",
     "text": [
      "False\n"
     ]
    }
   ],
   "source": [
    "a = 400400400400400400400400400400400400400400400400400400400400400400400400400400400400400400400400400400400400400400400400400400400400400400400400400400400400400400400400400400400400400400400400400400400400400400400400400400400400400400400400400400400400400400400400400400400400400400400400400400400400400400400400400400400400400400400400400400400400400400400400400400400400400400400400400400400400400400400400400400400400400400400400400400400400400400400400400400400400400400400400400400400400400400400400400400400400400400400400400400400400400400400400400400400400400400400400400400400400400400400400400400400400400400400400400400400400400400400400400400400400400400400400400400400400400400400400400\n",
    "\n",
    "\n",
    "\n",
    "b = 400400400400400400400400400400400400400400400400400400400400400400400400400400400400400400400400400400400400400400400400400400400400400400400400400400400400400400400400400400400400400400400400400400400400400400400400400400400400400400400400400400400400400400400400400400400400400400400400400400400400400400400400400400400400400400400400400400400400400400400400400400400400400400400400400400400400400400400400400400400400400400400400400400400400400400400400400400400400400400400400400400400400400400400400400400400400400400400400400400400400400400400400400400400400400400400400400400400400400400400400400400400400400400400400400400400400400400400400400400400400400400400400400400400400400400400400400\n",
    "\n",
    "print(a is b)"
   ]
  },
  {
   "cell_type": "code",
   "execution_count": 10,
   "metadata": {},
   "outputs": [
    {
     "name": "stdout",
     "output_type": "stream",
     "text": [
      "False\n"
     ]
    }
   ],
   "source": [
    "a = (1,20)\n",
    "b = (1,20)\n",
    "\n",
    "print(a is b)"
   ]
  },
  {
   "cell_type": "code",
   "execution_count": null,
   "metadata": {},
   "outputs": [],
   "source": []
  }
 ],
 "metadata": {
  "kernelspec": {
   "display_name": "Python 3",
   "language": "python",
   "name": "python3"
  },
  "language_info": {
   "codemirror_mode": {
    "name": "ipython",
    "version": 3
   },
   "file_extension": ".py",
   "mimetype": "text/x-python",
   "name": "python",
   "nbconvert_exporter": "python",
   "pygments_lexer": "ipython3",
   "version": "3.6.4"
  }
 },
 "nbformat": 4,
 "nbformat_minor": 2
}
