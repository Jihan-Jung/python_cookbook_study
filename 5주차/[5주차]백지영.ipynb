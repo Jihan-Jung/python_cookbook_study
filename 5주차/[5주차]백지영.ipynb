{
 "cells": [
  {
   "cell_type": "code",
   "execution_count": 32,
   "metadata": {},
   "outputs": [],
   "source": [
    "from IPython.core.interactiveshell import InteractiveShell\n",
    "InteractiveShell.ast_node_interactivity = \"all\""
   ]
  },
  {
   "cell_type": "markdown",
   "metadata": {},
   "source": [
    "## 7.10 콜백 함수에 추가적 상태 넣기\n",
    "- 콜백 함수에 추가 상태를 넣고 내부 호출에 사용하고 싶을 때"
   ]
  },
  {
   "cell_type": "code",
   "execution_count": 18,
   "metadata": {},
   "outputs": [],
   "source": [
    "def apply_async(func, args, *, callback):\n",
    "    #결과 계산\n",
    "    result = func(*args)\n",
    "    \n",
    "    #결과 값으로 콜백 함수 호출\n",
    "    callback(result)"
   ]
  },
  {
   "cell_type": "code",
   "execution_count": 2,
   "metadata": {},
   "outputs": [],
   "source": [
    "def print_result(result):\n",
    "    print('Got:', result)\n",
    "    \n",
    "def add(x,y):\n",
    "    return x+y"
   ]
  },
  {
   "cell_type": "code",
   "execution_count": 3,
   "metadata": {},
   "outputs": [
    {
     "name": "stdout",
     "output_type": "stream",
     "text": [
      "Got: 5\n"
     ]
    }
   ],
   "source": [
    "apply_async(add, (2, 3), callback=print_result)"
   ]
  },
  {
   "cell_type": "code",
   "execution_count": 4,
   "metadata": {},
   "outputs": [
    {
     "name": "stdout",
     "output_type": "stream",
     "text": [
      "Got: helloworld\n"
     ]
    }
   ],
   "source": [
    "apply_async(add, ('hello', 'world'), callback=print_result)"
   ]
  },
  {
   "cell_type": "markdown",
   "metadata": {},
   "source": [
    "- print_result() 함수는 결과 값만 하나의 인자로 받음 -> 부족한 정보로 인해 문제 발생할 수 있"
   ]
  },
  {
   "cell_type": "markdown",
   "metadata": {},
   "source": [
    "### 1. 바운드-메소드(bound-method) 사용"
   ]
  },
  {
   "cell_type": "code",
   "execution_count": 5,
   "metadata": {},
   "outputs": [],
   "source": [
    "class ResultHandler:\n",
    "    def __init__(self):\n",
    "        self.sequence = 0\n",
    "    def handler(self, result):\n",
    "        self.sequence += 1 #결과값을 받을 때마다 늘어나는 내부 시퀀스 숫자\n",
    "        print('[{}] Got: {}'.format(self.sequence, result))"
   ]
  },
  {
   "cell_type": "code",
   "execution_count": 7,
   "metadata": {},
   "outputs": [
    {
     "name": "stdout",
     "output_type": "stream",
     "text": [
      "[1] Got: 5\n"
     ]
    }
   ],
   "source": [
    "r = ResultHandler()\n",
    "apply_async(add, (2, 3), callback = r.handler) #바운드 메소드 핸들러를 콜백으로 사용"
   ]
  },
  {
   "cell_type": "code",
   "execution_count": 8,
   "metadata": {},
   "outputs": [
    {
     "name": "stdout",
     "output_type": "stream",
     "text": [
      "[2] Got: helloworld\n"
     ]
    }
   ],
   "source": [
    "apply_async(add, ('hello', 'world'), callback=r.handler)"
   ]
  },
  {
   "cell_type": "markdown",
   "metadata": {},
   "source": [
    "- 아니면 클래스 대신 클로저를 사용해소 상태 저장해도 됨"
   ]
  },
  {
   "cell_type": "code",
   "execution_count": 10,
   "metadata": {},
   "outputs": [],
   "source": [
    "def make_handler():\n",
    "    sequence = 0\n",
    "    def handler(result):\n",
    "        nonlocal sequence\n",
    "        sequence += 1\n",
    "        print('[{}] Got: {}'.format(sequence, result))\n",
    "    return handler"
   ]
  },
  {
   "cell_type": "code",
   "execution_count": 11,
   "metadata": {},
   "outputs": [
    {
     "name": "stdout",
     "output_type": "stream",
     "text": [
      "[1] Got: 5\n"
     ]
    }
   ],
   "source": [
    "handler = make_handler()\n",
    "apply_async(add, (2, 3), callback = handler)"
   ]
  },
  {
   "cell_type": "code",
   "execution_count": 12,
   "metadata": {},
   "outputs": [
    {
     "name": "stdout",
     "output_type": "stream",
     "text": [
      "[2] Got: helloworld\n"
     ]
    }
   ],
   "source": [
    "apply_async(add, ('hello', 'world'), callback=handler)"
   ]
  },
  {
   "cell_type": "code",
   "execution_count": null,
   "metadata": {},
   "outputs": [],
   "source": []
  },
  {
   "cell_type": "markdown",
   "metadata": {},
   "source": [
    "### 2. 코루틴(coroutine) 사용\n",
    "- next() 를 호출해야 함\n",
    "- w제너레이터에 데이터를 푸시하고 싶을 때 ( 외부에서 제공되는 데이터를 소비하는 역할을 하고 싶을 때\n",
    "\n",
    "- 값을 받을 때 yield 키워드는 = 오른쪽에 있는 표현식으로 사용할 수 있음 \n",
    "- 객체에 대해 send() 메서드를 사용해서 값을 함수로 다시 전달함"
   ]
  },
  {
   "cell_type": "code",
   "execution_count": 34,
   "metadata": {},
   "outputs": [],
   "source": [
    "def printer():\n",
    "    ## 1\n",
    "    while True:\n",
    "        line = (yield)  ## 2    #리턴이 아니라 입력의 목적\n",
    "        print (line)\n",
    "prn = printer() #printer() 함수 호출하여 코루틴 생성\n",
    "# 생성 직후의 코루틴의 실행 위치는 #1"
   ]
  },
  {
   "cell_type": "code",
   "execution_count": 37,
   "metadata": {},
   "outputs": [
    {
     "name": "stdout",
     "output_type": "stream",
     "text": [
      "None\n",
      "1\n"
     ]
    }
   ],
   "source": [
    "next(prn) # 2 지점까지 실행됨. 우변이 평가되는 시점에 코루틴이 한 번 멈춤.\n",
    "# ********다음 동작으로 데이터를 반환하는 것이 아니라 데이터를 입력 받음***********\n",
    "# 다시 실행될 때 외부에서 들여온 값으로 yield가 평가됨 -> 그 값이 line으로 들어감\n",
    "prn.send(1) ## 1 값을 코루틴에 밀어넣음. print()문을 실행하고 다시 yield 위치까지 실행됨."
   ]
  },
  {
   "cell_type": "code",
   "execution_count": 49,
   "metadata": {},
   "outputs": [
    {
     "name": "stdout",
     "output_type": "stream",
     "text": [
      "start coroutine\n"
     ]
    },
    {
     "data": {
      "text/plain": [
       "5"
      ]
     },
     "execution_count": 49,
     "metadata": {},
     "output_type": "execute_result"
    }
   ],
   "source": [
    "def test(i):\n",
    "    print('start coroutine')\n",
    "    while True:\n",
    "        value = yield i\n",
    "        i += value\n",
    "\n",
    "b = test(5)\n",
    "next(b) # print 출력 후 5 출력. yield i 부분까지 옴"
   ]
  },
  {
   "cell_type": "code",
   "execution_count": 50,
   "metadata": {},
   "outputs": [
    {
     "data": {
      "text/plain": [
       "8"
      ]
     },
     "execution_count": 50,
     "metadata": {},
     "output_type": "execute_result"
    }
   ],
   "source": [
    "b.send(3) #yield를 통해 3을 전달하여 value가 3이 됨. 이후 i += value 줄을 거쳐 i=8이 되고 한바퀴 돌아 8을 출력"
   ]
  },
  {
   "cell_type": "code",
   "execution_count": 51,
   "metadata": {},
   "outputs": [
    {
     "data": {
      "text/plain": [
       "13"
      ]
     },
     "execution_count": 51,
     "metadata": {},
     "output_type": "execute_result"
    }
   ],
   "source": [
    "b.send(5)"
   ]
  },
  {
   "cell_type": "markdown",
   "metadata": {},
   "source": [
    "** 코루틴은 제너레이터와 달리 생성 후에 무조건 next()를 한 번 실행해서 값을 받을 수 있는 상태로 만들어 주어야 함."
   ]
  },
  {
   "cell_type": "code",
   "execution_count": 48,
   "metadata": {},
   "outputs": [
    {
     "name": "stdout",
     "output_type": "stream",
     "text": [
      "[1] Got: 5\n"
     ]
    }
   ],
   "source": [
    "def make_handler():\n",
    "    sequence = 0\n",
    "    while True:\n",
    "        result = yield # 바인딩 구문 : 우변을 먼저 평가한 후 그 평가값을 좌변에 연결함.\n",
    "        sequence += 1\n",
    "        print('[{}] Got: {}'.format(sequence, result))\n",
    "\n",
    "# 콜백으로 send() 메소드 사용해야 함\n",
    "handler = make_handler()\n",
    "next(handler) #advance to the yield\n",
    "apply_async(add, (2, 3), callback = handler.send)"
   ]
  },
  {
   "cell_type": "code",
   "execution_count": 14,
   "metadata": {},
   "outputs": [
    {
     "name": "stdout",
     "output_type": "stream",
     "text": [
      "[2] Got: helloworld\n"
     ]
    }
   ],
   "source": [
    "apply_async(add, ('hello', 'world'), callback = handler.send)"
   ]
  },
  {
   "cell_type": "markdown",
   "metadata": {},
   "source": [
    "### 3. 추가적인 인자와 partial function 애플리케이션으로\n",
    "- 해야하는 작업이 추가적인 값을 콜백에 전달하는 것 뿐일때 유용"
   ]
  },
  {
   "cell_type": "code",
   "execution_count": 15,
   "metadata": {},
   "outputs": [
    {
     "name": "stdout",
     "output_type": "stream",
     "text": [
      "[1] Got : 5\n"
     ]
    }
   ],
   "source": [
    "class SequenceNo:\n",
    "    def __init__(self):\n",
    "        self.sequence = 0\n",
    "        \n",
    "def handler(result, seq):\n",
    "    seq.sequence += 1\n",
    "    print('[{}] Got : {}'.format(seq.sequence, result))\n",
    "    \n",
    "seq = SequenceNo()\n",
    "from functools import partial\n",
    "apply_async(add, (2, 3), callback = partial(handler, seq=seq))"
   ]
  },
  {
   "cell_type": "code",
   "execution_count": 16,
   "metadata": {},
   "outputs": [
    {
     "name": "stdout",
     "output_type": "stream",
     "text": [
      "[2] Got : helloworld\n"
     ]
    }
   ],
   "source": [
    "apply_async(add, ('hello', 'world'), callback = partial(handler, seq=seq))"
   ]
  },
  {
   "cell_type": "markdown",
   "metadata": {},
   "source": [
    "- 콜백 함수가 여러 단계에 걸쳐 실행을 계속하도록 만들기 위해선 어떻게 관련 상태를 저장하고 불러올지 정해야 함\n",
    "\n",
    "- 상태 고정 저장하는 방법\n",
    "\n",
    "1) 인스턴스에 상태 저장 (바운드 메소드)\n",
    "\n",
    "2) 클로저에 저장(내부 함수) -> 더 가볍고 자연스러움 + 코드에서 자동으로 상태 결정"
   ]
  },
  {
   "cell_type": "markdown",
   "metadata": {},
   "source": [
    "## 8.1 인스턴스의 문자열 표현식 변형\n",
    "- 결과물 좀 더 보기 좋게 바꾸자"
   ]
  },
  {
   "cell_type": "code",
   "execution_count": 51,
   "metadata": {},
   "outputs": [],
   "source": [
    "class Pair:\n",
    "    def __init__(self, x, y):\n",
    "        self.x = x\n",
    "        self.y = y\n",
    "    def __repr__(self): #객체의 공식적인 문자열 출력 (시스템이 해당 객체를 인식할 수 있는 공식적인 문자열로 나타내줄 때 사용)\n",
    "        return 'Pair({0.x!r}, {0.y!r})'.format(self)\n",
    "    def __str__(self): #객체의 비공식적인 문자열 출력 (사용자가 보기 쉬운 형태로 qhduwnf Eo)\n",
    "        return '({0.x!s}, {0.y!s})'.format(self)\n"
   ]
  },
  {
   "cell_type": "markdown",
   "metadata": {},
   "source": [
    "- __ repr__() : 인스턴스의 코드 표현식 반환 / 주로 기계가 읽을 수 있는 출력을 생성하기 위한 것\n",
    "    \n",
    "- __ str__() : 인스턴스를 문자열로 변환, str()와 print() 함수가 출력되는 결과가 됨. 사람이 읽을 수 있도록 만들어짐"
   ]
  },
  {
   "cell_type": "code",
   "execution_count": 18,
   "metadata": {},
   "outputs": [
    {
     "data": {
      "text/plain": [
       "Pair(3, 4)"
      ]
     },
     "execution_count": 18,
     "metadata": {},
     "output_type": "execute_result"
    }
   ],
   "source": [
    "p = Pair(3, 4)\n",
    "p ## __repr__() 결과"
   ]
  },
  {
   "cell_type": "code",
   "execution_count": 19,
   "metadata": {},
   "outputs": [
    {
     "name": "stdout",
     "output_type": "stream",
     "text": [
      "(3, 4)\n"
     ]
    }
   ],
   "source": [
    "print(p) #__str__() 결과"
   ]
  },
  {
   "cell_type": "code",
   "execution_count": 20,
   "metadata": {},
   "outputs": [
    {
     "name": "stdout",
     "output_type": "stream",
     "text": [
      "p is Pair(5, 6)\n"
     ]
    }
   ],
   "source": [
    "p = Pair(5, 6)\n",
    "print('p is {0!r}'.format(p))"
   ]
  },
  {
   "cell_type": "code",
   "execution_count": 21,
   "metadata": {},
   "outputs": [
    {
     "name": "stdout",
     "output_type": "stream",
     "text": [
      "p is (5, 6)\n"
     ]
    }
   ],
   "source": [
    "print('p is {0}'.format(p))"
   ]
  },
  {
   "cell_type": "markdown",
   "metadata": {},
   "source": [
    "* the goal of __ repr__ is to be unambiguous\n",
    "- %r 포매팅시 사용되는 스페셜 메서드\n",
    "- 출력값의 목표는 객체를 구분지어 표현하는 것"
   ]
  },
  {
   "cell_type": "markdown",
   "metadata": {},
   "source": [
    "- the goal of '__ str__' is to be readable\n",
    "- 디버깅시 사람이 그 객체를 읽기 편한 값을 출력하도록 정의"
   ]
  },
  {
   "cell_type": "markdown",
   "metadata": {},
   "source": [
    "## 8.4 인스턴스를 많이 생성할 때 메모리 절약\n",
    "- adding the __ slots__ attribute to the class definition\n",
    "\n",
    "__ slots__ 선언은 인스턴스 변수 시퀀스와 각 인스턴스별로 각 변수들에 값을 넣어둘 충분한 공간을 준비해둠.\n",
    "각 인스턴스별 사전을 만들지 않으므로 공간을 절약할 수 있음\n",
    "\n",
    " __ dict__ 나 __ weakref__ 의 생성을 막고 동적으로 선언될 변수들을 위한 공간을 확보"
   ]
  },
  {
   "cell_type": "markdown",
   "metadata": {},
   "source": [
    "- 해당 클래스에 의해 만들어진 객체의 인스턴스 속성 관리에 딕셔너리 대신 __ slots__ 사용\n",
    "\n",
    "인스턴스마다 딕셔너리를 구성하지 않고 튜플이나 리스트 같은 부피가 작은 고정 배열로 인스턴스 만들어짐."
   ]
  },
  {
   "cell_type": "code",
   "execution_count": 56,
   "metadata": {},
   "outputs": [
    {
     "name": "stdout",
     "output_type": "stream",
     "text": [
      "{'name': 'PlanB', 'identifier': 1}\n",
      "{'name': 'PlanB', 'new_attr': 3, 'identifier': 1}\n"
     ]
    }
   ],
   "source": [
    "class WithoutSlots:\n",
    "    def __init__(self, name, identifier):\n",
    "        self.name = name\n",
    "        self.identifier = identifier\n",
    "\n",
    "class WithSlots:\n",
    "    __slots__=['name', 'identifier']\n",
    "    def __init__(self, name, identifier):\n",
    "        self.name = name\n",
    "        self.identifier = identifier\n",
    "    \n",
    "without_slots = WithoutSlots('PlanB', 1)\n",
    "print(without_slots.__dict__)\n",
    "without_slots.new_attr = 3\n",
    "print(without_slots.__dict__) #새 속성을 설정할 수 있음"
   ]
  },
  {
   "cell_type": "code",
   "execution_count": 58,
   "metadata": {},
   "outputs": [
    {
     "name": "stdout",
     "output_type": "stream",
     "text": [
      "['name', 'identifier']\n"
     ]
    },
    {
     "ename": "AttributeError",
     "evalue": "'WithSlots' object has no attribute '__dict__'",
     "output_type": "error",
     "traceback": [
      "\u001b[0;31m---------------------------------------------------------------------------\u001b[0m",
      "\u001b[0;31mAttributeError\u001b[0m                            Traceback (most recent call last)",
      "\u001b[0;32m<ipython-input-58-2cb49e712cfd>\u001b[0m in \u001b[0;36m<module>\u001b[0;34m\u001b[0m\n\u001b[1;32m      1\u001b[0m \u001b[0mwith_slots\u001b[0m \u001b[0;34m=\u001b[0m \u001b[0mWithSlots\u001b[0m\u001b[0;34m(\u001b[0m\u001b[0;34m'PlanA'\u001b[0m\u001b[0;34m,\u001b[0m \u001b[0;36m2\u001b[0m\u001b[0;34m)\u001b[0m\u001b[0;34m\u001b[0m\u001b[0m\n\u001b[1;32m      2\u001b[0m \u001b[0mprint\u001b[0m\u001b[0;34m(\u001b[0m\u001b[0mwith_slots\u001b[0m\u001b[0;34m.\u001b[0m\u001b[0m__slots__\u001b[0m\u001b[0;34m)\u001b[0m\u001b[0;34m\u001b[0m\u001b[0m\n\u001b[0;32m----> 3\u001b[0;31m \u001b[0mprint\u001b[0m\u001b[0;34m(\u001b[0m\u001b[0mwith_slots\u001b[0m\u001b[0;34m.\u001b[0m\u001b[0m__dict__\u001b[0m\u001b[0;34m)\u001b[0m\u001b[0;34m\u001b[0m\u001b[0m\n\u001b[0m",
      "\u001b[0;31mAttributeError\u001b[0m: 'WithSlots' object has no attribute '__dict__'"
     ]
    }
   ],
   "source": [
    "with_slots = WithSlots('PlanA', 2)\n",
    "print(with_slots.__slots__)\n",
    "print(with_slots.__dict__)"
   ]
  },
  {
   "cell_type": "code",
   "execution_count": 22,
   "metadata": {},
   "outputs": [],
   "source": [
    "class Date:\n",
    "    __slots__ = ['year', 'month', 'day']\n",
    "    def __init__(self, year, month, day):\n",
    "        self.year = year\n",
    "        self.month = month\n",
    "        self.day = day"
   ]
  },
  {
   "cell_type": "markdown",
   "metadata": {},
   "source": [
    "* __ dict__ 가 없으므로 인스턴스들은 __ slots__에 적혀진 변수외에는 새로운 변수들을 추가로 만들 수 없음\n",
    "\n",
    "-> 외부에서 동적으로 지정된 이름 이외의 인스턴스 변수를 만들 수 없도록 제한하려면 __ slots__이용"
   ]
  },
  {
   "cell_type": "markdown",
   "metadata": {},
   "source": [
    "## 부모 클래스의 메소드 호출\n",
    "- super() : 자식 클래스에서 부모클래스의 내용을 사용하고 싶을 경우"
   ]
  },
  {
   "cell_type": "code",
   "execution_count": 65,
   "metadata": {},
   "outputs": [
    {
     "name": "stdout",
     "output_type": "stream",
     "text": [
      "B.spam\n",
      "A.spam\n"
     ]
    }
   ],
   "source": [
    "class A:\n",
    "    def spam(self):\n",
    "        print('A.spam')\n",
    "              \n",
    "class B(A):\n",
    "    def spam(self):\n",
    "        print('B.spam')\n",
    "        super().spam() #부모의 spam() 호출\n",
    "B = B()\n",
    "B.spam() "
   ]
  },
  {
   "cell_type": "code",
   "execution_count": 73,
   "metadata": {},
   "outputs": [
    {
     "data": {
      "text/plain": [
       "0"
      ]
     },
     "execution_count": 73,
     "metadata": {},
     "output_type": "execute_result"
    }
   ],
   "source": [
    "class A:\n",
    "    def __init__(self):\n",
    "        self.x = 0\n",
    "    \n",
    "class B(A):\n",
    "    def __init__(self):\n",
    "        super().__init__() #부모클래스의 __init__ 메소드 호출\n",
    "        self.y = 1\n",
    "        \n",
    "cl = B()\n",
    "cl.x"
   ]
  },
  {
   "cell_type": "markdown",
   "metadata": {},
   "source": [
    "- super()를 쓰지 않았을 때"
   ]
  },
  {
   "cell_type": "code",
   "execution_count": 68,
   "metadata": {},
   "outputs": [],
   "source": [
    "class father():\n",
    "    def handsome(self):\n",
    "        print('잘생겼다')\n",
    "class brother(father):\n",
    "    '''아들'''\n",
    "class sister(father):\n",
    "    def pretty(self):\n",
    "        print('예쁘다')\n",
    "    def handsome(self):\n",
    "        '''아빠한테물려받음'''"
   ]
  },
  {
   "cell_type": "code",
   "execution_count": 69,
   "metadata": {},
   "outputs": [
    {
     "name": "stdout",
     "output_type": "stream",
     "text": [
      "잘생겼다\n"
     ]
    }
   ],
   "source": [
    "brother = brother()\n",
    "brother.handsome()"
   ]
  },
  {
   "cell_type": "code",
   "execution_count": 70,
   "metadata": {},
   "outputs": [
    {
     "name": "stdout",
     "output_type": "stream",
     "text": [
      "예쁘다\n"
     ]
    }
   ],
   "source": [
    "sister = sister()\n",
    "sister.handsome()\n",
    "sister.pretty()"
   ]
  },
  {
   "cell_type": "code",
   "execution_count": 72,
   "metadata": {},
   "outputs": [
    {
     "name": "stdout",
     "output_type": "stream",
     "text": [
      "잘생겼다\n",
      "예쁘다\n"
     ]
    }
   ],
   "source": [
    "class sister2(father):\n",
    "    def pretty(self):\n",
    "        print('예쁘다')\n",
    "    def handsome(self):\n",
    "        super().handsome()\n",
    "sister2 = sister2()\n",
    "sister2.handsome()\n",
    "sister2.pretty()"
   ]
  },
  {
   "cell_type": "code",
   "execution_count": null,
   "metadata": {},
   "outputs": [],
   "source": []
  },
  {
   "cell_type": "code",
   "execution_count": 26,
   "metadata": {},
   "outputs": [],
   "source": [
    "class Proxy:\n",
    "    def __init__(self, obj):\n",
    "        self._obj = obj\n",
    "    \n",
    "    def __getattr__(self, name):\n",
    "        return getattr(self._obj, name)\n",
    "    \n",
    "    def __setattr__(self, name, value):\n",
    "        if name.startswith('_'):\n",
    "            super().__setattr__(name, value)\n",
    "        else:\n",
    "            setattr(self._obj, name, value)"
   ]
  },
  {
   "cell_type": "markdown",
   "metadata": {},
   "source": [
    "- super() 적절한 사용"
   ]
  },
  {
   "cell_type": "code",
   "execution_count": 28,
   "metadata": {},
   "outputs": [],
   "source": [
    "class Base:\n",
    "    def __init__(self):\n",
    "        print('Base.__init__')\n",
    "\n",
    "class A(Base):\n",
    "    def __init__(self):\n",
    "        Base.__init__(self)\n",
    "        print('A.__init__')\n",
    "\n",
    "class B(Base):\n",
    "    def __init__(self):\n",
    "        Base.__init__(self)\n",
    "        print('B.__init__')\n",
    "        \n",
    "class C(A,B):\n",
    "    def __init__(self):\n",
    "        A.__init__(self)\n",
    "        B.__init__(self)\n",
    "        print('C.__init__')"
   ]
  },
  {
   "cell_type": "code",
   "execution_count": 29,
   "metadata": {},
   "outputs": [
    {
     "name": "stdout",
     "output_type": "stream",
     "text": [
      "Base.__init__\n",
      "A.__init__\n",
      "Base.__init__\n",
      "B.__init__\n",
      "C.__init__\n"
     ]
    }
   ],
   "source": [
    "c = C()"
   ]
  },
  {
   "cell_type": "code",
   "execution_count": 32,
   "metadata": {},
   "outputs": [],
   "source": [
    "class Base:\n",
    "    def __init__(self):\n",
    "        print('Base.__init__')\n",
    "        \n",
    "class A(Base):\n",
    "    def __init__(self):\n",
    "        super().__init__()\n",
    "        print('A.__init__')\n",
    "        \n",
    "class B(Base):\n",
    "    def __init__(self):\n",
    "        super().__init__()\n",
    "        print('B.__init__')\n",
    "        \n",
    "class C(A,B):\n",
    "    def __init__(self):\n",
    "        super().__init__()     # Only one call to super() here\n",
    "        print('C.__init__')"
   ]
  },
  {
   "cell_type": "code",
   "execution_count": 33,
   "metadata": {},
   "outputs": [
    {
     "name": "stdout",
     "output_type": "stream",
     "text": [
      "Base.__init__\n",
      "B.__init__\n",
      "A.__init__\n",
      "C.__init__\n"
     ]
    }
   ],
   "source": [
    "c = C()"
   ]
  },
  {
   "cell_type": "code",
   "execution_count": 34,
   "metadata": {},
   "outputs": [
    {
     "data": {
      "text/plain": [
       "(__main__.C, __main__.A, __main__.B, __main__.Base, object)"
      ]
     },
     "execution_count": 34,
     "metadata": {},
     "output_type": "execute_result"
    }
   ],
   "source": [
    "# MRO 리스트 : 모든 베이스 클래스를 순차적으로 나열한 리스트\n",
    "C.__mro__"
   ]
  },
  {
   "cell_type": "code",
   "execution_count": null,
   "metadata": {},
   "outputs": [],
   "source": []
  },
  {
   "cell_type": "markdown",
   "metadata": {},
   "source": [
    "## 8.10 Using Lazily Computed Properties\n",
    "- 읽기 전용 속성을 property로 정의하고 이 속성에 접근할 때만 계산하고 싶음\n",
    "- 한 번 접근하면 캐시로 놓고 다음 번 접근할 때는 다시 계산 안하고싶음"
   ]
  },
  {
   "cell_type": "code",
   "execution_count": 35,
   "metadata": {},
   "outputs": [],
   "source": [
    "# 디스크립터 클래스 사용\n",
    "class lazyproperty:\n",
    "    def __init__(self, func):\n",
    "        self.func = func\n",
    "        \n",
    "    def __get__(self, instance, cls):\n",
    "        if instance is None:\n",
    "            return self\n",
    "        else:\n",
    "            value = self.func(instance)\n",
    "            setattr(instance, self.func.__name__, value)\n",
    "            return value"
   ]
  },
  {
   "cell_type": "code",
   "execution_count": 81,
   "metadata": {},
   "outputs": [],
   "source": [
    "import math\n",
    "class Circle:\n",
    "    def __init__(self, radius):\n",
    "        self.radius = radius\n",
    "    \n",
    "    @lazyproperty    \n",
    "    def area(self):\n",
    "        print ('Computing area')\n",
    "        return math.pi * self.radius ** 2\n",
    "    \n",
    "    @lazyproperty\n",
    "    def perimeter(self):\n",
    "        print ('Computing perimeter')\n",
    "        return 2 * math.pi * self.radius"
   ]
  },
  {
   "cell_type": "code",
   "execution_count": 82,
   "metadata": {},
   "outputs": [
    {
     "data": {
      "text/plain": [
       "4.0"
      ]
     },
     "execution_count": 82,
     "metadata": {},
     "output_type": "execute_result"
    }
   ],
   "source": [
    "c = Circle(4.0)\n",
    "c.radius"
   ]
  },
  {
   "cell_type": "code",
   "execution_count": 83,
   "metadata": {},
   "outputs": [
    {
     "name": "stdout",
     "output_type": "stream",
     "text": [
      "Computing area\n"
     ]
    },
    {
     "data": {
      "text/plain": [
       "50.26548245743669"
      ]
     },
     "execution_count": 83,
     "metadata": {},
     "output_type": "execute_result"
    }
   ],
   "source": [
    "c.area"
   ]
  },
  {
   "cell_type": "code",
   "execution_count": 84,
   "metadata": {},
   "outputs": [
    {
     "name": "stdout",
     "output_type": "stream",
     "text": [
      "Computing perimeter\n"
     ]
    },
    {
     "data": {
      "text/plain": [
       "25.132741228718345"
      ]
     },
     "execution_count": 84,
     "metadata": {},
     "output_type": "execute_result"
    }
   ],
   "source": [
    "c.perimeter"
   ]
  },
  {
   "cell_type": "code",
   "execution_count": 85,
   "metadata": {},
   "outputs": [
    {
     "data": {
      "text/plain": [
       "25.132741228718345"
      ]
     },
     "execution_count": 85,
     "metadata": {},
     "output_type": "execute_result"
    }
   ],
   "source": [
    "c.perimeter"
   ]
  },
  {
   "cell_type": "code",
   "execution_count": 88,
   "metadata": {},
   "outputs": [],
   "source": [
    "a = Circle(2.0)"
   ]
  },
  {
   "cell_type": "code",
   "execution_count": 89,
   "metadata": {},
   "outputs": [
    {
     "data": {
      "text/plain": [
       "{'radius': 2.0}"
      ]
     },
     "execution_count": 89,
     "metadata": {},
     "output_type": "execute_result"
    }
   ],
   "source": [
    "#인스턴스 변수 구하기\n",
    "vars(a)"
   ]
  },
  {
   "cell_type": "code",
   "execution_count": 90,
   "metadata": {},
   "outputs": [
    {
     "name": "stdout",
     "output_type": "stream",
     "text": [
      "Computing area\n"
     ]
    },
    {
     "data": {
      "text/plain": [
       "12.566370614359172"
      ]
     },
     "execution_count": 90,
     "metadata": {},
     "output_type": "execute_result"
    }
   ],
   "source": [
    "# 면적 계산하고 추후 변수 확인\n",
    "a.area"
   ]
  },
  {
   "cell_type": "code",
   "execution_count": 91,
   "metadata": {},
   "outputs": [
    {
     "data": {
      "text/plain": [
       "{'area': 12.566370614359172, 'radius': 2.0}"
      ]
     },
     "execution_count": 91,
     "metadata": {},
     "output_type": "execute_result"
    }
   ],
   "source": [
    "vars(a)"
   ]
  },
  {
   "cell_type": "code",
   "execution_count": 92,
   "metadata": {},
   "outputs": [
    {
     "data": {
      "text/plain": [
       "12.566370614359172"
      ]
     },
     "execution_count": 92,
     "metadata": {},
     "output_type": "execute_result"
    }
   ],
   "source": [
    "a.area"
   ]
  },
  {
   "cell_type": "code",
   "execution_count": 93,
   "metadata": {},
   "outputs": [
    {
     "data": {
      "text/plain": [
       "{'radius': 2.0}"
      ]
     },
     "execution_count": 93,
     "metadata": {},
     "output_type": "execute_result"
    }
   ],
   "source": [
    "#변수를 삭제하면 다시 프로퍼티 실행됨\n",
    "del a.area\n",
    "vars(a)"
   ]
  },
  {
   "cell_type": "code",
   "execution_count": 94,
   "metadata": {},
   "outputs": [
    {
     "name": "stdout",
     "output_type": "stream",
     "text": [
      "Computing area\n"
     ]
    },
    {
     "data": {
      "text/plain": [
       "12.566370614359172"
      ]
     },
     "execution_count": 94,
     "metadata": {},
     "output_type": "execute_result"
    }
   ],
   "source": [
    "a.area"
   ]
  },
  {
   "cell_type": "code",
   "execution_count": 95,
   "metadata": {},
   "outputs": [
    {
     "data": {
      "text/plain": [
       "25"
      ]
     },
     "execution_count": 95,
     "metadata": {},
     "output_type": "execute_result"
    }
   ],
   "source": [
    "# 계산한 값을 생성한 후에 수정할 수 있음\n",
    "a.area = 25\n",
    "a.area"
   ]
  },
  {
   "cell_type": "code",
   "execution_count": null,
   "metadata": {},
   "outputs": [],
   "source": []
  },
  {
   "cell_type": "markdown",
   "metadata": {},
   "source": [
    "## 8.13 데이터 모델 혹은 타입 시스템 구현\n",
    "- 여러 종류의 자료 구조 정의 (특정 값에 제약을 걸어 원하는 속성이 할당되도록)\n",
    "- descriptor\n",
    "- mixin classes\n",
    "- super()\n",
    "- class decorators\n",
    "- metaclasses"
   ]
  },
  {
   "cell_type": "markdown",
   "metadata": {},
   "source": [
    "Descriptor는 특성 객체의 속성 접근 시 먼저 그 속성의 특성을 체크하여 처리할 수 있는 방법\n",
    "- 구현 class에 대한 getter/setter/deleter 함수를 별도 관리\n",
    "- 구현시 메소드 정의 없이 변수로 처리로 대처\n",
    "- descriptor를 사용하면 한 클래스의 서로 다른 많은 속성에 같은 로직을 재사용할 수 있음"
   ]
  },
  {
   "cell_type": "markdown",
   "metadata": {},
   "source": [
    "Descriptor class를 생성하여 실제 구현 클래스 내부의 속성에 대한 init/setter를 통제할 수 있도록 구조화\n",
    "\n",
    "실제 인스턴스의 속성에 접근할 때 자동으로 메소드 처리되므로 속성에 접근을 제어하는 기능을 제시할 수 있음"
   ]
  },
  {
   "cell_type": "code",
   "execution_count": 37,
   "metadata": {},
   "outputs": [
    {
     "name": "stdout",
     "output_type": "stream",
     "text": [
      "\n",
      "set\n",
      "\n",
      "set\n"
     ]
    }
   ],
   "source": [
    "class t(object):\n",
    "    def __get__(*args, **kwargs):\n",
    "        print('get')\n",
    " \n",
    "    def __set__(*args, **kwargs):\n",
    "        print(**kwargs)\n",
    "        print('set')\n",
    "        \n",
    "class test():\n",
    "    a = t()\n",
    "    b = t()\n",
    "    \n",
    "a = test()\n",
    "a.a = 10\n",
    "a.b = 20"
   ]
  },
  {
   "cell_type": "code",
   "execution_count": 29,
   "metadata": {},
   "outputs": [],
   "source": [
    "class Grade:\n",
    "    def __get__(*args, **kwargs):\n",
    "        pass\n",
    "    def __set__(*args, **kwargs):\n",
    "        pass\n",
    "#Grade class는 디스크립터 프로토콜 구현"
   ]
  },
  {
   "cell_type": "code",
   "execution_count": 30,
   "metadata": {},
   "outputs": [],
   "source": [
    "class Exam:\n",
    "    math_grade = Grade()\n",
    "    writing_grade = Grade()\n",
    "    science_grade = Grade()"
   ]
  },
  {
   "cell_type": "code",
   "execution_count": 31,
   "metadata": {},
   "outputs": [],
   "source": [
    "exam = Exam()\n",
    "exam.writing_grade = 40\n",
    "# Exam.__dict__['writing_grade'].__set__(exam, 40)"
   ]
  },
  {
   "cell_type": "code",
   "execution_count": null,
   "metadata": {},
   "outputs": [],
   "source": []
  },
  {
   "cell_type": "code",
   "execution_count": 4,
   "metadata": {},
   "outputs": [],
   "source": [
    "class Descriptor:\n",
    "    def __init__(self, name=None, **opts):\n",
    "        self.name = name\n",
    "        for key, value in opts.items():\n",
    "            setattr(self, key, value)\n",
    "    \n",
    "    def __set__(self, instance, value):\n",
    "        instance.__dict__[self.name] = value"
   ]
  },
  {
   "cell_type": "markdown",
   "metadata": {},
   "source": [
    "- __ set__() 메소드는 존재 but __ get__()없음\n",
    "-> 디스크립터가 인스턴스 딕셔너리에서 동일한 이름의 값을 추출하는 것 이외에 다른 동작을 하지 않는다면 __ get__()을 정의할 필요가 없음(오히려 속도가 느려진다)"
   ]
  },
  {
   "cell_type": "code",
   "execution_count": 5,
   "metadata": {},
   "outputs": [
    {
     "name": "stdout",
     "output_type": "stream",
     "text": [
      "Dahl\n"
     ]
    }
   ],
   "source": [
    "class A:\n",
    "    name = Descriptor\n",
    "    \n",
    "a = A()\n",
    "a.name = 'Dahl'\n",
    "print(a.name)"
   ]
  },
  {
   "cell_type": "code",
   "execution_count": 6,
   "metadata": {},
   "outputs": [],
   "source": [
    "#타입을 강제하기 위한 디시크립터\n",
    "# 서브클래스가 제공한 expected_type 속성을 찾기만 함\n",
    "class Typed(Descriptor):\n",
    "    expected_type = type(None)\n",
    "    \n",
    "    def __set__(self, instance, value):\n",
    "        if not isinstance(value, self.expected_type):\n",
    "            raise TypeError('expected' + str(self.expected_type))\n",
    "        super().__set__(instance, value)"
   ]
  },
  {
   "cell_type": "code",
   "execution_count": 7,
   "metadata": {},
   "outputs": [],
   "source": [
    "#값을 강제하기 위한 디스크립터\n",
    "class Unsigned(Descriptor):\n",
    "    def __set__(self, instance, value):\n",
    "        if value < 0 :\n",
    "            raise ValueError('Expected >= 0')\n",
    "        super().__set__(instance, value)\n",
    "        "
   ]
  },
  {
   "cell_type": "code",
   "execution_count": 8,
   "metadata": {},
   "outputs": [],
   "source": [
    "class MaxSized(Descriptor):\n",
    "    \n",
    "    ##디스크립터의 모든 __init__() 메소드는 키워드 매개변소 **opts를 포함해서 동일한 시그니처를 가지도록 프로그램 되어 있음\n",
    "    def __init__(self, name = None, **opts):\n",
    "        if 'size' not in opts:\n",
    "            raise TypeError('missing size option')\n",
    "        super().__init__(name, **opts)\n",
    "        \n",
    "    def __set__(self, instance, value):\n",
    "        if len(value) >= self.size:\n",
    "            raise ValueError('size must be <' + str(self.size))\n",
    "        super().__set__(instance, value)"
   ]
  },
  {
   "cell_type": "code",
   "execution_count": null,
   "metadata": {},
   "outputs": [],
   "source": []
  },
  {
   "cell_type": "code",
   "execution_count": 9,
   "metadata": {},
   "outputs": [],
   "source": [
    "class Integer(Typed):\n",
    "    expected_type = int\n",
    "    \n",
    "class UnsignedInteger(Integer, Unsigned):\n",
    "    pass\n",
    "\n",
    "class Float(Typed):\n",
    "    expected_type = float\n",
    "    \n",
    "class UnsignedFloat(Float, Unsigned):\n",
    "    pass\n",
    "\n",
    "class String(Typed):\n",
    "    expected_type = str\n",
    "    \n",
    "class SizedString(String, MaxSized):\n",
    "    pass"
   ]
  },
  {
   "cell_type": "code",
   "execution_count": 10,
   "metadata": {},
   "outputs": [],
   "source": [
    "class Stock:\n",
    "    name = SizedString('name', size=8)\n",
    "    shares = UnsignedInteger('shares')\n",
    "    price = UnsignedFloat('price')\n",
    "    def __init__(self, name, shares, price):\n",
    "        self.name = name\n",
    "        self.shares = shares\n",
    "        self.price = price"
   ]
  },
  {
   "cell_type": "code",
   "execution_count": null,
   "metadata": {},
   "outputs": [],
   "source": []
  },
  {
   "cell_type": "code",
   "execution_count": 12,
   "metadata": {},
   "outputs": [
    {
     "data": {
      "text/plain": [
       "91.1"
      ]
     },
     "execution_count": 12,
     "metadata": {},
     "output_type": "execute_result"
    }
   ],
   "source": [
    "s = Stock('ACME', 50, 91.1)\n",
    "s.name\n",
    "s.shares\n",
    "s.price"
   ]
  },
  {
   "cell_type": "markdown",
   "metadata": {},
   "source": [
    "- stock 에 값을 할당할 때 주어진 제약으로 검증이 이루어짐"
   ]
  },
  {
   "cell_type": "code",
   "execution_count": 19,
   "metadata": {},
   "outputs": [],
   "source": [
    "s.shares = 75"
   ]
  },
  {
   "cell_type": "code",
   "execution_count": 20,
   "metadata": {},
   "outputs": [
    {
     "ename": "ValueError",
     "evalue": "Expected >= 0",
     "output_type": "error",
     "traceback": [
      "\u001b[0;31m---------------------------------------------------------------------------\u001b[0m",
      "\u001b[0;31mValueError\u001b[0m                                Traceback (most recent call last)",
      "\u001b[0;32m<ipython-input-20-56bbeda8cc58>\u001b[0m in \u001b[0;36m<module>\u001b[0;34m\u001b[0m\n\u001b[0;32m----> 1\u001b[0;31m \u001b[0ms\u001b[0m\u001b[0;34m.\u001b[0m\u001b[0mshares\u001b[0m \u001b[0;34m=\u001b[0m \u001b[0;34m-\u001b[0m\u001b[0;36m10\u001b[0m\u001b[0;34m\u001b[0m\u001b[0m\n\u001b[0m",
      "\u001b[0;32m<ipython-input-13-3bf803db1359>\u001b[0m in \u001b[0;36m__set__\u001b[0;34m(self, instance, value)\u001b[0m\n\u001b[1;32m      5\u001b[0m         \u001b[0;32mif\u001b[0m \u001b[0;32mnot\u001b[0m \u001b[0misinstance\u001b[0m\u001b[0;34m(\u001b[0m\u001b[0mvalue\u001b[0m\u001b[0;34m,\u001b[0m \u001b[0mself\u001b[0m\u001b[0;34m.\u001b[0m\u001b[0mexpected_type\u001b[0m\u001b[0;34m)\u001b[0m\u001b[0;34m:\u001b[0m\u001b[0;34m\u001b[0m\u001b[0m\n\u001b[1;32m      6\u001b[0m             \u001b[0;32mraise\u001b[0m \u001b[0mTypeError\u001b[0m\u001b[0;34m(\u001b[0m\u001b[0;34m'expected'\u001b[0m \u001b[0;34m+\u001b[0m \u001b[0mstr\u001b[0m\u001b[0;34m(\u001b[0m\u001b[0mself\u001b[0m\u001b[0;34m.\u001b[0m\u001b[0mexpected_type\u001b[0m\u001b[0;34m)\u001b[0m\u001b[0;34m)\u001b[0m\u001b[0;34m\u001b[0m\u001b[0m\n\u001b[0;32m----> 7\u001b[0;31m         \u001b[0msuper\u001b[0m\u001b[0;34m(\u001b[0m\u001b[0;34m)\u001b[0m\u001b[0;34m.\u001b[0m\u001b[0m__set__\u001b[0m\u001b[0;34m(\u001b[0m\u001b[0minstance\u001b[0m\u001b[0;34m,\u001b[0m \u001b[0mvalue\u001b[0m\u001b[0;34m)\u001b[0m\u001b[0;34m\u001b[0m\u001b[0m\n\u001b[0m",
      "\u001b[0;32m<ipython-input-14-65bead1b6d5a>\u001b[0m in \u001b[0;36m__set__\u001b[0;34m(self, instance, value)\u001b[0m\n\u001b[1;32m      2\u001b[0m     \u001b[0;32mdef\u001b[0m \u001b[0m__set__\u001b[0m\u001b[0;34m(\u001b[0m\u001b[0mself\u001b[0m\u001b[0;34m,\u001b[0m \u001b[0minstance\u001b[0m\u001b[0;34m,\u001b[0m \u001b[0mvalue\u001b[0m\u001b[0;34m)\u001b[0m\u001b[0;34m:\u001b[0m\u001b[0;34m\u001b[0m\u001b[0m\n\u001b[1;32m      3\u001b[0m         \u001b[0;32mif\u001b[0m \u001b[0mvalue\u001b[0m \u001b[0;34m<\u001b[0m \u001b[0;36m0\u001b[0m \u001b[0;34m:\u001b[0m\u001b[0;34m\u001b[0m\u001b[0m\n\u001b[0;32m----> 4\u001b[0;31m             \u001b[0;32mraise\u001b[0m \u001b[0mValueError\u001b[0m\u001b[0;34m(\u001b[0m\u001b[0;34m'Expected >= 0'\u001b[0m\u001b[0;34m)\u001b[0m\u001b[0;34m\u001b[0m\u001b[0m\n\u001b[0m\u001b[1;32m      5\u001b[0m         \u001b[0msuper\u001b[0m\u001b[0;34m(\u001b[0m\u001b[0;34m)\u001b[0m\u001b[0;34m.\u001b[0m\u001b[0m__set__\u001b[0m\u001b[0;34m(\u001b[0m\u001b[0minstance\u001b[0m\u001b[0;34m,\u001b[0m \u001b[0mvalue\u001b[0m\u001b[0;34m)\u001b[0m\u001b[0;34m\u001b[0m\u001b[0m\n\u001b[1;32m      6\u001b[0m \u001b[0;34m\u001b[0m\u001b[0m\n",
      "\u001b[0;31mValueError\u001b[0m: Expected >= 0"
     ]
    }
   ],
   "source": [
    "s.shares = -10"
   ]
  },
  {
   "cell_type": "code",
   "execution_count": 21,
   "metadata": {},
   "outputs": [
    {
     "ename": "TypeError",
     "evalue": "expected<class 'float'>",
     "output_type": "error",
     "traceback": [
      "\u001b[0;31m---------------------------------------------------------------------------\u001b[0m",
      "\u001b[0;31mTypeError\u001b[0m                                 Traceback (most recent call last)",
      "\u001b[0;32m<ipython-input-21-9fa57c04f45f>\u001b[0m in \u001b[0;36m<module>\u001b[0;34m\u001b[0m\n\u001b[0;32m----> 1\u001b[0;31m \u001b[0ms\u001b[0m\u001b[0;34m.\u001b[0m\u001b[0mprice\u001b[0m \u001b[0;34m=\u001b[0m \u001b[0;34m'a lot'\u001b[0m\u001b[0;34m\u001b[0m\u001b[0m\n\u001b[0m",
      "\u001b[0;32m<ipython-input-13-3bf803db1359>\u001b[0m in \u001b[0;36m__set__\u001b[0;34m(self, instance, value)\u001b[0m\n\u001b[1;32m      4\u001b[0m     \u001b[0;32mdef\u001b[0m \u001b[0m__set__\u001b[0m\u001b[0;34m(\u001b[0m\u001b[0mself\u001b[0m\u001b[0;34m,\u001b[0m \u001b[0minstance\u001b[0m\u001b[0;34m,\u001b[0m \u001b[0mvalue\u001b[0m\u001b[0;34m)\u001b[0m\u001b[0;34m:\u001b[0m\u001b[0;34m\u001b[0m\u001b[0m\n\u001b[1;32m      5\u001b[0m         \u001b[0;32mif\u001b[0m \u001b[0;32mnot\u001b[0m \u001b[0misinstance\u001b[0m\u001b[0;34m(\u001b[0m\u001b[0mvalue\u001b[0m\u001b[0;34m,\u001b[0m \u001b[0mself\u001b[0m\u001b[0;34m.\u001b[0m\u001b[0mexpected_type\u001b[0m\u001b[0;34m)\u001b[0m\u001b[0;34m:\u001b[0m\u001b[0;34m\u001b[0m\u001b[0m\n\u001b[0;32m----> 6\u001b[0;31m             \u001b[0;32mraise\u001b[0m \u001b[0mTypeError\u001b[0m\u001b[0;34m(\u001b[0m\u001b[0;34m'expected'\u001b[0m \u001b[0;34m+\u001b[0m \u001b[0mstr\u001b[0m\u001b[0;34m(\u001b[0m\u001b[0mself\u001b[0m\u001b[0;34m.\u001b[0m\u001b[0mexpected_type\u001b[0m\u001b[0;34m)\u001b[0m\u001b[0;34m)\u001b[0m\u001b[0;34m\u001b[0m\u001b[0m\n\u001b[0m\u001b[1;32m      7\u001b[0m         \u001b[0msuper\u001b[0m\u001b[0;34m(\u001b[0m\u001b[0;34m)\u001b[0m\u001b[0;34m.\u001b[0m\u001b[0m__set__\u001b[0m\u001b[0;34m(\u001b[0m\u001b[0minstance\u001b[0m\u001b[0;34m,\u001b[0m \u001b[0mvalue\u001b[0m\u001b[0;34m)\u001b[0m\u001b[0;34m\u001b[0m\u001b[0m\n",
      "\u001b[0;31mTypeError\u001b[0m: expected<class 'float'>"
     ]
    }
   ],
   "source": [
    "s.price = 'a lot'"
   ]
  },
  {
   "cell_type": "code",
   "execution_count": 22,
   "metadata": {},
   "outputs": [
    {
     "ename": "ValueError",
     "evalue": "size must be <8",
     "output_type": "error",
     "traceback": [
      "\u001b[0;31m---------------------------------------------------------------------------\u001b[0m",
      "\u001b[0;31mValueError\u001b[0m                                Traceback (most recent call last)",
      "\u001b[0;32m<ipython-input-22-fc0054a809b0>\u001b[0m in \u001b[0;36m<module>\u001b[0;34m\u001b[0m\n\u001b[0;32m----> 1\u001b[0;31m \u001b[0ms\u001b[0m\u001b[0;34m.\u001b[0m\u001b[0mname\u001b[0m \u001b[0;34m=\u001b[0m \u001b[0;34m'ABBRCDDAAD'\u001b[0m\u001b[0;34m\u001b[0m\u001b[0m\n\u001b[0m",
      "\u001b[0;32m<ipython-input-13-3bf803db1359>\u001b[0m in \u001b[0;36m__set__\u001b[0;34m(self, instance, value)\u001b[0m\n\u001b[1;32m      5\u001b[0m         \u001b[0;32mif\u001b[0m \u001b[0;32mnot\u001b[0m \u001b[0misinstance\u001b[0m\u001b[0;34m(\u001b[0m\u001b[0mvalue\u001b[0m\u001b[0;34m,\u001b[0m \u001b[0mself\u001b[0m\u001b[0;34m.\u001b[0m\u001b[0mexpected_type\u001b[0m\u001b[0;34m)\u001b[0m\u001b[0;34m:\u001b[0m\u001b[0;34m\u001b[0m\u001b[0m\n\u001b[1;32m      6\u001b[0m             \u001b[0;32mraise\u001b[0m \u001b[0mTypeError\u001b[0m\u001b[0;34m(\u001b[0m\u001b[0;34m'expected'\u001b[0m \u001b[0;34m+\u001b[0m \u001b[0mstr\u001b[0m\u001b[0;34m(\u001b[0m\u001b[0mself\u001b[0m\u001b[0;34m.\u001b[0m\u001b[0mexpected_type\u001b[0m\u001b[0;34m)\u001b[0m\u001b[0;34m)\u001b[0m\u001b[0;34m\u001b[0m\u001b[0m\n\u001b[0;32m----> 7\u001b[0;31m         \u001b[0msuper\u001b[0m\u001b[0;34m(\u001b[0m\u001b[0;34m)\u001b[0m\u001b[0;34m.\u001b[0m\u001b[0m__set__\u001b[0m\u001b[0;34m(\u001b[0m\u001b[0minstance\u001b[0m\u001b[0;34m,\u001b[0m \u001b[0mvalue\u001b[0m\u001b[0;34m)\u001b[0m\u001b[0;34m\u001b[0m\u001b[0m\n\u001b[0m",
      "\u001b[0;32m<ipython-input-15-532b85dd30a6>\u001b[0m in \u001b[0;36m__set__\u001b[0;34m(self, instance, value)\u001b[0m\n\u001b[1;32m      7\u001b[0m     \u001b[0;32mdef\u001b[0m \u001b[0m__set__\u001b[0m\u001b[0;34m(\u001b[0m\u001b[0mself\u001b[0m\u001b[0;34m,\u001b[0m \u001b[0minstance\u001b[0m\u001b[0;34m,\u001b[0m \u001b[0mvalue\u001b[0m\u001b[0;34m)\u001b[0m\u001b[0;34m:\u001b[0m\u001b[0;34m\u001b[0m\u001b[0m\n\u001b[1;32m      8\u001b[0m         \u001b[0;32mif\u001b[0m \u001b[0mlen\u001b[0m\u001b[0;34m(\u001b[0m\u001b[0mvalue\u001b[0m\u001b[0;34m)\u001b[0m \u001b[0;34m>=\u001b[0m \u001b[0mself\u001b[0m\u001b[0;34m.\u001b[0m\u001b[0msize\u001b[0m\u001b[0;34m:\u001b[0m\u001b[0;34m\u001b[0m\u001b[0m\n\u001b[0;32m----> 9\u001b[0;31m             \u001b[0;32mraise\u001b[0m \u001b[0mValueError\u001b[0m\u001b[0;34m(\u001b[0m\u001b[0;34m'size must be <'\u001b[0m \u001b[0;34m+\u001b[0m \u001b[0mstr\u001b[0m\u001b[0;34m(\u001b[0m\u001b[0mself\u001b[0m\u001b[0;34m.\u001b[0m\u001b[0msize\u001b[0m\u001b[0;34m)\u001b[0m\u001b[0;34m)\u001b[0m\u001b[0;34m\u001b[0m\u001b[0m\n\u001b[0m\u001b[1;32m     10\u001b[0m         \u001b[0msuper\u001b[0m\u001b[0;34m(\u001b[0m\u001b[0;34m)\u001b[0m\u001b[0;34m.\u001b[0m\u001b[0m__set__\u001b[0m\u001b[0;34m(\u001b[0m\u001b[0minstance\u001b[0m\u001b[0;34m,\u001b[0m \u001b[0mvalue\u001b[0m\u001b[0;34m)\u001b[0m\u001b[0;34m\u001b[0m\u001b[0m\n",
      "\u001b[0;31mValueError\u001b[0m: size must be <8"
     ]
    }
   ],
   "source": [
    "s.name = 'ABBRCDDAAD'"
   ]
  },
  {
   "cell_type": "code",
   "execution_count": null,
   "metadata": {},
   "outputs": [],
   "source": []
  },
  {
   "cell_type": "markdown",
   "metadata": {},
   "source": [
    "### 클래스 데코레이터(decorator) 사용 \n",
    "- 가장 유연하고 안전함"
   ]
  },
  {
   "cell_type": "code",
   "execution_count": 40,
   "metadata": {},
   "outputs": [],
   "source": [
    "import datetime\n",
    "\n",
    "def main_function():\n",
    "    print (datetime.datetime.now())\n",
    "    print ('MAIN FUNCTION START')\n",
    "    print (datetime.datetime.now())"
   ]
  },
  {
   "cell_type": "markdown",
   "metadata": {},
   "source": [
    "-decorator 사용"
   ]
  },
  {
   "cell_type": "code",
   "execution_count": 41,
   "metadata": {},
   "outputs": [],
   "source": [
    "def datetime_decorator(func):\n",
    "    def decorated():\n",
    "        print (datetime.datetime.now())\n",
    "        func()\n",
    "        print (datetime.datetime.now())\n",
    "    return decorated"
   ]
  },
  {
   "cell_type": "code",
   "execution_count": 42,
   "metadata": {},
   "outputs": [],
   "source": [
    "@datetime_decorator\n",
    "def main_function_1():\n",
    "    print ('MAIN FUNCTION1 START')\n",
    "    \n",
    "@datetime_decorator\n",
    "def main_function_2():\n",
    "    print ('MAIN FUNCTION2 START')\n",
    "    \n",
    "@datetime_decorator\n",
    "def main_function_3():\n",
    "    print ('MAIN FUNCTION3 START')"
   ]
  },
  {
   "cell_type": "code",
   "execution_count": null,
   "metadata": {},
   "outputs": [],
   "source": []
  },
  {
   "cell_type": "code",
   "execution_count": 24,
   "metadata": {},
   "outputs": [],
   "source": [
    "def check_attributes(**kwargs):\n",
    "    def decorate(cls):\n",
    "        for key, value in kwargs.items():\n",
    "            if isinstance(value, Descriptor):\n",
    "                value.name = key\n",
    "                setattr(cls, key, value)\n",
    "            else:\n",
    "                setattr(cls, key, value(key))\n",
    "        return cls\n",
    "    return decorate"
   ]
  },
  {
   "cell_type": "code",
   "execution_count": 25,
   "metadata": {},
   "outputs": [],
   "source": [
    "@check_attributes(name = SizedString(size=8),\n",
    "                 shares = UnsignedInteger,\n",
    "                 price = UnsignedFloat)\n",
    "class Stock:\n",
    "    def __init__(self, name, shares, price):\n",
    "        self.name = name\n",
    "        self.shares = shares\n",
    "        self.price = price"
   ]
  },
  {
   "cell_type": "code",
   "execution_count": null,
   "metadata": {},
   "outputs": [],
   "source": []
  },
  {
   "cell_type": "markdown",
   "metadata": {},
   "source": [
    "### 메타클래스\n",
    "- 메타클래스는 객체를 만드는 '무언가'\n",
    "- 메타클래스는 '클래스'의 '클래스'"
   ]
  },
  {
   "cell_type": "code",
   "execution_count": 26,
   "metadata": {},
   "outputs": [],
   "source": [
    "# 확인을 위한 메타클래스\n",
    "class checkedmeta(type):\n",
    "    def __new__(cls, clsname, bases, methods):\n",
    "        for key, value in methods.items():\n",
    "            if isinstance(value, Descriptor):\n",
    "                values.name = key\n",
    "        return type.__new__(cls, clsname, bases, methods)"
   ]
  },
  {
   "cell_type": "code",
   "execution_count": null,
   "metadata": {},
   "outputs": [],
   "source": [
    "class Stock(metaclass=checkedmeta):\n",
    "    name = SizedString(size=8)\n",
    "    shares = UnsignedInteger()\n",
    "    price = UnsignedFloat()\n",
    "    def __init__(self, name, shares, price):\n",
    "        self.name = name\n",
    "        self.shares = shares\n",
    "        self.price = price"
   ]
  },
  {
   "cell_type": "markdown",
   "metadata": {},
   "source": []
  },
  {
   "cell_type": "markdown",
   "metadata": {},
   "source": [
    "- 클래스 데코레이터 방식은 mixin class, 다중 상속, 복잡한 super() 대신 사용 가능\n",
    "\n",
    "__ call__ 함수로 decorator 형식 정의"
   ]
  },
  {
   "cell_type": "code",
   "execution_count": 14,
   "metadata": {},
   "outputs": [],
   "source": [
    "import datetime\n",
    "\n",
    "class DatetimeDecorator:\n",
    "    def __init__(self, f):\n",
    "        self.func = f\n",
    "        \n",
    "    # decorator 클래스가 적용된 함수의 parameter를 *args, **kwargs 가변인자로 받음\n",
    "    def __call__(self, *args, **kwargs):\n",
    "        print (datetime.datetime.now())\n",
    "        self.func(*args, **kwargs)\n",
    "        print (datetime.datetime.now())"
   ]
  },
  {
   "cell_type": "code",
   "execution_count": 15,
   "metadata": {},
   "outputs": [
    {
     "name": "stdout",
     "output_type": "stream",
     "text": [
      "2019-05-05 07:59:31.538028\n",
      "MAIN FUNCTION 1 START\n",
      "2019-05-05 07:59:31.538238\n"
     ]
    }
   ],
   "source": [
    "class MainClass:\n",
    "    @DatetimeDecorator\n",
    "    def main_func_1():\n",
    "        print ('MAIN FUNCTION 1 START')\n",
    "        \n",
    "    @DatetimeDecorator\n",
    "    def main_func_2():\n",
    "        print ('MAIN FUNCTION 2 START')\n",
    "        \n",
    "    @DatetimeDecorator\n",
    "    def main_func_3():\n",
    "        print ('MAIN FUNCTION 3 START')\n",
    "        \n",
    "MY = MainClass()\n",
    "MY.main_func_1()\n"
   ]
  },
  {
   "cell_type": "code",
   "execution_count": 13,
   "metadata": {},
   "outputs": [],
   "source": [
    "# 베이스 클래스 (값을 설정할 때 디스크립터 사용)\n",
    "class Descriptor:\n",
    "    def __init__(self, name=None, **opts):\n",
    "        self.name = name\n",
    "        for key, value in opts.items():\n",
    "            setattr(self, key, value)\n",
    "            \n",
    "    def __set__(self, instance, value):\n",
    "        instance.__dict__[self.name] = value"
   ]
  },
  {
   "cell_type": "code",
   "execution_count": 16,
   "metadata": {},
   "outputs": [],
   "source": [
    "# 타입 확인에 데코레이터 사용\n",
    "def Typed(expected_type, cls=None):\n",
    "    if cls is None:\n",
    "        return lambda cls: Typed(expected_type, cls)\n",
    "    \n",
    "    super_set = cls.__set__\n",
    "    def __set__(self, instance, value):\n",
    "        if not isinstance(value, expected_type):\n",
    "            raise TypeError('expected '+str(expected_type))\n",
    "        super_set(self, instance, value)\n",
    "        \n",
    "    cls.__set__ = __set__\n",
    "    return cls\n",
    "\n",
    "#unsigned 값에 데코레이터 사용\n",
    "def Unsigned(cls):\n",
    "    super_set = cls.__set__\n",
    "    def __set__(self, instance, value):\n",
    "        if value < 0:\n",
    "            raise ValueError('Expected >= 0')\n",
    "        super_set(self, instance, value)\n",
    "    cls.__set__ = __set__\n",
    "    return cls\n",
    "\n",
    "#크기 있는 값에 데코레이터 사용\n",
    "def MaxSized(cls):\n",
    "    super_init = cls.__init__\n",
    "    def __init__(self, name = None, **opts):\n",
    "        if 'size' not in opts:\n",
    "            raise TypeError('missing size option')\n",
    "        super_init(self, name, **opts)\n",
    "    cls.__init__ = __init__\n",
    "    \n",
    "    super_set = cls.__set__\n",
    "    def __set__(self, instance, value):\n",
    "        if len(value) >= self.size:\n",
    "            raise ValueError('size must be < ' + str(self.size))\n",
    "        super_set(self, instance, value)\n",
    "    cls.__set__ = __set__\n",
    "    return cls"
   ]
  },
  {
   "cell_type": "code",
   "execution_count": 17,
   "metadata": {},
   "outputs": [],
   "source": [
    "# 특별 디스크립터\n",
    "@Typed(int)\n",
    "class Integer(Descriptor):\n",
    "    pass\n",
    "\n",
    "@Unsigned\n",
    "class UnsignedInteger(Integer):\n",
    "    pass\n",
    "\n",
    "@Typed(float)\n",
    "class Float(Descriptor):\n",
    "    pass\n",
    "\n",
    "@Unsigned\n",
    "class UnsignedFloat(Float):\n",
    "    pass\n",
    "\n",
    "@Typed(str)\n",
    "class String(Descriptor):\n",
    "    pass\n",
    "\n",
    "@MaxSized\n",
    "class SizedString(String):\n",
    "    pass\n",
    "    "
   ]
  },
  {
   "cell_type": "markdown",
   "metadata": {},
   "source": [
    "* 위의 데코레이터와 완전히 동일하게 동작 + 실행 속도 훨씬 빠름"
   ]
  },
  {
   "cell_type": "markdown",
   "metadata": {},
   "source": [
    "## 8.17 init 호출 없이 인스턴스 생성\n",
    "- class의 __ new__() 메소드 호출"
   ]
  },
  {
   "cell_type": "code",
   "execution_count": 45,
   "metadata": {},
   "outputs": [],
   "source": [
    "class Date:\n",
    "    def __init__(self, year, month, day):\n",
    "        self.year = year\n",
    "        self.month = month\n",
    "        self.day = day"
   ]
  },
  {
   "cell_type": "code",
   "execution_count": 48,
   "metadata": {},
   "outputs": [
    {
     "data": {
      "text/plain": [
       "<__main__.Date at 0x7fcf1401c6d8>"
      ]
     },
     "execution_count": 48,
     "metadata": {},
     "output_type": "execute_result"
    }
   ],
   "source": [
    "d = Date.__new__(Date)\n",
    "d"
   ]
  },
  {
   "cell_type": "code",
   "execution_count": 1,
   "metadata": {},
   "outputs": [
    {
     "ename": "NameError",
     "evalue": "name 'd' is not defined",
     "output_type": "error",
     "traceback": [
      "\u001b[0;31m---------------------------------------------------------------------------\u001b[0m",
      "\u001b[0;31mNameError\u001b[0m                                 Traceback (most recent call last)",
      "\u001b[0;32m<ipython-input-1-2a7d182ede9e>\u001b[0m in \u001b[0;36m<module>\u001b[0;34m\u001b[0m\n\u001b[0;32m----> 1\u001b[0;31m \u001b[0md\u001b[0m\u001b[0;34m.\u001b[0m\u001b[0myear\u001b[0m \u001b[0;31m##초기화되지는 않음\u001b[0m\u001b[0;34m\u001b[0m\u001b[0m\n\u001b[0m",
      "\u001b[0;31mNameError\u001b[0m: name 'd' is not defined"
     ]
    }
   ],
   "source": [
    "d.year ##초기화되지는 않음"
   ]
  },
  {
   "cell_type": "markdown",
   "metadata": {},
   "source": [
    "적절한 인스턴스 변수를 설정하는 것은 사람이 알아서"
   ]
  },
  {
   "cell_type": "code",
   "execution_count": 50,
   "metadata": {},
   "outputs": [
    {
     "data": {
      "text/plain": [
       "2012"
      ]
     },
     "execution_count": 50,
     "metadata": {},
     "output_type": "execute_result"
    }
   ],
   "source": [
    "data = {'year':2012, \n",
    "       'month':8,\n",
    "       'day':29}\n",
    "for key, value in data.items():\n",
    "    setattr(d, key, value)\n",
    "    \n",
    "d.year"
   ]
  },
  {
   "cell_type": "code",
   "execution_count": 51,
   "metadata": {},
   "outputs": [
    {
     "data": {
      "text/plain": [
       "8"
      ]
     },
     "execution_count": 51,
     "metadata": {},
     "output_type": "execute_result"
    }
   ],
   "source": [
    "d.month"
   ]
  },
  {
   "cell_type": "markdown",
   "metadata": {},
   "source": [
    "__ init__()을 생략하면 비표준 방식으로 인스턴스를 생성할 때 문제 발생(데이터 역직렬화, 대안 생성자로 정의한 클래스)"
   ]
  },
  {
   "cell_type": "markdown",
   "metadata": {},
   "source": [
    "## 8.21 Implementing the Visitor Pattern\n",
    "- 여러 종류의 객체로 구성된 복잡한 자료 구조를 순환하며 서로 다른 방식으로 처리하는 ㅋ코드를 작성"
   ]
  },
  {
   "cell_type": "code",
   "execution_count": 25,
   "metadata": {},
   "outputs": [],
   "source": [
    "class Node:\n",
    "    pass\n",
    "\n",
    "class UnaryOperator(Node):\n",
    "    def __init__(self, operand):\n",
    "        self.operand = operand\n",
    "        \n",
    "class BinaryOperator(Node):\n",
    "    def __init__(self, left, right):\n",
    "        self.left = left\n",
    "        self.right = right\n",
    "        \n",
    "class Add(BinaryOperator):\n",
    "    pass \n",
    "\n",
    "class Sub(BinaryOperator):\n",
    "    pass\n",
    "\n",
    "class Mul(BinaryOperator):\n",
    "    pass\n",
    "\n",
    "class Div(BinaryOperator):\n",
    "    pass\n",
    "\n",
    "class Negate(UnaryOperator):\n",
    "    pass\n",
    "\n",
    "class Number(Node):\n",
    "    def __init__(self, value):\n",
    "        self.value = value"
   ]
  },
  {
   "cell_type": "code",
   "execution_count": 28,
   "metadata": {},
   "outputs": [],
   "source": [
    "t1 = Sub(Number(3), Number(4)) # 3 - 4\n",
    "t2 = Mul(Number(2), t1) # 2*(3-4)\n",
    "t3 = Div(t2, Number(5)) # 2*(3-4)/5\n",
    "t4 = Add(Number(1), t3)\n",
    "# 1 + 2 * (3 - 4) / 5\n",
    "# 중첩된 자료 구조"
   ]
  },
  {
   "cell_type": "markdown",
   "metadata": {},
   "source": []
  },
  {
   "cell_type": "code",
   "execution_count": 29,
   "metadata": {},
   "outputs": [],
   "source": [
    "class NodeVisitor:\n",
    "    def visit(self, node):\n",
    "        methname = 'visit_' + type(node).__name__\n",
    "        meth = getattr(self, methname, None)\n",
    "        if meth is None:\n",
    "            meth = self.generic_visit\n",
    "        return meth(node)\n",
    "    \n",
    "    def generic_visit(self, node):\n",
    "        raise RuntimeError('No {} method'.format('visit_' + type(node).__name__))\n",
    "        \n",
    "# 모든 데이터 취급"
   ]
  },
  {
   "cell_type": "code",
   "execution_count": 30,
   "metadata": {},
   "outputs": [],
   "source": [
    "# NodeVisitor 상속받음.\n",
    "# visit_name 형식의 메소드 구현\n",
    "class Evaluator(NodeVisitor):\n",
    "    def visit_Number(self, node):\n",
    "        return node.value\n",
    "    \n",
    "    def visit_Add(self, node):\n",
    "        return self.visit(node.left) + self.visit(node.right) #재귀적 호출\n",
    "    \n",
    "    def visit_Sub(self, node):\n",
    "        return self.visit(node.left) - self.visit(node.right)\n",
    "    \n",
    "    def visit_Mul(self, node):\n",
    "        return self.visit(node.left) * self.visit(node.right)\n",
    "    \n",
    "    def visit_Div(self, node):\n",
    "        return self.visit(node.left) / self.visit(node.right)\n",
    "    \n",
    "    def visit_Negate(self, node):\n",
    "        return -node.operand"
   ]
  },
  {
   "cell_type": "code",
   "execution_count": 31,
   "metadata": {},
   "outputs": [
    {
     "data": {
      "text/plain": [
       "0.6"
      ]
     },
     "execution_count": 31,
     "metadata": {},
     "output_type": "execute_result"
    }
   ],
   "source": [
    "e = Evaluator()\n",
    "e.visit(t4)"
   ]
  },
  {
   "cell_type": "code",
   "execution_count": 10,
   "metadata": {},
   "outputs": [],
   "source": []
  },
  {
   "cell_type": "markdown",
   "metadata": {},
   "source": [
    "## 8.25  캐시 인스턴스 생성"
   ]
  },
  {
   "cell_type": "code",
   "execution_count": 3,
   "metadata": {},
   "outputs": [],
   "source": []
  },
  {
   "cell_type": "markdown",
   "metadata": {},
   "source": [
    "weak reference (약한 참조) :\n",
    "    레퍼런스 카운트로 고려되지 않는 레퍼런스\n",
    "    \n",
    "- weakref\n",
    "- weakref.ref() - 약한 참조 객체 생성\n",
    "- weakref.proxy() - 프록시 객체 생성"
   ]
  },
  {
   "cell_type": "markdown",
   "metadata": {},
   "source": [
    "weak dictionary (cache) : key or value로 사용되는 객체는 약한 참조가 가능해야 함\n",
    "    \n",
    "    객체가 삭제되면 자동적으로 캐쉬에 있는 key value 쌍도 삭제됨"
   ]
  },
  {
   "cell_type": "code",
   "execution_count": 16,
   "metadata": {},
   "outputs": [
    {
     "data": {
      "text/plain": [
       "<generator object WeakValueDictionary.items at 0x7f13344e01a8>"
      ]
     },
     "execution_count": 16,
     "metadata": {},
     "output_type": "execute_result"
    }
   ],
   "source": [
    "import weakref\n",
    "class C :\n",
    "    pass\n",
    "c = C()\n",
    "c.a = 4\n",
    "d = weakref.WeakValueDictionary()\n",
    "d[1] = c # 항목 생성\n",
    "d.items() # 사전 내용 확인"
   ]
  },
  {
   "cell_type": "code",
   "execution_count": 17,
   "metadata": {},
   "outputs": [
    {
     "data": {
      "text/plain": [
       "4"
      ]
     },
     "execution_count": 17,
     "metadata": {},
     "output_type": "execute_result"
    }
   ],
   "source": [
    "d[1].a # 참조"
   ]
  },
  {
   "cell_type": "code",
   "execution_count": 12,
   "metadata": {},
   "outputs": [
    {
     "data": {
      "text/plain": [
       "<generator object WeakValueDictionary.items at 0x7f13344e0048>"
      ]
     },
     "execution_count": 12,
     "metadata": {},
     "output_type": "execute_result"
    }
   ],
   "source": [
    "del c #객체 삭제\n",
    "d.items()"
   ]
  },
  {
   "cell_type": "code",
   "execution_count": null,
   "metadata": {},
   "outputs": [],
   "source": [
    "class Spam:\n",
    "    def __init__(self, name):\n",
    "        self.name = name"
   ]
  },
  {
   "cell_type": "code",
   "execution_count": 4,
   "metadata": {},
   "outputs": [],
   "source": [
    "# 캐시 지원\n",
    "import weakref\n",
    "#Weak dictionary는 구성요소인 키(Key)와 값(Value)중 하나가 약한 참조로 이루어져 있는 경우\n",
    "#각 개체에 ID를 키로 부여하여 사전에 넣어서 관리하는 경우, 사전에 넣는 순간 벌써 참조카운터가 하나 증가함\n",
    "#반면에 약한 사전의 경우 사용자가 사전에 입력을 해도 참조카운터가 증가되지 않으며, 원본객체가 삭제되면 자동적으로 사전의 객체도 삭제되어 None이 된다.\n",
    "\n",
    "_spam_cache = weakref.WeakValueDictionary() # value를 약한 참조로 갖는 사전객체를 생성\n",
    "\n",
    "def get_spam(name):\n",
    "    if name not in _spam_cache:\n",
    "        s = Spam(name)\n",
    "        _spam_cache[name] = s\n",
    "    else :\n",
    "        s = _spam_cache[name]\n",
    "    return s"
   ]
  },
  {
   "cell_type": "code",
   "execution_count": 5,
   "metadata": {},
   "outputs": [
    {
     "data": {
      "text/plain": [
       "False"
      ]
     },
     "execution_count": 5,
     "metadata": {},
     "output_type": "execute_result"
    }
   ],
   "source": [
    "a = get_spam('foo')\n",
    "b = get_spam('bar')\n",
    "a is b"
   ]
  },
  {
   "cell_type": "code",
   "execution_count": 6,
   "metadata": {},
   "outputs": [
    {
     "data": {
      "text/plain": [
       "True"
      ]
     },
     "execution_count": 6,
     "metadata": {},
     "output_type": "execute_result"
    }
   ],
   "source": [
    "c = get_spam('foo')\n",
    "a is c"
   ]
  },
  {
   "cell_type": "markdown",
   "metadata": {},
   "source": [
    "\n",
    "weakvaluedictionary 인스턴스는 참조한 아이템이 존재하는 경우에만.\n",
    "\n",
    "인스턴스가 없으면 딕셔너리 키가 사라짐"
   ]
  },
  {
   "cell_type": "code",
   "execution_count": 13,
   "metadata": {},
   "outputs": [
    {
     "data": {
      "text/plain": [
       "['bar', 'foo']"
      ]
     },
     "execution_count": 13,
     "metadata": {},
     "output_type": "execute_result"
    }
   ],
   "source": [
    "a = get_spam('foo')\n",
    "b = get_spam('bar')\n",
    "c = get_spam('foo')\n",
    "list(_spam_cache)"
   ]
  },
  {
   "cell_type": "code",
   "execution_count": 14,
   "metadata": {},
   "outputs": [
    {
     "data": {
      "text/plain": [
       "['bar']"
      ]
     },
     "execution_count": 14,
     "metadata": {},
     "output_type": "execute_result"
    }
   ],
   "source": [
    "del a\n",
    "del c\n",
    "list(_spam_cache)"
   ]
  },
  {
   "cell_type": "code",
   "execution_count": 15,
   "metadata": {},
   "outputs": [
    {
     "data": {
      "text/plain": [
       "[]"
      ]
     },
     "execution_count": 15,
     "metadata": {},
     "output_type": "execute_result"
    }
   ],
   "source": [
    "del b\n",
    "list(_spam_cache)"
   ]
  },
  {
   "cell_type": "code",
   "execution_count": null,
   "metadata": {},
   "outputs": [],
   "source": []
  },
  {
   "cell_type": "code",
   "execution_count": 19,
   "metadata": {},
   "outputs": [],
   "source": [
    "import weakref\n",
    "class CachedSpamManager:\n",
    "    def __init__(self):\n",
    "        self._cache = weakref.WeakValueDictionary()\n",
    "    def get_spam(self, name):\n",
    "        if name not in self._cache:\n",
    "            s = Spam(name)\n",
    "            self._cache[name] = s\n",
    "        else:\n",
    "            s = self._cache[name]\n",
    "        return s\n",
    "    \n",
    "    def clear(self):\n",
    "        self._cache.clear()"
   ]
  },
  {
   "cell_type": "code",
   "execution_count": 20,
   "metadata": {},
   "outputs": [],
   "source": [
    "class Spam:\n",
    "    manager = CachedSpamManager()\n",
    "    def __init__(self, name):\n",
    "        self.name = name\n",
    "\n",
    "def get_spam(name):\n",
    "    return Spam.manager.get_spam(name)"
   ]
  },
  {
   "cell_type": "markdown",
   "metadata": {},
   "source": [
    "별도의 클래스로 서로 다른 관리 스킴을 구현하고 Spam 클래스에 붙여서 기본 캐싱 구현으로 치환할 수 있음"
   ]
  },
  {
   "cell_type": "code",
   "execution_count": 21,
   "metadata": {},
   "outputs": [
    {
     "data": {
      "text/plain": [
       "False"
      ]
     },
     "execution_count": 21,
     "metadata": {},
     "output_type": "execute_result"
    }
   ],
   "source": [
    "a = Spam('foo')\n",
    "b = Spam('foo')\n",
    "a is b"
   ]
  },
  {
   "cell_type": "code",
   "execution_count": null,
   "metadata": {},
   "outputs": [],
   "source": []
  }
 ],
 "metadata": {
  "kernelspec": {
   "display_name": "Python 3",
   "language": "python",
   "name": "python3"
  },
  "language_info": {
   "codemirror_mode": {
    "name": "ipython",
    "version": 3
   },
   "file_extension": ".py",
   "mimetype": "text/x-python",
   "name": "python",
   "nbconvert_exporter": "python",
   "pygments_lexer": "ipython3",
   "version": "3.5.2"
  }
 },
 "nbformat": 4,
 "nbformat_minor": 2
}
