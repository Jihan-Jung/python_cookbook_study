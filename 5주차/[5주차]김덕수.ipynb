{
 "cells": [
  {
   "cell_type": "markdown",
   "metadata": {},
   "source": [
    "# 발표 소단원 리스트"
   ]
  },
  {
   "cell_type": "markdown",
   "metadata": {},
   "source": [
    "7-11, 8-2, 8-5, 8-8, 8-11"
   ]
  },
  {
   "cell_type": "markdown",
   "metadata": {},
   "source": [
    "# 전체 요약자료"
   ]
  },
  {
   "cell_type": "markdown",
   "metadata": {},
   "source": [
    "- 7-11 :\n",
    "- 8-2 : format() 함수와 string method로 customized된 formatting을 해주는 객체를 만들고 싶을 떄 format() 메소드를 사용합니다\n",
    "- 8-5 : class instance의 private한 data를 encapsulate 하고 싶을 때, 언어에서는 기능을 제공하지 않으므로 naming에 명시한다!\n",
    "- 8-8 : parent class에서 정의된 property를 subclass 안에서 기능적으로 확장하고 싶을 때\n",
    "- 8-11 : 자료구조를 위해 class를 많이 작성해야 하는데, init 일일이 작성해주기 피곤할 때\n",
    "- 8-15 : 어떤 instance의 기능을 다른 instance에게 delegate하고싶을 때! 상속 대신 사용하거나 proxy를 구현하기 위해 사용하는 방법\n",
    "- 8-19 : state machine이나 많은 state를 가지고 있는 object를 구현해야하는데, 조건문들로 코드를 더럽히고 싶지 않을 때\n",
    "- 8-23 :"
   ]
  },
  {
   "cell_type": "markdown",
   "metadata": {},
   "source": [
    "### 7-11)  Inlining Callback Functions \n",
    "- "
   ]
  },
  {
   "cell_type": "code",
   "execution_count": null,
   "metadata": {},
   "outputs": [],
   "source": []
  },
  {
   "cell_type": "code",
   "execution_count": null,
   "metadata": {},
   "outputs": [],
   "source": []
  },
  {
   "cell_type": "code",
   "execution_count": null,
   "metadata": {},
   "outputs": [],
   "source": []
  },
  {
   "cell_type": "code",
   "execution_count": null,
   "metadata": {},
   "outputs": [],
   "source": []
  },
  {
   "cell_type": "code",
   "execution_count": null,
   "metadata": {},
   "outputs": [],
   "source": []
  },
  {
   "cell_type": "markdown",
   "metadata": {},
   "source": [
    "### 8-2) Customizing String Formatting\n",
    "- format() 함수와 string method로 customized된 formatting을 해주는 객체를 만들고 싶을 떄 __format__() 메소드를 사용합니다"
   ]
  },
  {
   "cell_type": "code",
   "execution_count": 5,
   "metadata": {},
   "outputs": [],
   "source": [
    "_formats = { \n",
    "    'ymd' : '{d.year}-{d.month}-{d.day}',    \n",
    "    'mdy' : '{d.month}/{d.day}/{d.year}',    \n",
    "    'dmy' : '{d.day}/{d.month}/{d.year}'    \n",
    "}\n",
    "\n",
    "class Date:   \n",
    "    def __init__(self, year, month, day):   \n",
    "        self.year = year   \n",
    "        self.month = month  \n",
    "        self.day = day\n",
    "        \n",
    "    def __format__(self, code): \n",
    "        if code == '':         \n",
    "            code = 'ymd'  \n",
    "        fmt = _formats[code] \n",
    "        return fmt.format(d=self) \n",
    "        "
   ]
  },
  {
   "cell_type": "code",
   "execution_count": 6,
   "metadata": {},
   "outputs": [
    {
     "name": "stdout",
     "output_type": "stream",
     "text": [
      "2012-12-21\n",
      "12/21/2012\n"
     ]
    }
   ],
   "source": [
    "d = Date(2012, 12, 21) \n",
    "print(format(d))\n",
    "print(format(d, 'mdy'))"
   ]
  },
  {
   "cell_type": "code",
   "execution_count": 8,
   "metadata": {},
   "outputs": [
    {
     "data": {
      "text/plain": [
       "'The date is 2012-12-21'"
      ]
     },
     "execution_count": 8,
     "metadata": {},
     "output_type": "execute_result"
    }
   ],
   "source": [
    "'The date is {:ymd}'.format(d) "
   ]
  },
  {
   "cell_type": "markdown",
   "metadata": {},
   "source": [
    "- built-in 된 class들의 formatting에 대한 내용은 쿡북에 링크된 doc 참고!"
   ]
  },
  {
   "cell_type": "markdown",
   "metadata": {},
   "source": [
    "### 8-5)  Encapsulating Names in a Class \n",
    "- class instance의 private한 data를 encapsulate 하고 싶을 때, 언어에서는 기능을 제공하지 않으므로 naming에 명시한다!"
   ]
  },
  {
   "cell_type": "markdown",
   "metadata": {},
   "source": [
    "- 파이썬은 접근제어자를 언어에서 제공하지 않으므로, private한 데이터나 함수의 경우 이름 앞에 underscore(_)를 붙여 명시한다.\n",
    "- 실제로 접근을 막지는 못함. 일종의 convention"
   ]
  },
  {
   "cell_type": "code",
   "execution_count": 9,
   "metadata": {},
   "outputs": [],
   "source": [
    "class A:   \n",
    "    def __init__(self): \n",
    "        self._internal = 0    # An internal attribute   \n",
    "        self.public = 1       # A public attribute\n",
    "    \n",
    "    def public_method(self):     \n",
    "        '''        A public method        '''   \n",
    "        '''              ...              '''\n",
    "\n",
    "    def _internal_method(self):        \n",
    "        '''    ...  '''"
   ]
  },
  {
   "cell_type": "markdown",
   "metadata": {},
   "source": [
    "- 간혹 변수 앞에 double underscore 를 보게 될텐데, 이녀석들을 사용하면 상속받은 후에 해당 변수와 메소드를 override할 수 없게 됩니다. double undersocre가 붙은 변수와 메소드가 _ className___attribute로 rename 되기 때문!"
   ]
  },
  {
   "cell_type": "code",
   "execution_count": 2,
   "metadata": {},
   "outputs": [],
   "source": [
    "class B: \n",
    "    def __init__(self):\n",
    "        self.private = 3    # 얘는 그냥 클래스 변수\n",
    "        self._private = 7   # 얘는 클래스 내부에서만 쓰이는 변수인데, 사실 외부에서도 접근 가능하기는 함.\n",
    "        self.__private = 0  # 이녀석은 나중에 _B__private으로 rename됨\n",
    "        \n",
    "        \n",
    "    def __private_method(self):   # 이녀석은 나중에 _B__private_method로 rename됨  \n",
    "        pass\n",
    "        \n",
    "    def public_method(self):    \n",
    "        pass\n",
    "        self.__private_method()"
   ]
  },
  {
   "cell_type": "code",
   "execution_count": 8,
   "metadata": {},
   "outputs": [
    {
     "name": "stdout",
     "output_type": "stream",
     "text": [
      "3\n",
      "7\n",
      "0\n"
     ]
    }
   ],
   "source": [
    "class C(B):   \n",
    "    def __init__(self):   \n",
    "        super().__init__()\n",
    "        self.__private = 1      # Does not override B.__private     =>     왜냐하면 _C__private 으로 rename 되기때문!\n",
    "    \n",
    "    # Does not override B.__private_method() \n",
    "    def __private_method(self):\n",
    "        pass\n",
    "\n",
    "# 실제로 이렇게 쓰시면 안 됩니다. 정말 접근 가능한지 실험해보는 코드입니다.\n",
    "a = B()\n",
    "print(a.private)\n",
    "print(a._private)\n",
    "print(a._B__private)"
   ]
  },
  {
   "cell_type": "markdown",
   "metadata": {},
   "source": [
    "- private attribute에 언더스코어를 한개 쓸지, 두개쓸지는 잘 고민해봐야한다. 나중에 override되지 않게 하고 싶으면 두개 써라!\n",
    "- reserved word(언어 자체에 정의되어있는 예약어들)를 변수로 쓰고싶다면, private하다는 의미에 혼동을 주지 않기 위해 trailing underscore를 써라!"
   ]
  },
  {
   "cell_type": "code",
   "execution_count": 15,
   "metadata": {},
   "outputs": [],
   "source": [
    "lambda_ = 2.0"
   ]
  },
  {
   "cell_type": "markdown",
   "metadata": {},
   "source": [
    "### 8-8)  Extending a Property in a Subclass \n",
    "- parent class에서 정의된 property를 subclass 안에서 기능적으로 확장하고 싶을 때\n",
    "- 상속해서 쓰면 됩니다\n",
    "- propert, getter, setter관련 참고 링크 (https://whatisthenext.tistory.com/115, https://hamait.tistory.com/827)"
   ]
  },
  {
   "cell_type": "code",
   "execution_count": 3,
   "metadata": {},
   "outputs": [],
   "source": [
    "class Person:\n",
    "    def __init__(self, name):\n",
    "        self.name = name;\n",
    "        \n",
    "    # Getter function \n",
    "    @property  \n",
    "    def name(self): \n",
    "        return self._name\n",
    "    \n",
    "    # Setter function \n",
    "    @name.setter\n",
    "    def name(self, value):    \n",
    "        if not isinstance(value, str): \n",
    "            raise TypeError('Expected a string')    \n",
    "        self._name = value\n",
    " \n",
    "    # Deleter function \n",
    "    @name.deleter \n",
    "    def name(self):\n",
    "        raise AttributeError(\"Can't delete attribute\") \n",
    "        \n",
    "# person으로부터 상속받은 class\n",
    "class SubPerson(Person):  \n",
    "    @property \n",
    "    def name(self):   \n",
    "        print('Getting name')  \n",
    "        return super().name\n",
    "    \n",
    "    @name.setter\n",
    "    def name(self, value):   \n",
    "        print('Setting name to', value)  \n",
    "        super(SubPerson, SubPerson).name.__set__(self, value)\n",
    " \n",
    "    @name.deleter  \n",
    "    def name(self):   \n",
    "        print('Deleting name')    \n",
    "        super(SubPerson, SubPerson).name.__delete__(self) "
   ]
  },
  {
   "cell_type": "code",
   "execution_count": 4,
   "metadata": {},
   "outputs": [
    {
     "name": "stdout",
     "output_type": "stream",
     "text": [
      "Setting name to Guido\n"
     ]
    }
   ],
   "source": [
    "s = SubPerson('Guido') "
   ]
  },
  {
   "cell_type": "code",
   "execution_count": 5,
   "metadata": {},
   "outputs": [
    {
     "name": "stdout",
     "output_type": "stream",
     "text": [
      "Getting name\n"
     ]
    },
    {
     "data": {
      "text/plain": [
       "'Guido'"
      ]
     },
     "execution_count": 5,
     "metadata": {},
     "output_type": "execute_result"
    }
   ],
   "source": [
    "s.name "
   ]
  },
  {
   "cell_type": "code",
   "execution_count": 6,
   "metadata": {},
   "outputs": [
    {
     "name": "stdout",
     "output_type": "stream",
     "text": [
      "Setting name to Larry\n"
     ]
    }
   ],
   "source": [
    "s.name = 'Larry' "
   ]
  },
  {
   "cell_type": "code",
   "execution_count": 7,
   "metadata": {},
   "outputs": [
    {
     "name": "stdout",
     "output_type": "stream",
     "text": [
      "Setting name to 42\n"
     ]
    },
    {
     "ename": "TypeError",
     "evalue": "Expected a string",
     "output_type": "error",
     "traceback": [
      "\u001b[1;31m---------------------------------------------------------------------------\u001b[0m",
      "\u001b[1;31mTypeError\u001b[0m                                 Traceback (most recent call last)",
      "\u001b[1;32m<ipython-input-7-40945ded06e3>\u001b[0m in \u001b[0;36m<module>\u001b[1;34m\u001b[0m\n\u001b[1;32m----> 1\u001b[1;33m \u001b[0ms\u001b[0m\u001b[1;33m.\u001b[0m\u001b[0mname\u001b[0m \u001b[1;33m=\u001b[0m \u001b[1;36m42\u001b[0m\u001b[1;33m\u001b[0m\u001b[1;33m\u001b[0m\u001b[0m\n\u001b[0m",
      "\u001b[1;32m<ipython-input-3-89ca64b84282>\u001b[0m in \u001b[0;36mname\u001b[1;34m(self, value)\u001b[0m\n\u001b[0;32m     31\u001b[0m     \u001b[1;32mdef\u001b[0m \u001b[0mname\u001b[0m\u001b[1;33m(\u001b[0m\u001b[0mself\u001b[0m\u001b[1;33m,\u001b[0m \u001b[0mvalue\u001b[0m\u001b[1;33m)\u001b[0m\u001b[1;33m:\u001b[0m\u001b[1;33m\u001b[0m\u001b[1;33m\u001b[0m\u001b[0m\n\u001b[0;32m     32\u001b[0m         \u001b[0mprint\u001b[0m\u001b[1;33m(\u001b[0m\u001b[1;34m'Setting name to'\u001b[0m\u001b[1;33m,\u001b[0m \u001b[0mvalue\u001b[0m\u001b[1;33m)\u001b[0m\u001b[1;33m\u001b[0m\u001b[1;33m\u001b[0m\u001b[0m\n\u001b[1;32m---> 33\u001b[1;33m         \u001b[0msuper\u001b[0m\u001b[1;33m(\u001b[0m\u001b[0mSubPerson\u001b[0m\u001b[1;33m,\u001b[0m \u001b[0mSubPerson\u001b[0m\u001b[1;33m)\u001b[0m\u001b[1;33m.\u001b[0m\u001b[0mname\u001b[0m\u001b[1;33m.\u001b[0m\u001b[0m__set__\u001b[0m\u001b[1;33m(\u001b[0m\u001b[0mself\u001b[0m\u001b[1;33m,\u001b[0m \u001b[0mvalue\u001b[0m\u001b[1;33m)\u001b[0m\u001b[1;33m\u001b[0m\u001b[1;33m\u001b[0m\u001b[0m\n\u001b[0m\u001b[0;32m     34\u001b[0m \u001b[1;33m\u001b[0m\u001b[0m\n\u001b[0;32m     35\u001b[0m     \u001b[1;33m@\u001b[0m\u001b[0mname\u001b[0m\u001b[1;33m.\u001b[0m\u001b[0mdeleter\u001b[0m\u001b[1;33m\u001b[0m\u001b[1;33m\u001b[0m\u001b[0m\n",
      "\u001b[1;32m<ipython-input-3-89ca64b84282>\u001b[0m in \u001b[0;36mname\u001b[1;34m(self, value)\u001b[0m\n\u001b[0;32m     12\u001b[0m     \u001b[1;32mdef\u001b[0m \u001b[0mname\u001b[0m\u001b[1;33m(\u001b[0m\u001b[0mself\u001b[0m\u001b[1;33m,\u001b[0m \u001b[0mvalue\u001b[0m\u001b[1;33m)\u001b[0m\u001b[1;33m:\u001b[0m\u001b[1;33m\u001b[0m\u001b[1;33m\u001b[0m\u001b[0m\n\u001b[0;32m     13\u001b[0m         \u001b[1;32mif\u001b[0m \u001b[1;32mnot\u001b[0m \u001b[0misinstance\u001b[0m\u001b[1;33m(\u001b[0m\u001b[0mvalue\u001b[0m\u001b[1;33m,\u001b[0m \u001b[0mstr\u001b[0m\u001b[1;33m)\u001b[0m\u001b[1;33m:\u001b[0m\u001b[1;33m\u001b[0m\u001b[1;33m\u001b[0m\u001b[0m\n\u001b[1;32m---> 14\u001b[1;33m             \u001b[1;32mraise\u001b[0m \u001b[0mTypeError\u001b[0m\u001b[1;33m(\u001b[0m\u001b[1;34m'Expected a string'\u001b[0m\u001b[1;33m)\u001b[0m\u001b[1;33m\u001b[0m\u001b[1;33m\u001b[0m\u001b[0m\n\u001b[0m\u001b[0;32m     15\u001b[0m         \u001b[0mself\u001b[0m\u001b[1;33m.\u001b[0m\u001b[0m_name\u001b[0m \u001b[1;33m=\u001b[0m \u001b[0mvalue\u001b[0m\u001b[1;33m\u001b[0m\u001b[1;33m\u001b[0m\u001b[0m\n\u001b[0;32m     16\u001b[0m \u001b[1;33m\u001b[0m\u001b[0m\n",
      "\u001b[1;31mTypeError\u001b[0m: Expected a string"
     ]
    }
   ],
   "source": [
    "s.name = 42"
   ]
  },
  {
   "cell_type": "markdown",
   "metadata": {},
   "source": [
    "- property의 메소드중 하나만 extend해서 쓰려면 다음과 같이 해야합니다."
   ]
  },
  {
   "cell_type": "code",
   "execution_count": null,
   "metadata": {},
   "outputs": [],
   "source": [
    "# getter를 extend하려는 경우\n",
    "class SubPerson(Person):   \n",
    "    @Person.name.getter  \n",
    "    def name(self):  \n",
    "        print('Getting name')   \n",
    "        return super().name\n",
    "\n",
    "# setter를 extend하려는 경우\n",
    "class SubPerson(Person): \n",
    "    @Person.name.setter  \n",
    "    def name(self, value): \n",
    "        print('Setting name to', value)  \n",
    "        super(SubPerson, SubPerson).name.__set__(self, value)"
   ]
  },
  {
   "cell_type": "markdown",
   "metadata": {},
   "source": [
    "- 만약 아래처럼 하면 setter가 사라져버려서 에러뜹니다. 반드시 위처럼 extend 해서 써야함."
   ]
  },
  {
   "cell_type": "code",
   "execution_count": null,
   "metadata": {},
   "outputs": [],
   "source": [
    "class SubPerson(Person):\n",
    "    @property   \n",
    "    # Doesn't work  \n",
    "    def name(self):   \n",
    "        print('Getting name')    \n",
    "        return super().name "
   ]
  },
  {
   "cell_type": "markdown",
   "metadata": {},
   "source": [
    "### 8-11) Simplifying the Initialization of Data Structures\n",
    "- 자료구조를 위해 class를 많이 작성해야 하는데, __init__ 일일이 작성해주기 피곤할 때\n",
    "- base class를 하나 만들어서 data structure를 initialize 하는 일을 generalize 하면 된다.\n",
    "- 많은 수의 small structure들을 만들어야 할 때 굉장히 좋습니다."
   ]
  },
  {
   "cell_type": "code",
   "execution_count": 18,
   "metadata": {},
   "outputs": [],
   "source": [
    "class Structure: \n",
    "    # Class variable that specifies expected fields \n",
    "    _fields= []   \n",
    "    def __init__(self, *args):    \n",
    "        if len(args) != len(self._fields):    \n",
    "            raise TypeError('Expected {} arguments'.format(len(self._fields)))\n",
    "\n",
    "        # Set the arguments  \n",
    "        for name, value in zip(self._fields, args):     \n",
    "            setattr(self, name, value)\n",
    "\n",
    "# Example class definitions \n",
    "if __name__ == '__main__':    \n",
    "    class Stock(Structure):  \n",
    "        _fields = ['name', 'shares', 'price']\n",
    "        \n",
    "    class Point(Structure):    \n",
    "        _fields = ['x','y']\n",
    "\n",
    "    class Circle(Structure):  \n",
    "        _fields = ['radius']  \n",
    "        def area(self):  \n",
    "            return math.pi * self.radius ** 2 \n",
    "\n"
   ]
  },
  {
   "cell_type": "code",
   "execution_count": 19,
   "metadata": {},
   "outputs": [],
   "source": [
    "s = Stock('ACME', 50, 91.1)"
   ]
  },
  {
   "cell_type": "code",
   "execution_count": null,
   "metadata": {},
   "outputs": [],
   "source": [
    "p = Point(2, 3) "
   ]
  },
  {
   "cell_type": "code",
   "execution_count": 20,
   "metadata": {},
   "outputs": [],
   "source": [
    "c = Circle(4.5)"
   ]
  },
  {
   "cell_type": "code",
   "execution_count": 22,
   "metadata": {},
   "outputs": [
    {
     "ename": "TypeError",
     "evalue": "Expected 3 arguments",
     "output_type": "error",
     "traceback": [
      "\u001b[1;31m---------------------------------------------------------------------------\u001b[0m",
      "\u001b[1;31mTypeError\u001b[0m                                 Traceback (most recent call last)",
      "\u001b[1;32m<ipython-input-22-a7f160771797>\u001b[0m in \u001b[0;36m<module>\u001b[1;34m\u001b[0m\n\u001b[1;32m----> 1\u001b[1;33m \u001b[0ms2\u001b[0m \u001b[1;33m=\u001b[0m \u001b[0mStock\u001b[0m\u001b[1;33m(\u001b[0m\u001b[1;34m'ACME'\u001b[0m\u001b[1;33m,\u001b[0m \u001b[1;36m50\u001b[0m\u001b[1;33m)\u001b[0m\u001b[1;33m\u001b[0m\u001b[1;33m\u001b[0m\u001b[0m\n\u001b[0m",
      "\u001b[1;32m<ipython-input-18-ba28dff01bfc>\u001b[0m in \u001b[0;36m__init__\u001b[1;34m(self, *args)\u001b[0m\n\u001b[0;32m      4\u001b[0m     \u001b[1;32mdef\u001b[0m \u001b[0m__init__\u001b[0m\u001b[1;33m(\u001b[0m\u001b[0mself\u001b[0m\u001b[1;33m,\u001b[0m \u001b[1;33m*\u001b[0m\u001b[0margs\u001b[0m\u001b[1;33m)\u001b[0m\u001b[1;33m:\u001b[0m\u001b[1;33m\u001b[0m\u001b[1;33m\u001b[0m\u001b[0m\n\u001b[0;32m      5\u001b[0m         \u001b[1;32mif\u001b[0m \u001b[0mlen\u001b[0m\u001b[1;33m(\u001b[0m\u001b[0margs\u001b[0m\u001b[1;33m)\u001b[0m \u001b[1;33m!=\u001b[0m \u001b[0mlen\u001b[0m\u001b[1;33m(\u001b[0m\u001b[0mself\u001b[0m\u001b[1;33m.\u001b[0m\u001b[0m_fields\u001b[0m\u001b[1;33m)\u001b[0m\u001b[1;33m:\u001b[0m\u001b[1;33m\u001b[0m\u001b[1;33m\u001b[0m\u001b[0m\n\u001b[1;32m----> 6\u001b[1;33m             \u001b[1;32mraise\u001b[0m \u001b[0mTypeError\u001b[0m\u001b[1;33m(\u001b[0m\u001b[1;34m'Expected {} arguments'\u001b[0m\u001b[1;33m.\u001b[0m\u001b[0mformat\u001b[0m\u001b[1;33m(\u001b[0m\u001b[0mlen\u001b[0m\u001b[1;33m(\u001b[0m\u001b[0mself\u001b[0m\u001b[1;33m.\u001b[0m\u001b[0m_fields\u001b[0m\u001b[1;33m)\u001b[0m\u001b[1;33m)\u001b[0m\u001b[1;33m)\u001b[0m\u001b[1;33m\u001b[0m\u001b[1;33m\u001b[0m\u001b[0m\n\u001b[0m\u001b[0;32m      7\u001b[0m \u001b[1;33m\u001b[0m\u001b[0m\n\u001b[0;32m      8\u001b[0m         \u001b[1;31m# Set the arguments\u001b[0m\u001b[1;33m\u001b[0m\u001b[1;33m\u001b[0m\u001b[1;33m\u001b[0m\u001b[0m\n",
      "\u001b[1;31mTypeError\u001b[0m: Expected 3 arguments"
     ]
    }
   ],
   "source": [
    "s2 = Stock('ACME', 50)"
   ]
  },
  {
   "cell_type": "markdown",
   "metadata": {},
   "source": [
    "- keyword arguments로 initialize 하고싶은 경우도 cookbook에 나와있으니 참고하셔도 좋습니다."
   ]
  },
  {
   "cell_type": "markdown",
   "metadata": {},
   "source": [
    "### 8-15)  Delegating Attribute Access \n",
    "- delegate : 대리자\n",
    "- 어떤 instance의 기능을 다른 instance에게 delegate하고싶을 때! 상속 대신 사용하거나 proxy를 구현하기 위해 사용하는 방법"
   ]
  },
  {
   "cell_type": "code",
   "execution_count": null,
   "metadata": {},
   "outputs": [],
   "source": [
    "class A: \n",
    "    def spam(self, x):     \n",
    "        pass\n",
    "    \n",
    "    def foo(self):   \n",
    "        pass\n",
    "    \n",
    "class B:    \n",
    "    def __init__(self):    \n",
    "        self._a = A()\n",
    "        \n",
    "    def spam(self, x):   \n",
    "        # Delegate to the internal self._a instance \n",
    "        return self._a.spam(x)\n",
    "    \n",
    "    def foo(self): \n",
    "        # Delegate to the internal self._a instance \n",
    "        return self._a.foo()\n",
    "    \n",
    "    def bar(self):        \n",
    "        pass"
   ]
  },
  {
   "cell_type": "markdown",
   "metadata": {},
   "source": [
    "- delegate해야하는 기능이 많지 않을 때는 위처럼 간단하게 하면 되는데, 더 많아지면 곤란. 그러면 아래처럼 하면 된다."
   ]
  },
  {
   "cell_type": "code",
   "execution_count": 11,
   "metadata": {},
   "outputs": [],
   "source": [
    "class A:   \n",
    "    def spam(self, x):   \n",
    "        pass\n",
    "    \n",
    "    def foo(self):\n",
    "        print(\"hi\")\n",
    "        pass\n",
    "    \n",
    "class B:  \n",
    "    def __init__(self):\n",
    "        self._a = A()\n",
    "    \n",
    "    def bar(self):   \n",
    "        pass\n",
    "\n",
    "    # Expose all of the methods defined on class A\n",
    "    def __getattr__(self, name):   \n",
    "        return getattr(self._a, name)"
   ]
  },
  {
   "cell_type": "code",
   "execution_count": 12,
   "metadata": {},
   "outputs": [
    {
     "name": "stdout",
     "output_type": "stream",
     "text": [
      "hi\n"
     ]
    }
   ],
   "source": [
    "b = B()\n",
    "\n",
    "b.foo()"
   ]
  },
  {
   "cell_type": "markdown",
   "metadata": {},
   "source": [
    "- __ getattr __ () 메소드는, 코드에서 instance에 없는 attribute에 접근하려고 하면 들여다보는 메소드다."
   ]
  },
  {
   "cell_type": "markdown",
   "metadata": {},
   "source": [
    "- proxy 구현 예시"
   ]
  },
  {
   "cell_type": "code",
   "execution_count": 35,
   "metadata": {},
   "outputs": [],
   "source": [
    "# A proxy class that wraps around another object, but \n",
    "# exposes its public attributes\n",
    "class Proxy:\n",
    "    def __init__(self, obj):  \n",
    "        self._obj = obj\n",
    "        \n",
    "    # Delegate attribute lookup to internal obj\n",
    "    def __getattr__(self, name): \n",
    "        print('getattr:', name)    \n",
    "        return getattr(self._obj, name)\n",
    "    \n",
    "    # Delegate attribute assignment\n",
    "    def __setattr__(self, name, value):\n",
    "        if name.startswith('_'):\n",
    "            super().__setattr__(name, value) \n",
    "        else:       \n",
    "            print('setattr:', name, value)  \n",
    "            setattr(self._obj, name, value)\n",
    "            \n",
    "    # Delegate attribute deletion\n",
    "    def __delattr__(self, name):    \n",
    "        if name.startswith('_'):  \n",
    "            super().__delattr__(name)    \n",
    "        else:      \n",
    "            print('delattr:', name)   \n",
    "            delattr(self._obj, name)\n",
    "            \n",
    "\n",
    "class Spam:  \n",
    "    def __init__(self, x):     \n",
    "        self.x = x   \n",
    "        \n",
    "    def bar(self, y): \n",
    "        print('Spam.bar:', self.x, y)\n"
   ]
  },
  {
   "cell_type": "code",
   "execution_count": 43,
   "metadata": {},
   "outputs": [
    {
     "name": "stdout",
     "output_type": "stream",
     "text": [
      "getattr: x\n",
      "2\n",
      "getattr: bar\n",
      "Spam.bar: 2 3\n",
      "setattr: x 37\n"
     ]
    }
   ],
   "source": [
    "# Create an instance\n",
    "s = Spam(2)\n",
    "\n",
    "# Create a proxy around it\n",
    "p = Proxy(s)\n",
    "\n",
    "# Access the proxy \n",
    "print(p.x)  # Outputs 2 \n",
    "p.bar(3)    # Outputs \"Spam.bar: 2 3\" \n",
    "p.x = 37    # Changes s.x to 37\n",
    "p._y = 10"
   ]
  },
  {
   "cell_type": "markdown",
   "metadata": {},
   "source": [
    "- 때때로 상속 대신 쓰이기도 한다.\n",
    "- 상속이 상황에 별로 맞지 않거나, object간의 관계를 컨트롤하고 싶을 떄 (이를테면 어떤 특정 mothod들만 노출시키고 싶다던지) 이렇게도 쓴다."
   ]
  },
  {
   "cell_type": "code",
   "execution_count": null,
   "metadata": {},
   "outputs": [],
   "source": [
    "# 이렇게 쓰는 대신\n",
    "class A: \n",
    "    def spam(self, x):  \n",
    "        print('A.spam', x)\n",
    "        \n",
    "    def foo(self):   \n",
    "        print('A.foo')\n",
    "        \n",
    "class B(A): \n",
    "    def spam(self, x): \n",
    "        print('B.spam')   \n",
    "        super().spam(x)\n",
    "        \n",
    "    def bar(self):\n",
    "        print('B.bar') \n",
    "        \n",
    "# 이렇게 쓰고싶을 때가 있다.\n",
    "class A:   \n",
    "    def spam(self, x):      \n",
    "        print('A.spam', x)\n",
    "    def foo(self):   \n",
    "        print('A.foo')\n",
    "\n",
    "class B:  \n",
    "    def __init__(self):   \n",
    "        self._a = A()\n",
    "    \n",
    "    def spam(self, x):  \n",
    "        print('B.spam', x)      \n",
    "        self._a.spam(x)\n",
    "        \n",
    "    def bar(self):   \n",
    "        print('B.bar')\n",
    "\n",
    "    def __getattr__(self, name):    \n",
    "        return getattr(self._a, name) "
   ]
  },
  {
   "cell_type": "markdown",
   "metadata": {},
   "source": [
    "### 8-19) Implementing Stateful Objects or State Machines \n",
    "- state machine이나 많은 state를 가지고 있는 object를 구현해야하는데, 조건문들로 코드를 더럽히고 싶지 않을 때\n",
    "- 클래스를 쪼개고, if문을 없애고, 함수로 대체한다!"
   ]
  },
  {
   "cell_type": "code",
   "execution_count": 44,
   "metadata": {},
   "outputs": [],
   "source": [
    "class Connection:   \n",
    "    def __init__(self):\n",
    "        self.state = 'CLOSED'\n",
    "        \n",
    "    def read(self):   \n",
    "        if self.state != 'OPEN':     \n",
    "            raise RuntimeError('Not open')  \n",
    "            print('reading')\n",
    "\n",
    "    def write(self, data):      \n",
    "        if self.state != 'OPEN':        \n",
    "            raise RuntimeError('Not open')     \n",
    "            print('writing')\n",
    "    \n",
    "    def open(self):        \n",
    "        if self.state == 'OPEN':    \n",
    "            raise RuntimeError('Already open')  \n",
    "            self.state = 'OPEN'\n",
    "    \n",
    "    def close(self):  \n",
    "        if self.state == 'CLOSED':   \n",
    "            raise RuntimeError('Already closed')  \n",
    "            self.state = 'CLOSED'"
   ]
  },
  {
   "cell_type": "markdown",
   "metadata": {},
   "source": [
    "- 위 코드는 별로 안좋다. state check를 위한 if문이 많아서 더럽고, read나 write같은 common operation을 하기 전에 항상 state check를 하므로 performance가 떨어진다.\n",
    "- 조금 더 우아한 방법은 각각의 state를 encode하고 Connection class가 state class에 기능을 delegate 하도록 만드는 것이다."
   ]
  },
  {
   "cell_type": "code",
   "execution_count": 47,
   "metadata": {},
   "outputs": [],
   "source": [
    "class Connection:  \n",
    "    def __init__(self): \n",
    "        self.new_state(ClosedConnectionState)\n",
    "        \n",
    "    def new_state(self, newstate):    \n",
    "        self._state = newstate\n",
    "\n",
    "    # Delegate to the state class    \n",
    "    def read(self):   \n",
    "        return self._state.read(self)\n",
    "    \n",
    "    def write(self, data):      \n",
    "        return self._state.write(self, data)\n",
    "    \n",
    "    def open(self):      \n",
    "        return self._state.open(self)\n",
    "    \n",
    "    def close(self):     \n",
    "        return self._state.close(self)\n",
    "\n",
    "# Connection state base class\n",
    "class ConnectionState:\n",
    "    @staticmethod  \n",
    "    def read(conn):       \n",
    "        raise NotImplementedError()\n",
    "    \n",
    "    @staticmethod   \n",
    "    def write(conn, data):   \n",
    "        raise NotImplementedError()\n",
    "    \n",
    "    @staticmethod\n",
    "    def open(conn):     \n",
    "        raise NotImplementedError()\n",
    "    \n",
    "    @staticmethod  \n",
    "    def close(conn): \n",
    "        raise NotImplementedError()\n",
    "\n",
    "# Implementation of different states \n",
    "class ClosedConnectionState(ConnectionState):\n",
    "    @staticmethod  \n",
    "    def read(conn):     \n",
    "        raise RuntimeError('Not open')\n",
    "    \n",
    "    @staticmethod   \n",
    "    def write(conn, data): \n",
    "        raise RuntimeError('Not open')\n",
    "    \n",
    "    @staticmethod  \n",
    "    def open(conn):   \n",
    "        conn.new_state(OpenConnectionState)\n",
    "    \n",
    "    @staticmethod   \n",
    "    def close(conn):\n",
    "        raise RuntimeError('Already closed')\n",
    "\n",
    "class OpenConnectionState(ConnectionState):  \n",
    "    @staticmethod   \n",
    "    def read(conn):   \n",
    "        print('reading')\n",
    "    \n",
    "    @staticmethod  \n",
    "    def write(conn, data):\n",
    "        print('writing')\n",
    "    \n",
    "    @staticmethod  \n",
    "    def open(conn):  \n",
    "        raise RuntimeError('Already open')\n",
    "    \n",
    "    @staticmethod   \n",
    "    def close(conn):   \n",
    "        conn.new_state(ClosedConnectionState)"
   ]
  },
  {
   "cell_type": "markdown",
   "metadata": {},
   "source": [
    "- 위에서 선언한 클래스 사용 예"
   ]
  },
  {
   "cell_type": "code",
   "execution_count": 54,
   "metadata": {},
   "outputs": [],
   "source": [
    "c = Connection() "
   ]
  },
  {
   "cell_type": "code",
   "execution_count": 55,
   "metadata": {},
   "outputs": [
    {
     "data": {
      "text/plain": [
       "__main__.ClosedConnectionState"
      ]
     },
     "execution_count": 55,
     "metadata": {},
     "output_type": "execute_result"
    }
   ],
   "source": [
    "c._state"
   ]
  },
  {
   "cell_type": "code",
   "execution_count": 56,
   "metadata": {},
   "outputs": [
    {
     "ename": "RuntimeError",
     "evalue": "Not open",
     "output_type": "error",
     "traceback": [
      "\u001b[1;31m---------------------------------------------------------------------------\u001b[0m",
      "\u001b[1;31mRuntimeError\u001b[0m                              Traceback (most recent call last)",
      "\u001b[1;32m<ipython-input-56-aaae037ddc31>\u001b[0m in \u001b[0;36m<module>\u001b[1;34m\u001b[0m\n\u001b[1;32m----> 1\u001b[1;33m \u001b[0mc\u001b[0m\u001b[1;33m.\u001b[0m\u001b[0mread\u001b[0m\u001b[1;33m(\u001b[0m\u001b[1;33m)\u001b[0m\u001b[1;33m\u001b[0m\u001b[1;33m\u001b[0m\u001b[0m\n\u001b[0m",
      "\u001b[1;32m<ipython-input-47-028e2d84f8d1>\u001b[0m in \u001b[0;36mread\u001b[1;34m(self)\u001b[0m\n\u001b[0;32m      8\u001b[0m     \u001b[1;31m# Delegate to the state class\u001b[0m\u001b[1;33m\u001b[0m\u001b[1;33m\u001b[0m\u001b[1;33m\u001b[0m\u001b[0m\n\u001b[0;32m      9\u001b[0m     \u001b[1;32mdef\u001b[0m \u001b[0mread\u001b[0m\u001b[1;33m(\u001b[0m\u001b[0mself\u001b[0m\u001b[1;33m)\u001b[0m\u001b[1;33m:\u001b[0m\u001b[1;33m\u001b[0m\u001b[1;33m\u001b[0m\u001b[0m\n\u001b[1;32m---> 10\u001b[1;33m         \u001b[1;32mreturn\u001b[0m \u001b[0mself\u001b[0m\u001b[1;33m.\u001b[0m\u001b[0m_state\u001b[0m\u001b[1;33m.\u001b[0m\u001b[0mread\u001b[0m\u001b[1;33m(\u001b[0m\u001b[0mself\u001b[0m\u001b[1;33m)\u001b[0m\u001b[1;33m\u001b[0m\u001b[1;33m\u001b[0m\u001b[0m\n\u001b[0m\u001b[0;32m     11\u001b[0m \u001b[1;33m\u001b[0m\u001b[0m\n\u001b[0;32m     12\u001b[0m     \u001b[1;32mdef\u001b[0m \u001b[0mwrite\u001b[0m\u001b[1;33m(\u001b[0m\u001b[0mself\u001b[0m\u001b[1;33m,\u001b[0m \u001b[0mdata\u001b[0m\u001b[1;33m)\u001b[0m\u001b[1;33m:\u001b[0m\u001b[1;33m\u001b[0m\u001b[1;33m\u001b[0m\u001b[0m\n",
      "\u001b[1;32m<ipython-input-47-028e2d84f8d1>\u001b[0m in \u001b[0;36mread\u001b[1;34m(conn)\u001b[0m\n\u001b[0;32m     41\u001b[0m     \u001b[1;33m@\u001b[0m\u001b[0mstaticmethod\u001b[0m\u001b[1;33m\u001b[0m\u001b[1;33m\u001b[0m\u001b[0m\n\u001b[0;32m     42\u001b[0m     \u001b[1;32mdef\u001b[0m \u001b[0mread\u001b[0m\u001b[1;33m(\u001b[0m\u001b[0mconn\u001b[0m\u001b[1;33m)\u001b[0m\u001b[1;33m:\u001b[0m\u001b[1;33m\u001b[0m\u001b[1;33m\u001b[0m\u001b[0m\n\u001b[1;32m---> 43\u001b[1;33m         \u001b[1;32mraise\u001b[0m \u001b[0mRuntimeError\u001b[0m\u001b[1;33m(\u001b[0m\u001b[1;34m'Not open'\u001b[0m\u001b[1;33m)\u001b[0m\u001b[1;33m\u001b[0m\u001b[1;33m\u001b[0m\u001b[0m\n\u001b[0m\u001b[0;32m     44\u001b[0m \u001b[1;33m\u001b[0m\u001b[0m\n\u001b[0;32m     45\u001b[0m     \u001b[1;33m@\u001b[0m\u001b[0mstaticmethod\u001b[0m\u001b[1;33m\u001b[0m\u001b[1;33m\u001b[0m\u001b[0m\n",
      "\u001b[1;31mRuntimeError\u001b[0m: Not open"
     ]
    }
   ],
   "source": [
    "c.read()"
   ]
  },
  {
   "cell_type": "code",
   "execution_count": 63,
   "metadata": {},
   "outputs": [],
   "source": [
    "c.open()"
   ]
  },
  {
   "cell_type": "code",
   "execution_count": 64,
   "metadata": {},
   "outputs": [
    {
     "data": {
      "text/plain": [
       "__main__.OpenConnectionState"
      ]
     },
     "execution_count": 64,
     "metadata": {},
     "output_type": "execute_result"
    }
   ],
   "source": [
    "c._state "
   ]
  },
  {
   "cell_type": "code",
   "execution_count": 65,
   "metadata": {},
   "outputs": [
    {
     "name": "stdout",
     "output_type": "stream",
     "text": [
      "reading\n"
     ]
    }
   ],
   "source": [
    "c.read()"
   ]
  },
  {
   "cell_type": "code",
   "execution_count": 66,
   "metadata": {},
   "outputs": [
    {
     "name": "stdout",
     "output_type": "stream",
     "text": [
      "writing\n"
     ]
    }
   ],
   "source": [
    "c.write('hello')"
   ]
  },
  {
   "cell_type": "code",
   "execution_count": 67,
   "metadata": {},
   "outputs": [],
   "source": [
    "c.close() "
   ]
  },
  {
   "cell_type": "code",
   "execution_count": 68,
   "metadata": {},
   "outputs": [
    {
     "data": {
      "text/plain": [
       "__main__.ClosedConnectionState"
      ]
     },
     "execution_count": 68,
     "metadata": {},
     "output_type": "execute_result"
    }
   ],
   "source": [
    "c._state"
   ]
  },
  {
   "cell_type": "markdown",
   "metadata": {},
   "source": [
    "### 8-23) \n",
    "-"
   ]
  },
  {
   "cell_type": "code",
   "execution_count": null,
   "metadata": {},
   "outputs": [],
   "source": []
  },
  {
   "cell_type": "code",
   "execution_count": null,
   "metadata": {},
   "outputs": [],
   "source": []
  },
  {
   "cell_type": "code",
   "execution_count": null,
   "metadata": {},
   "outputs": [],
   "source": []
  },
  {
   "cell_type": "code",
   "execution_count": null,
   "metadata": {},
   "outputs": [],
   "source": []
  },
  {
   "cell_type": "code",
   "execution_count": null,
   "metadata": {},
   "outputs": [],
   "source": []
  }
 ],
 "metadata": {
  "kernelspec": {
   "display_name": "Python 3",
   "language": "python",
   "name": "python3"
  },
  "language_info": {
   "codemirror_mode": {
    "name": "ipython",
    "version": 3
   },
   "file_extension": ".py",
   "mimetype": "text/x-python",
   "name": "python",
   "nbconvert_exporter": "python",
   "pygments_lexer": "ipython3",
   "version": "3.6.4"
  }
 },
 "nbformat": 4,
 "nbformat_minor": 2
}
