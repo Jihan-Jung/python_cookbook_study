{
 "cells": [
  {
   "cell_type": "markdown",
   "metadata": {},
   "source": [
    "## property: uniform interface attribute with additional processing"
   ]
  },
  {
   "cell_type": "code",
   "execution_count": 7,
   "metadata": {},
   "outputs": [
    {
     "name": "stdout",
     "output_type": "stream",
     "text": [
      "2\n",
      "12.566370614359172\n",
      "12.566370614359172\n"
     ]
    },
    {
     "ename": "TypeError",
     "evalue": "",
     "output_type": "error",
     "traceback": [
      "\u001b[1;31m---------------------------------------------------------------------------\u001b[0m",
      "\u001b[1;31mTypeError\u001b[0m                                 Traceback (most recent call last)",
      "\u001b[1;32m<ipython-input-7-a40e79044795>\u001b[0m in \u001b[0;36m<module>\u001b[1;34m()\u001b[0m\n\u001b[0;32m     30\u001b[0m \u001b[0mprint\u001b[0m\u001b[1;33m(\u001b[0m\u001b[0mc\u001b[0m\u001b[1;33m.\u001b[0m\u001b[0mperimeter\u001b[0m\u001b[1;33m)\u001b[0m\u001b[1;33m\u001b[0m\u001b[0m\n\u001b[0;32m     31\u001b[0m \u001b[0mprint\u001b[0m\u001b[1;33m(\u001b[0m\u001b[0mc\u001b[0m\u001b[1;33m.\u001b[0m\u001b[0marea\u001b[0m\u001b[1;33m)\u001b[0m\u001b[1;33m\u001b[0m\u001b[0m\n\u001b[1;32m---> 32\u001b[1;33m \u001b[0mc\u001b[0m\u001b[1;33m.\u001b[0m\u001b[0mrad\u001b[0m \u001b[1;33m=\u001b[0m \u001b[1;34m'123'\u001b[0m\u001b[1;33m\u001b[0m\u001b[0m\n\u001b[0m",
      "\u001b[1;32m<ipython-input-7-a40e79044795>\u001b[0m in \u001b[0;36mrad\u001b[1;34m(self, val)\u001b[0m\n\u001b[0;32m     12\u001b[0m     \u001b[1;32mdef\u001b[0m \u001b[0mrad\u001b[0m\u001b[1;33m(\u001b[0m\u001b[0mself\u001b[0m\u001b[1;33m,\u001b[0m \u001b[0mval\u001b[0m\u001b[1;33m)\u001b[0m\u001b[1;33m:\u001b[0m\u001b[1;33m\u001b[0m\u001b[0m\n\u001b[0;32m     13\u001b[0m         \u001b[1;32mif\u001b[0m \u001b[0mtype\u001b[0m\u001b[1;33m(\u001b[0m\u001b[0mval\u001b[0m\u001b[1;33m)\u001b[0m \u001b[1;32mnot\u001b[0m \u001b[1;32min\u001b[0m \u001b[1;33m[\u001b[0m\u001b[0mfloat\u001b[0m\u001b[1;33m,\u001b[0m \u001b[0mint\u001b[0m\u001b[1;33m]\u001b[0m\u001b[1;33m:\u001b[0m\u001b[1;33m\u001b[0m\u001b[0m\n\u001b[1;32m---> 14\u001b[1;33m             \u001b[1;32mraise\u001b[0m \u001b[0mTypeError\u001b[0m\u001b[1;33m\u001b[0m\u001b[0m\n\u001b[0m\u001b[0;32m     15\u001b[0m         \u001b[0mself\u001b[0m\u001b[1;33m.\u001b[0m\u001b[0m_rad\u001b[0m \u001b[1;33m=\u001b[0m \u001b[0mval\u001b[0m\u001b[1;33m\u001b[0m\u001b[0m\n\u001b[0;32m     16\u001b[0m \u001b[1;33m\u001b[0m\u001b[0m\n",
      "\u001b[1;31mTypeError\u001b[0m: "
     ]
    }
   ],
   "source": [
    "import math\n",
    "\n",
    "class Circle:\n",
    "    def __init__(self, rad):\n",
    "        self.rad = rad\n",
    "    \n",
    "    @property\n",
    "    def rad(self):\n",
    "        return self._rad\n",
    "    \n",
    "    @rad.setter\n",
    "    def rad(self, val):\n",
    "        if type(val) not in [float, int]:\n",
    "            raise TypeError\n",
    "        self._rad = val\n",
    "    \n",
    "    \n",
    "    \n",
    "    @property\n",
    "    def perimeter(self):\n",
    "        return math.pi * self.rad * 2\n",
    "    \n",
    "    @property\n",
    "    def area(self):\n",
    "        import math\n",
    "        return math.pi * self.rad ** 2\n",
    "\n",
    "c = Circle(2)\n",
    "print(c.rad)\n",
    "print(c.perimeter)\n",
    "print(c.area)\n",
    "c.rad = '123'"
   ]
  },
  {
   "cell_type": "markdown",
   "metadata": {},
   "source": [
    "## super() follows \\_\\_mro__"
   ]
  },
  {
   "cell_type": "code",
   "execution_count": 20,
   "metadata": {},
   "outputs": [
    {
     "name": "stdout",
     "output_type": "stream",
     "text": [
      "(<class '__main__.C'>,\n",
      " <class '__main__.A'>,\n",
      " <class '__main__.BaseA'>,\n",
      " <class '__main__.B'>,\n",
      " <class '__main__.BaseB'>,\n",
      " <class 'object'>)\n",
      "(<class '__main__.C'>,\n",
      " <class '__main__.A'>,\n",
      " <class '__main__.B'>,\n",
      " <class '__main__.Base'>,\n",
      " <class 'object'>)\n",
      "(<class '__main__.A'>, <class '__main__.Base'>, <class 'object'>)\n"
     ]
    }
   ],
   "source": [
    "# mro uses DFS\n",
    "\n",
    "from pprint import pprint\n",
    "\n",
    "\n",
    "class BaseA:\n",
    "    pass\n",
    "\n",
    "class BaseB:\n",
    "    pass\n",
    "\n",
    "class A(BaseA):\n",
    "    pass\n",
    "\n",
    "class B(BaseB):\n",
    "    pass\n",
    "\n",
    "class C(A,B):\n",
    "    pass\n",
    "\n",
    "pprint(C.__mro__)\n",
    "\n",
    "\n",
    "\n",
    "class Base:\n",
    "    pass\n",
    "\n",
    "class A(Base):\n",
    "    pass\n",
    "\n",
    "class B(Base):\n",
    "    pass\n",
    "\n",
    "class C(A,B):\n",
    "    pass\n",
    "\n",
    "pprint(C.__mro__)\n",
    "pprint(A.__mro__)"
   ]
  },
  {
   "cell_type": "code",
   "execution_count": 34,
   "metadata": {},
   "outputs": [
    {
     "name": "stdout",
     "output_type": "stream",
     "text": [
      "(<class '__main__.C'>, <class '__main__.A'>, <class '__main__.B'>, <class 'object'>)\n",
      "A\n",
      "B\n"
     ]
    }
   ],
   "source": [
    "# super() lets inheritance hierarchy to follow on initial mro sequence\n",
    "\n",
    "class A:\n",
    "    def foo(self):\n",
    "        print('A')\n",
    "        super().foo()\n",
    "        \n",
    "class B:\n",
    "    def foo(self):\n",
    "        print('B')\n",
    "        \n",
    "        \n",
    "class C(A,B):\n",
    "    pass\n",
    "\n",
    "c = C()\n",
    "print(C.__mro__)\n",
    "c.foo()\n",
    "# A\n",
    "# B (this is not shown when super() is not implemented in class 'A')\n",
    "\n",
    "# since inheritance cursor will follow mro sequence, super() in class 'B' will not work\n",
    "# this is because class 'object' does not have method 'foo'"
   ]
  },
  {
   "cell_type": "code",
   "execution_count": 45,
   "metadata": {},
   "outputs": [
    {
     "name": "stdout",
     "output_type": "stream",
     "text": [
      "foo <class '__main__.B'>\n",
      "bar <class '__main__.B'>\n",
      "bar <class '__main__.B'>\n"
     ]
    }
   ],
   "source": [
    "# (probably)\n",
    "# inheritance means using parents' namespace\n",
    "# within logic above, B does not have bar(), but can assess bar() in A\n",
    "# to manually enable this, you use super().bar()\n",
    "\n",
    "class A:\n",
    "    def foo(self):\n",
    "        print('foo', self.__class__)\n",
    "        \n",
    "    def bar(self):\n",
    "        print('bar', self.__class__)\n",
    "        \n",
    "class B(A):\n",
    "    \n",
    "    def foo(self):\n",
    "        super().foo()\n",
    "\n",
    "        \n",
    "    def hoi(self):\n",
    "        super().bar()\n",
    "        \n",
    "b = B()\n",
    "b.foo()\n",
    "b.bar()\n",
    "b.hoi()"
   ]
  },
  {
   "cell_type": "markdown",
   "metadata": {},
   "source": [
    "## descriptor class"
   ]
  },
  {
   "cell_type": "code",
   "execution_count": 50,
   "metadata": {},
   "outputs": [
    {
     "name": "stdout",
     "output_type": "stream",
     "text": [
      "warning, new attribute added\n",
      "warning, new attribute added\n",
      "{'a': 1, 'b': 2}\n",
      "warning, attribute deleted\n",
      "warning, attribute deleted\n"
     ]
    }
   ],
   "source": [
    "# descriptor class requires __get__(self, instance) and __set__(self, instance, value)\n",
    "# above gets and sets attribute to __dict__ of each second parameter, namely instance\n",
    "# the key of the attribute should be initialized beforehand\n",
    "\n",
    "class Descriptor:\n",
    "    def __init__(self, key):\n",
    "        self.key = key\n",
    "        \n",
    "    def __get__(self, inst):\n",
    "        return inst.__dict__[self.key]\n",
    "    \n",
    "    def __set__(self, inst, val):\n",
    "        print('warning, new attribute added')   # doing sth meaningful\n",
    "        inst.__dict__[self.key] = val\n",
    "    \n",
    "    def __delete__(self, inst):\n",
    "        print('warning, attribute deleted')   # doing sth meaningful\n",
    "        del inst.__dict__[self.key]\n",
    "        \n",
    "class Class:\n",
    "    a = Descriptor('a')\n",
    "    b = Descriptor('b')\n",
    "    \n",
    "    def __init__(self, a, b):\n",
    "        self.a = a\n",
    "        self.b = b\n",
    "\n",
    "c = Class(1,2)\n",
    "print(c.__dict__)\n",
    "del c.a\n",
    "del c.b"
   ]
  },
  {
   "cell_type": "code",
   "execution_count": null,
   "metadata": {},
   "outputs": [],
   "source": []
  }
 ],
 "metadata": {
  "kernelspec": {
   "display_name": "Python 3",
   "language": "python",
   "name": "python3"
  },
  "language_info": {
   "codemirror_mode": {
    "name": "ipython",
    "version": 3
   },
   "file_extension": ".py",
   "mimetype": "text/x-python",
   "name": "python",
   "nbconvert_exporter": "python",
   "pygments_lexer": "ipython3",
   "version": "3.6.4"
  }
 },
 "nbformat": 4,
 "nbformat_minor": 2
}
