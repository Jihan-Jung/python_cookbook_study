{
 "cells": [
  {
   "cell_type": "markdown",
   "metadata": {},
   "source": [
    "# 발표 소단원 리스트"
   ]
  },
  {
   "cell_type": "markdown",
   "metadata": {},
   "source": [
    "7.12\n",
    "8.3\n",
    "8.6\n",
    "8.9\n",
    "8.12\n",
    "8.16\n",
    "8.20\n",
    "8.24"
   ]
  },
  {
   "cell_type": "markdown",
   "metadata": {},
   "source": [
    "# 전체 요약자료"
   ]
  },
  {
   "cell_type": "markdown",
   "metadata": {},
   "source": [
    "-\n"
   ]
  },
  {
   "cell_type": "markdown",
   "metadata": {},
   "source": [
    "## 8.3 context manager class"
   ]
  },
  {
   "cell_type": "code",
   "execution_count": null,
   "metadata": {},
   "outputs": [],
   "source": [
    "# context manager handles resources in preservative manner\n",
    "# generally, context manager should save resource regardless of exceptions\n",
    "# mostly this is implemented as below\n",
    "\n",
    "try:\n",
    "    opened_file = open('some-file')\n",
    "    r = opened_file.read()\n",
    "    # do somethong meaningful\n",
    "else:\n",
    "    opened_file.close()"
   ]
  },
  {
   "cell_type": "code",
   "execution_count": 7,
   "metadata": {},
   "outputs": [],
   "source": [
    "from socket import socket, AF_INET, SOCK_STREAM\n",
    "\n",
    "# __enter__ and __exit__ method each is called at the beginning and the end of with statement\n",
    "# those are critical to implement context manager class\n",
    "class SocketConnector:\n",
    "    def __init__(self, ip):\n",
    "        self.ip = ip\n",
    "        self.family = AF_INET\n",
    "        self.type = SOCK_STREAM\n",
    "        self.connections = []\n",
    "    def __enter__(self):\n",
    "        # the return value of this function will bind to as statement\n",
    "        sock = socket(self.family, self.type)\n",
    "        sock.connect(self.ip)\n",
    "        self.connections.append(sock)\n",
    "        return sock\n",
    "    def __exit__(self, *args):\n",
    "        self.connections.pop().close()\n",
    "\n",
    "with SocketConnector(('localhost',80)) as s:\n",
    "    # do somethong meaningful\n",
    "    pass\n",
    "    \n",
    "        "
   ]
  },
  {
   "cell_type": "markdown",
   "metadata": {},
   "source": [
    "## 8.6 property decorator"
   ]
  },
  {
   "cell_type": "code",
   "execution_count": 48,
   "metadata": {},
   "outputs": [],
   "source": [
    "class Man:\n",
    "    def __init__(self, name):\n",
    "        self.name = name\n",
    "    \n",
    "    @property\n",
    "    def name(self):\n",
    "        return self._name\n",
    "    \n",
    "    @name.setter # this decorator is defined after establishing @property ahead\n",
    "    def name(self, value):\n",
    "        if type(value) != str:\n",
    "            raise TypeError\n",
    "        self._name = value\n",
    "\n",
    "man = Man('minkyu') # fine\n",
    "man.name = 'Deoksoo' # fine\n",
    "man.name = 10000 # TypeError"
   ]
  },
  {
   "cell_type": "markdown",
   "metadata": {},
   "source": [
    "## 8.9 descriptor class"
   ]
  },
  {
   "cell_type": "code",
   "execution_count": 43,
   "metadata": {},
   "outputs": [
    {
     "name": "stdout",
     "output_type": "stream",
     "text": [
      "<__main__.Descriptor object at 0x00FAC370>\n",
      "1\n",
      "{'foo': 1, 'bar': 2, 'c': 3}\n",
      "Descriptor!!\n",
      "Descriptor!!\n",
      "Descriptor!!\n",
      "{'foo': 1, 'bar': 2, 'c': 'describe'}\n"
     ]
    }
   ],
   "source": [
    "class Descriptor:\n",
    "    def __init__(self, name):\n",
    "        self.name = name\n",
    "        \n",
    "    def __get__(self, inst, cls):\n",
    "        if inst is None:\n",
    "            return self\n",
    "        else:\n",
    "            # do something meaningful\n",
    "            return inst.__dict__[self.name]\n",
    "    \n",
    "    def __set__(self, inst, val):\n",
    "        if val == 'describe':\n",
    "            print('Descriptor!!')\n",
    "            return\n",
    "        inst.__dict__[self.name] = val\n",
    "    \n",
    "    def __delete__(self, inst):\n",
    "        # do something meaningful\n",
    "        del inst.__dict__[self.name]\n",
    "        \n",
    "\n",
    "class SomeClass:\n",
    "    f = Descriptor('foo') \n",
    "    # class attr f, is now the descriptor that maps to instance attr f\n",
    "    # value that refers instance attr f, will be held in that instance by the key 'foo'\n",
    "    # (probably) this attr name and key shall not be different\n",
    "    b = Descriptor('bar')\n",
    "    x = Descriptor('x')\n",
    "    \n",
    "    def __init__(self, ff, bb, cc):\n",
    "        self.f = ff\n",
    "        self.b = bb\n",
    "        self.c = cc\n",
    "\n",
    "s = SomeClass(1,2,3)\n",
    "print(SomeClass.f) # <__main__.Descriptor object at 0x00D42ED0>\n",
    "print(s.f) # 1\n",
    "print(s.__dict__) # {'foo': 1, 'bar': 2, 'c': 3}\n",
    "s.f = 'describe' # Descriptor!!\n",
    "s.b = 'describe' # Descriptor!!\n",
    "s.x = 'describe' # Descriptor!!\n",
    "s.c = 'describe' # nothing happens, since instance attr c, self.c, is not assigned to descriptor\n",
    "print(s.__dict__) # {'foo': 1, 'bar': 2, 'c': 'describe'}"
   ]
  },
  {
   "cell_type": "markdown",
   "metadata": {},
   "source": [
    "## 8.12  ABC; Abtract Base Class for creating interface"
   ]
  },
  {
   "cell_type": "code",
   "execution_count": 64,
   "metadata": {},
   "outputs": [
    {
     "name": "stdout",
     "output_type": "stream",
     "text": [
      "hello 1\n",
      "world\n",
      "python!\n"
     ]
    }
   ],
   "source": [
    "from abc import ABCMeta, abstractmethod\n",
    "\n",
    "\n",
    "class Interface(metaclass=ABCMeta):\n",
    "    @abstractmethod\n",
    "    def foo(self, param=1):\n",
    "        pass\n",
    "    \n",
    "    @abstractmethod\n",
    "    def bar(self):\n",
    "        pass\n",
    "\n",
    "    \n",
    "class Child(Interface):\n",
    "    def foo(self, param=1):\n",
    "        print('hello', param)\n",
    "    \n",
    "    def bar(self):\n",
    "        print('world')\n",
    "    \n",
    "    def hoi(self):\n",
    "        print('python!')\n",
    "\n",
    "i = Interface() # TypeError: you cannot directly instantiate ABC\n",
    "c = Child() # if any of abstractmethod omitted, error is raised. \n",
    "c.foo()\n",
    "c.bar()\n",
    "c.hoi()\n",
    "\n",
    "# below does not show error\n",
    "# you should use ABCMeta and @abstractclass both to implement interface\n",
    "class Parent:\n",
    "    @abstractmethod\n",
    "    def foo():\n",
    "        pass\n",
    "\n",
    "class C(Parent):\n",
    "    def a():\n",
    "        pass"
   ]
  },
  {
   "cell_type": "markdown",
   "metadata": {},
   "source": [
    "## 8.16 classmethod decorator for implementing alternate constructor"
   ]
  },
  {
   "cell_type": "code",
   "execution_count": 78,
   "metadata": {},
   "outputs": [
    {
     "name": "stdout",
     "output_type": "stream",
     "text": [
      "<__main__.Date object at 0x013446B0> {'m': 1, 'd': 31, 'y': 2019}\n",
      "<__main__.Date object at 0x01344690> {'m': 5, 'd': 5, 'y': 2019}\n",
      "<__main__.NewDate object at 0x01549F90> {'m': 5, 'd': 5, 'y': 2019}\n"
     ]
    }
   ],
   "source": [
    "import time\n",
    "\n",
    "class Date:\n",
    "    def __init__(self, m, d, y):\n",
    "        self.m = m\n",
    "        self.d = d\n",
    "        self.y = y\n",
    "    \n",
    "    @classmethod\n",
    "    def today(cls):\n",
    "        t = time.localtime()\n",
    "        return cls(t.tm_mon, t.tm_mday, t.tm_year)\n",
    "\n",
    "\n",
    "d = Date(1,31,2019)\n",
    "dd = Date.today()\n",
    "print(d, d.__dict__)\n",
    "print(dd, dd.__dict__)\n",
    "\n",
    "class NewDate(Date): # this way, inheritance is easy with @classmethod\n",
    "    def foo(self, param):\n",
    "        print(param)\n",
    "\n",
    "ddd = NewDate.today()\n",
    "print(ddd, ddd.__dict__)"
   ]
  },
  {
   "cell_type": "markdown",
   "metadata": {},
   "source": [
    "## 8.20 call method by string"
   ]
  },
  {
   "cell_type": "code",
   "execution_count": 80,
   "metadata": {},
   "outputs": [
    {
     "name": "stdout",
     "output_type": "stream",
     "text": [
      "hello world\n"
     ]
    }
   ],
   "source": [
    "n = NewDate.today()\n",
    "f = getattr(n, 'foo')\n",
    "f('hello world')"
   ]
  },
  {
   "cell_type": "markdown",
   "metadata": {},
   "source": [
    "## 8.24 class comparison "
   ]
  },
  {
   "cell_type": "code",
   "execution_count": 82,
   "metadata": {},
   "outputs": [
    {
     "name": "stdout",
     "output_type": "stream",
     "text": [
      "True\n"
     ]
    }
   ],
   "source": [
    "from functools import total_ordering\n",
    "\n",
    "@total_ordering\n",
    "class Test:\n",
    "    def __init__(self, param):\n",
    "        self.param = param\n",
    "    \n",
    "    def __eq__(self, other):\n",
    "        return self.param == other.param\n",
    "\n",
    "    def __lt__(self, other):\n",
    "        return self.param < other.param\n",
    "\n",
    "t1 = Test(1)\n",
    "t2 = Test(2)\n",
    "print(t1<t2)"
   ]
  },
  {
   "cell_type": "code",
   "execution_count": null,
   "metadata": {},
   "outputs": [],
   "source": []
  }
 ],
 "metadata": {
  "kernelspec": {
   "display_name": "Python 3",
   "language": "python",
   "name": "python3"
  },
  "language_info": {
   "codemirror_mode": {
    "name": "ipython",
    "version": 3
   },
   "file_extension": ".py",
   "mimetype": "text/x-python",
   "name": "python",
   "nbconvert_exporter": "python",
   "pygments_lexer": "ipython3",
   "version": "3.6.4"
  }
 },
 "nbformat": 4,
 "nbformat_minor": 2
}
