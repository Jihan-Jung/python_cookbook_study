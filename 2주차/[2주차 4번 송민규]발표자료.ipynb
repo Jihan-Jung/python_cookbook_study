{
 "cells": [
  {
   "cell_type": "markdown",
   "metadata": {},
   "source": [
    "# 발표 소단원 리스트"
   ]
  },
  {
   "cell_type": "markdown",
   "metadata": {},
   "source": [
    "(2, 20)\n",
    "(3, 4)\n",
    "(3, 8)\n",
    "(3, 12)\n",
    "(3, 16)\n",
    "(4, 4)\n",
    "(4, 8)\n",
    "(4, 12)\n"
   ]
  },
  {
   "cell_type": "markdown",
   "metadata": {},
   "source": [
    "# 전체 요약자료"
   ]
  },
  {
   "cell_type": "markdown",
   "metadata": {},
   "source": [
    "굵은 글씨는 왕중요\n",
    "* (2, 20) 패스\n",
    "* (3, 4) 기수법 변경하기 - bin(), oct(), hex()\n",
    "* (3, 8) 분수 사용하기 - fractions.Fraction\n",
    "* (3, 12) 쉽게 시간 연산하기 - datetime, timedelta, relativedelta\n",
    "* **(3, 16) utc로 시간 동기화시키기** - datetome.now(pytz.utc), astimezone(timezone)\n",
    "* **(4, 4) 제너레이터 짧게 만들기** - yield from\n",
    "* (4, 8) 파일의 앞부분 떼어내기 - dropwhile(func, iterable)\n",
    "* (4, 12) 두 iterable concatenation - chain()\n"
   ]
  },
  {
   "cell_type": "markdown",
   "metadata": {},
   "source": [
    "## 2.20 byte string에 스트링 연산 적용하기\n",
    "* 요약 - byte string은 그냥 쓰지 마라!\n",
    "* 스트링 연산의 대부분은 바이트스트링에도 그대로 적용된다\n",
    "* 하지만 프로그램의 효율성을 높이는 효과는 미미한 반면 가독성을 심각하게 떨어뜨리므로 자제하자"
   ]
  },
  {
   "cell_type": "markdown",
   "metadata": {},
   "source": [
    "## 3.4 기수법 변경하기\n",
    "* 십진수를 이진수, 8진수, 16진수로 바꾸고 싶을 때, 또는 그 반대 방향\n",
    "* 0b는 이진수, 0o는 8진수, 0x는 16진수임에 유의"
   ]
  },
  {
   "cell_type": "code",
   "execution_count": 52,
   "metadata": {},
   "outputs": [
    {
     "name": "stdout",
     "output_type": "stream",
     "text": [
      "0b10011010010\n",
      "0o2322\n",
      "0x4d2\n",
      "316125\n",
      "5593027\n"
     ]
    }
   ],
   "source": [
    "x = 1234\n",
    "print(bin(x))\n",
    "print(oct(x))\n",
    "print(hex(x))\n",
    "\n",
    "\n",
    "print(int('4d2dd', 16))\n",
    "print(int('10101010101011111000011', 2))"
   ]
  },
  {
   "cell_type": "markdown",
   "metadata": {},
   "source": [
    "## 3.8 분수 사용하기\n",
    "\n",
    "* fractions.Fraction으로 쉬운 계산가능\n",
    "* 프론트엔드에서 분수를 입력받을 때 활용 가능할 듯"
   ]
  },
  {
   "cell_type": "code",
   "execution_count": 57,
   "metadata": {},
   "outputs": [
    {
     "name": "stdout",
     "output_type": "stream",
     "text": [
      "397/531\n",
      "-161/531\n",
      "118/279\n",
      "0\n",
      "62/531\n",
      "62\n",
      "531\n",
      "1/9\n"
     ]
    }
   ],
   "source": [
    "from fractions import Fraction as Fr\n",
    "\n",
    "a = Fr(2, 9)\n",
    "b = Fr(124, 236)\n",
    "\n",
    "print(a + b)\n",
    "print(a - b)\n",
    "print(a / b)\n",
    "print(a // b)\n",
    "print(a * b)\n",
    "\n",
    "c = a*b\n",
    "print(c.numerator)\n",
    "print(c.denominator)\n",
    "print(c.limit_denominator(10)) #????"
   ]
  },
  {
   "cell_type": "markdown",
   "metadata": {},
   "source": [
    "## 3.12 시간 연산 쉽게 하기\n",
    "* datetime 인스턴스와 timedelta 인스턴스는 서로 쉽게 덧셈, 뺄셈이 가능하도록 호환된다\n",
    "* dateutil.realativedelta 인스턴스는 timedelta 인스턴스에서 지원하지 않던 months, years 단위까지도 가능하다"
   ]
  },
  {
   "cell_type": "code",
   "execution_count": 12,
   "metadata": {},
   "outputs": [
    {
     "name": "stdout",
     "output_type": "stream",
     "text": [
      "a+b:  2 days, 10:30:00\n",
      "datetime inst:  2012-09-21 00:00:00\n",
      "datetime.today():  2019-03-22 23:09:19.204271\n",
      "datetime inst + timedelta inst: 2019-03-25 05:09:19.204271\n",
      "datetime inst - datetime inst: 2373 days, 23:09:19.204271\n",
      "datetime inst + relativedelta inst: 2019-04-22 23:09:19.204271\n",
      "datetime inst + relativedelta inst: 2024-03-22 23:09:19.204271\n"
     ]
    }
   ],
   "source": [
    "from datetime import timedelta, datetime\n",
    "\n",
    "a = timedelta(days=2, hours=6)\n",
    "b = timedelta(hours = 4.5)\n",
    "print('a+b: ', a+b)\n",
    "\n",
    "c = datetime(2012,9,21)\n",
    "d = datetime.today()\n",
    "print('datetime inst: ', c)\n",
    "print('datetime.today(): ', d)\n",
    "print('datetime inst + timedelta inst:', d+a)\n",
    "print('datetime inst - datetime inst:', d-c)\n",
    "\n",
    "from dateutil.relativedelta import relativedelta\n",
    "\n",
    "# using relativedelta class above, you can calculate months and years\n",
    "# timedelta class only supports up to days\n",
    "f = relativedelta(months=+1)\n",
    "g = relativedelta(years=+5)\n",
    "print('datetime inst + relativedelta inst:', d+f)\n",
    "print('datetime inst + relativedelta inst:', d+g)"
   ]
  },
  {
   "cell_type": "markdown",
   "metadata": {},
   "source": [
    "## 3.16 UTC로 시간 동기화시키기\n",
    "* datetime 오브젝트를 세계 어떤 지역을 기준으로 할 지 정할 수 있다\n",
    "    * timezone().localize(datetime)\n",
    "* 위를 더 쉽게 아래를 외워두는 게 좋겠다\n",
    "    * datetime.astimezone(timezone)\n",
    "* utc로 쉽게 시간을 동기화시키는게 권장된다\n",
    "    * datetime.astimezone(pytz.utc)\n",
    "* 이걸 외우도록 하자\n",
    "    * utc_now = datetime.now(pytz.utc)\n",
    "* 아래 셀에 나오는 좌변은 전부 datetime.datetime 오브젝트임을 기억하면 이해에 도움이 된다"
   ]
  },
  {
   "cell_type": "code",
   "execution_count": 28,
   "metadata": {},
   "outputs": [
    {
     "name": "stdout",
     "output_type": "stream",
     "text": [
      "In Seoul, today is... 2019-03-23 12:05:35.351976\n",
      "In Seoul, today is... 2019-03-23 12:05:35.351976+09:00\n",
      "In Chicago, today is... 2019-03-22 22:05:35.351976-05:00\n",
      "In UTC1, today is... 2019-03-23 03:05:35.351976+00:00\n",
      "In UTC2, today is... 2019-03-23 03:05:35.354145+00:00\n",
      "UTC, 9999 minutes later... 2019-03-30 01:44:35.354145+00:00\n",
      "In Chicago, today is... 2019-03-22 22:05:35.354145-05:00\n"
     ]
    }
   ],
   "source": [
    "from datetime import datetime, timedelta\n",
    "from pytz import timezone, utc\n",
    "\n",
    "\n",
    "# 책에서는 localize를 먼저 한 후 utc와 동기화시키라고 하지만\n",
    "# 애초에 datetime.now() 에서부터 스크립트가 실행된 시간대 기준으로 기본 설정된다\n",
    "_now = datetime.now()   # datetime.today()와 동일\n",
    "localized = timezone('Asia/Seoul').localize(_now)\n",
    "print('In Seoul, today is...', _now)\n",
    "print('In Seoul, today is...', localized)\n",
    "\n",
    "# astimezone(timezone())을 사용하여 다른 시간대를 호출할 수 있다\n",
    "abroad = localized.astimezone(timezone('US/Central'))\n",
    "print('In Chicago, today is...', abroad)\n",
    "\n",
    "utc1 = localized.astimezone(utc)\n",
    "print('In UTC1, today is...', utc1)\n",
    "\n",
    "# 사실 위의 과정을 거치지 않고 간단하게 다음과 같이 외워두어도 좋다\n",
    "utc2 = datetime.now(utc)\n",
    "print('In UTC2, today is...', utc2)\n",
    "\n",
    "# UTC 기준으로 설정한 오브젝트를 활용하면 서머타임 걱정을 하지 않고 timeselta 오브젝트와 산술연산할 수 있다\n",
    "later_utc = utc2 + timedelta(minutes=9999)\n",
    "print('UTC, 9999 minutes later...', later_utc)\n",
    "\n",
    "# 또한 스크립트가 어디서 실행되었든 위 utc2를 사용하면 간단할 것이다\n",
    "abroad2 = utc2.astimezone(timezone('US/Central'))\n",
    "print('In Chicago, today is...', abroad2)"
   ]
  },
  {
   "cell_type": "markdown",
   "metadata": {},
   "source": [
    "## 4.4 제너레이터 간단하게 만들기\n",
    "\n",
    "* yield from iterable은 다음과 동일한 의미이다\n",
    "    * for elem in iterable: yield elem\n",
    "* 아래 예시는 재귀호출과 결합하여 yield를 사용한다. 통째로 외우는게 도움이 될 듯."
   ]
  },
  {
   "cell_type": "code",
   "execution_count": 29,
   "metadata": {},
   "outputs": [
    {
     "name": "stdout",
     "output_type": "stream",
     "text": [
      "********* parent first ***********\n",
      "Node 0\n",
      "Node 1\n",
      "Node 3\n",
      "Node 4\n",
      "Node 2\n",
      "Node 5\n",
      "********* parent last ***********\n",
      "Node 3\n",
      "Node 4\n",
      "Node 1\n",
      "Node 5\n",
      "Node 2\n",
      "Node 0\n",
      "********* parent mid ***********\n",
      "Node 3\n",
      "Node 1\n",
      "Node 4\n",
      "Node 0\n",
      "Node 5\n",
      "Node 2\n"
     ]
    }
   ],
   "source": [
    "class Node:\n",
    "    def __init__(self, value):\n",
    "        self._children = []\n",
    "        self._value = value\n",
    "    \n",
    "    def __repr__(self):\n",
    "        return 'Node '+ str(self._value)\n",
    "    \n",
    "    def __iter__(self):\n",
    "        return iter(self._children)\n",
    "    \n",
    "    def add_child(self, node):\n",
    "        self._children.append(node)\n",
    "        \n",
    "    def traverse_1(self):\n",
    "        yield self\n",
    "        for child_node in self:\n",
    "            yield from child_node.traverse_1()\n",
    "            # for child in child_node.traverse_1(): yield child\n",
    "    \n",
    "    def traverse_2(self):\n",
    "        for child_node in self:\n",
    "            yield from child_node.traverse_2()\n",
    "        yield self\n",
    "    \n",
    "    def traverse_3(self):\n",
    "        # 못생겼지만 억지로 구현해본다\n",
    "        if len(self._children) == 0:\n",
    "            yield self\n",
    "        elif len(self._children) == 1:\n",
    "            yield from self._children[0].traverse_3()\n",
    "            yield self\n",
    "        elif len(self._children) == 2:\n",
    "            yield from self._children[0].traverse_3()\n",
    "            yield self\n",
    "            yield from self._children[1].traverse_3()\n",
    "        \n",
    "tree = []\n",
    "for idx in range(6):\n",
    "    tree.append(Node(idx))\n",
    "\n",
    "tree[0].add_child(tree[1])\n",
    "tree[0].add_child(tree[2])\n",
    "tree[1].add_child(tree[3])\n",
    "tree[1].add_child(tree[4])\n",
    "tree[2].add_child(tree[5])\n",
    "\n",
    "print('********* parent first ***********')\n",
    "for node in tree[0].traverse_1():\n",
    "    print(node)\n",
    "\n",
    "print('********* parent last ***********')\n",
    "for node in tree[0].traverse_2():\n",
    "    print(node)\n",
    "    \n",
    "print('********* parent mid ***********')\n",
    "for node in tree[0].traverse_3():\n",
    "    print(node)    \n",
    "    "
   ]
  },
  {
   "cell_type": "markdown",
   "metadata": {},
   "source": [
    "## 4.8 파일의 앞부분 떼어내기\n",
    "* 사실 파일이 아니더라도 iterable한 모든 객체에 적용 가능하다\n",
    "* dropwhile(func, iterable)\n",
    "    * iterable에서 func를 True로 만드는 조건에 해당하는 elem을 무시하고\n",
    "    * 그 다음 elem을 yield 하는 제너레이터를 만든다\n",
    "    * func가 한 번 False가 되는 elem을 만나면 그 다음부터는 True가 되는 elem이 만나도 무시하지 않는다"
   ]
  },
  {
   "cell_type": "code",
   "execution_count": null,
   "metadata": {},
   "outputs": [],
   "source": [
    "from itertools import dropwhile\n",
    "\n",
    "# dropwhile(func, iterable): generator that drops first incoming comments starting with '#'\n",
    "# only applied until parameter func meets unsatisfactory element\n",
    "with open('path/to/fle') as file:\n",
    "    for line in dropwhile(lambda line: line.startswith('#'), file)\n",
    "        print(line, end = '')"
   ]
  },
  {
   "cell_type": "markdown",
   "metadata": {},
   "source": [
    "## 4.12 두 iterable 이어붙이기\n",
    "\n",
    "네 그렇습니다."
   ]
  },
  {
   "cell_type": "code",
   "execution_count": 48,
   "metadata": {},
   "outputs": [
    {
     "name": "stdout",
     "output_type": "stream",
     "text": [
      "0\n",
      "1\n",
      "2\n",
      "3\n",
      "4\n",
      "5\n",
      "6\n",
      "7\n",
      "8\n",
      "9\n"
     ]
    }
   ],
   "source": [
    "from itertools import chain\n",
    "\n",
    "a = range(5)\n",
    "b = range(5,10)\n",
    "\n",
    "for it in chain(a, b):\n",
    "    print(it)"
   ]
  }
 ],
 "metadata": {
  "kernelspec": {
   "display_name": "Python 3",
   "language": "python",
   "name": "python3"
  },
  "language_info": {
   "codemirror_mode": {
    "name": "ipython",
    "version": 3
   },
   "file_extension": ".py",
   "mimetype": "text/x-python",
   "name": "python",
   "nbconvert_exporter": "python",
   "pygments_lexer": "ipython3",
   "version": "3.6.4"
  }
 },
 "nbformat": 4,
 "nbformat_minor": 2
}
