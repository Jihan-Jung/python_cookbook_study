{
 "cells": [
  {
   "cell_type": "markdown",
   "metadata": {},
   "source": [
    "# 발표 소단원 리스트"
   ]
  },
  {
   "cell_type": "markdown",
   "metadata": {},
   "source": [
    "(2, 20)\n",
    "(3, 4)\n",
    "(3, 8)\n",
    "(3, 12)\n",
    "(3, 16)\n",
    "(4, 4)\n",
    "(4, 8)\n",
    "(4, 12)\n"
   ]
  },
  {
   "cell_type": "markdown",
   "metadata": {},
   "source": [
    "# 전체 요약자료"
   ]
  },
  {
   "cell_type": "markdown",
   "metadata": {},
   "source": [
    "* (2, 20) 패스\n",
    "* (3, 4) 기수법 변경하기 - bin(), oct(), hex()\n",
    "* (3, 8) 분수 사용하기 - fractions.Fraction\n",
    "* (3, 12) 쉽게 시간 연산하기 - datetime, timedelta, relativedelta\n",
    "* (3, 16) utc로 시간 동기화시키기 - timezone().localize().astimezone(pytz.utc)\n",
    "* (4, 4) 제너레이터 짧게 만들기 - yield from\n",
    "* (4, 8) 파일의 앞부분 떼어내기 - dropwhile(func, iterable)\n",
    "* (4, 12) 두 iterable concatenation - chain()\n"
   ]
  },
  {
   "cell_type": "markdown",
   "metadata": {},
   "source": [
    "## 2.20 byte string에 스트링 연산 적용하기\n",
    "* 요약 - byte string은 그냥 쓰지 마라!\n",
    "* 스트링 연산의 대부분은 바이트스트링에도 그대로 적용된다\n",
    "* 하지만 프로그램의 효율성을 높이는 효과는 미미한 반면 가독성을 심각하게 떨어뜨리므로 자제하자"
   ]
  },
  {
   "cell_type": "markdown",
   "metadata": {},
   "source": [
    "## 3.4"
   ]
  },
  {
   "cell_type": "code",
   "execution_count": 52,
   "metadata": {},
   "outputs": [
    {
     "name": "stdout",
     "output_type": "stream",
     "text": [
      "0b10011010010\n",
      "0o2322\n",
      "0x4d2\n",
      "316125\n",
      "5593027\n"
     ]
    }
   ],
   "source": [
    "x = 1234\n",
    "print(bin(x))\n",
    "print(oct(x))\n",
    "print(hex(x))\n",
    "\n",
    "\n",
    "print(int('4d2dd', 16))\n",
    "print(int('10101010101011111000011', 2))"
   ]
  },
  {
   "cell_type": "markdown",
   "metadata": {},
   "source": [
    "## 3.8"
   ]
  },
  {
   "cell_type": "code",
   "execution_count": 57,
   "metadata": {},
   "outputs": [
    {
     "name": "stdout",
     "output_type": "stream",
     "text": [
      "397/531\n",
      "-161/531\n",
      "118/279\n",
      "0\n",
      "62/531\n",
      "62\n",
      "531\n",
      "1/9\n"
     ]
    }
   ],
   "source": [
    "from fractions import Fraction as Fr\n",
    "\n",
    "a = Fr(2, 9)\n",
    "b = Fr(124, 236)\n",
    "\n",
    "print(a + b)\n",
    "print(a - b)\n",
    "print(a / b)\n",
    "print(a // b)\n",
    "print(a * b)\n",
    "\n",
    "c = a*b\n",
    "print(c.numerator)\n",
    "print(c.denominator)\n",
    "print(c.limit_denominator(10)) #????"
   ]
  },
  {
   "cell_type": "markdown",
   "metadata": {},
   "source": [
    "## 3.12 \n"
   ]
  },
  {
   "cell_type": "code",
   "execution_count": 12,
   "metadata": {},
   "outputs": [
    {
     "name": "stdout",
     "output_type": "stream",
     "text": [
      "a+b:  2 days, 10:30:00\n",
      "datetime inst:  2012-09-21 00:00:00\n",
      "datetime.today():  2019-03-22 23:09:19.204271\n",
      "datetime inst + timedelta inst: 2019-03-25 05:09:19.204271\n",
      "datetime inst - datetime inst: 2373 days, 23:09:19.204271\n",
      "datetime inst + relativedelta inst: 2019-04-22 23:09:19.204271\n",
      "datetime inst + relativedelta inst: 2024-03-22 23:09:19.204271\n"
     ]
    }
   ],
   "source": [
    "from datetime import timedelta, datetime\n",
    "\n",
    "a = timedelta(days=2, hours=6)\n",
    "b = timedelta(hours = 4.5)\n",
    "print('a+b: ', a+b)\n",
    "\n",
    "c = datetime(2012,9,21)\n",
    "d = datetime.today()\n",
    "print('datetime inst: ', c)\n",
    "print('datetime.today(): ', d)\n",
    "print('datetime inst + timedelta inst:', d+a)\n",
    "print('datetime inst - datetime inst:', d-c)\n",
    "\n",
    "from dateutil.relativedelta import relativedelta\n",
    "\n",
    "# using relativedelta class above, you can calculate months and years\n",
    "# timedelta class only supports up to days\n",
    "f = relativedelta(months=+1)\n",
    "g = relativedelta(years=+5)\n",
    "print('datetime inst + relativedelta inst:', d+f)\n",
    "print('datetime inst + relativedelta inst:', d+g)"
   ]
  },
  {
   "cell_type": "markdown",
   "metadata": {},
   "source": [
    "## 3.16 "
   ]
  },
  {
   "cell_type": "code",
   "execution_count": 19,
   "metadata": {},
   "outputs": [
    {
     "name": "stdout",
     "output_type": "stream",
     "text": [
      "In Seoul, today is... 2019-03-23 01:16:52.399824+09:00\n",
      "In UTC, today is... 2019-03-22 16:16:52.399824+00:00\n",
      "UTC, 9999 minutes later... 2019-03-29 14:55:52.399824+00:00\n"
     ]
    }
   ],
   "source": [
    "from datetime import datetime, timedelta\n",
    "from pytz import timezone, utc\n",
    "\n",
    "now = datetime.today()\n",
    "localized = timezone('Asia/Seoul').localize(now)\n",
    "print('In Seoul, today is...', localized)\n",
    "\n",
    "utc = localized.astimezone(utc)\n",
    "print('In UTC, today is...', utc)\n",
    "\n",
    "later_utc = utc + timedelta(minutes=9999)\n",
    "print('UTC, 9999 minutes later...', later_utc)\n",
    "\n",
    "# if you handle utc instead of your localized timezone, there's no need to worry about summertime"
   ]
  },
  {
   "cell_type": "markdown",
   "metadata": {},
   "source": [
    "## 4.4"
   ]
  },
  {
   "cell_type": "code",
   "execution_count": 45,
   "metadata": {},
   "outputs": [
    {
     "name": "stdout",
     "output_type": "stream",
     "text": [
      "*********parent first***********\n",
      "Node 0\n",
      "Node 1\n",
      "Node 3\n",
      "Node 4\n",
      "Node 2\n",
      "Node 5\n",
      "*********parent last***********\n",
      "Node 3\n",
      "Node 4\n",
      "Node 1\n",
      "Node 5\n",
      "Node 2\n",
      "Node 0\n",
      "*********parent mid***********\n",
      "Node 3\n",
      "Node 1\n",
      "Node 4\n",
      "Node 0\n",
      "Node 5\n",
      "Node 2\n"
     ]
    }
   ],
   "source": [
    "class Node:\n",
    "    def __init__(self, value):\n",
    "        self._children = []\n",
    "        self._value = value\n",
    "    \n",
    "    def __repr__(self):\n",
    "        return 'Node '+ str(self._value)\n",
    "    \n",
    "    def __iter__(self):\n",
    "        return iter(self._children)\n",
    "    \n",
    "    def add_child(self, node):\n",
    "        self._children.append(node)\n",
    "        \n",
    "    def traverse_1(self):\n",
    "        yield self\n",
    "        for child_node in self:\n",
    "            yield from child_node.traverse_1()\n",
    "            # for child in child_node.traverse(): yield child\n",
    "    \n",
    "    def traverse_2(self):\n",
    "        for child_node in self:\n",
    "            yield from child_node.traverse_2()\n",
    "        yield self\n",
    "    \n",
    "    def traverse_3(self):\n",
    "        if len(self._children) == 0:\n",
    "            yield self\n",
    "        elif len(self._children) == 1:\n",
    "            yield from self._children[0].traverse_3()\n",
    "            yield self\n",
    "        elif len(self._children) == 2:\n",
    "            yield from self._children[0].traverse_3()\n",
    "            yield self\n",
    "            yield from self._children[1].traverse_3()\n",
    "        \n",
    "tree = []\n",
    "for idx in range(6):\n",
    "    tree.append(Node(idx))\n",
    "\n",
    "tree[0].add_child(tree[1])\n",
    "tree[0].add_child(tree[2])\n",
    "tree[1].add_child(tree[3])\n",
    "tree[1].add_child(tree[4])\n",
    "tree[2].add_child(tree[5])\n",
    "\n",
    "print('********* parent first ***********')\n",
    "for node in tree[0].traverse_1():\n",
    "    print(node)\n",
    "\n",
    "print('********* parent last ***********')\n",
    "for node in tree[0].traverse_2():\n",
    "    print(node)\n",
    "    \n",
    "print('********* parent mid ***********')\n",
    "for node in tree[0].traverse_3():\n",
    "    print(node)    \n",
    "    "
   ]
  },
  {
   "cell_type": "markdown",
   "metadata": {},
   "source": [
    "## 4.8 "
   ]
  },
  {
   "cell_type": "code",
   "execution_count": null,
   "metadata": {},
   "outputs": [],
   "source": [
    "from itertools import dropwhile\n",
    "\n",
    "# dropwhile(func, iterable): generator that drops first incoming comments starting with '#'\n",
    "# only applied until parameter func meets unsatisfactory element\n",
    "with open('path/to/fle') as file:\n",
    "    for line in dropwhile(lambda line: line.startswith('#'), file)\n",
    "        print(line, end = '')"
   ]
  },
  {
   "cell_type": "markdown",
   "metadata": {},
   "source": [
    "## 4.12"
   ]
  },
  {
   "cell_type": "code",
   "execution_count": 48,
   "metadata": {},
   "outputs": [
    {
     "name": "stdout",
     "output_type": "stream",
     "text": [
      "0\n",
      "1\n",
      "2\n",
      "3\n",
      "4\n",
      "5\n",
      "6\n",
      "7\n",
      "8\n",
      "9\n"
     ]
    }
   ],
   "source": [
    "from itertools import chain\n",
    "\n",
    "a = range(5)\n",
    "b = range(5,10)\n",
    "\n",
    "for it in chain(a, b):\n",
    "    print(it)"
   ]
  }
 ],
 "metadata": {
  "kernelspec": {
   "display_name": "Python 3",
   "language": "python",
   "name": "python3"
  },
  "language_info": {
   "codemirror_mode": {
    "name": "ipython",
    "version": 3
   },
   "file_extension": ".py",
   "mimetype": "text/x-python",
   "name": "python",
   "nbconvert_exporter": "python",
   "pygments_lexer": "ipython3",
   "version": "3.6.4"
  }
 },
 "nbformat": 4,
 "nbformat_minor": 2
}
