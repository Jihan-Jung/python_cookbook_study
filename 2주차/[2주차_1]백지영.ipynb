{
 "cells": [
  {
   "cell_type": "markdown",
   "metadata": {},
   "source": [
    "# 발표 소단원 리스트"
   ]
  },
  {
   "cell_type": "markdown",
   "metadata": {},
   "source": [
    "(2, 17)\n",
    "(3, 1)\n",
    "(3, 5)\n",
    "(3, 9)\n",
    "(3, 13)\n",
    "(4, 1)\n",
    "(4, 5)\n",
    "(4, 9)"
   ]
  },
  {
   "cell_type": "markdown",
   "metadata": {},
   "source": [
    "# 전체 요약자료"
   ]
  },
  {
   "cell_type": "markdown",
   "metadata": {},
   "source": [
    "- 2.17 : HTML, XML을 생성할 때 특수 문자를 이스케이핑(escaping)하는 과정 = html.escape() / 반대로 디코딩 : html.unescape()\n",
    "- 3.1 : 반올림 round(value, ndigits) 함수\n",
    "- 3.5 : 바이트 문자열 <-> 정수값 변환 : int.to_bytes() / int.from_bytes()\n",
    "- 3.9 : 빠르고 효율적인 수학 계산을 위해 NumPy 모듈 사용\n",
    "- 3.13 : 날짜 계산 -> datetime 모듈\n",
    "- 4.1 : for문 대신 수동으로 이터레이터 소비 = next() 함수\n",
    "- 4.5 : 역방향 순환 = reversed() / __reversed__() 메소드 구현\n",
    "- 4.9 : 순열, 조합 = itertools 모듈 (combinations, permutations)\n"
   ]
  },
  {
   "cell_type": "code",
   "execution_count": 46,
   "metadata": {},
   "outputs": [],
   "source": [
    "from IPython.core.interactiveshell import InteractiveShell\n",
    "InteractiveShell.ast_node_interactivity = \"all\""
   ]
  },
  {
   "cell_type": "markdown",
   "metadata": {},
   "source": [
    "### 2.17 HTML과 xml 엔티티 처리\n",
    "- <, >, & 과 같은 특정 문자를 피하고 싶을 때\n",
    "- HTML, XML 엔티티를 이에 일치파는 문자로 치환하고 싶을 때\n",
    "\n",
    "ex) http://a.com?name=egoing&job=programmer 에서\n",
    "&job=programmer 중 '&'는 하나의 파라미터가 끝나고 다음 파라미터가 온다는 의미이다.\n",
    "그런데 다음과 같이 job의 값에 &가 포함된다면 시스템은 job의 값을 제대로 인식할수 없게 된다.\n",
    "http://a.com?name=egoing&job=programmer&blogger\n",
    "이런 문제를 회피하기 위해서 다음과 같이 치환해준다.\n",
    "http://a.com?name=egoing&job=programmer%26blogger\n",
    "그럼 시스템에서는 %26을 &로 해석하고 의도대로 해석할 수 있게 된다.\n",
    "이러한 처리를 이스케이핑(escaping)라고 부른다."
   ]
  },
  {
   "cell_type": "markdown",
   "metadata": {},
   "source": [
    "- escape(string) : URI로 데이터를 전달하기 위해서 문자열을 인코딩 -> return string(인코딩된 문자열을 반환)"
   ]
  },
  {
   "cell_type": "code",
   "execution_count": 9,
   "metadata": {},
   "outputs": [
    {
     "name": "stdout",
     "output_type": "stream",
     "text": [
      "Elements are written as &quot;&lt;tag&gt;text&lt;/tag&gt;&quot;.\n"
     ]
    }
   ],
   "source": [
    "import html\n",
    "s = 'Elements are written as \"<tag>text</tag>\".'\n",
    "print(html.escape(s))"
   ]
  },
  {
   "cell_type": "markdown",
   "metadata": {},
   "source": [
    "위와 같이 html escape 문자들을 unescape 해서 스트링으로 변환\n",
    "HTML, XML을 처리하려면 올바른 HTML, XML 파서를 사용해야 함\n",
    "- html.parser\n",
    "- xml.entree.ElementTree\n",
    "\n",
    "와 같은 파싱 모듈로 HTML, XML을 처리하면 기본적인 내용을 알아서 다 처리해줌\n",
    "\n",
    "- unescape(encodedURI) -> return string(디코딩된 문자열)"
   ]
  },
  {
   "cell_type": "code",
   "execution_count": 18,
   "metadata": {},
   "outputs": [
    {
     "data": {
      "text/plain": [
       "'Spicy \"Jalapeño\".'"
      ]
     },
     "execution_count": 18,
     "metadata": {},
     "output_type": "execute_result"
    },
    {
     "data": {
      "text/plain": [
       "'The prompt is >>>'"
      ]
     },
     "execution_count": 18,
     "metadata": {},
     "output_type": "execute_result"
    }
   ],
   "source": [
    "from html.parser import HTMLParser #HTMLParser.unescape() 함수는 삭제될 예정이라고 함\n",
    "s = 'Spicy &quot;Jalape&#241;o&quot.'\n",
    "html.unescape(s)\n",
    "\n",
    "from xml.sax.saxutils import unescape\n",
    "t = 'The prompt is &gt;&gt;&gt;'\n",
    "unescape(t)"
   ]
  },
  {
   "cell_type": "markdown",
   "metadata": {},
   "source": [
    "### 3.1 반올림\n",
    "- round(value, ndigits) 함수"
   ]
  },
  {
   "cell_type": "code",
   "execution_count": 19,
   "metadata": {},
   "outputs": [
    {
     "data": {
      "text/plain": [
       "1.2434"
      ]
     },
     "execution_count": 19,
     "metadata": {},
     "output_type": "execute_result"
    },
    {
     "data": {
      "text/plain": [
       "2"
      ]
     },
     "execution_count": 19,
     "metadata": {},
     "output_type": "execute_result"
    }
   ],
   "source": [
    "round(1.243424, 4)\n",
    "\n",
    "#값이 두 선택지의 가운데 있으면 더 가까운 짝수가 됨\n",
    "round(2.5)\n",
    "\n",
    "# ndigits 자리에 음수 가능 -> 10의 자리, 100의 자리로 생각하면 됨\n",
    "round(30243, -1)"
   ]
  },
  {
   "cell_type": "markdown",
   "metadata": {},
   "source": [
    "반올림과 서식화는 다름\n",
    "-> 특정 자릿수까지 숫자를 표현하고 싶으면 서식화 사용"
   ]
  },
  {
   "cell_type": "code",
   "execution_count": 14,
   "metadata": {},
   "outputs": [
    {
     "data": {
      "text/plain": [
       "'1.235'"
      ]
     },
     "execution_count": 14,
     "metadata": {},
     "output_type": "execute_result"
    }
   ],
   "source": [
    "x = 1.23456\n",
    "format(x, '0.3f')"
   ]
  },
  {
   "cell_type": "markdown",
   "metadata": {},
   "source": [
    "### 3.5 바이트에서 큰 숫자를 패킹/언패킹\n",
    "- 바이트 문자열을 언패킹해서 정수 값으로 만들 때 : int.from_bytes(bytes, byteorder)\n",
    "- 매우 큰 정수 값을 바이트 문자열로 변환할 때 : int.to_bytes(byte length, byteorder)\n",
    "\n",
    " ex) 보통 네트워크나 암호화가 필요할 때 : IPv6 네트워크 주소는 128형 정수형으로 표시"
   ]
  },
  {
   "cell_type": "code",
   "execution_count": 20,
   "metadata": {},
   "outputs": [
    {
     "data": {
      "text/plain": [
       "1159650660216490670940610118899223377206598912"
      ]
     },
     "execution_count": 20,
     "metadata": {},
     "output_type": "execute_result"
    },
    {
     "data": {
      "text/plain": [
       "8142341868532351008491168493266913819033652"
      ]
     },
     "execution_count": 20,
     "metadata": {},
     "output_type": "execute_result"
    }
   ],
   "source": [
    "#  byteorder = \"big\" : 최상위 바이트는 바이트 배열의 처음에 있습니다. \n",
    "# byteorder = \"little\" :  최상위 바이트는 바이트 배열의 끝\n",
    "data = b'\\x00]x124V\\x00x\\x90\\xab\\x00\\xcd\\xef\\x01\\x00#\\x004'\n",
    "int.from_bytes(data, 'little')\n",
    "int.from_bytes(data, 'big')"
   ]
  },
  {
   "cell_type": "code",
   "execution_count": 21,
   "metadata": {},
   "outputs": [
    {
     "data": {
      "text/plain": [
       "b'\\x00\\x00\\x00\\x0b\\xda\\xd9s\\x19\\xc3\\xe9\\xd4\\xe7%f\\xcd\\xff'"
      ]
     },
     "execution_count": 21,
     "metadata": {},
     "output_type": "execute_result"
    },
    {
     "data": {
      "text/plain": [
       "b'\\xff\\xcdf%\\xe7\\xd4\\xe9\\xc3\\x19s\\xd9\\xda\\x0b\\x00\\x00\\x00'"
      ]
     },
     "execution_count": 21,
     "metadata": {},
     "output_type": "execute_result"
    }
   ],
   "source": [
    "# int.to_bytes( byte length, byteorder)\n",
    "x = 939240400248248493490034888191\n",
    "x.to_bytes(16, 'big')\n",
    "x.to_bytes(16, 'little')"
   ]
  },
  {
   "cell_type": "markdown",
   "metadata": {},
   "source": [
    "### 3.9 큰 배열 계산\n",
    "- 배열이나 그리드와 같이 커다란 숫자 데이터세트에 계산\n",
    "- import Numpy\n",
    "\n",
    " Numpy 라이브러리는 표준 파이썬 리스트보다 수학 계산에 훨씬 효율적."
   ]
  },
  {
   "cell_type": "code",
   "execution_count": 47,
   "metadata": {},
   "outputs": [
    {
     "data": {
      "text/plain": [
       "[1, 2, 3, 4, 1, 2, 3, 4]"
      ]
     },
     "execution_count": 47,
     "metadata": {},
     "output_type": "execute_result"
    },
    {
     "data": {
      "text/plain": [
       "[1, 2, 3, 4, 5, 6, 7, 8]"
      ]
     },
     "execution_count": 47,
     "metadata": {},
     "output_type": "execute_result"
    },
    {
     "ename": "TypeError",
     "evalue": "can only concatenate list (not \"int\") to list",
     "output_type": "error",
     "traceback": [
      "\u001b[0;31m---------------------------------------------------------------------------\u001b[0m",
      "\u001b[0;31mTypeError\u001b[0m                                 Traceback (most recent call last)",
      "\u001b[0;32m<ipython-input-47-2a44fed40331>\u001b[0m in \u001b[0;36m<module>\u001b[0;34m\u001b[0m\n\u001b[1;32m      3\u001b[0m \u001b[0mx\u001b[0m \u001b[0;34m*\u001b[0m \u001b[0;36m2\u001b[0m\u001b[0;34m\u001b[0m\u001b[0m\n\u001b[1;32m      4\u001b[0m \u001b[0mx\u001b[0m \u001b[0;34m+\u001b[0m \u001b[0my\u001b[0m\u001b[0;34m\u001b[0m\u001b[0m\n\u001b[0;32m----> 5\u001b[0;31m \u001b[0mx\u001b[0m \u001b[0;34m+\u001b[0m \u001b[0;36m10\u001b[0m\u001b[0;34m\u001b[0m\u001b[0m\n\u001b[0m",
      "\u001b[0;31mTypeError\u001b[0m: can only concatenate list (not \"int\") to list"
     ]
    }
   ],
   "source": [
    "x = [1, 2, 3, 4]\n",
    "y = [5, 6, 7, 8]\n",
    "x * 2\n",
    "x + y\n",
    "x + 10"
   ]
  },
  {
   "cell_type": "code",
   "execution_count": 24,
   "metadata": {},
   "outputs": [
    {
     "data": {
      "text/plain": [
       "array([2, 4, 6, 8])"
      ]
     },
     "execution_count": 24,
     "metadata": {},
     "output_type": "execute_result"
    },
    {
     "data": {
      "text/plain": [
       "array([ 6,  8, 10, 12])"
      ]
     },
     "execution_count": 24,
     "metadata": {},
     "output_type": "execute_result"
    },
    {
     "data": {
      "text/plain": [
       "array([11, 12, 13, 14])"
      ]
     },
     "execution_count": 24,
     "metadata": {},
     "output_type": "execute_result"
    }
   ],
   "source": [
    "# 스칼라 연산 기반\n",
    "import numpy as np\n",
    "ax = np.array([1, 2, 3, 4])\n",
    "ay = np.array([5, 6, 7, 8])\n",
    "ax * 2\n",
    "ax + ay\n",
    "ax + 10"
   ]
  },
  {
   "cell_type": "code",
   "execution_count": 26,
   "metadata": {},
   "outputs": [
    {
     "data": {
      "text/plain": [
       "array([ 4, 11, 24, 43])"
      ]
     },
     "execution_count": 26,
     "metadata": {},
     "output_type": "execute_result"
    }
   ],
   "source": [
    "#수학 연산이 모든 요소에 동시 적용\n",
    "def f(x) :\n",
    "    return 3*x**2 - 2*x + 3\n",
    "\n",
    "f(ax)"
   ]
  },
  {
   "cell_type": "code",
   "execution_count": 27,
   "metadata": {},
   "outputs": [
    {
     "data": {
      "text/plain": [
       "array([1.        , 1.41421356, 1.73205081, 2.        ])"
      ]
     },
     "execution_count": 27,
     "metadata": {},
     "output_type": "execute_result"
    },
    {
     "data": {
      "text/plain": [
       "array([ 0.54030231, -0.41614684, -0.9899925 , -0.65364362])"
      ]
     },
     "execution_count": 27,
     "metadata": {},
     "output_type": "execute_result"
    }
   ],
   "source": [
    "#math 모듈같이 일반 함수 제공\n",
    "np.sqrt(ax)\n",
    "np.cos(ax)\n",
    "# math 모듈 함수로 계산하는 것보다 수백 배 빠름!!!!!"
   ]
  },
  {
   "cell_type": "markdown",
   "metadata": {},
   "source": [
    "- NumPy 배열은 동일한 데이터 타입을 메모리에 연속으로 나열\n",
    "\n",
    "-> 파이썬 리스트보다 훨씬 더 큰 배열을 만들 수 있음"
   ]
  },
  {
   "cell_type": "code",
   "execution_count": 29,
   "metadata": {},
   "outputs": [
    {
     "data": {
      "text/plain": [
       "array([[0., 0., 0., ..., 0., 0., 0.],\n",
       "       [0., 0., 0., ..., 0., 0., 0.],\n",
       "       [0., 0., 0., ..., 0., 0., 0.],\n",
       "       ...,\n",
       "       [0., 0., 0., ..., 0., 0., 0.],\n",
       "       [0., 0., 0., ..., 0., 0., 0.],\n",
       "       [0., 0., 0., ..., 0., 0., 0.]])"
      ]
     },
     "execution_count": 29,
     "metadata": {},
     "output_type": "execute_result"
    },
    {
     "data": {
      "text/plain": [
       "array([[10., 10., 10., ..., 10., 10., 10.],\n",
       "       [10., 10., 10., ..., 10., 10., 10.],\n",
       "       [10., 10., 10., ..., 10., 10., 10.],\n",
       "       ...,\n",
       "       [10., 10., 10., ..., 10., 10., 10.],\n",
       "       [10., 10., 10., ..., 10., 10., 10.],\n",
       "       [10., 10., 10., ..., 10., 10., 10.]])"
      ]
     },
     "execution_count": 29,
     "metadata": {},
     "output_type": "execute_result"
    }
   ],
   "source": [
    "grid = np.zeros(shape=(10000, 10000), dtype = float)\n",
    "grid\n",
    "grid += 10\n",
    "grid"
   ]
  },
  {
   "cell_type": "markdown",
   "metadata": {},
   "source": [
    "- 다차원 배열의 인덱싱 기능을 확장하고 있음"
   ]
  },
  {
   "cell_type": "code",
   "execution_count": 32,
   "metadata": {},
   "outputs": [
    {
     "data": {
      "text/plain": [
       "array([[ 1,  2,  3,  4],\n",
       "       [ 5,  6,  7,  8],\n",
       "       [ 9, 10, 11, 12]])"
      ]
     },
     "execution_count": 32,
     "metadata": {},
     "output_type": "execute_result"
    },
    {
     "data": {
      "text/plain": [
       "array([5, 6, 7, 8])"
      ]
     },
     "execution_count": 32,
     "metadata": {},
     "output_type": "execute_result"
    },
    {
     "data": {
      "text/plain": [
       "array([ 2,  6, 10])"
      ]
     },
     "execution_count": 32,
     "metadata": {},
     "output_type": "execute_result"
    },
    {
     "data": {
      "text/plain": [
       "array([[ 6,  7],\n",
       "       [10, 11]])"
      ]
     },
     "execution_count": 32,
     "metadata": {},
     "output_type": "execute_result"
    }
   ],
   "source": [
    "a = np.array([[1,2,3,4], [5,6,7,8], [9,10,11,12]])\n",
    "a\n",
    "a[1] #첫번째 row\n",
    "a[:,1] #첫번째 column\n",
    "a[1:3, 1:3]"
   ]
  },
  {
   "cell_type": "code",
   "execution_count": 34,
   "metadata": {},
   "outputs": [
    {
     "data": {
      "text/plain": [
       "array([[ 1,  2,  3,  4],\n",
       "       [ 5, 16, 17,  8],\n",
       "       [ 9, 20, 21, 12]])"
      ]
     },
     "execution_count": 34,
     "metadata": {},
     "output_type": "execute_result"
    }
   ],
   "source": [
    "a[1:3, 1:3] += 10\n",
    "a"
   ]
  },
  {
   "cell_type": "code",
   "execution_count": 35,
   "metadata": {},
   "outputs": [
    {
     "data": {
      "text/plain": [
       "array([[ 1,  2,  3,  4],\n",
       "       [ 5, 10, 10,  8],\n",
       "       [ 9, 10, 10, 10]])"
      ]
     },
     "execution_count": 35,
     "metadata": {},
     "output_type": "execute_result"
    }
   ],
   "source": [
    "np.where(a<10, a, 10)"
   ]
  },
  {
   "cell_type": "markdown",
   "metadata": {},
   "source": [
    "### 3.13 마지막 금요일 날짜 구하기"
   ]
  },
  {
   "cell_type": "code",
   "execution_count": 37,
   "metadata": {},
   "outputs": [
    {
     "data": {
      "text/plain": [
       "datetime.datetime(2019, 3, 20, 23, 45, 59, 1231)"
      ]
     },
     "execution_count": 37,
     "metadata": {},
     "output_type": "execute_result"
    },
    {
     "data": {
      "text/plain": [
       "datetime.datetime(2019, 3, 19, 23, 45, 59, 3775)"
      ]
     },
     "execution_count": 37,
     "metadata": {},
     "output_type": "execute_result"
    }
   ],
   "source": [
    "from datetime import datetime, timedelta\n",
    "weekdays = ['Monday', 'Tuesday', 'Wednesday', 'Thursday',\n",
    "           'Friday', 'Saturday', 'Sunday']\n",
    "\n",
    "def get_previous_byday(dayname, start_date = None):\n",
    "    if start_date is None :\n",
    "        start_date = datetime.today()\n",
    "    day_num = start_date.weekday()\n",
    "    day_num_target = weekdays.index(dayname)\n",
    "    days_ago = (7 + day_num - day_num_target) & 7\n",
    "    if days_ago == 0:\n",
    "        days_ago = 7\n",
    "    target_date = start_date - timedelta(days = days_ago)\n",
    "    return target_date\n",
    "\n",
    "datetime.today()\n",
    "get_previous_byday('Monday')"
   ]
  },
  {
   "cell_type": "code",
   "execution_count": null,
   "metadata": {},
   "outputs": [],
   "source": [
    "날짜 계산을 많이 수행한다면 python-dateutil 패키지 설치 추천 "
   ]
  },
  {
   "cell_type": "code",
   "execution_count": 48,
   "metadata": {},
   "outputs": [
    {
     "name": "stdout",
     "output_type": "stream",
     "text": [
      "2019-03-23 00:37:26.565323\n",
      "2019-03-29 00:37:26.565323\n",
      "2019-03-22 00:37:26.565323\n"
     ]
    }
   ],
   "source": [
    "from datetime import datetime\n",
    "from dateutil.relativedelta import relativedelta\n",
    "from dateutil.rrule import *\n",
    "d = datetime.now()\n",
    "print(d)\n",
    "\n",
    "#다음 금요일\n",
    "print(d + relativedelta(weekday=FR))\n",
    "\n",
    "#마지막 금요일\n",
    "print(d + relativedelta(weekday=FR(-1)))"
   ]
  },
  {
   "cell_type": "markdown",
   "metadata": {},
   "source": [
    "### 4.1 수동으로 이터레이터 소비\n",
    "- for 문을 사용하지 않고 순환 가능한 아이템에 접근하기 = next() 함수"
   ]
  },
  {
   "cell_type": "markdown",
   "metadata": {},
   "source": [
    "StopIteration : 순환의 끝을 알리는 데 사용"
   ]
  },
  {
   "cell_type": "code",
   "execution_count": 6,
   "metadata": {},
   "outputs": [
    {
     "name": "stdout",
     "output_type": "stream",
     "text": [
      "a b c "
     ]
    }
   ],
   "source": [
    "#파일에서 줄을 읽는 코드\n",
    "ex = iter(['a','b','c'])\n",
    "try:\n",
    "    while True:\n",
    "        line = next(ex)\n",
    "        print(line, end=' ')\n",
    "except StopIteration :\n",
    "    pass"
   ]
  },
  {
   "cell_type": "markdown",
   "metadata": {},
   "source": [
    "- next(iterable, default) : 반복자를 입력받아 다음 출력값을 반환하는 함수\n",
    "\n",
    "iterable : 필수(iterable object), default : optional(An default value to return if the iterable has reached to its end)\n",
    "\n",
    "next()를 수동으로 사용 -> None과 같은 종료 값을 반환"
   ]
  },
  {
   "cell_type": "code",
   "execution_count": 11,
   "metadata": {},
   "outputs": [
    {
     "name": "stdout",
     "output_type": "stream",
     "text": [
      "1234"
     ]
    }
   ],
   "source": [
    "ex2 = iter([1,2,3,4])\n",
    "while True:\n",
    "    line = next(ex2, None)\n",
    "    if line is None:\n",
    "        break\n",
    "    print(line, end='')"
   ]
  },
  {
   "cell_type": "markdown",
   "metadata": {},
   "source": [
    "### 4.5 역방향 순환\n",
    "- 시퀀스 아이템을 역방향으로 순환 : 내장함수 reversed()\n",
    "\n",
    "역방향 순환은 객체가 __reversed__() 특별 메소드를 구현하고 있거나 크기를 알 수 있는 경우에만 가능\n",
    "\n",
    "둘 다 아니면 객체를 먼저 리스트로 변환해야 함. (메모리 소모 큼)"
   ]
  },
  {
   "cell_type": "code",
   "execution_count": 49,
   "metadata": {},
   "outputs": [
    {
     "name": "stdout",
     "output_type": "stream",
     "text": [
      "4\n",
      "3\n",
      "2\n",
      "1\n"
     ]
    }
   ],
   "source": [
    "a = [1,2,3,4]\n",
    "for x in reversed(a):\n",
    "    print(x)"
   ]
  },
  {
   "cell_type": "markdown",
   "metadata": {},
   "source": [
    "__reversed__() 메소드를 구현하면 사용자 정의 클래스에서 역방향 순환이 가능함\n",
    "\n",
    "-> 효율적 + 데이터를 리스트로 변환하고 순환하는 수고를 덜어줌"
   ]
  },
  {
   "cell_type": "code",
   "execution_count": 38,
   "metadata": {},
   "outputs": [
    {
     "name": "stdout",
     "output_type": "stream",
     "text": [
      "Countdown :\n",
      "5 4 3 2 1 \n",
      "Countup :\n",
      "1 2 3 4 5 "
     ]
    }
   ],
   "source": [
    "class countdown :\n",
    "    def __init__(self, start):\n",
    "        self.start = start\n",
    "    \n",
    "    #순방향 순환\n",
    "    def __iter__(self):\n",
    "        n = self.start\n",
    "        while n > 0:\n",
    "            yield n\n",
    "            n-=1\n",
    "            \n",
    "    #역방향 순환\n",
    "    def __reversed__(self):\n",
    "        n = 1\n",
    "        while n <= self.start:\n",
    "            yield n\n",
    "            n += 1\n",
    "\n",
    "ex = countdown(5)\n",
    "\n",
    "print('Countdown :')\n",
    "for i in iter(ex):\n",
    "    print(i, end=' ')\n",
    "\n",
    "print('\\nCountup :')\n",
    "for i in reversed(ex):\n",
    "    print(i, end=' ')\n"
   ]
  },
  {
   "cell_type": "markdown",
   "metadata": {},
   "source": [
    "### 4.9 가능한 모둔 순열과 조합 순환\n",
    "- itertools.permutations() : 모든 순열 생성\n",
    "- itertools.combinations() : 모든 조합 생성\n",
    "- itertools.combinations_with_replacement : 중복 조합"
   ]
  },
  {
   "cell_type": "code",
   "execution_count": 43,
   "metadata": {},
   "outputs": [
    {
     "name": "stdout",
     "output_type": "stream",
     "text": [
      "('a', 'b', 'c')\n",
      "('a', 'c', 'b')\n",
      "('b', 'a', 'c')\n",
      "('b', 'c', 'a')\n",
      "('c', 'a', 'b')\n",
      "('c', 'b', 'a')\n",
      "\n",
      "길이가 2인 순열 :\n",
      "('a', 'b')\n",
      "('a', 'c')\n",
      "('b', 'a')\n",
      "('b', 'c')\n",
      "('c', 'a')\n",
      "('c', 'b')\n"
     ]
    }
   ],
   "source": [
    "items = ['a', 'b', 'c']\n",
    "from itertools import permutations\n",
    "for p in permutations(items):\n",
    "    print(p)\n",
    "    \n",
    "#더 짧은 길이의 순열을 원할 때 :\n",
    "print('\\n길이가 2인 순열 :')\n",
    "for p in permutations(items, 2):\n",
    "    print(p)"
   ]
  },
  {
   "cell_type": "code",
   "execution_count": 45,
   "metadata": {},
   "outputs": [
    {
     "name": "stdout",
     "output_type": "stream",
     "text": [
      "('a', 'b', 'c')\n",
      "('a', 'b')\n",
      "('a', 'c')\n",
      "('b', 'c')\n",
      "('a',)\n",
      "('b',)\n",
      "('c',)\n"
     ]
    }
   ],
   "source": [
    "from itertools import combinations\n",
    "for c in combinations(items, 3):\n",
    "    print(c)\n",
    "    \n",
    "for c in combinations(items, 2):\n",
    "    print(c)\n",
    "    \n",
    "for c in combinations(items, 1):\n",
    "    print(c)\n",
    "    \n",
    "#선택한 아이템은 가능한 후보의 컬렉션에서 제외됨"
   ]
  },
  {
   "cell_type": "code",
   "execution_count": 51,
   "metadata": {},
   "outputs": [
    {
     "name": "stdout",
     "output_type": "stream",
     "text": [
      "('a', 'a', 'a')\n",
      "('a', 'a', 'b')\n",
      "('a', 'a', 'c')\n",
      "('a', 'b', 'b')\n",
      "('a', 'b', 'c')\n",
      "('a', 'c', 'c')\n",
      "('b', 'b', 'b')\n",
      "('b', 'b', 'c')\n",
      "('b', 'c', 'c')\n",
      "('c', 'c', 'c')\n"
     ]
    }
   ],
   "source": [
    "#이를 보완해 같은 아이템을 두 번 이상 선택할 수 있게 하는 함수\n",
    "from itertools import combinations_with_replacement\n",
    "for c in combinations_with_replacement(items, 3):\n",
    "    print(c)"
   ]
  },
  {
   "cell_type": "code",
   "execution_count": null,
   "metadata": {},
   "outputs": [],
   "source": []
  }
 ],
 "metadata": {
  "kernelspec": {
   "display_name": "Python 3",
   "language": "python",
   "name": "python3"
  },
  "language_info": {
   "codemirror_mode": {
    "name": "ipython",
    "version": 3
   },
   "file_extension": ".py",
   "mimetype": "text/x-python",
   "name": "python",
   "nbconvert_exporter": "python",
   "pygments_lexer": "ipython3",
   "version": "3.5.2"
  }
 },
 "nbformat": 4,
 "nbformat_minor": 2
}
